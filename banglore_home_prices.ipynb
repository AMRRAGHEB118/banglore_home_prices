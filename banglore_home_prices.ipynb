{
 "cells": [
  {
   "cell_type": "code",
   "execution_count": 1,
   "id": "60d1aff8",
   "metadata": {
    "execution": {
     "iopub.execute_input": "2023-12-18T08:46:22.471074Z",
     "iopub.status.busy": "2023-12-18T08:46:22.470711Z",
     "iopub.status.idle": "2023-12-18T08:46:24.212996Z",
     "shell.execute_reply": "2023-12-18T08:46:24.211539Z"
    },
    "papermill": {
     "duration": 1.762076,
     "end_time": "2023-12-18T08:46:24.215723",
     "exception": false,
     "start_time": "2023-12-18T08:46:22.453647",
     "status": "completed"
    },
    "tags": []
   },
   "outputs": [],
   "source": [
    "import pandas as pd\n",
    "import numpy as np\n",
    "from matplotlib import pyplot as plt\n",
    "from sklearn.preprocessing import LabelEncoder, StandardScaler\n",
    "%matplotlib inline\n",
    "import matplotlib \n",
    "matplotlib.rcParams[\"figure.figsize\"] = (20,10)\n",
    "from sklearn.metrics import mean_absolute_error, r2_score, mean_squared_error, precision_score, recall_score, f1_score, confusion_matrix\n",
    "from math import ceil"
   ]
  },
  {
   "cell_type": "code",
   "execution_count": 2,
   "id": "8b06517f",
   "metadata": {
    "execution": {
     "iopub.execute_input": "2023-12-18T08:46:24.248190Z",
     "iopub.status.busy": "2023-12-18T08:46:24.247630Z",
     "iopub.status.idle": "2023-12-18T08:46:24.325909Z",
     "shell.execute_reply": "2023-12-18T08:46:24.324844Z"
    },
    "papermill": {
     "duration": 0.097391,
     "end_time": "2023-12-18T08:46:24.328242",
     "exception": false,
     "start_time": "2023-12-18T08:46:24.230851",
     "status": "completed"
    },
    "scrolled": true,
    "tags": []
   },
   "outputs": [
    {
     "data": {
      "text/html": [
       "<div>\n",
       "<style scoped>\n",
       "    .dataframe tbody tr th:only-of-type {\n",
       "        vertical-align: middle;\n",
       "    }\n",
       "\n",
       "    .dataframe tbody tr th {\n",
       "        vertical-align: top;\n",
       "    }\n",
       "\n",
       "    .dataframe thead th {\n",
       "        text-align: right;\n",
       "    }\n",
       "</style>\n",
       "<table border=\"1\" class=\"dataframe\">\n",
       "  <thead>\n",
       "    <tr style=\"text-align: right;\">\n",
       "      <th></th>\n",
       "      <th>area_type</th>\n",
       "      <th>availability</th>\n",
       "      <th>location</th>\n",
       "      <th>size</th>\n",
       "      <th>society</th>\n",
       "      <th>total_sqft</th>\n",
       "      <th>bath</th>\n",
       "      <th>balcony</th>\n",
       "      <th>price</th>\n",
       "    </tr>\n",
       "  </thead>\n",
       "  <tbody>\n",
       "    <tr>\n",
       "      <th>0</th>\n",
       "      <td>Super built-up  Area</td>\n",
       "      <td>19-Dec</td>\n",
       "      <td>Electronic City Phase II</td>\n",
       "      <td>2 BHK</td>\n",
       "      <td>Coomee</td>\n",
       "      <td>1056</td>\n",
       "      <td>2.0</td>\n",
       "      <td>1.0</td>\n",
       "      <td>39.07</td>\n",
       "    </tr>\n",
       "    <tr>\n",
       "      <th>1</th>\n",
       "      <td>Plot  Area</td>\n",
       "      <td>Ready To Move</td>\n",
       "      <td>Chikka Tirupathi</td>\n",
       "      <td>4 Bedroom</td>\n",
       "      <td>Theanmp</td>\n",
       "      <td>2600</td>\n",
       "      <td>5.0</td>\n",
       "      <td>3.0</td>\n",
       "      <td>120.00</td>\n",
       "    </tr>\n",
       "    <tr>\n",
       "      <th>2</th>\n",
       "      <td>Built-up  Area</td>\n",
       "      <td>Ready To Move</td>\n",
       "      <td>Uttarahalli</td>\n",
       "      <td>3 BHK</td>\n",
       "      <td>NaN</td>\n",
       "      <td>1440</td>\n",
       "      <td>2.0</td>\n",
       "      <td>3.0</td>\n",
       "      <td>62.00</td>\n",
       "    </tr>\n",
       "    <tr>\n",
       "      <th>3</th>\n",
       "      <td>Super built-up  Area</td>\n",
       "      <td>Ready To Move</td>\n",
       "      <td>Lingadheeranahalli</td>\n",
       "      <td>3 BHK</td>\n",
       "      <td>Soiewre</td>\n",
       "      <td>1521</td>\n",
       "      <td>3.0</td>\n",
       "      <td>1.0</td>\n",
       "      <td>95.00</td>\n",
       "    </tr>\n",
       "    <tr>\n",
       "      <th>4</th>\n",
       "      <td>Super built-up  Area</td>\n",
       "      <td>Ready To Move</td>\n",
       "      <td>Kothanur</td>\n",
       "      <td>2 BHK</td>\n",
       "      <td>NaN</td>\n",
       "      <td>1200</td>\n",
       "      <td>2.0</td>\n",
       "      <td>1.0</td>\n",
       "      <td>51.00</td>\n",
       "    </tr>\n",
       "  </tbody>\n",
       "</table>\n",
       "</div>"
      ],
      "text/plain": [
       "              area_type   availability                  location       size  \\\n",
       "0  Super built-up  Area         19-Dec  Electronic City Phase II      2 BHK   \n",
       "1            Plot  Area  Ready To Move          Chikka Tirupathi  4 Bedroom   \n",
       "2        Built-up  Area  Ready To Move               Uttarahalli      3 BHK   \n",
       "3  Super built-up  Area  Ready To Move        Lingadheeranahalli      3 BHK   \n",
       "4  Super built-up  Area  Ready To Move                  Kothanur      2 BHK   \n",
       "\n",
       "   society total_sqft  bath  balcony   price  \n",
       "0  Coomee        1056   2.0      1.0   39.07  \n",
       "1  Theanmp       2600   5.0      3.0  120.00  \n",
       "2      NaN       1440   2.0      3.0   62.00  \n",
       "3  Soiewre       1521   3.0      1.0   95.00  \n",
       "4      NaN       1200   2.0      1.0   51.00  "
      ]
     },
     "execution_count": 2,
     "metadata": {},
     "output_type": "execute_result"
    }
   ],
   "source": [
    "df = pd.read_csv(\"/kaggle/input/bengaluru-house-prices/bengaluru_house_prices.csv\")\n",
    "df.head()"
   ]
  },
  {
   "cell_type": "code",
   "execution_count": 3,
   "id": "1634c5e1",
   "metadata": {
    "execution": {
     "iopub.execute_input": "2023-12-18T08:46:24.360298Z",
     "iopub.status.busy": "2023-12-18T08:46:24.359133Z",
     "iopub.status.idle": "2023-12-18T08:46:24.366092Z",
     "shell.execute_reply": "2023-12-18T08:46:24.365178Z"
    },
    "papermill": {
     "duration": 0.025005,
     "end_time": "2023-12-18T08:46:24.368176",
     "exception": false,
     "start_time": "2023-12-18T08:46:24.343171",
     "status": "completed"
    },
    "tags": []
   },
   "outputs": [
    {
     "data": {
      "text/plain": [
       "(13320, 9)"
      ]
     },
     "execution_count": 3,
     "metadata": {},
     "output_type": "execute_result"
    }
   ],
   "source": [
    "df.shape"
   ]
  },
  {
   "cell_type": "code",
   "execution_count": 4,
   "id": "43573235",
   "metadata": {
    "execution": {
     "iopub.execute_input": "2023-12-18T08:46:24.401206Z",
     "iopub.status.busy": "2023-12-18T08:46:24.400046Z",
     "iopub.status.idle": "2023-12-18T08:46:24.406887Z",
     "shell.execute_reply": "2023-12-18T08:46:24.406162Z"
    },
    "papermill": {
     "duration": 0.024874,
     "end_time": "2023-12-18T08:46:24.408795",
     "exception": false,
     "start_time": "2023-12-18T08:46:24.383921",
     "status": "completed"
    },
    "tags": []
   },
   "outputs": [
    {
     "data": {
      "text/plain": [
       "Index(['area_type', 'availability', 'location', 'size', 'society',\n",
       "       'total_sqft', 'bath', 'balcony', 'price'],\n",
       "      dtype='object')"
      ]
     },
     "execution_count": 4,
     "metadata": {},
     "output_type": "execute_result"
    }
   ],
   "source": [
    "df.columns"
   ]
  },
  {
   "cell_type": "code",
   "execution_count": 5,
   "id": "c70323bf",
   "metadata": {
    "execution": {
     "iopub.execute_input": "2023-12-18T08:46:24.440833Z",
     "iopub.status.busy": "2023-12-18T08:46:24.440276Z",
     "iopub.status.idle": "2023-12-18T08:46:24.447262Z",
     "shell.execute_reply": "2023-12-18T08:46:24.446245Z"
    },
    "papermill": {
     "duration": 0.0258,
     "end_time": "2023-12-18T08:46:24.449634",
     "exception": false,
     "start_time": "2023-12-18T08:46:24.423834",
     "status": "completed"
    },
    "tags": []
   },
   "outputs": [
    {
     "data": {
      "text/plain": [
       "area_type        object\n",
       "availability     object\n",
       "location         object\n",
       "size             object\n",
       "society          object\n",
       "total_sqft       object\n",
       "bath            float64\n",
       "balcony         float64\n",
       "price           float64\n",
       "dtype: object"
      ]
     },
     "execution_count": 5,
     "metadata": {},
     "output_type": "execute_result"
    }
   ],
   "source": [
    "df.dtypes"
   ]
  },
  {
   "cell_type": "code",
   "execution_count": 6,
   "id": "45f172c8",
   "metadata": {
    "execution": {
     "iopub.execute_input": "2023-12-18T08:46:24.481927Z",
     "iopub.status.busy": "2023-12-18T08:46:24.481549Z",
     "iopub.status.idle": "2023-12-18T08:46:25.626955Z",
     "shell.execute_reply": "2023-12-18T08:46:25.625690Z"
    },
    "papermill": {
     "duration": 1.164295,
     "end_time": "2023-12-18T08:46:25.629418",
     "exception": false,
     "start_time": "2023-12-18T08:46:24.465123",
     "status": "completed"
    },
    "tags": []
   },
   "outputs": [
    {
     "data": {
      "text/plain": [
       "array([[<Axes: title={'center': 'bath'}>,\n",
       "        <Axes: title={'center': 'balcony'}>],\n",
       "       [<Axes: title={'center': 'price'}>, <Axes: >]], dtype=object)"
      ]
     },
     "execution_count": 6,
     "metadata": {},
     "output_type": "execute_result"
    },
    {
     "data": {
      "image/png": "[encoded data removed]",
      "text/plain": [
       "<Figure size 1800x1800 with 4 Axes>"
      ]
     },
     "metadata": {},
     "output_type": "display_data"
    }
   ],
   "source": [
    "df.hist(figsize=(18, 18), bins=20)"
   ]
  },
  {
   "cell_type": "code",
   "execution_count": 7,
   "id": "39016777",
   "metadata": {
    "execution": {
     "iopub.execute_input": "2023-12-18T08:46:25.664814Z",
     "iopub.status.busy": "2023-12-18T08:46:25.664384Z",
     "iopub.status.idle": "2023-12-18T08:46:25.678273Z",
     "shell.execute_reply": "2023-12-18T08:46:25.676963Z"
    },
    "papermill": {
     "duration": 0.034577,
     "end_time": "2023-12-18T08:46:25.680434",
     "exception": false,
     "start_time": "2023-12-18T08:46:25.645857",
     "status": "completed"
    },
    "tags": []
   },
   "outputs": [
    {
     "data": {
      "text/plain": [
       "area_type          0\n",
       "availability       0\n",
       "location           1\n",
       "size              16\n",
       "society         5502\n",
       "total_sqft         0\n",
       "bath              73\n",
       "balcony          609\n",
       "price              0\n",
       "dtype: int64"
      ]
     },
     "execution_count": 7,
     "metadata": {},
     "output_type": "execute_result"
    }
   ],
   "source": [
    "df.isnull().sum()"
   ]
  },
  {
   "cell_type": "code",
   "execution_count": 8,
   "id": "8e4a2916",
   "metadata": {
    "execution": {
     "iopub.execute_input": "2023-12-18T08:46:25.716904Z",
     "iopub.status.busy": "2023-12-18T08:46:25.716533Z",
     "iopub.status.idle": "2023-12-18T08:46:25.727452Z",
     "shell.execute_reply": "2023-12-18T08:46:25.726660Z"
    },
    "papermill": {
     "duration": 0.032163,
     "end_time": "2023-12-18T08:46:25.729525",
     "exception": false,
     "start_time": "2023-12-18T08:46:25.697362",
     "status": "completed"
    },
    "tags": []
   },
   "outputs": [
    {
     "data": {
      "text/plain": [
       "['location', 'size', 'society', 'bath', 'balcony']"
      ]
     },
     "execution_count": 8,
     "metadata": {},
     "output_type": "execute_result"
    }
   ],
   "source": [
    "columns_with_nan = df.columns[df.isnull().any()].tolist()\n",
    "columns_with_nan"
   ]
  },
  {
   "cell_type": "code",
   "execution_count": 9,
   "id": "c2a24493",
   "metadata": {
    "execution": {
     "iopub.execute_input": "2023-12-18T08:46:25.766772Z",
     "iopub.status.busy": "2023-12-18T08:46:25.766347Z",
     "iopub.status.idle": "2023-12-18T08:46:25.789392Z",
     "shell.execute_reply": "2023-12-18T08:46:25.788206Z"
    },
    "papermill": {
     "duration": 0.044471,
     "end_time": "2023-12-18T08:46:25.792032",
     "exception": false,
     "start_time": "2023-12-18T08:46:25.747561",
     "status": "completed"
    },
    "tags": []
   },
   "outputs": [],
   "source": [
    "for col in columns_with_nan:\n",
    "    df[col].fillna(df[col].mode()[0], inplace=True)"
   ]
  },
  {
   "cell_type": "code",
   "execution_count": 10,
   "id": "71be4af1",
   "metadata": {
    "execution": {
     "iopub.execute_input": "2023-12-18T08:46:25.890727Z",
     "iopub.status.busy": "2023-12-18T08:46:25.890303Z",
     "iopub.status.idle": "2023-12-18T08:46:25.902771Z",
     "shell.execute_reply": "2023-12-18T08:46:25.901908Z"
    },
    "papermill": {
     "duration": 0.095082,
     "end_time": "2023-12-18T08:46:25.904744",
     "exception": false,
     "start_time": "2023-12-18T08:46:25.809662",
     "status": "completed"
    },
    "tags": []
   },
   "outputs": [
    {
     "data": {
      "text/plain": [
       "area_type       0\n",
       "availability    0\n",
       "location        0\n",
       "size            0\n",
       "society         0\n",
       "total_sqft      0\n",
       "bath            0\n",
       "balcony         0\n",
       "price           0\n",
       "dtype: int64"
      ]
     },
     "execution_count": 10,
     "metadata": {},
     "output_type": "execute_result"
    }
   ],
   "source": [
    "df.isnull().sum()"
   ]
  },
  {
   "cell_type": "code",
   "execution_count": 11,
   "id": "8daf37fa",
   "metadata": {
    "execution": {
     "iopub.execute_input": "2023-12-18T08:46:25.940814Z",
     "iopub.status.busy": "2023-12-18T08:46:25.940383Z",
     "iopub.status.idle": "2023-12-18T08:46:25.951529Z",
     "shell.execute_reply": "2023-12-18T08:46:25.950340Z"
    },
    "papermill": {
     "duration": 0.032032,
     "end_time": "2023-12-18T08:46:25.953701",
     "exception": false,
     "start_time": "2023-12-18T08:46:25.921669",
     "status": "completed"
    },
    "tags": []
   },
   "outputs": [
    {
     "data": {
      "text/plain": [
       "array(['Super built-up  Area', 'Plot  Area', 'Built-up  Area',\n",
       "       'Carpet  Area'], dtype=object)"
      ]
     },
     "execution_count": 11,
     "metadata": {},
     "output_type": "execute_result"
    }
   ],
   "source": [
    "df['area_type'].unique()"
   ]
  },
  {
   "cell_type": "code",
   "execution_count": 12,
   "id": "a54ee2b0",
   "metadata": {
    "execution": {
     "iopub.execute_input": "2023-12-18T08:46:25.991225Z",
     "iopub.status.busy": "2023-12-18T08:46:25.990712Z",
     "iopub.status.idle": "2023-12-18T08:46:26.001363Z",
     "shell.execute_reply": "2023-12-18T08:46:26.000028Z"
    },
    "papermill": {
     "duration": 0.03347,
     "end_time": "2023-12-18T08:46:26.004147",
     "exception": false,
     "start_time": "2023-12-18T08:46:25.970677",
     "status": "completed"
    },
    "tags": []
   },
   "outputs": [
    {
     "data": {
      "text/plain": [
       "area_type\n",
       "Super built-up  Area    8790\n",
       "Built-up  Area          2418\n",
       "Plot  Area              2025\n",
       "Carpet  Area              87\n",
       "Name: count, dtype: int64"
      ]
     },
     "execution_count": 12,
     "metadata": {},
     "output_type": "execute_result"
    }
   ],
   "source": [
    "df['area_type'].value_counts()"
   ]
  },
  {
   "cell_type": "code",
   "execution_count": 13,
   "id": "0263660b",
   "metadata": {
    "execution": {
     "iopub.execute_input": "2023-12-18T08:46:26.042519Z",
     "iopub.status.busy": "2023-12-18T08:46:26.041787Z",
     "iopub.status.idle": "2023-12-18T08:46:26.051521Z",
     "shell.execute_reply": "2023-12-18T08:46:26.050172Z"
    },
    "papermill": {
     "duration": 0.031167,
     "end_time": "2023-12-18T08:46:26.053828",
     "exception": false,
     "start_time": "2023-12-18T08:46:26.022661",
     "status": "completed"
    },
    "tags": []
   },
   "outputs": [
    {
     "data": {
      "text/plain": [
       "array(['19-Dec', 'Ready To Move', '18-May', '18-Feb', '18-Nov', '20-Dec',\n",
       "       '17-Oct', '21-Dec', '19-Sep', '20-Sep', '18-Mar', '20-Feb',\n",
       "       '18-Apr', '20-Aug', '18-Oct', '19-Mar', '17-Sep', '18-Dec',\n",
       "       '17-Aug', '19-Apr', '18-Jun', '22-Dec', '22-Jan', '18-Aug',\n",
       "       '19-Jan', '17-Jul', '18-Jul', '21-Jun', '20-May', '19-Aug',\n",
       "       '18-Sep', '17-May', '17-Jun', '21-May', '18-Jan', '20-Mar',\n",
       "       '17-Dec', '16-Mar', '19-Jun', '22-Jun', '19-Jul', '21-Feb',\n",
       "       'Immediate Possession', '19-May', '17-Nov', '20-Oct', '20-Jun',\n",
       "       '19-Feb', '21-Oct', '21-Jan', '17-Mar', '17-Apr', '22-May',\n",
       "       '19-Oct', '21-Jul', '21-Nov', '21-Mar', '16-Dec', '22-Mar',\n",
       "       '20-Jan', '21-Sep', '21-Aug', '14-Nov', '19-Nov', '15-Nov',\n",
       "       '16-Jul', '15-Jun', '17-Feb', '20-Nov', '20-Jul', '16-Sep',\n",
       "       '15-Oct', '15-Dec', '16-Oct', '22-Nov', '15-Aug', '17-Jan',\n",
       "       '16-Nov', '20-Apr', '16-Jan', '14-Jul'], dtype=object)"
      ]
     },
     "execution_count": 13,
     "metadata": {},
     "output_type": "execute_result"
    }
   ],
   "source": [
    "df['availability'].unique()"
   ]
  },
  {
   "cell_type": "code",
   "execution_count": 14,
   "id": "1886f0de",
   "metadata": {
    "execution": {
     "iopub.execute_input": "2023-12-18T08:46:26.090988Z",
     "iopub.status.busy": "2023-12-18T08:46:26.090586Z",
     "iopub.status.idle": "2023-12-18T08:46:26.108186Z",
     "shell.execute_reply": "2023-12-18T08:46:26.106846Z"
    },
    "papermill": {
     "duration": 0.039191,
     "end_time": "2023-12-18T08:46:26.110481",
     "exception": false,
     "start_time": "2023-12-18T08:46:26.071290",
     "status": "completed"
    },
    "tags": []
   },
   "outputs": [],
   "source": [
    "label_encoder = LabelEncoder()\n",
    "df['availability'] = label_encoder.fit_transform(df['availability'].astype(str))\n",
    "df['society'] = label_encoder.fit_transform(df['society'])"
   ]
  },
  {
   "cell_type": "code",
   "execution_count": 15,
   "id": "f86d5040",
   "metadata": {
    "execution": {
     "iopub.execute_input": "2023-12-18T08:46:26.147075Z",
     "iopub.status.busy": "2023-12-18T08:46:26.146636Z",
     "iopub.status.idle": "2023-12-18T08:46:26.164245Z",
     "shell.execute_reply": "2023-12-18T08:46:26.162889Z"
    },
    "papermill": {
     "duration": 0.039016,
     "end_time": "2023-12-18T08:46:26.166957",
     "exception": false,
     "start_time": "2023-12-18T08:46:26.127941",
     "status": "completed"
    },
    "tags": []
   },
   "outputs": [],
   "source": [
    "df = pd.get_dummies(df, columns=['area_type'], drop_first=True)"
   ]
  },
  {
   "cell_type": "code",
   "execution_count": 16,
   "id": "d4bc28ad",
   "metadata": {
    "execution": {
     "iopub.execute_input": "2023-12-18T08:46:26.207512Z",
     "iopub.status.busy": "2023-12-18T08:46:26.207056Z",
     "iopub.status.idle": "2023-12-18T08:46:26.223930Z",
     "shell.execute_reply": "2023-12-18T08:46:26.223141Z"
    },
    "papermill": {
     "duration": 0.041418,
     "end_time": "2023-12-18T08:46:26.226176",
     "exception": false,
     "start_time": "2023-12-18T08:46:26.184758",
     "status": "completed"
    },
    "tags": []
   },
   "outputs": [
    {
     "data": {
      "text/html": [
       "<div>\n",
       "<style scoped>\n",
       "    .dataframe tbody tr th:only-of-type {\n",
       "        vertical-align: middle;\n",
       "    }\n",
       "\n",
       "    .dataframe tbody tr th {\n",
       "        vertical-align: top;\n",
       "    }\n",
       "\n",
       "    .dataframe thead th {\n",
       "        text-align: right;\n",
       "    }\n",
       "</style>\n",
       "<table border=\"1\" class=\"dataframe\">\n",
       "  <thead>\n",
       "    <tr style=\"text-align: right;\">\n",
       "      <th></th>\n",
       "      <th>availability</th>\n",
       "      <th>location</th>\n",
       "      <th>size</th>\n",
       "      <th>society</th>\n",
       "      <th>total_sqft</th>\n",
       "      <th>bath</th>\n",
       "      <th>balcony</th>\n",
       "      <th>price</th>\n",
       "      <th>area_type_Carpet  Area</th>\n",
       "      <th>area_type_Plot  Area</th>\n",
       "      <th>area_type_Super built-up  Area</th>\n",
       "    </tr>\n",
       "  </thead>\n",
       "  <tbody>\n",
       "    <tr>\n",
       "      <th>0</th>\n",
       "      <td>40</td>\n",
       "      <td>Electronic City Phase II</td>\n",
       "      <td>2 BHK</td>\n",
       "      <td>464</td>\n",
       "      <td>1056</td>\n",
       "      <td>2.0</td>\n",
       "      <td>1.0</td>\n",
       "      <td>39.07</td>\n",
       "      <td>False</td>\n",
       "      <td>False</td>\n",
       "      <td>True</td>\n",
       "    </tr>\n",
       "    <tr>\n",
       "      <th>1</th>\n",
       "      <td>80</td>\n",
       "      <td>Chikka Tirupathi</td>\n",
       "      <td>4 Bedroom</td>\n",
       "      <td>2439</td>\n",
       "      <td>2600</td>\n",
       "      <td>5.0</td>\n",
       "      <td>3.0</td>\n",
       "      <td>120.00</td>\n",
       "      <td>False</td>\n",
       "      <td>True</td>\n",
       "      <td>False</td>\n",
       "    </tr>\n",
       "    <tr>\n",
       "      <th>2</th>\n",
       "      <td>80</td>\n",
       "      <td>Uttarahalli</td>\n",
       "      <td>3 BHK</td>\n",
       "      <td>806</td>\n",
       "      <td>1440</td>\n",
       "      <td>2.0</td>\n",
       "      <td>3.0</td>\n",
       "      <td>62.00</td>\n",
       "      <td>False</td>\n",
       "      <td>False</td>\n",
       "      <td>False</td>\n",
       "    </tr>\n",
       "    <tr>\n",
       "      <th>3</th>\n",
       "      <td>80</td>\n",
       "      <td>Lingadheeranahalli</td>\n",
       "      <td>3 BHK</td>\n",
       "      <td>2186</td>\n",
       "      <td>1521</td>\n",
       "      <td>3.0</td>\n",
       "      <td>1.0</td>\n",
       "      <td>95.00</td>\n",
       "      <td>False</td>\n",
       "      <td>False</td>\n",
       "      <td>True</td>\n",
       "    </tr>\n",
       "    <tr>\n",
       "      <th>4</th>\n",
       "      <td>80</td>\n",
       "      <td>Kothanur</td>\n",
       "      <td>2 BHK</td>\n",
       "      <td>806</td>\n",
       "      <td>1200</td>\n",
       "      <td>2.0</td>\n",
       "      <td>1.0</td>\n",
       "      <td>51.00</td>\n",
       "      <td>False</td>\n",
       "      <td>False</td>\n",
       "      <td>True</td>\n",
       "    </tr>\n",
       "  </tbody>\n",
       "</table>\n",
       "</div>"
      ],
      "text/plain": [
       "   availability                  location       size  society total_sqft  \\\n",
       "0            40  Electronic City Phase II      2 BHK      464       1056   \n",
       "1            80          Chikka Tirupathi  4 Bedroom     2439       2600   \n",
       "2            80               Uttarahalli      3 BHK      806       1440   \n",
       "3            80        Lingadheeranahalli      3 BHK     2186       1521   \n",
       "4            80                  Kothanur      2 BHK      806       1200   \n",
       "\n",
       "   bath  balcony   price  area_type_Carpet  Area  area_type_Plot  Area  \\\n",
       "0   2.0      1.0   39.07                   False                 False   \n",
       "1   5.0      3.0  120.00                   False                  True   \n",
       "2   2.0      3.0   62.00                   False                 False   \n",
       "3   3.0      1.0   95.00                   False                 False   \n",
       "4   2.0      1.0   51.00                   False                 False   \n",
       "\n",
       "   area_type_Super built-up  Area  \n",
       "0                            True  \n",
       "1                           False  \n",
       "2                           False  \n",
       "3                            True  \n",
       "4                            True  "
      ]
     },
     "execution_count": 16,
     "metadata": {},
     "output_type": "execute_result"
    }
   ],
   "source": [
    "df.head()"
   ]
  },
  {
   "cell_type": "code",
   "execution_count": 17,
   "id": "212045c4",
   "metadata": {
    "execution": {
     "iopub.execute_input": "2023-12-18T08:46:26.263242Z",
     "iopub.status.busy": "2023-12-18T08:46:26.262738Z",
     "iopub.status.idle": "2023-12-18T08:46:26.270195Z",
     "shell.execute_reply": "2023-12-18T08:46:26.268943Z"
    },
    "papermill": {
     "duration": 0.028857,
     "end_time": "2023-12-18T08:46:26.272599",
     "exception": false,
     "start_time": "2023-12-18T08:46:26.243742",
     "status": "completed"
    },
    "tags": []
   },
   "outputs": [
    {
     "data": {
      "text/plain": [
       "(13320, 11)"
      ]
     },
     "execution_count": 17,
     "metadata": {},
     "output_type": "execute_result"
    }
   ],
   "source": [
    "df.shape"
   ]
  },
  {
   "cell_type": "code",
   "execution_count": 18,
   "id": "c4d3d6e4",
   "metadata": {
    "execution": {
     "iopub.execute_input": "2023-12-18T08:46:26.310771Z",
     "iopub.status.busy": "2023-12-18T08:46:26.310332Z",
     "iopub.status.idle": "2023-12-18T08:46:26.329765Z",
     "shell.execute_reply": "2023-12-18T08:46:26.328642Z"
    },
    "papermill": {
     "duration": 0.041481,
     "end_time": "2023-12-18T08:46:26.332089",
     "exception": false,
     "start_time": "2023-12-18T08:46:26.290608",
     "status": "completed"
    },
    "tags": []
   },
   "outputs": [
    {
     "data": {
      "text/plain": [
       "array([ 2,  4,  3,  6,  1,  8,  7,  5, 11,  9, 27, 10, 19, 16, 43, 14, 12,\n",
       "       13, 18])"
      ]
     },
     "execution_count": 18,
     "metadata": {},
     "output_type": "execute_result"
    }
   ],
   "source": [
    "df['bhk'] = df['size'].apply(lambda x: int(x.split(' ')[0]))\n",
    "df[\"bhk\"].unique()"
   ]
  },
  {
   "cell_type": "code",
   "execution_count": 19,
   "id": "0c69bc26",
   "metadata": {
    "execution": {
     "iopub.execute_input": "2023-12-18T08:46:26.370289Z",
     "iopub.status.busy": "2023-12-18T08:46:26.369893Z",
     "iopub.status.idle": "2023-12-18T08:46:26.374834Z",
     "shell.execute_reply": "2023-12-18T08:46:26.373754Z"
    },
    "papermill": {
     "duration": 0.02637,
     "end_time": "2023-12-18T08:46:26.376974",
     "exception": false,
     "start_time": "2023-12-18T08:46:26.350604",
     "status": "completed"
    },
    "tags": []
   },
   "outputs": [],
   "source": [
    "def is_float(x):\n",
    "    try:\n",
    "        float(x)\n",
    "    except:\n",
    "        return False\n",
    "    return True"
   ]
  },
  {
   "cell_type": "code",
   "execution_count": 20,
   "id": "d80dde14",
   "metadata": {
    "execution": {
     "iopub.execute_input": "2023-12-18T08:46:26.415406Z",
     "iopub.status.busy": "2023-12-18T08:46:26.414981Z",
     "iopub.status.idle": "2023-12-18T08:46:26.439525Z",
     "shell.execute_reply": "2023-12-18T08:46:26.438612Z"
    },
    "papermill": {
     "duration": 0.046431,
     "end_time": "2023-12-18T08:46:26.441849",
     "exception": false,
     "start_time": "2023-12-18T08:46:26.395418",
     "status": "completed"
    },
    "scrolled": true,
    "tags": []
   },
   "outputs": [
    {
     "data": {
      "text/html": [
       "<div>\n",
       "<style scoped>\n",
       "    .dataframe tbody tr th:only-of-type {\n",
       "        vertical-align: middle;\n",
       "    }\n",
       "\n",
       "    .dataframe tbody tr th {\n",
       "        vertical-align: top;\n",
       "    }\n",
       "\n",
       "    .dataframe thead th {\n",
       "        text-align: right;\n",
       "    }\n",
       "</style>\n",
       "<table border=\"1\" class=\"dataframe\">\n",
       "  <thead>\n",
       "    <tr style=\"text-align: right;\">\n",
       "      <th></th>\n",
       "      <th>availability</th>\n",
       "      <th>location</th>\n",
       "      <th>size</th>\n",
       "      <th>society</th>\n",
       "      <th>total_sqft</th>\n",
       "      <th>bath</th>\n",
       "      <th>balcony</th>\n",
       "      <th>price</th>\n",
       "      <th>area_type_Carpet  Area</th>\n",
       "      <th>area_type_Plot  Area</th>\n",
       "      <th>area_type_Super built-up  Area</th>\n",
       "      <th>bhk</th>\n",
       "    </tr>\n",
       "  </thead>\n",
       "  <tbody>\n",
       "    <tr>\n",
       "      <th>30</th>\n",
       "      <td>40</td>\n",
       "      <td>Yelahanka</td>\n",
       "      <td>4 BHK</td>\n",
       "      <td>1106</td>\n",
       "      <td>2100 - 2850</td>\n",
       "      <td>4.0</td>\n",
       "      <td>0.0</td>\n",
       "      <td>186.000</td>\n",
       "      <td>False</td>\n",
       "      <td>False</td>\n",
       "      <td>True</td>\n",
       "      <td>4</td>\n",
       "    </tr>\n",
       "    <tr>\n",
       "      <th>56</th>\n",
       "      <td>53</td>\n",
       "      <td>Devanahalli</td>\n",
       "      <td>4 Bedroom</td>\n",
       "      <td>327</td>\n",
       "      <td>3010 - 3410</td>\n",
       "      <td>2.0</td>\n",
       "      <td>2.0</td>\n",
       "      <td>192.000</td>\n",
       "      <td>False</td>\n",
       "      <td>False</td>\n",
       "      <td>False</td>\n",
       "      <td>4</td>\n",
       "    </tr>\n",
       "    <tr>\n",
       "      <th>81</th>\n",
       "      <td>36</td>\n",
       "      <td>Hennur Road</td>\n",
       "      <td>4 Bedroom</td>\n",
       "      <td>774</td>\n",
       "      <td>2957 - 3450</td>\n",
       "      <td>2.0</td>\n",
       "      <td>2.0</td>\n",
       "      <td>224.500</td>\n",
       "      <td>False</td>\n",
       "      <td>False</td>\n",
       "      <td>False</td>\n",
       "      <td>4</td>\n",
       "    </tr>\n",
       "    <tr>\n",
       "      <th>122</th>\n",
       "      <td>33</td>\n",
       "      <td>Hebbal</td>\n",
       "      <td>4 BHK</td>\n",
       "      <td>1863</td>\n",
       "      <td>3067 - 8156</td>\n",
       "      <td>4.0</td>\n",
       "      <td>0.0</td>\n",
       "      <td>477.000</td>\n",
       "      <td>False</td>\n",
       "      <td>False</td>\n",
       "      <td>True</td>\n",
       "      <td>4</td>\n",
       "    </tr>\n",
       "    <tr>\n",
       "      <th>137</th>\n",
       "      <td>45</td>\n",
       "      <td>8th Phase JP Nagar</td>\n",
       "      <td>2 BHK</td>\n",
       "      <td>2545</td>\n",
       "      <td>1042 - 1105</td>\n",
       "      <td>2.0</td>\n",
       "      <td>0.0</td>\n",
       "      <td>54.005</td>\n",
       "      <td>False</td>\n",
       "      <td>False</td>\n",
       "      <td>True</td>\n",
       "      <td>2</td>\n",
       "    </tr>\n",
       "    <tr>\n",
       "      <th>165</th>\n",
       "      <td>28</td>\n",
       "      <td>Sarjapur</td>\n",
       "      <td>2 BHK</td>\n",
       "      <td>1035</td>\n",
       "      <td>1145 - 1340</td>\n",
       "      <td>2.0</td>\n",
       "      <td>0.0</td>\n",
       "      <td>43.490</td>\n",
       "      <td>False</td>\n",
       "      <td>False</td>\n",
       "      <td>True</td>\n",
       "      <td>2</td>\n",
       "    </tr>\n",
       "    <tr>\n",
       "      <th>188</th>\n",
       "      <td>80</td>\n",
       "      <td>KR Puram</td>\n",
       "      <td>2 BHK</td>\n",
       "      <td>1145</td>\n",
       "      <td>1015 - 1540</td>\n",
       "      <td>2.0</td>\n",
       "      <td>0.0</td>\n",
       "      <td>56.800</td>\n",
       "      <td>False</td>\n",
       "      <td>False</td>\n",
       "      <td>True</td>\n",
       "      <td>2</td>\n",
       "    </tr>\n",
       "    <tr>\n",
       "      <th>224</th>\n",
       "      <td>40</td>\n",
       "      <td>Devanahalli</td>\n",
       "      <td>3 BHK</td>\n",
       "      <td>980</td>\n",
       "      <td>1520 - 1740</td>\n",
       "      <td>2.0</td>\n",
       "      <td>2.0</td>\n",
       "      <td>74.820</td>\n",
       "      <td>False</td>\n",
       "      <td>False</td>\n",
       "      <td>True</td>\n",
       "      <td>3</td>\n",
       "    </tr>\n",
       "    <tr>\n",
       "      <th>410</th>\n",
       "      <td>80</td>\n",
       "      <td>Kengeri</td>\n",
       "      <td>1 BHK</td>\n",
       "      <td>806</td>\n",
       "      <td>34.46Sq. Meter</td>\n",
       "      <td>1.0</td>\n",
       "      <td>0.0</td>\n",
       "      <td>18.500</td>\n",
       "      <td>False</td>\n",
       "      <td>False</td>\n",
       "      <td>True</td>\n",
       "      <td>1</td>\n",
       "    </tr>\n",
       "    <tr>\n",
       "      <th>549</th>\n",
       "      <td>37</td>\n",
       "      <td>Hennur Road</td>\n",
       "      <td>2 BHK</td>\n",
       "      <td>2111</td>\n",
       "      <td>1195 - 1440</td>\n",
       "      <td>2.0</td>\n",
       "      <td>0.0</td>\n",
       "      <td>63.770</td>\n",
       "      <td>False</td>\n",
       "      <td>False</td>\n",
       "      <td>True</td>\n",
       "      <td>2</td>\n",
       "    </tr>\n",
       "  </tbody>\n",
       "</table>\n",
       "</div>"
      ],
      "text/plain": [
       "     availability            location       size  society      total_sqft  \\\n",
       "30             40           Yelahanka      4 BHK     1106     2100 - 2850   \n",
       "56             53         Devanahalli  4 Bedroom      327     3010 - 3410   \n",
       "81             36         Hennur Road  4 Bedroom      774     2957 - 3450   \n",
       "122            33              Hebbal      4 BHK     1863     3067 - 8156   \n",
       "137            45  8th Phase JP Nagar      2 BHK     2545     1042 - 1105   \n",
       "165            28            Sarjapur      2 BHK     1035     1145 - 1340   \n",
       "188            80            KR Puram      2 BHK     1145     1015 - 1540   \n",
       "224            40         Devanahalli      3 BHK      980     1520 - 1740   \n",
       "410            80             Kengeri      1 BHK      806  34.46Sq. Meter   \n",
       "549            37         Hennur Road      2 BHK     2111     1195 - 1440   \n",
       "\n",
       "     bath  balcony    price  area_type_Carpet  Area  area_type_Plot  Area  \\\n",
       "30    4.0      0.0  186.000                   False                 False   \n",
       "56    2.0      2.0  192.000                   False                 False   \n",
       "81    2.0      2.0  224.500                   False                 False   \n",
       "122   4.0      0.0  477.000                   False                 False   \n",
       "137   2.0      0.0   54.005                   False                 False   \n",
       "165   2.0      0.0   43.490                   False                 False   \n",
       "188   2.0      0.0   56.800                   False                 False   \n",
       "224   2.0      2.0   74.820                   False                 False   \n",
       "410   1.0      0.0   18.500                   False                 False   \n",
       "549   2.0      0.0   63.770                   False                 False   \n",
       "\n",
       "     area_type_Super built-up  Area  bhk  \n",
       "30                             True    4  \n",
       "56                            False    4  \n",
       "81                            False    4  \n",
       "122                            True    4  \n",
       "137                            True    2  \n",
       "165                            True    2  \n",
       "188                            True    2  \n",
       "224                            True    3  \n",
       "410                            True    1  \n",
       "549                            True    2  "
      ]
     },
     "execution_count": 20,
     "metadata": {},
     "output_type": "execute_result"
    }
   ],
   "source": [
    "df[~df['total_sqft'].apply(is_float)].head(10)"
   ]
  },
  {
   "cell_type": "code",
   "execution_count": 21,
   "id": "f2ac3309",
   "metadata": {
    "execution": {
     "iopub.execute_input": "2023-12-18T08:46:26.479829Z",
     "iopub.status.busy": "2023-12-18T08:46:26.479431Z",
     "iopub.status.idle": "2023-12-18T08:46:26.485229Z",
     "shell.execute_reply": "2023-12-18T08:46:26.484225Z"
    },
    "papermill": {
     "duration": 0.027381,
     "end_time": "2023-12-18T08:46:26.487355",
     "exception": false,
     "start_time": "2023-12-18T08:46:26.459974",
     "status": "completed"
    },
    "tags": []
   },
   "outputs": [],
   "source": [
    "def convert_sqft_to_num(x):\n",
    "    tokens = x.split('-')\n",
    "    if len(tokens) == 2:\n",
    "        return (float(tokens[0])+float(tokens[1]))/2\n",
    "    try:\n",
    "        return float(x)\n",
    "    except:\n",
    "        return None   "
   ]
  },
  {
   "cell_type": "code",
   "execution_count": 22,
   "id": "92709f56",
   "metadata": {
    "execution": {
     "iopub.execute_input": "2023-12-18T08:46:26.525054Z",
     "iopub.status.busy": "2023-12-18T08:46:26.524659Z",
     "iopub.status.idle": "2023-12-18T08:46:26.555292Z",
     "shell.execute_reply": "2023-12-18T08:46:26.554251Z"
    },
    "papermill": {
     "duration": 0.052216,
     "end_time": "2023-12-18T08:46:26.557700",
     "exception": false,
     "start_time": "2023-12-18T08:46:26.505484",
     "status": "completed"
    },
    "tags": []
   },
   "outputs": [
    {
     "data": {
      "text/html": [
       "<div>\n",
       "<style scoped>\n",
       "    .dataframe tbody tr th:only-of-type {\n",
       "        vertical-align: middle;\n",
       "    }\n",
       "\n",
       "    .dataframe tbody tr th {\n",
       "        vertical-align: top;\n",
       "    }\n",
       "\n",
       "    .dataframe thead th {\n",
       "        text-align: right;\n",
       "    }\n",
       "</style>\n",
       "<table border=\"1\" class=\"dataframe\">\n",
       "  <thead>\n",
       "    <tr style=\"text-align: right;\">\n",
       "      <th></th>\n",
       "      <th>availability</th>\n",
       "      <th>location</th>\n",
       "      <th>size</th>\n",
       "      <th>society</th>\n",
       "      <th>total_sqft</th>\n",
       "      <th>bath</th>\n",
       "      <th>balcony</th>\n",
       "      <th>price</th>\n",
       "      <th>area_type_Carpet  Area</th>\n",
       "      <th>area_type_Plot  Area</th>\n",
       "      <th>area_type_Super built-up  Area</th>\n",
       "      <th>bhk</th>\n",
       "    </tr>\n",
       "  </thead>\n",
       "  <tbody>\n",
       "    <tr>\n",
       "      <th>0</th>\n",
       "      <td>40</td>\n",
       "      <td>Electronic City Phase II</td>\n",
       "      <td>2 BHK</td>\n",
       "      <td>464</td>\n",
       "      <td>1056.0</td>\n",
       "      <td>2.0</td>\n",
       "      <td>1.0</td>\n",
       "      <td>39.07</td>\n",
       "      <td>False</td>\n",
       "      <td>False</td>\n",
       "      <td>True</td>\n",
       "      <td>2</td>\n",
       "    </tr>\n",
       "    <tr>\n",
       "      <th>1</th>\n",
       "      <td>80</td>\n",
       "      <td>Chikka Tirupathi</td>\n",
       "      <td>4 Bedroom</td>\n",
       "      <td>2439</td>\n",
       "      <td>2600.0</td>\n",
       "      <td>5.0</td>\n",
       "      <td>3.0</td>\n",
       "      <td>120.00</td>\n",
       "      <td>False</td>\n",
       "      <td>True</td>\n",
       "      <td>False</td>\n",
       "      <td>4</td>\n",
       "    </tr>\n",
       "    <tr>\n",
       "      <th>2</th>\n",
       "      <td>80</td>\n",
       "      <td>Uttarahalli</td>\n",
       "      <td>3 BHK</td>\n",
       "      <td>806</td>\n",
       "      <td>1440.0</td>\n",
       "      <td>2.0</td>\n",
       "      <td>3.0</td>\n",
       "      <td>62.00</td>\n",
       "      <td>False</td>\n",
       "      <td>False</td>\n",
       "      <td>False</td>\n",
       "      <td>3</td>\n",
       "    </tr>\n",
       "    <tr>\n",
       "      <th>3</th>\n",
       "      <td>80</td>\n",
       "      <td>Lingadheeranahalli</td>\n",
       "      <td>3 BHK</td>\n",
       "      <td>2186</td>\n",
       "      <td>1521.0</td>\n",
       "      <td>3.0</td>\n",
       "      <td>1.0</td>\n",
       "      <td>95.00</td>\n",
       "      <td>False</td>\n",
       "      <td>False</td>\n",
       "      <td>True</td>\n",
       "      <td>3</td>\n",
       "    </tr>\n",
       "    <tr>\n",
       "      <th>4</th>\n",
       "      <td>80</td>\n",
       "      <td>Kothanur</td>\n",
       "      <td>2 BHK</td>\n",
       "      <td>806</td>\n",
       "      <td>1200.0</td>\n",
       "      <td>2.0</td>\n",
       "      <td>1.0</td>\n",
       "      <td>51.00</td>\n",
       "      <td>False</td>\n",
       "      <td>False</td>\n",
       "      <td>True</td>\n",
       "      <td>2</td>\n",
       "    </tr>\n",
       "    <tr>\n",
       "      <th>5</th>\n",
       "      <td>80</td>\n",
       "      <td>Whitefield</td>\n",
       "      <td>2 BHK</td>\n",
       "      <td>607</td>\n",
       "      <td>1170.0</td>\n",
       "      <td>2.0</td>\n",
       "      <td>1.0</td>\n",
       "      <td>38.00</td>\n",
       "      <td>False</td>\n",
       "      <td>False</td>\n",
       "      <td>True</td>\n",
       "      <td>2</td>\n",
       "    </tr>\n",
       "    <tr>\n",
       "      <th>6</th>\n",
       "      <td>34</td>\n",
       "      <td>Old Airport Road</td>\n",
       "      <td>4 BHK</td>\n",
       "      <td>939</td>\n",
       "      <td>2732.0</td>\n",
       "      <td>4.0</td>\n",
       "      <td>2.0</td>\n",
       "      <td>204.00</td>\n",
       "      <td>False</td>\n",
       "      <td>False</td>\n",
       "      <td>True</td>\n",
       "      <td>4</td>\n",
       "    </tr>\n",
       "    <tr>\n",
       "      <th>7</th>\n",
       "      <td>80</td>\n",
       "      <td>Rajaji Nagar</td>\n",
       "      <td>4 BHK</td>\n",
       "      <td>360</td>\n",
       "      <td>3300.0</td>\n",
       "      <td>4.0</td>\n",
       "      <td>2.0</td>\n",
       "      <td>600.00</td>\n",
       "      <td>False</td>\n",
       "      <td>False</td>\n",
       "      <td>True</td>\n",
       "      <td>4</td>\n",
       "    </tr>\n",
       "    <tr>\n",
       "      <th>8</th>\n",
       "      <td>80</td>\n",
       "      <td>Marathahalli</td>\n",
       "      <td>3 BHK</td>\n",
       "      <td>806</td>\n",
       "      <td>1310.0</td>\n",
       "      <td>3.0</td>\n",
       "      <td>1.0</td>\n",
       "      <td>63.25</td>\n",
       "      <td>False</td>\n",
       "      <td>False</td>\n",
       "      <td>True</td>\n",
       "      <td>3</td>\n",
       "    </tr>\n",
       "    <tr>\n",
       "      <th>9</th>\n",
       "      <td>80</td>\n",
       "      <td>Gandhi Bazar</td>\n",
       "      <td>6 Bedroom</td>\n",
       "      <td>806</td>\n",
       "      <td>1020.0</td>\n",
       "      <td>6.0</td>\n",
       "      <td>2.0</td>\n",
       "      <td>370.00</td>\n",
       "      <td>False</td>\n",
       "      <td>True</td>\n",
       "      <td>False</td>\n",
       "      <td>6</td>\n",
       "    </tr>\n",
       "  </tbody>\n",
       "</table>\n",
       "</div>"
      ],
      "text/plain": [
       "   availability                  location       size  society  total_sqft  \\\n",
       "0            40  Electronic City Phase II      2 BHK      464      1056.0   \n",
       "1            80          Chikka Tirupathi  4 Bedroom     2439      2600.0   \n",
       "2            80               Uttarahalli      3 BHK      806      1440.0   \n",
       "3            80        Lingadheeranahalli      3 BHK     2186      1521.0   \n",
       "4            80                  Kothanur      2 BHK      806      1200.0   \n",
       "5            80                Whitefield      2 BHK      607      1170.0   \n",
       "6            34          Old Airport Road      4 BHK      939      2732.0   \n",
       "7            80              Rajaji Nagar      4 BHK      360      3300.0   \n",
       "8            80              Marathahalli      3 BHK      806      1310.0   \n",
       "9            80              Gandhi Bazar  6 Bedroom      806      1020.0   \n",
       "\n",
       "   bath  balcony   price  area_type_Carpet  Area  area_type_Plot  Area  \\\n",
       "0   2.0      1.0   39.07                   False                 False   \n",
       "1   5.0      3.0  120.00                   False                  True   \n",
       "2   2.0      3.0   62.00                   False                 False   \n",
       "3   3.0      1.0   95.00                   False                 False   \n",
       "4   2.0      1.0   51.00                   False                 False   \n",
       "5   2.0      1.0   38.00                   False                 False   \n",
       "6   4.0      2.0  204.00                   False                 False   \n",
       "7   4.0      2.0  600.00                   False                 False   \n",
       "8   3.0      1.0   63.25                   False                 False   \n",
       "9   6.0      2.0  370.00                   False                  True   \n",
       "\n",
       "   area_type_Super built-up  Area  bhk  \n",
       "0                            True    2  \n",
       "1                           False    4  \n",
       "2                           False    3  \n",
       "3                            True    3  \n",
       "4                            True    2  \n",
       "5                            True    2  \n",
       "6                            True    4  \n",
       "7                            True    4  \n",
       "8                            True    3  \n",
       "9                           False    6  "
      ]
     },
     "execution_count": 22,
     "metadata": {},
     "output_type": "execute_result"
    }
   ],
   "source": [
    "df[\"total_sqft\"] = df[\"total_sqft\"].apply(convert_sqft_to_num)\n",
    "df = df[df[\"total_sqft\"].notnull()]\n",
    "df.head(10)"
   ]
  },
  {
   "cell_type": "code",
   "execution_count": 23,
   "id": "c0955892",
   "metadata": {
    "execution": {
     "iopub.execute_input": "2023-12-18T08:46:26.596269Z",
     "iopub.status.busy": "2023-12-18T08:46:26.595831Z",
     "iopub.status.idle": "2023-12-18T08:46:26.603950Z",
     "shell.execute_reply": "2023-12-18T08:46:26.603170Z"
    },
    "papermill": {
     "duration": 0.030065,
     "end_time": "2023-12-18T08:46:26.606147",
     "exception": false,
     "start_time": "2023-12-18T08:46:26.576082",
     "status": "completed"
    },
    "scrolled": true,
    "tags": []
   },
   "outputs": [
    {
     "data": {
      "text/plain": [
       "availability                             40\n",
       "location                          Yelahanka\n",
       "size                                  4 BHK\n",
       "society                                1106\n",
       "total_sqft                           2475.0\n",
       "bath                                    4.0\n",
       "balcony                                 0.0\n",
       "price                                 186.0\n",
       "area_type_Carpet  Area                False\n",
       "area_type_Plot  Area                  False\n",
       "area_type_Super built-up  Area         True\n",
       "bhk                                       4\n",
       "Name: 30, dtype: object"
      ]
     },
     "execution_count": 23,
     "metadata": {},
     "output_type": "execute_result"
    }
   ],
   "source": [
    "df.loc[30]"
   ]
  },
  {
   "cell_type": "code",
   "execution_count": 24,
   "id": "ba56e26b",
   "metadata": {
    "execution": {
     "iopub.execute_input": "2023-12-18T08:46:26.645948Z",
     "iopub.status.busy": "2023-12-18T08:46:26.645562Z",
     "iopub.status.idle": "2023-12-18T08:46:26.665230Z",
     "shell.execute_reply": "2023-12-18T08:46:26.664056Z"
    },
    "papermill": {
     "duration": 0.042084,
     "end_time": "2023-12-18T08:46:26.667345",
     "exception": false,
     "start_time": "2023-12-18T08:46:26.625261",
     "status": "completed"
    },
    "tags": []
   },
   "outputs": [
    {
     "data": {
      "text/html": [
       "<div>\n",
       "<style scoped>\n",
       "    .dataframe tbody tr th:only-of-type {\n",
       "        vertical-align: middle;\n",
       "    }\n",
       "\n",
       "    .dataframe tbody tr th {\n",
       "        vertical-align: top;\n",
       "    }\n",
       "\n",
       "    .dataframe thead th {\n",
       "        text-align: right;\n",
       "    }\n",
       "</style>\n",
       "<table border=\"1\" class=\"dataframe\">\n",
       "  <thead>\n",
       "    <tr style=\"text-align: right;\">\n",
       "      <th></th>\n",
       "      <th>availability</th>\n",
       "      <th>location</th>\n",
       "      <th>size</th>\n",
       "      <th>society</th>\n",
       "      <th>total_sqft</th>\n",
       "      <th>bath</th>\n",
       "      <th>balcony</th>\n",
       "      <th>price</th>\n",
       "      <th>area_type_Carpet  Area</th>\n",
       "      <th>area_type_Plot  Area</th>\n",
       "      <th>area_type_Super built-up  Area</th>\n",
       "      <th>bhk</th>\n",
       "      <th>price_per_sqft</th>\n",
       "    </tr>\n",
       "  </thead>\n",
       "  <tbody>\n",
       "    <tr>\n",
       "      <th>0</th>\n",
       "      <td>40</td>\n",
       "      <td>Electronic City Phase II</td>\n",
       "      <td>2 BHK</td>\n",
       "      <td>464</td>\n",
       "      <td>1056.0</td>\n",
       "      <td>2.0</td>\n",
       "      <td>1.0</td>\n",
       "      <td>39.07</td>\n",
       "      <td>False</td>\n",
       "      <td>False</td>\n",
       "      <td>True</td>\n",
       "      <td>2</td>\n",
       "      <td>3699.810606</td>\n",
       "    </tr>\n",
       "    <tr>\n",
       "      <th>1</th>\n",
       "      <td>80</td>\n",
       "      <td>Chikka Tirupathi</td>\n",
       "      <td>4 Bedroom</td>\n",
       "      <td>2439</td>\n",
       "      <td>2600.0</td>\n",
       "      <td>5.0</td>\n",
       "      <td>3.0</td>\n",
       "      <td>120.00</td>\n",
       "      <td>False</td>\n",
       "      <td>True</td>\n",
       "      <td>False</td>\n",
       "      <td>4</td>\n",
       "      <td>4615.384615</td>\n",
       "    </tr>\n",
       "    <tr>\n",
       "      <th>2</th>\n",
       "      <td>80</td>\n",
       "      <td>Uttarahalli</td>\n",
       "      <td>3 BHK</td>\n",
       "      <td>806</td>\n",
       "      <td>1440.0</td>\n",
       "      <td>2.0</td>\n",
       "      <td>3.0</td>\n",
       "      <td>62.00</td>\n",
       "      <td>False</td>\n",
       "      <td>False</td>\n",
       "      <td>False</td>\n",
       "      <td>3</td>\n",
       "      <td>4305.555556</td>\n",
       "    </tr>\n",
       "    <tr>\n",
       "      <th>3</th>\n",
       "      <td>80</td>\n",
       "      <td>Lingadheeranahalli</td>\n",
       "      <td>3 BHK</td>\n",
       "      <td>2186</td>\n",
       "      <td>1521.0</td>\n",
       "      <td>3.0</td>\n",
       "      <td>1.0</td>\n",
       "      <td>95.00</td>\n",
       "      <td>False</td>\n",
       "      <td>False</td>\n",
       "      <td>True</td>\n",
       "      <td>3</td>\n",
       "      <td>6245.890861</td>\n",
       "    </tr>\n",
       "    <tr>\n",
       "      <th>4</th>\n",
       "      <td>80</td>\n",
       "      <td>Kothanur</td>\n",
       "      <td>2 BHK</td>\n",
       "      <td>806</td>\n",
       "      <td>1200.0</td>\n",
       "      <td>2.0</td>\n",
       "      <td>1.0</td>\n",
       "      <td>51.00</td>\n",
       "      <td>False</td>\n",
       "      <td>False</td>\n",
       "      <td>True</td>\n",
       "      <td>2</td>\n",
       "      <td>4250.000000</td>\n",
       "    </tr>\n",
       "  </tbody>\n",
       "</table>\n",
       "</div>"
      ],
      "text/plain": [
       "   availability                  location       size  society  total_sqft  \\\n",
       "0            40  Electronic City Phase II      2 BHK      464      1056.0   \n",
       "1            80          Chikka Tirupathi  4 Bedroom     2439      2600.0   \n",
       "2            80               Uttarahalli      3 BHK      806      1440.0   \n",
       "3            80        Lingadheeranahalli      3 BHK     2186      1521.0   \n",
       "4            80                  Kothanur      2 BHK      806      1200.0   \n",
       "\n",
       "   bath  balcony   price  area_type_Carpet  Area  area_type_Plot  Area  \\\n",
       "0   2.0      1.0   39.07                   False                 False   \n",
       "1   5.0      3.0  120.00                   False                  True   \n",
       "2   2.0      3.0   62.00                   False                 False   \n",
       "3   3.0      1.0   95.00                   False                 False   \n",
       "4   2.0      1.0   51.00                   False                 False   \n",
       "\n",
       "   area_type_Super built-up  Area  bhk  price_per_sqft  \n",
       "0                            True    2     3699.810606  \n",
       "1                           False    4     4615.384615  \n",
       "2                           False    3     4305.555556  \n",
       "3                            True    3     6245.890861  \n",
       "4                            True    2     4250.000000  "
      ]
     },
     "execution_count": 24,
     "metadata": {},
     "output_type": "execute_result"
    }
   ],
   "source": [
    "df['price_per_sqft'] = df['price']*100000/df['total_sqft']\n",
    "df.head()"
   ]
  },
  {
   "cell_type": "code",
   "execution_count": 25,
   "id": "1f39f20a",
   "metadata": {
    "execution": {
     "iopub.execute_input": "2023-12-18T08:46:26.706852Z",
     "iopub.status.busy": "2023-12-18T08:46:26.706480Z",
     "iopub.status.idle": "2023-12-18T08:46:26.712605Z",
     "shell.execute_reply": "2023-12-18T08:46:26.711575Z"
    },
    "papermill": {
     "duration": 0.028921,
     "end_time": "2023-12-18T08:46:26.714863",
     "exception": false,
     "start_time": "2023-12-18T08:46:26.685942",
     "status": "completed"
    },
    "tags": []
   },
   "outputs": [
    {
     "data": {
      "text/plain": [
       "(13274, 13)"
      ]
     },
     "execution_count": 25,
     "metadata": {},
     "output_type": "execute_result"
    }
   ],
   "source": [
    "df.shape"
   ]
  },
  {
   "cell_type": "code",
   "execution_count": 26,
   "id": "05092281",
   "metadata": {
    "execution": {
     "iopub.execute_input": "2023-12-18T08:46:26.754873Z",
     "iopub.status.busy": "2023-12-18T08:46:26.754331Z",
     "iopub.status.idle": "2023-12-18T08:46:26.770388Z",
     "shell.execute_reply": "2023-12-18T08:46:26.769177Z"
    },
    "papermill": {
     "duration": 0.039342,
     "end_time": "2023-12-18T08:46:26.772752",
     "exception": false,
     "start_time": "2023-12-18T08:46:26.733410",
     "status": "completed"
    },
    "tags": []
   },
   "outputs": [
    {
     "data": {
      "text/plain": [
       "location\n",
       "Whitefield                        540\n",
       "Sarjapur  Road                    399\n",
       "Electronic City                   304\n",
       "Kanakpura Road                    271\n",
       "Thanisandra                       236\n",
       "                                 ... \n",
       "1st Stage Radha Krishna Layout      1\n",
       "BEML Layout 5th stage               1\n",
       "Kannur                              1\n",
       "singapura paradise                  1\n",
       "Abshot Layout                       1\n",
       "Name: count, Length: 1288, dtype: int64"
      ]
     },
     "execution_count": 26,
     "metadata": {},
     "output_type": "execute_result"
    }
   ],
   "source": [
    "df.location = df.location.apply(lambda x: x.strip())\n",
    "location_stats = df['location'].value_counts(ascending=False)\n",
    "location_stats"
   ]
  },
  {
   "cell_type": "code",
   "execution_count": 27,
   "id": "34cfca68",
   "metadata": {
    "execution": {
     "iopub.execute_input": "2023-12-18T08:46:26.812766Z",
     "iopub.status.busy": "2023-12-18T08:46:26.812365Z",
     "iopub.status.idle": "2023-12-18T08:46:26.819420Z",
     "shell.execute_reply": "2023-12-18T08:46:26.818432Z"
    },
    "papermill": {
     "duration": 0.029751,
     "end_time": "2023-12-18T08:46:26.821750",
     "exception": false,
     "start_time": "2023-12-18T08:46:26.791999",
     "status": "completed"
    },
    "tags": []
   },
   "outputs": [
    {
     "data": {
      "text/plain": [
       "13274"
      ]
     },
     "execution_count": 27,
     "metadata": {},
     "output_type": "execute_result"
    }
   ],
   "source": [
    "location_stats.values.sum()"
   ]
  },
  {
   "cell_type": "code",
   "execution_count": 28,
   "id": "9dcc2bd0",
   "metadata": {
    "execution": {
     "iopub.execute_input": "2023-12-18T08:46:26.862785Z",
     "iopub.status.busy": "2023-12-18T08:46:26.862408Z",
     "iopub.status.idle": "2023-12-18T08:46:26.871587Z",
     "shell.execute_reply": "2023-12-18T08:46:26.870333Z"
    },
    "papermill": {
     "duration": 0.032989,
     "end_time": "2023-12-18T08:46:26.874033",
     "exception": false,
     "start_time": "2023-12-18T08:46:26.841044",
     "status": "completed"
    },
    "tags": []
   },
   "outputs": [
    {
     "data": {
      "text/plain": [
       "location\n",
       "Sadashiva Nagar                   10\n",
       "BTM 1st Stage                     10\n",
       "Nagadevanahalli                   10\n",
       "Sector 1 HSR Layout               10\n",
       "Basapura                          10\n",
       "                                  ..\n",
       "1st Stage Radha Krishna Layout     1\n",
       "BEML Layout 5th stage              1\n",
       "Kannur                             1\n",
       "singapura paradise                 1\n",
       "Abshot Layout                      1\n",
       "Name: count, Length: 1048, dtype: int64"
      ]
     },
     "execution_count": 28,
     "metadata": {},
     "output_type": "execute_result"
    }
   ],
   "source": [
    "location_stats_less_than_10 = location_stats[location_stats<=10]\n",
    "location_stats_less_than_10"
   ]
  },
  {
   "cell_type": "code",
   "execution_count": 29,
   "id": "c6b76c43",
   "metadata": {
    "execution": {
     "iopub.execute_input": "2023-12-18T08:46:26.914434Z",
     "iopub.status.busy": "2023-12-18T08:46:26.914012Z",
     "iopub.status.idle": "2023-12-18T08:46:26.921939Z",
     "shell.execute_reply": "2023-12-18T08:46:26.921143Z"
    },
    "papermill": {
     "duration": 0.030501,
     "end_time": "2023-12-18T08:46:26.924014",
     "exception": false,
     "start_time": "2023-12-18T08:46:26.893513",
     "status": "completed"
    },
    "tags": []
   },
   "outputs": [
    {
     "data": {
      "text/plain": [
       "1288"
      ]
     },
     "execution_count": 29,
     "metadata": {},
     "output_type": "execute_result"
    }
   ],
   "source": [
    "len(df.location.unique())"
   ]
  },
  {
   "cell_type": "code",
   "execution_count": 30,
   "id": "2dc5edb5",
   "metadata": {
    "execution": {
     "iopub.execute_input": "2023-12-18T08:46:26.964464Z",
     "iopub.status.busy": "2023-12-18T08:46:26.964035Z",
     "iopub.status.idle": "2023-12-18T08:46:27.001368Z",
     "shell.execute_reply": "2023-12-18T08:46:27.000501Z"
    },
    "papermill": {
     "duration": 0.06051,
     "end_time": "2023-12-18T08:46:27.003704",
     "exception": false,
     "start_time": "2023-12-18T08:46:26.943194",
     "status": "completed"
    },
    "tags": []
   },
   "outputs": [
    {
     "data": {
      "text/plain": [
       "241"
      ]
     },
     "execution_count": 30,
     "metadata": {},
     "output_type": "execute_result"
    }
   ],
   "source": [
    "df[\"location\"] = df[\"location\"].apply(lambda x: 'other' if x in location_stats_less_than_10 else x)\n",
    "len(df[\"location\"].unique())"
   ]
  },
  {
   "cell_type": "code",
   "execution_count": 31,
   "id": "2144857f",
   "metadata": {
    "execution": {
     "iopub.execute_input": "2023-12-18T08:46:27.044592Z",
     "iopub.status.busy": "2023-12-18T08:46:27.043941Z",
     "iopub.status.idle": "2023-12-18T08:46:27.051052Z",
     "shell.execute_reply": "2023-12-18T08:46:27.049963Z"
    },
    "papermill": {
     "duration": 0.029874,
     "end_time": "2023-12-18T08:46:27.053197",
     "exception": false,
     "start_time": "2023-12-18T08:46:27.023323",
     "status": "completed"
    },
    "tags": []
   },
   "outputs": [
    {
     "data": {
      "text/plain": [
       "(13274, 13)"
      ]
     },
     "execution_count": 31,
     "metadata": {},
     "output_type": "execute_result"
    }
   ],
   "source": [
    "df.shape"
   ]
  },
  {
   "cell_type": "code",
   "execution_count": 32,
   "id": "d0f72784",
   "metadata": {
    "execution": {
     "iopub.execute_input": "2023-12-18T08:46:27.093906Z",
     "iopub.status.busy": "2023-12-18T08:46:27.093480Z",
     "iopub.status.idle": "2023-12-18T08:46:27.103812Z",
     "shell.execute_reply": "2023-12-18T08:46:27.103004Z"
    },
    "papermill": {
     "duration": 0.033027,
     "end_time": "2023-12-18T08:46:27.105853",
     "exception": false,
     "start_time": "2023-12-18T08:46:27.072826",
     "status": "completed"
    },
    "scrolled": true,
    "tags": []
   },
   "outputs": [
    {
     "data": {
      "text/plain": [
       "(12530, 13)"
      ]
     },
     "execution_count": 32,
     "metadata": {},
     "output_type": "execute_result"
    }
   ],
   "source": [
    "df = df[~(df.total_sqft/df.bhk<300)]\n",
    "df.shape"
   ]
  },
  {
   "cell_type": "code",
   "execution_count": 33,
   "id": "c79a63ea",
   "metadata": {
    "execution": {
     "iopub.execute_input": "2023-12-18T08:46:27.147571Z",
     "iopub.status.busy": "2023-12-18T08:46:27.147122Z",
     "iopub.status.idle": "2023-12-18T08:46:27.161555Z",
     "shell.execute_reply": "2023-12-18T08:46:27.160383Z"
    },
    "papermill": {
     "duration": 0.038811,
     "end_time": "2023-12-18T08:46:27.164255",
     "exception": false,
     "start_time": "2023-12-18T08:46:27.125444",
     "status": "completed"
    },
    "tags": []
   },
   "outputs": [
    {
     "data": {
      "text/plain": [
       "count     12530.000000\n",
       "mean       6303.979357\n",
       "std        4162.237981\n",
       "min         267.829813\n",
       "25%        4210.526316\n",
       "50%        5294.117647\n",
       "75%        6916.666667\n",
       "max      176470.588235\n",
       "Name: price_per_sqft, dtype: float64"
      ]
     },
     "execution_count": 33,
     "metadata": {},
     "output_type": "execute_result"
    }
   ],
   "source": [
    "df.price_per_sqft.describe()\n"
   ]
  },
  {
   "cell_type": "code",
   "execution_count": 34,
   "id": "9eef084b",
   "metadata": {
    "execution": {
     "iopub.execute_input": "2023-12-18T08:46:27.207678Z",
     "iopub.status.busy": "2023-12-18T08:46:27.207253Z",
     "iopub.status.idle": "2023-12-18T08:46:27.702746Z",
     "shell.execute_reply": "2023-12-18T08:46:27.701573Z"
    },
    "papermill": {
     "duration": 0.521171,
     "end_time": "2023-12-18T08:46:27.705470",
     "exception": false,
     "start_time": "2023-12-18T08:46:27.184299",
     "status": "completed"
    },
    "tags": []
   },
   "outputs": [
    {
     "data": {
      "text/plain": [
       "(10302, 13)"
      ]
     },
     "execution_count": 34,
     "metadata": {},
     "output_type": "execute_result"
    }
   ],
   "source": [
    "def remove_pps_outliers(df):\n",
    "    df_out = pd.DataFrame()\n",
    "    for key, subdf in df.groupby('location'):\n",
    "        m = np.mean(subdf.price_per_sqft)\n",
    "        st = np.std(subdf.price_per_sqft)\n",
    "        reduced_df = subdf[(subdf.price_per_sqft>(m-st)) & (subdf.price_per_sqft<=(m+st))]\n",
    "        df_out = pd.concat([df_out,reduced_df],ignore_index=True)\n",
    "    return df_out\n",
    "df = remove_pps_outliers(df)\n",
    "df.shape"
   ]
  },
  {
   "cell_type": "code",
   "execution_count": 35,
   "id": "00e54c16",
   "metadata": {
    "execution": {
     "iopub.execute_input": "2023-12-18T08:46:27.749284Z",
     "iopub.status.busy": "2023-12-18T08:46:27.748596Z",
     "iopub.status.idle": "2023-12-18T08:46:28.210612Z",
     "shell.execute_reply": "2023-12-18T08:46:28.209370Z"
    },
    "papermill": {
     "duration": 0.486199,
     "end_time": "2023-12-18T08:46:28.213187",
     "exception": false,
     "start_time": "2023-12-18T08:46:27.726988",
     "status": "completed"
    },
    "tags": []
   },
   "outputs": [
    {
     "data": {
      "image/png": "[encoded data removed]",
      "text/plain": [
       "<Figure size 1500x1000 with 1 Axes>"
      ]
     },
     "metadata": {},
     "output_type": "display_data"
    }
   ],
   "source": [
    "def plot_scatter_chart(df,location):\n",
    "    bhk2 = df[(df.location==location) & (df.bhk==2)]\n",
    "    bhk3 = df[(df.location==location) & (df.bhk==3)]\n",
    "    matplotlib.rcParams['figure.figsize'] = (15,10)\n",
    "    plt.scatter(bhk2.total_sqft,bhk2.price,color='blue',label='2 BHK', s=50)\n",
    "    plt.scatter(bhk3.total_sqft,bhk3.price,marker='+', color='green',label='3 BHK', s=50)\n",
    "    plt.xlabel(\"Total Square Feet Area\")\n",
    "    plt.ylabel(\"Price (Lakh Indian Rupees)\")\n",
    "    plt.title(location)\n",
    "    plt.legend()\n",
    "    \n",
    "plot_scatter_chart(df,\"Rajaji Nagar\")"
   ]
  },
  {
   "cell_type": "code",
   "execution_count": 36,
   "id": "8517cfcc",
   "metadata": {
    "execution": {
     "iopub.execute_input": "2023-12-18T08:46:28.255831Z",
     "iopub.status.busy": "2023-12-18T08:46:28.255449Z",
     "iopub.status.idle": "2023-12-18T08:46:28.672259Z",
     "shell.execute_reply": "2023-12-18T08:46:28.671180Z"
    },
    "papermill": {
     "duration": 0.441241,
     "end_time": "2023-12-18T08:46:28.674930",
     "exception": false,
     "start_time": "2023-12-18T08:46:28.233689",
     "status": "completed"
    },
    "tags": []
   },
   "outputs": [
    {
     "data": {
      "image/png": "[encoded data removed]",
      "text/plain": [
       "<Figure size 1500x1000 with 1 Axes>"
      ]
     },
     "metadata": {},
     "output_type": "display_data"
    }
   ],
   "source": [
    "plot_scatter_chart(df,\"Hebbal\")"
   ]
  },
  {
   "cell_type": "code",
   "execution_count": 37,
   "id": "d34de052",
   "metadata": {
    "execution": {
     "iopub.execute_input": "2023-12-18T08:46:28.718950Z",
     "iopub.status.busy": "2023-12-18T08:46:28.718587Z",
     "iopub.status.idle": "2023-12-18T08:46:29.588356Z",
     "shell.execute_reply": "2023-12-18T08:46:29.587193Z"
    },
    "papermill": {
     "duration": 0.894606,
     "end_time": "2023-12-18T08:46:29.590535",
     "exception": false,
     "start_time": "2023-12-18T08:46:28.695929",
     "status": "completed"
    },
    "tags": []
   },
   "outputs": [
    {
     "data": {
      "text/plain": [
       "(7348, 13)"
      ]
     },
     "execution_count": 37,
     "metadata": {},
     "output_type": "execute_result"
    }
   ],
   "source": [
    "def remove_bhk_outliers(df):\n",
    "    exclude_indices = np.array([])\n",
    "    for location, location_df in df.groupby('location'):\n",
    "        bhk_stats = {}\n",
    "        for bhk, bhk_df in location_df.groupby('bhk'):\n",
    "            bhk_stats[bhk] = {\n",
    "                'mean': np.mean(bhk_df.price_per_sqft),\n",
    "                'std': np.std(bhk_df.price_per_sqft),\n",
    "                'count': bhk_df.shape[0]\n",
    "            }\n",
    "        for bhk, bhk_df in location_df.groupby('bhk'):\n",
    "            stats = bhk_stats.get(bhk-1)\n",
    "            if stats and stats['count']>5:\n",
    "                exclude_indices = np.append(exclude_indices, bhk_df[bhk_df.price_per_sqft<(stats['mean'])].index.values)\n",
    "    return df.drop(exclude_indices,axis='index')\n",
    "df = remove_bhk_outliers(df)\n",
    "df.shape"
   ]
  },
  {
   "cell_type": "code",
   "execution_count": 38,
   "id": "ea06b957",
   "metadata": {
    "execution": {
     "iopub.execute_input": "2023-12-18T08:46:29.639510Z",
     "iopub.status.busy": "2023-12-18T08:46:29.639054Z",
     "iopub.status.idle": "2023-12-18T08:46:30.064554Z",
     "shell.execute_reply": "2023-12-18T08:46:30.063419Z"
    },
    "papermill": {
     "duration": 0.455335,
     "end_time": "2023-12-18T08:46:30.067032",
     "exception": false,
     "start_time": "2023-12-18T08:46:29.611697",
     "status": "completed"
    },
    "tags": []
   },
   "outputs": [
    {
     "data": {
      "image/png": "[encoded data removed]",
      "text/plain": [
       "<Figure size 1500x1000 with 1 Axes>"
      ]
     },
     "metadata": {},
     "output_type": "display_data"
    }
   ],
   "source": [
    "plot_scatter_chart(df,\"Rajaji Nagar\")"
   ]
  },
  {
   "cell_type": "code",
   "execution_count": 39,
   "id": "a3d30b99",
   "metadata": {
    "execution": {
     "iopub.execute_input": "2023-12-18T08:46:30.120488Z",
     "iopub.status.busy": "2023-12-18T08:46:30.119317Z",
     "iopub.status.idle": "2023-12-18T08:46:30.532962Z",
     "shell.execute_reply": "2023-12-18T08:46:30.531617Z"
    },
    "papermill": {
     "duration": 0.446324,
     "end_time": "2023-12-18T08:46:30.535828",
     "exception": false,
     "start_time": "2023-12-18T08:46:30.089504",
     "status": "completed"
    },
    "scrolled": true,
    "tags": []
   },
   "outputs": [
    {
     "data": {
      "image/png": "[encoded data removed]",
      "text/plain": [
       "<Figure size 1500x1000 with 1 Axes>"
      ]
     },
     "metadata": {},
     "output_type": "display_data"
    }
   ],
   "source": [
    "plot_scatter_chart(df,\"Hebbal\")"
   ]
  },
  {
   "cell_type": "code",
   "execution_count": 40,
   "id": "71950b53",
   "metadata": {
    "execution": {
     "iopub.execute_input": "2023-12-18T08:46:30.582884Z",
     "iopub.status.busy": "2023-12-18T08:46:30.582501Z",
     "iopub.status.idle": "2023-12-18T08:46:30.936503Z",
     "shell.execute_reply": "2023-12-18T08:46:30.935464Z"
    },
    "papermill": {
     "duration": 0.380709,
     "end_time": "2023-12-18T08:46:30.939033",
     "exception": false,
     "start_time": "2023-12-18T08:46:30.558324",
     "status": "completed"
    },
    "tags": []
   },
   "outputs": [
    {
     "data": {
      "text/plain": [
       "Text(0, 0.5, 'Count')"
      ]
     },
     "execution_count": 40,
     "metadata": {},
     "output_type": "execute_result"
    },
    {
     "data": {
      "image/png": "[encoded data removed]",
      "text/plain": [
       "<Figure size 2000x1000 with 1 Axes>"
      ]
     },
     "metadata": {},
     "output_type": "display_data"
    }
   ],
   "source": [
    "import matplotlib\n",
    "matplotlib.rcParams[\"figure.figsize\"] = (20,10)\n",
    "plt.hist(df.price_per_sqft,rwidth=0.8)\n",
    "plt.xlabel(\"Price Per Square Feet\")\n",
    "plt.ylabel(\"Count\")"
   ]
  },
  {
   "cell_type": "code",
   "execution_count": 41,
   "id": "610a5d80",
   "metadata": {
    "execution": {
     "iopub.execute_input": "2023-12-18T08:46:30.989643Z",
     "iopub.status.busy": "2023-12-18T08:46:30.988858Z",
     "iopub.status.idle": "2023-12-18T08:46:30.997790Z",
     "shell.execute_reply": "2023-12-18T08:46:30.996486Z"
    },
    "papermill": {
     "duration": 0.036856,
     "end_time": "2023-12-18T08:46:31.001169",
     "exception": false,
     "start_time": "2023-12-18T08:46:30.964313",
     "status": "completed"
    },
    "tags": []
   },
   "outputs": [
    {
     "data": {
      "text/plain": [
       "array([ 4.,  3.,  2.,  5.,  8.,  1.,  6.,  7.,  9., 12., 16., 13.])"
      ]
     },
     "execution_count": 41,
     "metadata": {},
     "output_type": "execute_result"
    }
   ],
   "source": [
    "df.bath.unique()"
   ]
  },
  {
   "cell_type": "code",
   "execution_count": 42,
   "id": "d194e77e",
   "metadata": {
    "execution": {
     "iopub.execute_input": "2023-12-18T08:46:31.054016Z",
     "iopub.status.busy": "2023-12-18T08:46:31.053641Z",
     "iopub.status.idle": "2023-12-18T08:46:31.420316Z",
     "shell.execute_reply": "2023-12-18T08:46:31.419064Z"
    },
    "papermill": {
     "duration": 0.398234,
     "end_time": "2023-12-18T08:46:31.422908",
     "exception": false,
     "start_time": "2023-12-18T08:46:31.024674",
     "status": "completed"
    },
    "tags": []
   },
   "outputs": [
    {
     "data": {
      "text/plain": [
       "Text(0, 0.5, 'Count')"
      ]
     },
     "execution_count": 42,
     "metadata": {},
     "output_type": "execute_result"
    },
    {
     "data": {
      "image/png": "[encoded data removed]",
      "text/plain": [
       "<Figure size 2000x1000 with 1 Axes>"
      ]
     },
     "metadata": {},
     "output_type": "display_data"
    }
   ],
   "source": [
    "plt.hist(df.bath,rwidth=0.8)\n",
    "plt.xlabel(\"Number of bathrooms\")\n",
    "plt.ylabel(\"Count\")"
   ]
  },
  {
   "cell_type": "code",
   "execution_count": 43,
   "id": "81a862a8",
   "metadata": {
    "execution": {
     "iopub.execute_input": "2023-12-18T08:46:31.473472Z",
     "iopub.status.busy": "2023-12-18T08:46:31.473066Z",
     "iopub.status.idle": "2023-12-18T08:46:31.493587Z",
     "shell.execute_reply": "2023-12-18T08:46:31.492581Z"
    },
    "papermill": {
     "duration": 0.048902,
     "end_time": "2023-12-18T08:46:31.495723",
     "exception": false,
     "start_time": "2023-12-18T08:46:31.446821",
     "status": "completed"
    },
    "tags": []
   },
   "outputs": [
    {
     "data": {
      "text/html": [
       "<div>\n",
       "<style scoped>\n",
       "    .dataframe tbody tr th:only-of-type {\n",
       "        vertical-align: middle;\n",
       "    }\n",
       "\n",
       "    .dataframe tbody tr th {\n",
       "        vertical-align: top;\n",
       "    }\n",
       "\n",
       "    .dataframe thead th {\n",
       "        text-align: right;\n",
       "    }\n",
       "</style>\n",
       "<table border=\"1\" class=\"dataframe\">\n",
       "  <thead>\n",
       "    <tr style=\"text-align: right;\">\n",
       "      <th></th>\n",
       "      <th>availability</th>\n",
       "      <th>location</th>\n",
       "      <th>size</th>\n",
       "      <th>society</th>\n",
       "      <th>total_sqft</th>\n",
       "      <th>bath</th>\n",
       "      <th>balcony</th>\n",
       "      <th>price</th>\n",
       "      <th>area_type_Carpet  Area</th>\n",
       "      <th>area_type_Plot  Area</th>\n",
       "      <th>area_type_Super built-up  Area</th>\n",
       "      <th>bhk</th>\n",
       "      <th>price_per_sqft</th>\n",
       "    </tr>\n",
       "  </thead>\n",
       "  <tbody>\n",
       "    <tr>\n",
       "      <th>5313</th>\n",
       "      <td>80</td>\n",
       "      <td>Neeladri Nagar</td>\n",
       "      <td>10 BHK</td>\n",
       "      <td>806</td>\n",
       "      <td>4000.0</td>\n",
       "      <td>12.0</td>\n",
       "      <td>2.0</td>\n",
       "      <td>160.0</td>\n",
       "      <td>False</td>\n",
       "      <td>False</td>\n",
       "      <td>True</td>\n",
       "      <td>10</td>\n",
       "      <td>4000.000000</td>\n",
       "    </tr>\n",
       "    <tr>\n",
       "      <th>8540</th>\n",
       "      <td>80</td>\n",
       "      <td>other</td>\n",
       "      <td>10 BHK</td>\n",
       "      <td>806</td>\n",
       "      <td>12000.0</td>\n",
       "      <td>12.0</td>\n",
       "      <td>2.0</td>\n",
       "      <td>525.0</td>\n",
       "      <td>False</td>\n",
       "      <td>False</td>\n",
       "      <td>True</td>\n",
       "      <td>10</td>\n",
       "      <td>4375.000000</td>\n",
       "    </tr>\n",
       "    <tr>\n",
       "      <th>8629</th>\n",
       "      <td>80</td>\n",
       "      <td>other</td>\n",
       "      <td>16 BHK</td>\n",
       "      <td>806</td>\n",
       "      <td>10000.0</td>\n",
       "      <td>16.0</td>\n",
       "      <td>2.0</td>\n",
       "      <td>550.0</td>\n",
       "      <td>False</td>\n",
       "      <td>False</td>\n",
       "      <td>True</td>\n",
       "      <td>16</td>\n",
       "      <td>5500.000000</td>\n",
       "    </tr>\n",
       "    <tr>\n",
       "      <th>9363</th>\n",
       "      <td>80</td>\n",
       "      <td>other</td>\n",
       "      <td>11 BHK</td>\n",
       "      <td>806</td>\n",
       "      <td>6000.0</td>\n",
       "      <td>12.0</td>\n",
       "      <td>2.0</td>\n",
       "      <td>150.0</td>\n",
       "      <td>False</td>\n",
       "      <td>False</td>\n",
       "      <td>True</td>\n",
       "      <td>11</td>\n",
       "      <td>2500.000000</td>\n",
       "    </tr>\n",
       "    <tr>\n",
       "      <th>9695</th>\n",
       "      <td>80</td>\n",
       "      <td>other</td>\n",
       "      <td>13 BHK</td>\n",
       "      <td>806</td>\n",
       "      <td>5425.0</td>\n",
       "      <td>13.0</td>\n",
       "      <td>0.0</td>\n",
       "      <td>275.0</td>\n",
       "      <td>False</td>\n",
       "      <td>False</td>\n",
       "      <td>True</td>\n",
       "      <td>13</td>\n",
       "      <td>5069.124424</td>\n",
       "    </tr>\n",
       "  </tbody>\n",
       "</table>\n",
       "</div>"
      ],
      "text/plain": [
       "      availability        location    size  society  total_sqft  bath  \\\n",
       "5313            80  Neeladri Nagar  10 BHK      806      4000.0  12.0   \n",
       "8540            80           other  10 BHK      806     12000.0  12.0   \n",
       "8629            80           other  16 BHK      806     10000.0  16.0   \n",
       "9363            80           other  11 BHK      806      6000.0  12.0   \n",
       "9695            80           other  13 BHK      806      5425.0  13.0   \n",
       "\n",
       "      balcony  price  area_type_Carpet  Area  area_type_Plot  Area  \\\n",
       "5313      2.0  160.0                   False                 False   \n",
       "8540      2.0  525.0                   False                 False   \n",
       "8629      2.0  550.0                   False                 False   \n",
       "9363      2.0  150.0                   False                 False   \n",
       "9695      0.0  275.0                   False                 False   \n",
       "\n",
       "      area_type_Super built-up  Area  bhk  price_per_sqft  \n",
       "5313                            True   10     4000.000000  \n",
       "8540                            True   10     4375.000000  \n",
       "8629                            True   16     5500.000000  \n",
       "9363                            True   11     2500.000000  \n",
       "9695                            True   13     5069.124424  "
      ]
     },
     "execution_count": 43,
     "metadata": {},
     "output_type": "execute_result"
    }
   ],
   "source": [
    "df[df.bath>10]"
   ]
  },
  {
   "cell_type": "code",
   "execution_count": 44,
   "id": "46d43bc8",
   "metadata": {
    "execution": {
     "iopub.execute_input": "2023-12-18T08:46:31.546362Z",
     "iopub.status.busy": "2023-12-18T08:46:31.545428Z",
     "iopub.status.idle": "2023-12-18T08:46:31.568740Z",
     "shell.execute_reply": "2023-12-18T08:46:31.567385Z"
    },
    "papermill": {
     "duration": 0.051157,
     "end_time": "2023-12-18T08:46:31.571173",
     "exception": false,
     "start_time": "2023-12-18T08:46:31.520016",
     "status": "completed"
    },
    "tags": []
   },
   "outputs": [
    {
     "data": {
      "text/html": [
       "<div>\n",
       "<style scoped>\n",
       "    .dataframe tbody tr th:only-of-type {\n",
       "        vertical-align: middle;\n",
       "    }\n",
       "\n",
       "    .dataframe tbody tr th {\n",
       "        vertical-align: top;\n",
       "    }\n",
       "\n",
       "    .dataframe thead th {\n",
       "        text-align: right;\n",
       "    }\n",
       "</style>\n",
       "<table border=\"1\" class=\"dataframe\">\n",
       "  <thead>\n",
       "    <tr style=\"text-align: right;\">\n",
       "      <th></th>\n",
       "      <th>availability</th>\n",
       "      <th>location</th>\n",
       "      <th>size</th>\n",
       "      <th>society</th>\n",
       "      <th>total_sqft</th>\n",
       "      <th>bath</th>\n",
       "      <th>balcony</th>\n",
       "      <th>price</th>\n",
       "      <th>area_type_Carpet  Area</th>\n",
       "      <th>area_type_Plot  Area</th>\n",
       "      <th>area_type_Super built-up  Area</th>\n",
       "      <th>bhk</th>\n",
       "      <th>price_per_sqft</th>\n",
       "    </tr>\n",
       "  </thead>\n",
       "  <tbody>\n",
       "    <tr>\n",
       "      <th>1637</th>\n",
       "      <td>80</td>\n",
       "      <td>Chikkabanavar</td>\n",
       "      <td>4 Bedroom</td>\n",
       "      <td>806</td>\n",
       "      <td>2460.0</td>\n",
       "      <td>7.0</td>\n",
       "      <td>2.0</td>\n",
       "      <td>80.0</td>\n",
       "      <td>False</td>\n",
       "      <td>False</td>\n",
       "      <td>False</td>\n",
       "      <td>4</td>\n",
       "      <td>3252.032520</td>\n",
       "    </tr>\n",
       "    <tr>\n",
       "      <th>5274</th>\n",
       "      <td>80</td>\n",
       "      <td>Nagasandra</td>\n",
       "      <td>4 Bedroom</td>\n",
       "      <td>806</td>\n",
       "      <td>7000.0</td>\n",
       "      <td>8.0</td>\n",
       "      <td>2.0</td>\n",
       "      <td>450.0</td>\n",
       "      <td>False</td>\n",
       "      <td>False</td>\n",
       "      <td>False</td>\n",
       "      <td>4</td>\n",
       "      <td>6428.571429</td>\n",
       "    </tr>\n",
       "    <tr>\n",
       "      <th>6759</th>\n",
       "      <td>80</td>\n",
       "      <td>Thanisandra</td>\n",
       "      <td>3 BHK</td>\n",
       "      <td>2199</td>\n",
       "      <td>1806.0</td>\n",
       "      <td>6.0</td>\n",
       "      <td>2.0</td>\n",
       "      <td>116.0</td>\n",
       "      <td>False</td>\n",
       "      <td>False</td>\n",
       "      <td>True</td>\n",
       "      <td>3</td>\n",
       "      <td>6423.034330</td>\n",
       "    </tr>\n",
       "    <tr>\n",
       "      <th>8465</th>\n",
       "      <td>80</td>\n",
       "      <td>other</td>\n",
       "      <td>6 BHK</td>\n",
       "      <td>1621</td>\n",
       "      <td>11338.0</td>\n",
       "      <td>9.0</td>\n",
       "      <td>1.0</td>\n",
       "      <td>1000.0</td>\n",
       "      <td>False</td>\n",
       "      <td>False</td>\n",
       "      <td>True</td>\n",
       "      <td>6</td>\n",
       "      <td>8819.897689</td>\n",
       "    </tr>\n",
       "  </tbody>\n",
       "</table>\n",
       "</div>"
      ],
      "text/plain": [
       "      availability       location       size  society  total_sqft  bath  \\\n",
       "1637            80  Chikkabanavar  4 Bedroom      806      2460.0   7.0   \n",
       "5274            80     Nagasandra  4 Bedroom      806      7000.0   8.0   \n",
       "6759            80    Thanisandra      3 BHK     2199      1806.0   6.0   \n",
       "8465            80          other      6 BHK     1621     11338.0   9.0   \n",
       "\n",
       "      balcony   price  area_type_Carpet  Area  area_type_Plot  Area  \\\n",
       "1637      2.0    80.0                   False                 False   \n",
       "5274      2.0   450.0                   False                 False   \n",
       "6759      2.0   116.0                   False                 False   \n",
       "8465      1.0  1000.0                   False                 False   \n",
       "\n",
       "      area_type_Super built-up  Area  bhk  price_per_sqft  \n",
       "1637                           False    4     3252.032520  \n",
       "5274                           False    4     6428.571429  \n",
       "6759                            True    3     6423.034330  \n",
       "8465                            True    6     8819.897689  "
      ]
     },
     "execution_count": 44,
     "metadata": {},
     "output_type": "execute_result"
    }
   ],
   "source": [
    "df[df.bath>df.bhk+2]"
   ]
  },
  {
   "cell_type": "code",
   "execution_count": 45,
   "id": "03f5d680",
   "metadata": {
    "execution": {
     "iopub.execute_input": "2023-12-18T08:46:31.621813Z",
     "iopub.status.busy": "2023-12-18T08:46:31.620890Z",
     "iopub.status.idle": "2023-12-18T08:46:31.630791Z",
     "shell.execute_reply": "2023-12-18T08:46:31.629810Z"
    },
    "papermill": {
     "duration": 0.037649,
     "end_time": "2023-12-18T08:46:31.632908",
     "exception": false,
     "start_time": "2023-12-18T08:46:31.595259",
     "status": "completed"
    },
    "tags": []
   },
   "outputs": [
    {
     "data": {
      "text/plain": [
       "(7269, 13)"
      ]
     },
     "execution_count": 45,
     "metadata": {},
     "output_type": "execute_result"
    }
   ],
   "source": [
    "df = df[df.bath<df.bhk+2]\n",
    "df.shape"
   ]
  },
  {
   "cell_type": "code",
   "execution_count": 46,
   "id": "c9e4a30e",
   "metadata": {
    "execution": {
     "iopub.execute_input": "2023-12-18T08:46:31.684052Z",
     "iopub.status.busy": "2023-12-18T08:46:31.683169Z",
     "iopub.status.idle": "2023-12-18T08:46:31.701653Z",
     "shell.execute_reply": "2023-12-18T08:46:31.700486Z"
    },
    "papermill": {
     "duration": 0.047413,
     "end_time": "2023-12-18T08:46:31.704461",
     "exception": false,
     "start_time": "2023-12-18T08:46:31.657048",
     "status": "completed"
    },
    "tags": []
   },
   "outputs": [
    {
     "data": {
      "text/html": [
       "<div>\n",
       "<style scoped>\n",
       "    .dataframe tbody tr th:only-of-type {\n",
       "        vertical-align: middle;\n",
       "    }\n",
       "\n",
       "    .dataframe tbody tr th {\n",
       "        vertical-align: top;\n",
       "    }\n",
       "\n",
       "    .dataframe thead th {\n",
       "        text-align: right;\n",
       "    }\n",
       "</style>\n",
       "<table border=\"1\" class=\"dataframe\">\n",
       "  <thead>\n",
       "    <tr style=\"text-align: right;\">\n",
       "      <th></th>\n",
       "      <th>availability</th>\n",
       "      <th>location</th>\n",
       "      <th>size</th>\n",
       "      <th>society</th>\n",
       "      <th>total_sqft</th>\n",
       "      <th>bath</th>\n",
       "      <th>balcony</th>\n",
       "      <th>price</th>\n",
       "      <th>area_type_Carpet  Area</th>\n",
       "      <th>area_type_Plot  Area</th>\n",
       "      <th>area_type_Super built-up  Area</th>\n",
       "      <th>bhk</th>\n",
       "      <th>price_per_sqft</th>\n",
       "    </tr>\n",
       "  </thead>\n",
       "  <tbody>\n",
       "    <tr>\n",
       "      <th>0</th>\n",
       "      <td>58</td>\n",
       "      <td>1st Block Jayanagar</td>\n",
       "      <td>4 BHK</td>\n",
       "      <td>806</td>\n",
       "      <td>2850.0</td>\n",
       "      <td>4.0</td>\n",
       "      <td>1.0</td>\n",
       "      <td>428.0</td>\n",
       "      <td>False</td>\n",
       "      <td>False</td>\n",
       "      <td>True</td>\n",
       "      <td>4</td>\n",
       "      <td>15017.543860</td>\n",
       "    </tr>\n",
       "    <tr>\n",
       "      <th>1</th>\n",
       "      <td>32</td>\n",
       "      <td>1st Block Jayanagar</td>\n",
       "      <td>3 BHK</td>\n",
       "      <td>806</td>\n",
       "      <td>1630.0</td>\n",
       "      <td>3.0</td>\n",
       "      <td>2.0</td>\n",
       "      <td>194.0</td>\n",
       "      <td>False</td>\n",
       "      <td>False</td>\n",
       "      <td>True</td>\n",
       "      <td>3</td>\n",
       "      <td>11901.840491</td>\n",
       "    </tr>\n",
       "  </tbody>\n",
       "</table>\n",
       "</div>"
      ],
      "text/plain": [
       "   availability             location   size  society  total_sqft  bath  \\\n",
       "0            58  1st Block Jayanagar  4 BHK      806      2850.0   4.0   \n",
       "1            32  1st Block Jayanagar  3 BHK      806      1630.0   3.0   \n",
       "\n",
       "   balcony  price  area_type_Carpet  Area  area_type_Plot  Area  \\\n",
       "0      1.0  428.0                   False                 False   \n",
       "1      2.0  194.0                   False                 False   \n",
       "\n",
       "   area_type_Super built-up  Area  bhk  price_per_sqft  \n",
       "0                            True    4    15017.543860  \n",
       "1                            True    3    11901.840491  "
      ]
     },
     "execution_count": 46,
     "metadata": {},
     "output_type": "execute_result"
    }
   ],
   "source": [
    "df.head(2)"
   ]
  },
  {
   "cell_type": "code",
   "execution_count": 47,
   "id": "a3faa48b",
   "metadata": {
    "execution": {
     "iopub.execute_input": "2023-12-18T08:46:31.759374Z",
     "iopub.status.busy": "2023-12-18T08:46:31.758426Z",
     "iopub.status.idle": "2023-12-18T08:46:31.780991Z",
     "shell.execute_reply": "2023-12-18T08:46:31.779884Z"
    },
    "papermill": {
     "duration": 0.050786,
     "end_time": "2023-12-18T08:46:31.783228",
     "exception": false,
     "start_time": "2023-12-18T08:46:31.732442",
     "status": "completed"
    },
    "scrolled": true,
    "tags": []
   },
   "outputs": [
    {
     "data": {
      "text/html": [
       "<div>\n",
       "<style scoped>\n",
       "    .dataframe tbody tr th:only-of-type {\n",
       "        vertical-align: middle;\n",
       "    }\n",
       "\n",
       "    .dataframe tbody tr th {\n",
       "        vertical-align: top;\n",
       "    }\n",
       "\n",
       "    .dataframe thead th {\n",
       "        text-align: right;\n",
       "    }\n",
       "</style>\n",
       "<table border=\"1\" class=\"dataframe\">\n",
       "  <thead>\n",
       "    <tr style=\"text-align: right;\">\n",
       "      <th></th>\n",
       "      <th>availability</th>\n",
       "      <th>location</th>\n",
       "      <th>society</th>\n",
       "      <th>total_sqft</th>\n",
       "      <th>bath</th>\n",
       "      <th>balcony</th>\n",
       "      <th>price</th>\n",
       "      <th>area_type_Carpet  Area</th>\n",
       "      <th>area_type_Plot  Area</th>\n",
       "      <th>area_type_Super built-up  Area</th>\n",
       "      <th>bhk</th>\n",
       "    </tr>\n",
       "  </thead>\n",
       "  <tbody>\n",
       "    <tr>\n",
       "      <th>0</th>\n",
       "      <td>58</td>\n",
       "      <td>1st Block Jayanagar</td>\n",
       "      <td>806</td>\n",
       "      <td>2850.0</td>\n",
       "      <td>4.0</td>\n",
       "      <td>1.0</td>\n",
       "      <td>428.0</td>\n",
       "      <td>False</td>\n",
       "      <td>False</td>\n",
       "      <td>True</td>\n",
       "      <td>4</td>\n",
       "    </tr>\n",
       "    <tr>\n",
       "      <th>1</th>\n",
       "      <td>32</td>\n",
       "      <td>1st Block Jayanagar</td>\n",
       "      <td>806</td>\n",
       "      <td>1630.0</td>\n",
       "      <td>3.0</td>\n",
       "      <td>2.0</td>\n",
       "      <td>194.0</td>\n",
       "      <td>False</td>\n",
       "      <td>False</td>\n",
       "      <td>True</td>\n",
       "      <td>3</td>\n",
       "    </tr>\n",
       "    <tr>\n",
       "      <th>2</th>\n",
       "      <td>80</td>\n",
       "      <td>1st Block Jayanagar</td>\n",
       "      <td>806</td>\n",
       "      <td>1875.0</td>\n",
       "      <td>2.0</td>\n",
       "      <td>3.0</td>\n",
       "      <td>235.0</td>\n",
       "      <td>False</td>\n",
       "      <td>False</td>\n",
       "      <td>True</td>\n",
       "      <td>3</td>\n",
       "    </tr>\n",
       "  </tbody>\n",
       "</table>\n",
       "</div>"
      ],
      "text/plain": [
       "   availability             location  society  total_sqft  bath  balcony  \\\n",
       "0            58  1st Block Jayanagar      806      2850.0   4.0      1.0   \n",
       "1            32  1st Block Jayanagar      806      1630.0   3.0      2.0   \n",
       "2            80  1st Block Jayanagar      806      1875.0   2.0      3.0   \n",
       "\n",
       "   price  area_type_Carpet  Area  area_type_Plot  Area  \\\n",
       "0  428.0                   False                 False   \n",
       "1  194.0                   False                 False   \n",
       "2  235.0                   False                 False   \n",
       "\n",
       "   area_type_Super built-up  Area  bhk  \n",
       "0                            True    4  \n",
       "1                            True    3  \n",
       "2                            True    3  "
      ]
     },
     "execution_count": 47,
     "metadata": {},
     "output_type": "execute_result"
    }
   ],
   "source": [
    "df = df.drop(['size','price_per_sqft'],axis='columns')\n",
    "df.head(3)"
   ]
  },
  {
   "cell_type": "code",
   "execution_count": 48,
   "id": "04365453",
   "metadata": {
    "execution": {
     "iopub.execute_input": "2023-12-18T08:46:31.833674Z",
     "iopub.status.busy": "2023-12-18T08:46:31.833288Z",
     "iopub.status.idle": "2023-12-18T08:46:31.868078Z",
     "shell.execute_reply": "2023-12-18T08:46:31.866971Z"
    },
    "papermill": {
     "duration": 0.062815,
     "end_time": "2023-12-18T08:46:31.870522",
     "exception": false,
     "start_time": "2023-12-18T08:46:31.807707",
     "status": "completed"
    },
    "tags": []
   },
   "outputs": [
    {
     "data": {
      "text/html": [
       "<div>\n",
       "<style scoped>\n",
       "    .dataframe tbody tr th:only-of-type {\n",
       "        vertical-align: middle;\n",
       "    }\n",
       "\n",
       "    .dataframe tbody tr th {\n",
       "        vertical-align: top;\n",
       "    }\n",
       "\n",
       "    .dataframe thead th {\n",
       "        text-align: right;\n",
       "    }\n",
       "</style>\n",
       "<table border=\"1\" class=\"dataframe\">\n",
       "  <thead>\n",
       "    <tr style=\"text-align: right;\">\n",
       "      <th></th>\n",
       "      <th>1st Block Jayanagar</th>\n",
       "      <th>1st Phase JP Nagar</th>\n",
       "      <th>2nd Phase Judicial Layout</th>\n",
       "      <th>2nd Stage Nagarbhavi</th>\n",
       "      <th>5th Block Hbr Layout</th>\n",
       "      <th>5th Phase JP Nagar</th>\n",
       "      <th>6th Phase JP Nagar</th>\n",
       "      <th>7th Phase JP Nagar</th>\n",
       "      <th>8th Phase JP Nagar</th>\n",
       "      <th>9th Phase JP Nagar</th>\n",
       "      <th>...</th>\n",
       "      <th>Vishveshwarya Layout</th>\n",
       "      <th>Vishwapriya Layout</th>\n",
       "      <th>Vittasandra</th>\n",
       "      <th>Whitefield</th>\n",
       "      <th>Yelachenahalli</th>\n",
       "      <th>Yelahanka</th>\n",
       "      <th>Yelahanka New Town</th>\n",
       "      <th>Yelenahalli</th>\n",
       "      <th>Yeshwanthpur</th>\n",
       "      <th>other</th>\n",
       "    </tr>\n",
       "  </thead>\n",
       "  <tbody>\n",
       "    <tr>\n",
       "      <th>0</th>\n",
       "      <td>True</td>\n",
       "      <td>False</td>\n",
       "      <td>False</td>\n",
       "      <td>False</td>\n",
       "      <td>False</td>\n",
       "      <td>False</td>\n",
       "      <td>False</td>\n",
       "      <td>False</td>\n",
       "      <td>False</td>\n",
       "      <td>False</td>\n",
       "      <td>...</td>\n",
       "      <td>False</td>\n",
       "      <td>False</td>\n",
       "      <td>False</td>\n",
       "      <td>False</td>\n",
       "      <td>False</td>\n",
       "      <td>False</td>\n",
       "      <td>False</td>\n",
       "      <td>False</td>\n",
       "      <td>False</td>\n",
       "      <td>False</td>\n",
       "    </tr>\n",
       "    <tr>\n",
       "      <th>1</th>\n",
       "      <td>True</td>\n",
       "      <td>False</td>\n",
       "      <td>False</td>\n",
       "      <td>False</td>\n",
       "      <td>False</td>\n",
       "      <td>False</td>\n",
       "      <td>False</td>\n",
       "      <td>False</td>\n",
       "      <td>False</td>\n",
       "      <td>False</td>\n",
       "      <td>...</td>\n",
       "      <td>False</td>\n",
       "      <td>False</td>\n",
       "      <td>False</td>\n",
       "      <td>False</td>\n",
       "      <td>False</td>\n",
       "      <td>False</td>\n",
       "      <td>False</td>\n",
       "      <td>False</td>\n",
       "      <td>False</td>\n",
       "      <td>False</td>\n",
       "    </tr>\n",
       "    <tr>\n",
       "      <th>2</th>\n",
       "      <td>True</td>\n",
       "      <td>False</td>\n",
       "      <td>False</td>\n",
       "      <td>False</td>\n",
       "      <td>False</td>\n",
       "      <td>False</td>\n",
       "      <td>False</td>\n",
       "      <td>False</td>\n",
       "      <td>False</td>\n",
       "      <td>False</td>\n",
       "      <td>...</td>\n",
       "      <td>False</td>\n",
       "      <td>False</td>\n",
       "      <td>False</td>\n",
       "      <td>False</td>\n",
       "      <td>False</td>\n",
       "      <td>False</td>\n",
       "      <td>False</td>\n",
       "      <td>False</td>\n",
       "      <td>False</td>\n",
       "      <td>False</td>\n",
       "    </tr>\n",
       "  </tbody>\n",
       "</table>\n",
       "<p>3 rows × 241 columns</p>\n",
       "</div>"
      ],
      "text/plain": [
       "   1st Block Jayanagar  1st Phase JP Nagar  2nd Phase Judicial Layout  \\\n",
       "0                 True               False                      False   \n",
       "1                 True               False                      False   \n",
       "2                 True               False                      False   \n",
       "\n",
       "   2nd Stage Nagarbhavi  5th Block Hbr Layout  5th Phase JP Nagar  \\\n",
       "0                 False                 False               False   \n",
       "1                 False                 False               False   \n",
       "2                 False                 False               False   \n",
       "\n",
       "   6th Phase JP Nagar  7th Phase JP Nagar  8th Phase JP Nagar  \\\n",
       "0               False               False               False   \n",
       "1               False               False               False   \n",
       "2               False               False               False   \n",
       "\n",
       "   9th Phase JP Nagar  ...  Vishveshwarya Layout  Vishwapriya Layout  \\\n",
       "0               False  ...                 False               False   \n",
       "1               False  ...                 False               False   \n",
       "2               False  ...                 False               False   \n",
       "\n",
       "   Vittasandra  Whitefield  Yelachenahalli  Yelahanka  Yelahanka New Town  \\\n",
       "0        False       False           False      False               False   \n",
       "1        False       False           False      False               False   \n",
       "2        False       False           False      False               False   \n",
       "\n",
       "   Yelenahalli  Yeshwanthpur  other  \n",
       "0        False         False  False  \n",
       "1        False         False  False  \n",
       "2        False         False  False  \n",
       "\n",
       "[3 rows x 241 columns]"
      ]
     },
     "execution_count": 48,
     "metadata": {},
     "output_type": "execute_result"
    }
   ],
   "source": [
    "dummies = pd.get_dummies(df.location)\n",
    "dummies.head(3)"
   ]
  },
  {
   "cell_type": "code",
   "execution_count": 49,
   "id": "1aaad46c",
   "metadata": {
    "execution": {
     "iopub.execute_input": "2023-12-18T08:46:31.924414Z",
     "iopub.status.busy": "2023-12-18T08:46:31.922987Z",
     "iopub.status.idle": "2023-12-18T08:46:31.951305Z",
     "shell.execute_reply": "2023-12-18T08:46:31.950194Z"
    },
    "papermill": {
     "duration": 0.05848,
     "end_time": "2023-12-18T08:46:31.953842",
     "exception": false,
     "start_time": "2023-12-18T08:46:31.895362",
     "status": "completed"
    },
    "tags": []
   },
   "outputs": [
    {
     "data": {
      "text/html": [
       "<div>\n",
       "<style scoped>\n",
       "    .dataframe tbody tr th:only-of-type {\n",
       "        vertical-align: middle;\n",
       "    }\n",
       "\n",
       "    .dataframe tbody tr th {\n",
       "        vertical-align: top;\n",
       "    }\n",
       "\n",
       "    .dataframe thead th {\n",
       "        text-align: right;\n",
       "    }\n",
       "</style>\n",
       "<table border=\"1\" class=\"dataframe\">\n",
       "  <thead>\n",
       "    <tr style=\"text-align: right;\">\n",
       "      <th></th>\n",
       "      <th>availability</th>\n",
       "      <th>location</th>\n",
       "      <th>society</th>\n",
       "      <th>total_sqft</th>\n",
       "      <th>bath</th>\n",
       "      <th>balcony</th>\n",
       "      <th>price</th>\n",
       "      <th>area_type_Carpet  Area</th>\n",
       "      <th>area_type_Plot  Area</th>\n",
       "      <th>area_type_Super built-up  Area</th>\n",
       "      <th>...</th>\n",
       "      <th>Vijayanagar</th>\n",
       "      <th>Vishveshwarya Layout</th>\n",
       "      <th>Vishwapriya Layout</th>\n",
       "      <th>Vittasandra</th>\n",
       "      <th>Whitefield</th>\n",
       "      <th>Yelachenahalli</th>\n",
       "      <th>Yelahanka</th>\n",
       "      <th>Yelahanka New Town</th>\n",
       "      <th>Yelenahalli</th>\n",
       "      <th>Yeshwanthpur</th>\n",
       "    </tr>\n",
       "  </thead>\n",
       "  <tbody>\n",
       "    <tr>\n",
       "      <th>0</th>\n",
       "      <td>58</td>\n",
       "      <td>1st Block Jayanagar</td>\n",
       "      <td>806</td>\n",
       "      <td>2850.0</td>\n",
       "      <td>4.0</td>\n",
       "      <td>1.0</td>\n",
       "      <td>428.0</td>\n",
       "      <td>False</td>\n",
       "      <td>False</td>\n",
       "      <td>True</td>\n",
       "      <td>...</td>\n",
       "      <td>False</td>\n",
       "      <td>False</td>\n",
       "      <td>False</td>\n",
       "      <td>False</td>\n",
       "      <td>False</td>\n",
       "      <td>False</td>\n",
       "      <td>False</td>\n",
       "      <td>False</td>\n",
       "      <td>False</td>\n",
       "      <td>False</td>\n",
       "    </tr>\n",
       "    <tr>\n",
       "      <th>1</th>\n",
       "      <td>32</td>\n",
       "      <td>1st Block Jayanagar</td>\n",
       "      <td>806</td>\n",
       "      <td>1630.0</td>\n",
       "      <td>3.0</td>\n",
       "      <td>2.0</td>\n",
       "      <td>194.0</td>\n",
       "      <td>False</td>\n",
       "      <td>False</td>\n",
       "      <td>True</td>\n",
       "      <td>...</td>\n",
       "      <td>False</td>\n",
       "      <td>False</td>\n",
       "      <td>False</td>\n",
       "      <td>False</td>\n",
       "      <td>False</td>\n",
       "      <td>False</td>\n",
       "      <td>False</td>\n",
       "      <td>False</td>\n",
       "      <td>False</td>\n",
       "      <td>False</td>\n",
       "    </tr>\n",
       "    <tr>\n",
       "      <th>2</th>\n",
       "      <td>80</td>\n",
       "      <td>1st Block Jayanagar</td>\n",
       "      <td>806</td>\n",
       "      <td>1875.0</td>\n",
       "      <td>2.0</td>\n",
       "      <td>3.0</td>\n",
       "      <td>235.0</td>\n",
       "      <td>False</td>\n",
       "      <td>False</td>\n",
       "      <td>True</td>\n",
       "      <td>...</td>\n",
       "      <td>False</td>\n",
       "      <td>False</td>\n",
       "      <td>False</td>\n",
       "      <td>False</td>\n",
       "      <td>False</td>\n",
       "      <td>False</td>\n",
       "      <td>False</td>\n",
       "      <td>False</td>\n",
       "      <td>False</td>\n",
       "      <td>False</td>\n",
       "    </tr>\n",
       "    <tr>\n",
       "      <th>3</th>\n",
       "      <td>3</td>\n",
       "      <td>1st Block Jayanagar</td>\n",
       "      <td>312</td>\n",
       "      <td>1200.0</td>\n",
       "      <td>2.0</td>\n",
       "      <td>0.0</td>\n",
       "      <td>130.0</td>\n",
       "      <td>False</td>\n",
       "      <td>False</td>\n",
       "      <td>False</td>\n",
       "      <td>...</td>\n",
       "      <td>False</td>\n",
       "      <td>False</td>\n",
       "      <td>False</td>\n",
       "      <td>False</td>\n",
       "      <td>False</td>\n",
       "      <td>False</td>\n",
       "      <td>False</td>\n",
       "      <td>False</td>\n",
       "      <td>False</td>\n",
       "      <td>False</td>\n",
       "    </tr>\n",
       "    <tr>\n",
       "      <th>4</th>\n",
       "      <td>32</td>\n",
       "      <td>1st Block Jayanagar</td>\n",
       "      <td>806</td>\n",
       "      <td>1235.0</td>\n",
       "      <td>2.0</td>\n",
       "      <td>2.0</td>\n",
       "      <td>148.0</td>\n",
       "      <td>False</td>\n",
       "      <td>False</td>\n",
       "      <td>True</td>\n",
       "      <td>...</td>\n",
       "      <td>False</td>\n",
       "      <td>False</td>\n",
       "      <td>False</td>\n",
       "      <td>False</td>\n",
       "      <td>False</td>\n",
       "      <td>False</td>\n",
       "      <td>False</td>\n",
       "      <td>False</td>\n",
       "      <td>False</td>\n",
       "      <td>False</td>\n",
       "    </tr>\n",
       "  </tbody>\n",
       "</table>\n",
       "<p>5 rows × 251 columns</p>\n",
       "</div>"
      ],
      "text/plain": [
       "   availability             location  society  total_sqft  bath  balcony  \\\n",
       "0            58  1st Block Jayanagar      806      2850.0   4.0      1.0   \n",
       "1            32  1st Block Jayanagar      806      1630.0   3.0      2.0   \n",
       "2            80  1st Block Jayanagar      806      1875.0   2.0      3.0   \n",
       "3             3  1st Block Jayanagar      312      1200.0   2.0      0.0   \n",
       "4            32  1st Block Jayanagar      806      1235.0   2.0      2.0   \n",
       "\n",
       "   price  area_type_Carpet  Area  area_type_Plot  Area  \\\n",
       "0  428.0                   False                 False   \n",
       "1  194.0                   False                 False   \n",
       "2  235.0                   False                 False   \n",
       "3  130.0                   False                 False   \n",
       "4  148.0                   False                 False   \n",
       "\n",
       "   area_type_Super built-up  Area  ...  Vijayanagar  Vishveshwarya Layout  \\\n",
       "0                            True  ...        False                 False   \n",
       "1                            True  ...        False                 False   \n",
       "2                            True  ...        False                 False   \n",
       "3                           False  ...        False                 False   \n",
       "4                            True  ...        False                 False   \n",
       "\n",
       "   Vishwapriya Layout  Vittasandra  Whitefield  Yelachenahalli  Yelahanka  \\\n",
       "0               False        False       False           False      False   \n",
       "1               False        False       False           False      False   \n",
       "2               False        False       False           False      False   \n",
       "3               False        False       False           False      False   \n",
       "4               False        False       False           False      False   \n",
       "\n",
       "   Yelahanka New Town  Yelenahalli  Yeshwanthpur  \n",
       "0               False        False         False  \n",
       "1               False        False         False  \n",
       "2               False        False         False  \n",
       "3               False        False         False  \n",
       "4               False        False         False  \n",
       "\n",
       "[5 rows x 251 columns]"
      ]
     },
     "execution_count": 49,
     "metadata": {},
     "output_type": "execute_result"
    }
   ],
   "source": [
    "df = pd.concat([df,dummies.drop('other',axis='columns')],axis='columns')\n",
    "df.head()"
   ]
  },
  {
   "cell_type": "code",
   "execution_count": 50,
   "id": "74e38d9d",
   "metadata": {
    "execution": {
     "iopub.execute_input": "2023-12-18T08:46:32.007888Z",
     "iopub.status.busy": "2023-12-18T08:46:32.006708Z",
     "iopub.status.idle": "2023-12-18T08:46:32.032312Z",
     "shell.execute_reply": "2023-12-18T08:46:32.031084Z"
    },
    "papermill": {
     "duration": 0.055587,
     "end_time": "2023-12-18T08:46:32.034830",
     "exception": false,
     "start_time": "2023-12-18T08:46:31.979243",
     "status": "completed"
    },
    "tags": []
   },
   "outputs": [
    {
     "data": {
      "text/html": [
       "<div>\n",
       "<style scoped>\n",
       "    .dataframe tbody tr th:only-of-type {\n",
       "        vertical-align: middle;\n",
       "    }\n",
       "\n",
       "    .dataframe tbody tr th {\n",
       "        vertical-align: top;\n",
       "    }\n",
       "\n",
       "    .dataframe thead th {\n",
       "        text-align: right;\n",
       "    }\n",
       "</style>\n",
       "<table border=\"1\" class=\"dataframe\">\n",
       "  <thead>\n",
       "    <tr style=\"text-align: right;\">\n",
       "      <th></th>\n",
       "      <th>availability</th>\n",
       "      <th>society</th>\n",
       "      <th>total_sqft</th>\n",
       "      <th>bath</th>\n",
       "      <th>balcony</th>\n",
       "      <th>price</th>\n",
       "      <th>area_type_Carpet  Area</th>\n",
       "      <th>area_type_Plot  Area</th>\n",
       "      <th>area_type_Super built-up  Area</th>\n",
       "      <th>bhk</th>\n",
       "      <th>...</th>\n",
       "      <th>Vijayanagar</th>\n",
       "      <th>Vishveshwarya Layout</th>\n",
       "      <th>Vishwapriya Layout</th>\n",
       "      <th>Vittasandra</th>\n",
       "      <th>Whitefield</th>\n",
       "      <th>Yelachenahalli</th>\n",
       "      <th>Yelahanka</th>\n",
       "      <th>Yelahanka New Town</th>\n",
       "      <th>Yelenahalli</th>\n",
       "      <th>Yeshwanthpur</th>\n",
       "    </tr>\n",
       "  </thead>\n",
       "  <tbody>\n",
       "    <tr>\n",
       "      <th>0</th>\n",
       "      <td>58</td>\n",
       "      <td>806</td>\n",
       "      <td>2850.0</td>\n",
       "      <td>4.0</td>\n",
       "      <td>1.0</td>\n",
       "      <td>428.0</td>\n",
       "      <td>False</td>\n",
       "      <td>False</td>\n",
       "      <td>True</td>\n",
       "      <td>4</td>\n",
       "      <td>...</td>\n",
       "      <td>False</td>\n",
       "      <td>False</td>\n",
       "      <td>False</td>\n",
       "      <td>False</td>\n",
       "      <td>False</td>\n",
       "      <td>False</td>\n",
       "      <td>False</td>\n",
       "      <td>False</td>\n",
       "      <td>False</td>\n",
       "      <td>False</td>\n",
       "    </tr>\n",
       "    <tr>\n",
       "      <th>1</th>\n",
       "      <td>32</td>\n",
       "      <td>806</td>\n",
       "      <td>1630.0</td>\n",
       "      <td>3.0</td>\n",
       "      <td>2.0</td>\n",
       "      <td>194.0</td>\n",
       "      <td>False</td>\n",
       "      <td>False</td>\n",
       "      <td>True</td>\n",
       "      <td>3</td>\n",
       "      <td>...</td>\n",
       "      <td>False</td>\n",
       "      <td>False</td>\n",
       "      <td>False</td>\n",
       "      <td>False</td>\n",
       "      <td>False</td>\n",
       "      <td>False</td>\n",
       "      <td>False</td>\n",
       "      <td>False</td>\n",
       "      <td>False</td>\n",
       "      <td>False</td>\n",
       "    </tr>\n",
       "  </tbody>\n",
       "</table>\n",
       "<p>2 rows × 250 columns</p>\n",
       "</div>"
      ],
      "text/plain": [
       "   availability  society  total_sqft  bath  balcony  price  \\\n",
       "0            58      806      2850.0   4.0      1.0  428.0   \n",
       "1            32      806      1630.0   3.0      2.0  194.0   \n",
       "\n",
       "   area_type_Carpet  Area  area_type_Plot  Area  \\\n",
       "0                   False                 False   \n",
       "1                   False                 False   \n",
       "\n",
       "   area_type_Super built-up  Area  bhk  ...  Vijayanagar  \\\n",
       "0                            True    4  ...        False   \n",
       "1                            True    3  ...        False   \n",
       "\n",
       "   Vishveshwarya Layout  Vishwapriya Layout  Vittasandra  Whitefield  \\\n",
       "0                 False               False        False       False   \n",
       "1                 False               False        False       False   \n",
       "\n",
       "   Yelachenahalli  Yelahanka  Yelahanka New Town  Yelenahalli  Yeshwanthpur  \n",
       "0           False      False               False        False         False  \n",
       "1           False      False               False        False         False  \n",
       "\n",
       "[2 rows x 250 columns]"
      ]
     },
     "execution_count": 50,
     "metadata": {},
     "output_type": "execute_result"
    }
   ],
   "source": [
    "df = df.drop('location',axis='columns')\n",
    "df.head(2)"
   ]
  },
  {
   "cell_type": "code",
   "execution_count": 51,
   "id": "f1efc78e",
   "metadata": {
    "execution": {
     "iopub.execute_input": "2023-12-18T08:46:32.091671Z",
     "iopub.status.busy": "2023-12-18T08:46:32.090624Z",
     "iopub.status.idle": "2023-12-18T08:46:32.189500Z",
     "shell.execute_reply": "2023-12-18T08:46:32.188373Z"
    },
    "papermill": {
     "duration": 0.130868,
     "end_time": "2023-12-18T08:46:32.191892",
     "exception": false,
     "start_time": "2023-12-18T08:46:32.061024",
     "status": "completed"
    },
    "tags": []
   },
   "outputs": [
    {
     "data": {
      "text/plain": [
       "area_type_Super built-up  Area   -0.132641\n",
       "Chandapura                       -0.074900\n",
       "Uttarahalli                      -0.065556\n",
       "Electronic City Phase II         -0.064115\n",
       "Electronic City                  -0.059872\n",
       "                                    ...   \n",
       "Cunningham Road                   0.258909\n",
       "bhk                               0.572936\n",
       "bath                              0.596287\n",
       "total_sqft                        0.841437\n",
       "price                             1.000000\n",
       "Length: 250, dtype: float64"
      ]
     },
     "execution_count": 51,
     "metadata": {},
     "output_type": "execute_result"
    }
   ],
   "source": [
    "corr = df.corrwith(df['price']).sort_values()\n",
    "corr"
   ]
  },
  {
   "cell_type": "code",
   "execution_count": 52,
   "id": "0f0be6f3",
   "metadata": {
    "execution": {
     "iopub.execute_input": "2023-12-18T08:46:32.246345Z",
     "iopub.status.busy": "2023-12-18T08:46:32.245664Z",
     "iopub.status.idle": "2023-12-18T08:46:33.481367Z",
     "shell.execute_reply": "2023-12-18T08:46:33.480169Z"
    },
    "papermill": {
     "duration": 1.266478,
     "end_time": "2023-12-18T08:46:33.483927",
     "exception": false,
     "start_time": "2023-12-18T08:46:32.217449",
     "status": "completed"
    },
    "tags": []
   },
   "outputs": [],
   "source": [
    "correlation_with_target = df.corr()['price']\n",
    "\n",
    "threshold = 0.05\n",
    "negative_corr_features = correlation_with_target[correlation_with_target < threshold].index.tolist()\n",
    "\n",
    "df = df.drop(negative_corr_features, axis=1)"
   ]
  },
  {
   "cell_type": "code",
   "execution_count": 53,
   "id": "4139ea2d",
   "metadata": {
    "execution": {
     "iopub.execute_input": "2023-12-18T08:46:33.536485Z",
     "iopub.status.busy": "2023-12-18T08:46:33.535764Z",
     "iopub.status.idle": "2023-12-18T08:46:33.555328Z",
     "shell.execute_reply": "2023-12-18T08:46:33.554243Z"
    },
    "papermill": {
     "duration": 0.048786,
     "end_time": "2023-12-18T08:46:33.558007",
     "exception": false,
     "start_time": "2023-12-18T08:46:33.509221",
     "status": "completed"
    },
    "tags": []
   },
   "outputs": [
    {
     "data": {
      "text/plain": [
       "Old Airport Road         0.053451\n",
       "Sarakki Nagar            0.053935\n",
       "Hebbal                   0.054528\n",
       "Banashankari Stage II    0.056690\n",
       "Hebbal Kempapura         0.059288\n",
       "Hosakerehalli            0.060463\n",
       "1st Block Jayanagar      0.062345\n",
       "Whitefield               0.066209\n",
       "Kodihalli                0.067352\n",
       "Cooke Town               0.069661\n",
       "HAL 2nd Stage            0.070437\n",
       "Iblur Village            0.071978\n",
       "Koramangala              0.082806\n",
       "Benson Town              0.084096\n",
       "Frazer Town              0.087329\n",
       "Giri Nagar               0.107713\n",
       "Indira Nagar             0.112311\n",
       "Malleshwaram             0.144382\n",
       "Rajaji Nagar             0.197723\n",
       "area_type_Plot  Area     0.200675\n",
       "balcony                  0.211520\n",
       "Cunningham Road          0.258909\n",
       "bhk                      0.572936\n",
       "bath                     0.596287\n",
       "total_sqft               0.841437\n",
       "price                    1.000000\n",
       "dtype: float64"
      ]
     },
     "execution_count": 53,
     "metadata": {},
     "output_type": "execute_result"
    }
   ],
   "source": [
    "corr = df.corrwith(df['price']).sort_values()\n",
    "corr"
   ]
  },
  {
   "cell_type": "code",
   "execution_count": 54,
   "id": "875f4f8c",
   "metadata": {
    "execution": {
     "iopub.execute_input": "2023-12-18T08:46:33.611343Z",
     "iopub.status.busy": "2023-12-18T08:46:33.610540Z",
     "iopub.status.idle": "2023-12-18T08:46:34.050513Z",
     "shell.execute_reply": "2023-12-18T08:46:34.049256Z"
    },
    "papermill": {
     "duration": 0.469392,
     "end_time": "2023-12-18T08:46:34.052901",
     "exception": false,
     "start_time": "2023-12-18T08:46:33.583509",
     "status": "completed"
    },
    "tags": []
   },
   "outputs": [
    {
     "data": {
      "image/png": "[encoded data removed]",
      "text/plain": [
       "<Figure size 1000x600 with 1 Axes>"
      ]
     },
     "metadata": {},
     "output_type": "display_data"
    }
   ],
   "source": [
    "df.drop('price',axis=1).corrwith(df.price).plot(kind='bar',grid=True,figsize=(10,6),title=\"Correlation with price \")\n",
    "plt.show()"
   ]
  },
  {
   "cell_type": "code",
   "execution_count": 55,
   "id": "b874c9cd",
   "metadata": {
    "execution": {
     "iopub.execute_input": "2023-12-18T08:46:34.108017Z",
     "iopub.status.busy": "2023-12-18T08:46:34.107643Z",
     "iopub.status.idle": "2023-12-18T08:46:34.113949Z",
     "shell.execute_reply": "2023-12-18T08:46:34.112918Z"
    },
    "papermill": {
     "duration": 0.036597,
     "end_time": "2023-12-18T08:46:34.116139",
     "exception": false,
     "start_time": "2023-12-18T08:46:34.079542",
     "status": "completed"
    },
    "tags": []
   },
   "outputs": [
    {
     "data": {
      "text/plain": [
       "(7269, 26)"
      ]
     },
     "execution_count": 55,
     "metadata": {},
     "output_type": "execute_result"
    }
   ],
   "source": [
    "df.shape"
   ]
  },
  {
   "cell_type": "code",
   "execution_count": 56,
   "id": "4ae3aa64",
   "metadata": {
    "execution": {
     "iopub.execute_input": "2023-12-18T08:46:34.170723Z",
     "iopub.status.busy": "2023-12-18T08:46:34.170362Z",
     "iopub.status.idle": "2023-12-18T08:46:34.196744Z",
     "shell.execute_reply": "2023-12-18T08:46:34.195532Z"
    },
    "papermill": {
     "duration": 0.056521,
     "end_time": "2023-12-18T08:46:34.199034",
     "exception": false,
     "start_time": "2023-12-18T08:46:34.142513",
     "status": "completed"
    },
    "scrolled": true,
    "tags": []
   },
   "outputs": [
    {
     "data": {
      "text/html": [
       "<div>\n",
       "<style scoped>\n",
       "    .dataframe tbody tr th:only-of-type {\n",
       "        vertical-align: middle;\n",
       "    }\n",
       "\n",
       "    .dataframe tbody tr th {\n",
       "        vertical-align: top;\n",
       "    }\n",
       "\n",
       "    .dataframe thead th {\n",
       "        text-align: right;\n",
       "    }\n",
       "</style>\n",
       "<table border=\"1\" class=\"dataframe\">\n",
       "  <thead>\n",
       "    <tr style=\"text-align: right;\">\n",
       "      <th></th>\n",
       "      <th>total_sqft</th>\n",
       "      <th>bath</th>\n",
       "      <th>balcony</th>\n",
       "      <th>area_type_Plot  Area</th>\n",
       "      <th>bhk</th>\n",
       "      <th>1st Block Jayanagar</th>\n",
       "      <th>Banashankari Stage II</th>\n",
       "      <th>Benson Town</th>\n",
       "      <th>Cooke Town</th>\n",
       "      <th>Cunningham Road</th>\n",
       "      <th>...</th>\n",
       "      <th>Hosakerehalli</th>\n",
       "      <th>Iblur Village</th>\n",
       "      <th>Indira Nagar</th>\n",
       "      <th>Kodihalli</th>\n",
       "      <th>Koramangala</th>\n",
       "      <th>Malleshwaram</th>\n",
       "      <th>Old Airport Road</th>\n",
       "      <th>Rajaji Nagar</th>\n",
       "      <th>Sarakki Nagar</th>\n",
       "      <th>Whitefield</th>\n",
       "    </tr>\n",
       "  </thead>\n",
       "  <tbody>\n",
       "    <tr>\n",
       "      <th>0</th>\n",
       "      <td>2850.0</td>\n",
       "      <td>4.0</td>\n",
       "      <td>1.0</td>\n",
       "      <td>False</td>\n",
       "      <td>4</td>\n",
       "      <td>True</td>\n",
       "      <td>False</td>\n",
       "      <td>False</td>\n",
       "      <td>False</td>\n",
       "      <td>False</td>\n",
       "      <td>...</td>\n",
       "      <td>False</td>\n",
       "      <td>False</td>\n",
       "      <td>False</td>\n",
       "      <td>False</td>\n",
       "      <td>False</td>\n",
       "      <td>False</td>\n",
       "      <td>False</td>\n",
       "      <td>False</td>\n",
       "      <td>False</td>\n",
       "      <td>False</td>\n",
       "    </tr>\n",
       "    <tr>\n",
       "      <th>1</th>\n",
       "      <td>1630.0</td>\n",
       "      <td>3.0</td>\n",
       "      <td>2.0</td>\n",
       "      <td>False</td>\n",
       "      <td>3</td>\n",
       "      <td>True</td>\n",
       "      <td>False</td>\n",
       "      <td>False</td>\n",
       "      <td>False</td>\n",
       "      <td>False</td>\n",
       "      <td>...</td>\n",
       "      <td>False</td>\n",
       "      <td>False</td>\n",
       "      <td>False</td>\n",
       "      <td>False</td>\n",
       "      <td>False</td>\n",
       "      <td>False</td>\n",
       "      <td>False</td>\n",
       "      <td>False</td>\n",
       "      <td>False</td>\n",
       "      <td>False</td>\n",
       "    </tr>\n",
       "    <tr>\n",
       "      <th>2</th>\n",
       "      <td>1875.0</td>\n",
       "      <td>2.0</td>\n",
       "      <td>3.0</td>\n",
       "      <td>False</td>\n",
       "      <td>3</td>\n",
       "      <td>True</td>\n",
       "      <td>False</td>\n",
       "      <td>False</td>\n",
       "      <td>False</td>\n",
       "      <td>False</td>\n",
       "      <td>...</td>\n",
       "      <td>False</td>\n",
       "      <td>False</td>\n",
       "      <td>False</td>\n",
       "      <td>False</td>\n",
       "      <td>False</td>\n",
       "      <td>False</td>\n",
       "      <td>False</td>\n",
       "      <td>False</td>\n",
       "      <td>False</td>\n",
       "      <td>False</td>\n",
       "    </tr>\n",
       "    <tr>\n",
       "      <th>3</th>\n",
       "      <td>1200.0</td>\n",
       "      <td>2.0</td>\n",
       "      <td>0.0</td>\n",
       "      <td>False</td>\n",
       "      <td>3</td>\n",
       "      <td>True</td>\n",
       "      <td>False</td>\n",
       "      <td>False</td>\n",
       "      <td>False</td>\n",
       "      <td>False</td>\n",
       "      <td>...</td>\n",
       "      <td>False</td>\n",
       "      <td>False</td>\n",
       "      <td>False</td>\n",
       "      <td>False</td>\n",
       "      <td>False</td>\n",
       "      <td>False</td>\n",
       "      <td>False</td>\n",
       "      <td>False</td>\n",
       "      <td>False</td>\n",
       "      <td>False</td>\n",
       "    </tr>\n",
       "    <tr>\n",
       "      <th>4</th>\n",
       "      <td>1235.0</td>\n",
       "      <td>2.0</td>\n",
       "      <td>2.0</td>\n",
       "      <td>False</td>\n",
       "      <td>2</td>\n",
       "      <td>True</td>\n",
       "      <td>False</td>\n",
       "      <td>False</td>\n",
       "      <td>False</td>\n",
       "      <td>False</td>\n",
       "      <td>...</td>\n",
       "      <td>False</td>\n",
       "      <td>False</td>\n",
       "      <td>False</td>\n",
       "      <td>False</td>\n",
       "      <td>False</td>\n",
       "      <td>False</td>\n",
       "      <td>False</td>\n",
       "      <td>False</td>\n",
       "      <td>False</td>\n",
       "      <td>False</td>\n",
       "    </tr>\n",
       "  </tbody>\n",
       "</table>\n",
       "<p>5 rows × 25 columns</p>\n",
       "</div>"
      ],
      "text/plain": [
       "   total_sqft  bath  balcony  area_type_Plot  Area  bhk  1st Block Jayanagar  \\\n",
       "0      2850.0   4.0      1.0                 False    4                 True   \n",
       "1      1630.0   3.0      2.0                 False    3                 True   \n",
       "2      1875.0   2.0      3.0                 False    3                 True   \n",
       "3      1200.0   2.0      0.0                 False    3                 True   \n",
       "4      1235.0   2.0      2.0                 False    2                 True   \n",
       "\n",
       "   Banashankari Stage II  Benson Town  Cooke Town  Cunningham Road  ...  \\\n",
       "0                  False        False       False            False  ...   \n",
       "1                  False        False       False            False  ...   \n",
       "2                  False        False       False            False  ...   \n",
       "3                  False        False       False            False  ...   \n",
       "4                  False        False       False            False  ...   \n",
       "\n",
       "   Hosakerehalli  Iblur Village  Indira Nagar  Kodihalli  Koramangala  \\\n",
       "0          False          False         False      False        False   \n",
       "1          False          False         False      False        False   \n",
       "2          False          False         False      False        False   \n",
       "3          False          False         False      False        False   \n",
       "4          False          False         False      False        False   \n",
       "\n",
       "   Malleshwaram  Old Airport Road  Rajaji Nagar  Sarakki Nagar  Whitefield  \n",
       "0         False             False         False          False       False  \n",
       "1         False             False         False          False       False  \n",
       "2         False             False         False          False       False  \n",
       "3         False             False         False          False       False  \n",
       "4         False             False         False          False       False  \n",
       "\n",
       "[5 rows x 25 columns]"
      ]
     },
     "execution_count": 56,
     "metadata": {},
     "output_type": "execute_result"
    }
   ],
   "source": [
    "X = df.drop(['price'],axis='columns')\n",
    "X.head(5)"
   ]
  },
  {
   "cell_type": "code",
   "execution_count": 57,
   "id": "fc991753",
   "metadata": {
    "execution": {
     "iopub.execute_input": "2023-12-18T08:46:34.257203Z",
     "iopub.status.busy": "2023-12-18T08:46:34.256806Z",
     "iopub.status.idle": "2023-12-18T08:46:34.263414Z",
     "shell.execute_reply": "2023-12-18T08:46:34.262412Z"
    },
    "papermill": {
     "duration": 0.039397,
     "end_time": "2023-12-18T08:46:34.265758",
     "exception": false,
     "start_time": "2023-12-18T08:46:34.226361",
     "status": "completed"
    },
    "tags": []
   },
   "outputs": [
    {
     "data": {
      "text/plain": [
       "(7269, 25)"
      ]
     },
     "execution_count": 57,
     "metadata": {},
     "output_type": "execute_result"
    }
   ],
   "source": [
    "X.shape"
   ]
  },
  {
   "cell_type": "code",
   "execution_count": 58,
   "id": "7b6379e0",
   "metadata": {
    "execution": {
     "iopub.execute_input": "2023-12-18T08:46:34.323319Z",
     "iopub.status.busy": "2023-12-18T08:46:34.322929Z",
     "iopub.status.idle": "2023-12-18T08:46:34.330374Z",
     "shell.execute_reply": "2023-12-18T08:46:34.329305Z"
    },
    "papermill": {
     "duration": 0.038424,
     "end_time": "2023-12-18T08:46:34.332585",
     "exception": false,
     "start_time": "2023-12-18T08:46:34.294161",
     "status": "completed"
    },
    "scrolled": true,
    "tags": []
   },
   "outputs": [
    {
     "data": {
      "text/plain": [
       "0    428.0\n",
       "1    194.0\n",
       "2    235.0\n",
       "Name: price, dtype: float64"
      ]
     },
     "execution_count": 58,
     "metadata": {},
     "output_type": "execute_result"
    }
   ],
   "source": [
    "y = df.price\n",
    "y.head(3)"
   ]
  },
  {
   "cell_type": "code",
   "execution_count": 59,
   "id": "7dc9f2ae",
   "metadata": {
    "execution": {
     "iopub.execute_input": "2023-12-18T08:46:34.389974Z",
     "iopub.status.busy": "2023-12-18T08:46:34.388933Z",
     "iopub.status.idle": "2023-12-18T08:46:34.395552Z",
     "shell.execute_reply": "2023-12-18T08:46:34.394770Z"
    },
    "papermill": {
     "duration": 0.037607,
     "end_time": "2023-12-18T08:46:34.397642",
     "exception": false,
     "start_time": "2023-12-18T08:46:34.360035",
     "status": "completed"
    },
    "tags": []
   },
   "outputs": [
    {
     "data": {
      "text/plain": [
       "7269"
      ]
     },
     "execution_count": 59,
     "metadata": {},
     "output_type": "execute_result"
    }
   ],
   "source": [
    "len(y)"
   ]
  },
  {
   "cell_type": "code",
   "execution_count": 60,
   "id": "218db77b",
   "metadata": {
    "execution": {
     "iopub.execute_input": "2023-12-18T08:46:34.454313Z",
     "iopub.status.busy": "2023-12-18T08:46:34.453905Z",
     "iopub.status.idle": "2023-12-18T08:46:40.404905Z",
     "shell.execute_reply": "2023-12-18T08:46:40.403680Z"
    },
    "papermill": {
     "duration": 5.982106,
     "end_time": "2023-12-18T08:46:40.407584",
     "exception": false,
     "start_time": "2023-12-18T08:46:34.425478",
     "status": "completed"
    },
    "tags": []
   },
   "outputs": [
    {
     "data": {
      "text/plain": [
       "array([[<Axes: title={'center': '0'}>, <Axes: title={'center': '1'}>,\n",
       "        <Axes: title={'center': '2'}>, <Axes: title={'center': '3'}>,\n",
       "        <Axes: title={'center': '4'}>],\n",
       "       [<Axes: title={'center': '5'}>, <Axes: title={'center': '6'}>,\n",
       "        <Axes: title={'center': '7'}>, <Axes: title={'center': '8'}>,\n",
       "        <Axes: title={'center': '9'}>],\n",
       "       [<Axes: title={'center': '10'}>, <Axes: title={'center': '11'}>,\n",
       "        <Axes: title={'center': '12'}>, <Axes: title={'center': '13'}>,\n",
       "        <Axes: title={'center': '14'}>],\n",
       "       [<Axes: title={'center': '15'}>, <Axes: title={'center': '16'}>,\n",
       "        <Axes: title={'center': '17'}>, <Axes: title={'center': '18'}>,\n",
       "        <Axes: title={'center': '19'}>],\n",
       "       [<Axes: title={'center': '20'}>, <Axes: title={'center': '21'}>,\n",
       "        <Axes: title={'center': '22'}>, <Axes: title={'center': '23'}>,\n",
       "        <Axes: title={'center': '24'}>]], dtype=object)"
      ]
     },
     "execution_count": 60,
     "metadata": {},
     "output_type": "execute_result"
    },
    {
     "data": {
      "image/png": "[encoded data removed]",
      "text/plain": [
       "<Figure size 1800x1800 with 25 Axes>"
      ]
     },
     "metadata": {},
     "output_type": "display_data"
    }
   ],
   "source": [
    "from sklearn.model_selection import train_test_split\n",
    "scaler = StandardScaler()\n",
    "X = scaler.fit_transform(X)\n",
    "X_train, X_test, y_train, y_test = train_test_split(X,y,test_size=0.2,random_state=10)\n",
    "pd.DataFrame(X).hist(figsize=(18, 18), bins=20)"
   ]
  },
  {
   "cell_type": "code",
   "execution_count": 61,
   "id": "e11ed0df",
   "metadata": {
    "execution": {
     "iopub.execute_input": "2023-12-18T08:46:40.470284Z",
     "iopub.status.busy": "2023-12-18T08:46:40.469124Z",
     "iopub.status.idle": "2023-12-18T08:46:40.475846Z",
     "shell.execute_reply": "2023-12-18T08:46:40.474631Z"
    },
    "papermill": {
     "duration": 0.040851,
     "end_time": "2023-12-18T08:46:40.478330",
     "exception": false,
     "start_time": "2023-12-18T08:46:40.437479",
     "status": "completed"
    },
    "tags": []
   },
   "outputs": [],
   "source": [
    "def evaluate_regression_model(model, X_test, y_test, threshold=0.5):\n",
    "    y_pred = model.predict(X_test)\n",
    "    mae = mean_absolute_error(y_test, y_pred)\n",
    "    print(f'Mean Absolute Error (MAE): {mae}')\n",
    "    \n",
    "    mse = mean_squared_error(y_test, y_pred)\n",
    "    print(f'Mean Squared Error (MSE): {mse}')\n",
    "\n",
    "    r2 = r2_score(y_test, y_pred)\n",
    "    print(f'R-squared (R2): {r2}')\n",
    "\n",
    "    model_score = model.score(X_test, y_test)\n",
    "    print(f'Model Score: {ceil(model_score * 100)}%')"
   ]
  },
  {
   "cell_type": "code",
   "execution_count": 62,
   "id": "24d90e4b",
   "metadata": {
    "execution": {
     "iopub.execute_input": "2023-12-18T08:46:40.539473Z",
     "iopub.status.busy": "2023-12-18T08:46:40.538455Z",
     "iopub.status.idle": "2023-12-18T08:46:40.679086Z",
     "shell.execute_reply": "2023-12-18T08:46:40.678013Z"
    },
    "papermill": {
     "duration": 0.183031,
     "end_time": "2023-12-18T08:46:40.690796",
     "exception": false,
     "start_time": "2023-12-18T08:46:40.507765",
     "status": "completed"
    },
    "tags": []
   },
   "outputs": [
    {
     "name": "stdout",
     "output_type": "stream",
     "text": [
      "Mean Absolute Error (MAE): 19.756587209783557\n",
      "Mean Squared Error (MSE): 989.1582198796409\n",
      "R-squared (R2): 0.8306071518819167\n",
      "Model Score: 84%\n"
     ]
    }
   ],
   "source": [
    "from sklearn.linear_model import LinearRegression\n",
    "lr_clf = LinearRegression()\n",
    "lr_clf.fit(X_train,y_train)\n",
    "evaluate_regression_model(lr_clf, X_test, y_test)"
   ]
  },
  {
   "cell_type": "code",
   "execution_count": 63,
   "id": "585a23db",
   "metadata": {
    "execution": {
     "iopub.execute_input": "2023-12-18T08:46:40.831628Z",
     "iopub.status.busy": "2023-12-18T08:46:40.831252Z",
     "iopub.status.idle": "2023-12-18T08:46:40.977987Z",
     "shell.execute_reply": "2023-12-18T08:46:40.976537Z"
    },
    "papermill": {
     "duration": 0.180555,
     "end_time": "2023-12-18T08:46:40.980586",
     "exception": false,
     "start_time": "2023-12-18T08:46:40.800031",
     "status": "completed"
    },
    "tags": []
   },
   "outputs": [
    {
     "name": "stdout",
     "output_type": "stream",
     "text": [
      "Mean Absolute Error (MAE): 20.94996742236147\n",
      "Mean Squared Error (MSE): 1321.7882229363527\n",
      "R-squared (R2): 0.7736444309997517\n",
      "Model Score: 78%\n"
     ]
    }
   ],
   "source": [
    "from sklearn.tree import DecisionTreeRegressor\n",
    "dt_reg = DecisionTreeRegressor()\n",
    "dt_reg.fit(X_train, y_train)\n",
    "evaluate_regression_model(dt_reg, X_test, y_test)"
   ]
  },
  {
   "cell_type": "code",
   "execution_count": 64,
   "id": "9c73f936",
   "metadata": {
    "execution": {
     "iopub.execute_input": "2023-12-18T08:46:41.042633Z",
     "iopub.status.busy": "2023-12-18T08:46:41.042244Z",
     "iopub.status.idle": "2023-12-18T08:46:42.529113Z",
     "shell.execute_reply": "2023-12-18T08:46:42.527709Z"
    },
    "papermill": {
     "duration": 1.52092,
     "end_time": "2023-12-18T08:46:42.531528",
     "exception": false,
     "start_time": "2023-12-18T08:46:41.010608",
     "status": "completed"
    },
    "tags": []
   },
   "outputs": [
    {
     "name": "stdout",
     "output_type": "stream",
     "text": [
      "Mean Absolute Error (MAE): 18.37253571329178\n",
      "Mean Squared Error (MSE): 989.1998176878534\n",
      "R-squared (R2): 0.8306000282781626\n",
      "Model Score: 84%\n"
     ]
    }
   ],
   "source": [
    "from sklearn.ensemble import RandomForestRegressor\n",
    "rf_reg = RandomForestRegressor()\n",
    "rf_reg.fit(X_train, y_train)\n",
    "evaluate_regression_model(rf_reg, X_test, y_test)"
   ]
  },
  {
   "cell_type": "code",
   "execution_count": 65,
   "id": "3c492283",
   "metadata": {
    "execution": {
     "iopub.execute_input": "2023-12-18T08:46:42.593367Z",
     "iopub.status.busy": "2023-12-18T08:46:42.592949Z",
     "iopub.status.idle": "2023-12-18T08:46:43.020873Z",
     "shell.execute_reply": "2023-12-18T08:46:43.019788Z"
    },
    "papermill": {
     "duration": 0.461732,
     "end_time": "2023-12-18T08:46:43.023111",
     "exception": false,
     "start_time": "2023-12-18T08:46:42.561379",
     "status": "completed"
    },
    "tags": []
   },
   "outputs": [
    {
     "name": "stdout",
     "output_type": "stream",
     "text": [
      "Mean Absolute Error (MAE): 18.092381231331412\n",
      "Mean Squared Error (MSE): 841.6775919363818\n",
      "R-squared (R2): 0.8558631353105252\n",
      "Model Score: 86%\n"
     ]
    }
   ],
   "source": [
    "from sklearn.ensemble import GradientBoostingRegressor\n",
    "gb_reg = GradientBoostingRegressor()\n",
    "num_features = X_train.shape[1]\n",
    "column_names = [f'feature_{i}' for i in range(1, num_features + 1)]\n",
    "X_train_df = pd.DataFrame(X_train, columns=column_names)\n",
    "features_used = X_train_df.columns.tolist()\n",
    "feature_columns = features_used\n",
    "\n",
    "gb_reg.fit(X_train, y_train)\n",
    "evaluate_regression_model(gb_reg, X_test, y_test)"
   ]
  },
  {
   "cell_type": "code",
   "execution_count": 66,
   "id": "d9008a46",
   "metadata": {
    "execution": {
     "iopub.execute_input": "2023-12-18T08:46:43.084488Z",
     "iopub.status.busy": "2023-12-18T08:46:43.083842Z",
     "iopub.status.idle": "2023-12-18T08:46:43.102929Z",
     "shell.execute_reply": "2023-12-18T08:46:43.101858Z"
    },
    "papermill": {
     "duration": 0.053191,
     "end_time": "2023-12-18T08:46:43.106073",
     "exception": false,
     "start_time": "2023-12-18T08:46:43.052882",
     "status": "completed"
    },
    "tags": []
   },
   "outputs": [
    {
     "name": "stdout",
     "output_type": "stream",
     "text": [
      "Mean Absolute Error (MAE): 19.756993444477292\n",
      "Mean Squared Error (MSE): 989.2189203094108\n",
      "R-squared (R2): 0.8305967569638196\n",
      "Model Score: 84%\n"
     ]
    }
   ],
   "source": [
    "from sklearn.linear_model import Ridge\n",
    "ridge_clf = Ridge(alpha=1.0)\n",
    "ridge_clf.fit(X_train, y_train)\n",
    "evaluate_regression_model(ridge_clf, X_test, y_test)"
   ]
  },
  {
   "cell_type": "code",
   "execution_count": 67,
   "id": "6fd1ae48",
   "metadata": {
    "execution": {
     "iopub.execute_input": "2023-12-18T08:46:43.210163Z",
     "iopub.status.busy": "2023-12-18T08:46:43.209570Z",
     "iopub.status.idle": "2023-12-18T08:46:43.244633Z",
     "shell.execute_reply": "2023-12-18T08:46:43.243515Z"
    },
    "papermill": {
     "duration": 0.091218,
     "end_time": "2023-12-18T08:46:43.247676",
     "exception": false,
     "start_time": "2023-12-18T08:46:43.156458",
     "status": "completed"
    },
    "tags": []
   },
   "outputs": [
    {
     "name": "stdout",
     "output_type": "stream",
     "text": [
      "Mean Absolute Error (MAE): 19.66787093130189\n",
      "Mean Squared Error (MSE): 979.2126923868058\n",
      "R-squared (R2): 0.8323103184675951\n",
      "Model Score: 84%\n"
     ]
    }
   ],
   "source": [
    "from sklearn.linear_model import Lasso\n",
    "lasso_clf = Lasso(alpha=1.0)\n",
    "lasso_clf.fit(X_train, y_train)\n",
    "evaluate_regression_model(lasso_clf, X_test, y_test)"
   ]
  },
  {
   "cell_type": "code",
   "execution_count": 68,
   "id": "7d50ee59",
   "metadata": {
    "execution": {
     "iopub.execute_input": "2023-12-18T08:46:43.380846Z",
     "iopub.status.busy": "2023-12-18T08:46:43.379905Z",
     "iopub.status.idle": "2023-12-18T08:46:43.386886Z",
     "shell.execute_reply": "2023-12-18T08:46:43.385840Z"
    },
    "papermill": {
     "duration": 0.051212,
     "end_time": "2023-12-18T08:46:43.389015",
     "exception": false,
     "start_time": "2023-12-18T08:46:43.337803",
     "status": "completed"
    },
    "tags": []
   },
   "outputs": [],
   "source": [
    "y_pre = gb_reg.predict(X_test)"
   ]
  },
  {
   "cell_type": "code",
   "execution_count": 69,
   "id": "7596e4d5",
   "metadata": {
    "execution": {
     "iopub.execute_input": "2023-12-18T08:46:43.451222Z",
     "iopub.status.busy": "2023-12-18T08:46:43.450801Z",
     "iopub.status.idle": "2023-12-18T08:46:43.756870Z",
     "shell.execute_reply": "2023-12-18T08:46:43.755835Z"
    },
    "papermill": {
     "duration": 0.340074,
     "end_time": "2023-12-18T08:46:43.759049",
     "exception": false,
     "start_time": "2023-12-18T08:46:43.418975",
     "status": "completed"
    },
    "tags": []
   },
   "outputs": [
    {
     "data": {
      "image/png": "[encoded data removed]",
      "text/plain": [
       "<Figure size 800x600 with 1 Axes>"
      ]
     },
     "metadata": {},
     "output_type": "display_data"
    }
   ],
   "source": [
    "plt.figure(figsize=(8, 6))\n",
    "plt.scatter(y_test, y_pre, alpha=0.5)\n",
    "plt.title('Actual vs Predicted (Gradient Boosting Regression)')\n",
    "plt.xlabel('Actual Values')\n",
    "plt.ylabel('Predicted Values')\n",
    "\n",
    "fit_line = np.polyfit(y_test, y_pre, 1)\n",
    "fit_fn = np.poly1d(fit_line)\n",
    "plt.plot(y_test, fit_fn(y_test), color='red', linestyle='--', linewidth=2)\n",
    "plt.show()"
   ]
  },
  {
   "cell_type": "code",
   "execution_count": 70,
   "id": "d9ea19a7",
   "metadata": {
    "execution": {
     "iopub.execute_input": "2023-12-18T08:46:43.823501Z",
     "iopub.status.busy": "2023-12-18T08:46:43.823084Z",
     "iopub.status.idle": "2023-12-18T08:46:44.245328Z",
     "shell.execute_reply": "2023-12-18T08:46:44.244437Z"
    },
    "papermill": {
     "duration": 0.456958,
     "end_time": "2023-12-18T08:46:44.247238",
     "exception": false,
     "start_time": "2023-12-18T08:46:43.790280",
     "status": "completed"
    },
    "tags": []
   },
   "outputs": [
    {
     "data": {
      "text/html": [
       "<style>#sk-container-id-1 {color: black;background-color: white;}#sk-container-id-1 pre{padding: 0;}#sk-container-id-1 div.sk-toggleable {background-color: white;}#sk-container-id-1 label.sk-toggleable__label {cursor: pointer;display: block;width: 100%;margin-bottom: 0;padding: 0.3em;box-sizing: border-box;text-align: center;}#sk-container-id-1 label.sk-toggleable__label-arrow:before {content: \"▸\";float: left;margin-right: 0.25em;color: #696969;}#sk-container-id-1 label.sk-toggleable__label-arrow:hover:before {color: black;}#sk-container-id-1 div.sk-estimator:hover label.sk-toggleable__label-arrow:before {color: black;}#sk-container-id-1 div.sk-toggleable__content {max-height: 0;max-width: 0;overflow: hidden;text-align: left;background-color: #f0f8ff;}#sk-container-id-1 div.sk-toggleable__content pre {margin: 0.2em;color: black;border-radius: 0.25em;background-color: #f0f8ff;}#sk-container-id-1 input.sk-toggleable__control:checked~div.sk-toggleable__content {max-height: 200px;max-width: 100%;overflow: auto;}#sk-container-id-1 input.sk-toggleable__control:checked~label.sk-toggleable__label-arrow:before {content: \"▾\";}#sk-container-id-1 div.sk-estimator input.sk-toggleable__control:checked~label.sk-toggleable__label {background-color: #d4ebff;}#sk-container-id-1 div.sk-label input.sk-toggleable__control:checked~label.sk-toggleable__label {background-color: #d4ebff;}#sk-container-id-1 input.sk-hidden--visually {border: 0;clip: rect(1px 1px 1px 1px);clip: rect(1px, 1px, 1px, 1px);height: 1px;margin: -1px;overflow: hidden;padding: 0;position: absolute;width: 1px;}#sk-container-id-1 div.sk-estimator {font-family: monospace;background-color: #f0f8ff;border: 1px dotted black;border-radius: 0.25em;box-sizing: border-box;margin-bottom: 0.5em;}#sk-container-id-1 div.sk-estimator:hover {background-color: #d4ebff;}#sk-container-id-1 div.sk-parallel-item::after {content: \"\";width: 100%;border-bottom: 1px solid gray;flex-grow: 1;}#sk-container-id-1 div.sk-label:hover label.sk-toggleable__label {background-color: #d4ebff;}#sk-container-id-1 div.sk-serial::before {content: \"\";position: absolute;border-left: 1px solid gray;box-sizing: border-box;top: 0;bottom: 0;left: 50%;z-index: 0;}#sk-container-id-1 div.sk-serial {display: flex;flex-direction: column;align-items: center;background-color: white;padding-right: 0.2em;padding-left: 0.2em;position: relative;}#sk-container-id-1 div.sk-item {position: relative;z-index: 1;}#sk-container-id-1 div.sk-parallel {display: flex;align-items: stretch;justify-content: center;background-color: white;position: relative;}#sk-container-id-1 div.sk-item::before, #sk-container-id-1 div.sk-parallel-item::before {content: \"\";position: absolute;border-left: 1px solid gray;box-sizing: border-box;top: 0;bottom: 0;left: 50%;z-index: -1;}#sk-container-id-1 div.sk-parallel-item {display: flex;flex-direction: column;z-index: 1;position: relative;background-color: white;}#sk-container-id-1 div.sk-parallel-item:first-child::after {align-self: flex-end;width: 50%;}#sk-container-id-1 div.sk-parallel-item:last-child::after {align-self: flex-start;width: 50%;}#sk-container-id-1 div.sk-parallel-item:only-child::after {width: 0;}#sk-container-id-1 div.sk-dashed-wrapped {border: 1px dashed gray;margin: 0 0.4em 0.5em 0.4em;box-sizing: border-box;padding-bottom: 0.4em;background-color: white;}#sk-container-id-1 div.sk-label label {font-family: monospace;font-weight: bold;display: inline-block;line-height: 1.2em;}#sk-container-id-1 div.sk-label-container {text-align: center;}#sk-container-id-1 div.sk-container {/* jupyter's `normalize.less` sets `[hidden] { display: none; }` but bootstrap.min.css set `[hidden] { display: none !important; }` so we also need the `!important` here to be able to override the default hidden behavior on the sphinx rendered scikit-learn.org. See: https://github.com/scikit-learn/scikit-learn/issues/21755 */display: inline-block !important;position: relative;}#sk-container-id-1 div.sk-text-repr-fallback {display: none;}</style><div id=\"sk-container-id-1\" class=\"sk-top-container\"><div class=\"sk-text-repr-fallback\"><pre>GradientBoostingRegressor()</pre><b>In a Jupyter environment, please rerun this cell to show the HTML representation or trust the notebook. <br />On GitHub, the HTML representation is unable to render, please try loading this page with nbviewer.org.</b></div><div class=\"sk-container\" hidden><div class=\"sk-item\"><div class=\"sk-estimator sk-toggleable\"><input class=\"sk-toggleable__control sk-hidden--visually\" id=\"sk-estimator-id-1\" type=\"checkbox\" checked><label for=\"sk-estimator-id-1\" class=\"sk-toggleable__label sk-toggleable__label-arrow\">GradientBoostingRegressor</label><div class=\"sk-toggleable__content\"><pre>GradientBoostingRegressor()</pre></div></div></div></div></div>"
      ],
      "text/plain": [
       "GradientBoostingRegressor()"
      ]
     },
     "execution_count": 70,
     "metadata": {},
     "output_type": "execute_result"
    }
   ],
   "source": [
    "gb_reg.fit(X_train_df[features_used], y_train)"
   ]
  },
  {
   "cell_type": "code",
   "execution_count": 71,
   "id": "16bedfb0",
   "metadata": {
    "execution": {
     "iopub.execute_input": "2023-12-18T08:46:44.313616Z",
     "iopub.status.busy": "2023-12-18T08:46:44.312844Z",
     "iopub.status.idle": "2023-12-18T08:46:44.317899Z",
     "shell.execute_reply": "2023-12-18T08:46:44.317175Z"
    },
    "papermill": {
     "duration": 0.040101,
     "end_time": "2023-12-18T08:46:44.319941",
     "exception": false,
     "start_time": "2023-12-18T08:46:44.279840",
     "status": "completed"
    },
    "tags": []
   },
   "outputs": [],
   "source": [
    "import pandas as pd\n",
    "\n",
    "def predict_price_for_new_data(gb_reg, feature_columns, new_data_point):\n",
    "    try:\n",
    "        new_data_point = new_data_point[feature_columns]\n",
    "        predicted_price = gb_reg.predict(new_data_point)\n",
    "        print(f'Predicted Price: {predicted_price[0]:.2f} Lakhs')\n",
    "    except KeyError as e:\n",
    "        print(f\"Error: {e}. Make sure you entered values for all the required features.\")"
   ]
  },
  {
   "cell_type": "code",
   "execution_count": 72,
   "id": "5e8cb3f7",
   "metadata": {
    "execution": {
     "iopub.execute_input": "2023-12-18T08:46:44.385450Z",
     "iopub.status.busy": "2023-12-18T08:46:44.384736Z",
     "iopub.status.idle": "2023-12-18T08:46:44.423540Z",
     "shell.execute_reply": "2023-12-18T08:46:44.422338Z"
    },
    "papermill": {
     "duration": 0.074439,
     "end_time": "2023-12-18T08:46:44.425887",
     "exception": false,
     "start_time": "2023-12-18T08:46:44.351448",
     "status": "completed"
    },
    "tags": []
   },
   "outputs": [
    {
     "name": "stdout",
     "output_type": "stream",
     "text": [
      "Predicted Price for Data Point 1: 756.86 Lakhs\n",
      "Predicted Price for Data Point 2: 620.12 Lakhs\n",
      "Predicted Price for Data Point 3: 595.48 Lakhs\n",
      "Predicted Price for Data Point 4: 948.21 Lakhs\n",
      "Predicted Price for Data Point 5: 752.19 Lakhs\n",
      "Predicted Price for Data Point 6: 650.29 Lakhs\n",
      "Predicted Price for Data Point 7: 536.45 Lakhs\n",
      "Predicted Price for Data Point 8: 306.11 Lakhs\n",
      "Predicted Price for Data Point 9: 495.03 Lakhs\n",
      "Predicted Price for Data Point 10: 223.14 Lakhs\n"
     ]
    }
   ],
   "source": [
    "import random\n",
    "num_objects = 10\n",
    "new_data = []\n",
    "\n",
    "for _ in range(num_objects):\n",
    "    new_object = {}\n",
    "    for col in features_used:\n",
    "        if col == 'area_type_Plot Area':\n",
    "            new_object[col] = random.randint(0, 1)\n",
    "        else:\n",
    "            new_object[col] = random.randint(0, 10) \n",
    "            \n",
    "    new_data.append(new_object)\n",
    "\n",
    "for i, new_data_point in enumerate(new_data, 1):\n",
    "    new_data_point_df = pd.DataFrame([new_data_point], columns=features_used)\n",
    "    predicted_price = gb_reg.predict(new_data_point_df[feature_columns])\n",
    "    \n",
    "    print(f'Predicted Price for Data Point {i}: {predicted_price[0]:.2f} Lakhs')"
   ]
  }
 ],
 "metadata": {
  "kaggle": {
   "accelerator": "none",
   "dataSources": [
    {
     "datasetId": 4166974,
     "sourceId": 7203174,
     "sourceType": "datasetVersion"
    }
   ],
   "dockerImageVersionId": 30626,
   "isGpuEnabled": false,
   "isInternetEnabled": true,
   "language": "python",
   "sourceType": "notebook"
  },
  "kernelspec": {
   "display_name": "Python 3",
   "language": "python",
   "name": "python3"
  },
  "language_info": {
   "codemirror_mode": {
    "name": "ipython",
    "version": 3
   },
   "file_extension": ".py",
   "mimetype": "text/x-python",
   "name": "python",
   "nbconvert_exporter": "python",
   "pygments_lexer": "ipython3",
   "version": "3.10.12"
  },
  "papermill": {
   "default_parameters": {},
   "duration": 25.958296,
   "end_time": "2023-12-18T08:46:45.280617",
   "environment_variables": {},
   "exception": null,
   "input_path": "__notebook__.ipynb",
   "output_path": "__notebook__.ipynb",
   "parameters": {},
   "start_time": "2023-12-18T08:46:19.322321",
   "version": "2.4.0"
  }
 },
 "nbformat": 4,
 "nbformat_minor": 5
}
