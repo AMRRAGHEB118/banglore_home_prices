{
 "cells": [
  {
   "cell_type": "code",
   "execution_count": 1,
   "id": "431d0bcd",
   "metadata": {
    "execution": {
     "iopub.execute_input": "2023-12-17T20:39:50.191502Z",
     "iopub.status.busy": "2023-12-17T20:39:50.191052Z",
     "iopub.status.idle": "2023-12-17T20:39:51.745327Z",
     "shell.execute_reply": "2023-12-17T20:39:51.744270Z"
    },
    "papermill": {
     "duration": 1.581494,
     "end_time": "2023-12-17T20:39:51.748044",
     "exception": false,
     "start_time": "2023-12-17T20:39:50.166550",
     "status": "completed"
    },
    "tags": []
   },
   "outputs": [],
   "source": [
    "import pandas as pd\n",
    "import numpy as np\n",
    "from matplotlib import pyplot as plt\n",
    "from sklearn.preprocessing import LabelEncoder\n",
    "%matplotlib inline\n",
    "import matplotlib \n",
    "matplotlib.rcParams[\"figure.figsize\"] = (20,10)\n",
    "from sklearn.metrics import mean_absolute_error, r2_score, mean_squared_error, precision_score, recall_score, f1_score, confusion_matrix\n",
    "from math import ceil"
   ]
  },
  {
   "cell_type": "code",
   "execution_count": 2,
   "id": "46c3c375",
   "metadata": {
    "execution": {
     "iopub.execute_input": "2023-12-17T20:39:51.791996Z",
     "iopub.status.busy": "2023-12-17T20:39:51.790920Z",
     "iopub.status.idle": "2023-12-17T20:39:51.870510Z",
     "shell.execute_reply": "2023-12-17T20:39:51.869719Z"
    },
    "papermill": {
     "duration": 0.103752,
     "end_time": "2023-12-17T20:39:51.872663",
     "exception": false,
     "start_time": "2023-12-17T20:39:51.768911",
     "status": "completed"
    },
    "scrolled": true,
    "tags": []
   },
   "outputs": [
    {
     "data": {
      "text/html": [
       "<div>\n",
       "<style scoped>\n",
       "    .dataframe tbody tr th:only-of-type {\n",
       "        vertical-align: middle;\n",
       "    }\n",
       "\n",
       "    .dataframe tbody tr th {\n",
       "        vertical-align: top;\n",
       "    }\n",
       "\n",
       "    .dataframe thead th {\n",
       "        text-align: right;\n",
       "    }\n",
       "</style>\n",
       "<table border=\"1\" class=\"dataframe\">\n",
       "  <thead>\n",
       "    <tr style=\"text-align: right;\">\n",
       "      <th></th>\n",
       "      <th>area_type</th>\n",
       "      <th>availability</th>\n",
       "      <th>location</th>\n",
       "      <th>size</th>\n",
       "      <th>society</th>\n",
       "      <th>total_sqft</th>\n",
       "      <th>bath</th>\n",
       "      <th>balcony</th>\n",
       "      <th>price</th>\n",
       "    </tr>\n",
       "  </thead>\n",
       "  <tbody>\n",
       "    <tr>\n",
       "      <th>0</th>\n",
       "      <td>Super built-up  Area</td>\n",
       "      <td>19-Dec</td>\n",
       "      <td>Electronic City Phase II</td>\n",
       "      <td>2 BHK</td>\n",
       "      <td>Coomee</td>\n",
       "      <td>1056</td>\n",
       "      <td>2.0</td>\n",
       "      <td>1.0</td>\n",
       "      <td>39.07</td>\n",
       "    </tr>\n",
       "    <tr>\n",
       "      <th>1</th>\n",
       "      <td>Plot  Area</td>\n",
       "      <td>Ready To Move</td>\n",
       "      <td>Chikka Tirupathi</td>\n",
       "      <td>4 Bedroom</td>\n",
       "      <td>Theanmp</td>\n",
       "      <td>2600</td>\n",
       "      <td>5.0</td>\n",
       "      <td>3.0</td>\n",
       "      <td>120.00</td>\n",
       "    </tr>\n",
       "    <tr>\n",
       "      <th>2</th>\n",
       "      <td>Built-up  Area</td>\n",
       "      <td>Ready To Move</td>\n",
       "      <td>Uttarahalli</td>\n",
       "      <td>3 BHK</td>\n",
       "      <td>NaN</td>\n",
       "      <td>1440</td>\n",
       "      <td>2.0</td>\n",
       "      <td>3.0</td>\n",
       "      <td>62.00</td>\n",
       "    </tr>\n",
       "    <tr>\n",
       "      <th>3</th>\n",
       "      <td>Super built-up  Area</td>\n",
       "      <td>Ready To Move</td>\n",
       "      <td>Lingadheeranahalli</td>\n",
       "      <td>3 BHK</td>\n",
       "      <td>Soiewre</td>\n",
       "      <td>1521</td>\n",
       "      <td>3.0</td>\n",
       "      <td>1.0</td>\n",
       "      <td>95.00</td>\n",
       "    </tr>\n",
       "    <tr>\n",
       "      <th>4</th>\n",
       "      <td>Super built-up  Area</td>\n",
       "      <td>Ready To Move</td>\n",
       "      <td>Kothanur</td>\n",
       "      <td>2 BHK</td>\n",
       "      <td>NaN</td>\n",
       "      <td>1200</td>\n",
       "      <td>2.0</td>\n",
       "      <td>1.0</td>\n",
       "      <td>51.00</td>\n",
       "    </tr>\n",
       "  </tbody>\n",
       "</table>\n",
       "</div>"
      ],
      "text/plain": [
       "              area_type   availability                  location       size  \\\n",
       "0  Super built-up  Area         19-Dec  Electronic City Phase II      2 BHK   \n",
       "1            Plot  Area  Ready To Move          Chikka Tirupathi  4 Bedroom   \n",
       "2        Built-up  Area  Ready To Move               Uttarahalli      3 BHK   \n",
       "3  Super built-up  Area  Ready To Move        Lingadheeranahalli      3 BHK   \n",
       "4  Super built-up  Area  Ready To Move                  Kothanur      2 BHK   \n",
       "\n",
       "   society total_sqft  bath  balcony   price  \n",
       "0  Coomee        1056   2.0      1.0   39.07  \n",
       "1  Theanmp       2600   5.0      3.0  120.00  \n",
       "2      NaN       1440   2.0      3.0   62.00  \n",
       "3  Soiewre       1521   3.0      1.0   95.00  \n",
       "4      NaN       1200   2.0      1.0   51.00  "
      ]
     },
     "execution_count": 2,
     "metadata": {},
     "output_type": "execute_result"
    }
   ],
   "source": [
    "df = pd.read_csv(\"/kaggle/input/bengaluru-house-prices/bengaluru_house_prices.csv\")\n",
    "df.head()"
   ]
  },
  {
   "cell_type": "code",
   "execution_count": 3,
   "id": "895d4463",
   "metadata": {
    "execution": {
     "iopub.execute_input": "2023-12-17T20:39:51.916989Z",
     "iopub.status.busy": "2023-12-17T20:39:51.916129Z",
     "iopub.status.idle": "2023-12-17T20:39:51.923281Z",
     "shell.execute_reply": "2023-12-17T20:39:51.922287Z"
    },
    "papermill": {
     "duration": 0.031824,
     "end_time": "2023-12-17T20:39:51.925701",
     "exception": false,
     "start_time": "2023-12-17T20:39:51.893877",
     "status": "completed"
    },
    "tags": []
   },
   "outputs": [
    {
     "data": {
      "text/plain": [
       "(13320, 9)"
      ]
     },
     "execution_count": 3,
     "metadata": {},
     "output_type": "execute_result"
    }
   ],
   "source": [
    "df.shape"
   ]
  },
  {
   "cell_type": "code",
   "execution_count": 4,
   "id": "3357d53b",
   "metadata": {
    "execution": {
     "iopub.execute_input": "2023-12-17T20:39:51.970722Z",
     "iopub.status.busy": "2023-12-17T20:39:51.969845Z",
     "iopub.status.idle": "2023-12-17T20:39:51.976274Z",
     "shell.execute_reply": "2023-12-17T20:39:51.975536Z"
    },
    "papermill": {
     "duration": 0.032034,
     "end_time": "2023-12-17T20:39:51.978882",
     "exception": false,
     "start_time": "2023-12-17T20:39:51.946848",
     "status": "completed"
    },
    "tags": []
   },
   "outputs": [
    {
     "data": {
      "text/plain": [
       "Index(['area_type', 'availability', 'location', 'size', 'society',\n",
       "       'total_sqft', 'bath', 'balcony', 'price'],\n",
       "      dtype='object')"
      ]
     },
     "execution_count": 4,
     "metadata": {},
     "output_type": "execute_result"
    }
   ],
   "source": [
    "df.columns"
   ]
  },
  {
   "cell_type": "code",
   "execution_count": 5,
   "id": "ffc04402",
   "metadata": {
    "execution": {
     "iopub.execute_input": "2023-12-17T20:39:52.023543Z",
     "iopub.status.busy": "2023-12-17T20:39:52.022792Z",
     "iopub.status.idle": "2023-12-17T20:39:52.031314Z",
     "shell.execute_reply": "2023-12-17T20:39:52.030129Z"
    },
    "papermill": {
     "duration": 0.033737,
     "end_time": "2023-12-17T20:39:52.033874",
     "exception": false,
     "start_time": "2023-12-17T20:39:52.000137",
     "status": "completed"
    },
    "tags": []
   },
   "outputs": [
    {
     "data": {
      "text/plain": [
       "area_type        object\n",
       "availability     object\n",
       "location         object\n",
       "size             object\n",
       "society          object\n",
       "total_sqft       object\n",
       "bath            float64\n",
       "balcony         float64\n",
       "price           float64\n",
       "dtype: object"
      ]
     },
     "execution_count": 5,
     "metadata": {},
     "output_type": "execute_result"
    }
   ],
   "source": [
    "df.dtypes"
   ]
  },
  {
   "cell_type": "code",
   "execution_count": 6,
   "id": "a49c323e",
   "metadata": {
    "execution": {
     "iopub.execute_input": "2023-12-17T20:39:52.079762Z",
     "iopub.status.busy": "2023-12-17T20:39:52.078994Z",
     "iopub.status.idle": "2023-12-17T20:39:52.097645Z",
     "shell.execute_reply": "2023-12-17T20:39:52.096599Z"
    },
    "papermill": {
     "duration": 0.044123,
     "end_time": "2023-12-17T20:39:52.099948",
     "exception": false,
     "start_time": "2023-12-17T20:39:52.055825",
     "status": "completed"
    },
    "tags": []
   },
   "outputs": [
    {
     "data": {
      "text/plain": [
       "area_type          0\n",
       "availability       0\n",
       "location           1\n",
       "size              16\n",
       "society         5502\n",
       "total_sqft         0\n",
       "bath              73\n",
       "balcony          609\n",
       "price              0\n",
       "dtype: int64"
      ]
     },
     "execution_count": 6,
     "metadata": {},
     "output_type": "execute_result"
    }
   ],
   "source": [
    "df.isnull().sum()"
   ]
  },
  {
   "cell_type": "code",
   "execution_count": 7,
   "id": "e23cef70",
   "metadata": {
    "execution": {
     "iopub.execute_input": "2023-12-17T20:39:52.145619Z",
     "iopub.status.busy": "2023-12-17T20:39:52.145209Z",
     "iopub.status.idle": "2023-12-17T20:39:52.169995Z",
     "shell.execute_reply": "2023-12-17T20:39:52.169247Z"
    },
    "papermill": {
     "duration": 0.05057,
     "end_time": "2023-12-17T20:39:52.172105",
     "exception": false,
     "start_time": "2023-12-17T20:39:52.121535",
     "status": "completed"
    },
    "tags": []
   },
   "outputs": [
    {
     "data": {
      "text/plain": [
       "area_type       0\n",
       "availability    0\n",
       "location        0\n",
       "size            0\n",
       "society         0\n",
       "total_sqft      0\n",
       "bath            0\n",
       "balcony         0\n",
       "price           0\n",
       "dtype: int64"
      ]
     },
     "execution_count": 7,
     "metadata": {},
     "output_type": "execute_result"
    }
   ],
   "source": [
    "df = df.dropna()\n",
    "df.isnull().sum()"
   ]
  },
  {
   "cell_type": "code",
   "execution_count": 8,
   "id": "9c68e78a",
   "metadata": {
    "execution": {
     "iopub.execute_input": "2023-12-17T20:39:52.218472Z",
     "iopub.status.busy": "2023-12-17T20:39:52.218052Z",
     "iopub.status.idle": "2023-12-17T20:39:52.229415Z",
     "shell.execute_reply": "2023-12-17T20:39:52.228300Z"
    },
    "papermill": {
     "duration": 0.037095,
     "end_time": "2023-12-17T20:39:52.231619",
     "exception": false,
     "start_time": "2023-12-17T20:39:52.194524",
     "status": "completed"
    },
    "tags": []
   },
   "outputs": [
    {
     "data": {
      "text/plain": [
       "array(['Super built-up  Area', 'Plot  Area', 'Built-up  Area',\n",
       "       'Carpet  Area'], dtype=object)"
      ]
     },
     "execution_count": 8,
     "metadata": {},
     "output_type": "execute_result"
    }
   ],
   "source": [
    "df['area_type'].unique()"
   ]
  },
  {
   "cell_type": "code",
   "execution_count": 9,
   "id": "7fc31477",
   "metadata": {
    "execution": {
     "iopub.execute_input": "2023-12-17T20:39:52.276876Z",
     "iopub.status.busy": "2023-12-17T20:39:52.276498Z",
     "iopub.status.idle": "2023-12-17T20:39:52.287861Z",
     "shell.execute_reply": "2023-12-17T20:39:52.286839Z"
    },
    "papermill": {
     "duration": 0.036866,
     "end_time": "2023-12-17T20:39:52.290157",
     "exception": false,
     "start_time": "2023-12-17T20:39:52.253291",
     "status": "completed"
    },
    "tags": []
   },
   "outputs": [
    {
     "data": {
      "text/plain": [
       "area_type\n",
       "Super built-up  Area    6017\n",
       "Built-up  Area          1158\n",
       "Plot  Area               269\n",
       "Carpet  Area              52\n",
       "Name: count, dtype: int64"
      ]
     },
     "execution_count": 9,
     "metadata": {},
     "output_type": "execute_result"
    }
   ],
   "source": [
    "df['area_type'].value_counts()"
   ]
  },
  {
   "cell_type": "code",
   "execution_count": 10,
   "id": "7dd2fd5a",
   "metadata": {
    "execution": {
     "iopub.execute_input": "2023-12-17T20:39:52.336048Z",
     "iopub.status.busy": "2023-12-17T20:39:52.335354Z",
     "iopub.status.idle": "2023-12-17T20:39:52.343246Z",
     "shell.execute_reply": "2023-12-17T20:39:52.342408Z"
    },
    "papermill": {
     "duration": 0.033215,
     "end_time": "2023-12-17T20:39:52.345346",
     "exception": false,
     "start_time": "2023-12-17T20:39:52.312131",
     "status": "completed"
    },
    "tags": []
   },
   "outputs": [
    {
     "data": {
      "text/plain": [
       "array(['19-Dec', 'Ready To Move', '18-Nov', '17-Oct', '21-Dec', '19-Sep',\n",
       "       '20-Sep', '18-Mar', '18-Apr', '20-Aug', '19-Mar', '17-Sep',\n",
       "       '17-Aug', '19-Apr', '22-Dec', '18-Aug', '19-Jan', '17-Jul',\n",
       "       '18-Jul', '18-May', '18-Dec', '21-Jun', '18-Sep', '17-May',\n",
       "       '17-Jun', '18-Oct', '21-May', '20-Dec', '18-Jun', '16-Mar',\n",
       "       '22-Jun', '17-Dec', '21-Feb', '19-May', '17-Nov', '20-Oct',\n",
       "       '20-Jun', '18-Feb', '19-Feb', '21-Oct', '21-Jan', '17-Mar',\n",
       "       '19-Jun', '17-Apr', '22-May', '19-Oct', '21-Jul', '21-Nov',\n",
       "       '21-Mar', '19-Jul', '20-Jan', '21-Sep', '18-Jan', '20-Mar',\n",
       "       '19-Nov', '15-Jun', '19-Aug', '20-May', '20-Nov', '20-Jul',\n",
       "       '20-Feb', '15-Dec', '21-Aug', '16-Oct', '22-Nov', '16-Dec',\n",
       "       '15-Aug', '17-Jan', '16-Nov', '20-Apr', '22-Jan', '16-Jan',\n",
       "       '17-Feb', '14-Jul'], dtype=object)"
      ]
     },
     "execution_count": 10,
     "metadata": {},
     "output_type": "execute_result"
    }
   ],
   "source": [
    "df['availability'].unique()"
   ]
  },
  {
   "cell_type": "code",
   "execution_count": 11,
   "id": "f94b9d21",
   "metadata": {
    "execution": {
     "iopub.execute_input": "2023-12-17T20:39:52.453695Z",
     "iopub.status.busy": "2023-12-17T20:39:52.453194Z",
     "iopub.status.idle": "2023-12-17T20:39:52.472577Z",
     "shell.execute_reply": "2023-12-17T20:39:52.471437Z"
    },
    "papermill": {
     "duration": 0.045322,
     "end_time": "2023-12-17T20:39:52.474961",
     "exception": false,
     "start_time": "2023-12-17T20:39:52.429639",
     "status": "completed"
    },
    "tags": []
   },
   "outputs": [],
   "source": [
    "label_encoder = LabelEncoder()\n",
    "df['availability'] = label_encoder.fit_transform(df['availability'].astype(str))\n",
    "df['society'] = label_encoder.fit_transform(df['society'])"
   ]
  },
  {
   "cell_type": "code",
   "execution_count": 12,
   "id": "9eba222c",
   "metadata": {
    "execution": {
     "iopub.execute_input": "2023-12-17T20:39:52.522102Z",
     "iopub.status.busy": "2023-12-17T20:39:52.521681Z",
     "iopub.status.idle": "2023-12-17T20:39:52.535119Z",
     "shell.execute_reply": "2023-12-17T20:39:52.534290Z"
    },
    "papermill": {
     "duration": 0.039848,
     "end_time": "2023-12-17T20:39:52.537227",
     "exception": false,
     "start_time": "2023-12-17T20:39:52.497379",
     "status": "completed"
    },
    "tags": []
   },
   "outputs": [],
   "source": [
    "df = pd.get_dummies(df, columns=['area_type'], drop_first=True)"
   ]
  },
  {
   "cell_type": "code",
   "execution_count": 13,
   "id": "4a9b3855",
   "metadata": {
    "execution": {
     "iopub.execute_input": "2023-12-17T20:39:52.583820Z",
     "iopub.status.busy": "2023-12-17T20:39:52.583422Z",
     "iopub.status.idle": "2023-12-17T20:39:52.601616Z",
     "shell.execute_reply": "2023-12-17T20:39:52.600592Z"
    },
    "papermill": {
     "duration": 0.044225,
     "end_time": "2023-12-17T20:39:52.603859",
     "exception": false,
     "start_time": "2023-12-17T20:39:52.559634",
     "status": "completed"
    },
    "tags": []
   },
   "outputs": [
    {
     "data": {
      "text/html": [
       "<div>\n",
       "<style scoped>\n",
       "    .dataframe tbody tr th:only-of-type {\n",
       "        vertical-align: middle;\n",
       "    }\n",
       "\n",
       "    .dataframe tbody tr th {\n",
       "        vertical-align: top;\n",
       "    }\n",
       "\n",
       "    .dataframe thead th {\n",
       "        text-align: right;\n",
       "    }\n",
       "</style>\n",
       "<table border=\"1\" class=\"dataframe\">\n",
       "  <thead>\n",
       "    <tr style=\"text-align: right;\">\n",
       "      <th></th>\n",
       "      <th>availability</th>\n",
       "      <th>location</th>\n",
       "      <th>size</th>\n",
       "      <th>society</th>\n",
       "      <th>total_sqft</th>\n",
       "      <th>bath</th>\n",
       "      <th>balcony</th>\n",
       "      <th>price</th>\n",
       "      <th>area_type_Carpet  Area</th>\n",
       "      <th>area_type_Plot  Area</th>\n",
       "      <th>area_type_Super built-up  Area</th>\n",
       "    </tr>\n",
       "  </thead>\n",
       "  <tbody>\n",
       "    <tr>\n",
       "      <th>0</th>\n",
       "      <td>35</td>\n",
       "      <td>Electronic City Phase II</td>\n",
       "      <td>2 BHK</td>\n",
       "      <td>443</td>\n",
       "      <td>1056</td>\n",
       "      <td>2.0</td>\n",
       "      <td>1.0</td>\n",
       "      <td>39.07</td>\n",
       "      <td>False</td>\n",
       "      <td>False</td>\n",
       "      <td>True</td>\n",
       "    </tr>\n",
       "    <tr>\n",
       "      <th>1</th>\n",
       "      <td>73</td>\n",
       "      <td>Chikka Tirupathi</td>\n",
       "      <td>4 Bedroom</td>\n",
       "      <td>2353</td>\n",
       "      <td>2600</td>\n",
       "      <td>5.0</td>\n",
       "      <td>3.0</td>\n",
       "      <td>120.00</td>\n",
       "      <td>False</td>\n",
       "      <td>True</td>\n",
       "      <td>False</td>\n",
       "    </tr>\n",
       "    <tr>\n",
       "      <th>3</th>\n",
       "      <td>73</td>\n",
       "      <td>Lingadheeranahalli</td>\n",
       "      <td>3 BHK</td>\n",
       "      <td>2109</td>\n",
       "      <td>1521</td>\n",
       "      <td>3.0</td>\n",
       "      <td>1.0</td>\n",
       "      <td>95.00</td>\n",
       "      <td>False</td>\n",
       "      <td>False</td>\n",
       "      <td>True</td>\n",
       "    </tr>\n",
       "    <tr>\n",
       "      <th>5</th>\n",
       "      <td>73</td>\n",
       "      <td>Whitefield</td>\n",
       "      <td>2 BHK</td>\n",
       "      <td>585</td>\n",
       "      <td>1170</td>\n",
       "      <td>2.0</td>\n",
       "      <td>1.0</td>\n",
       "      <td>38.00</td>\n",
       "      <td>False</td>\n",
       "      <td>False</td>\n",
       "      <td>True</td>\n",
       "    </tr>\n",
       "    <tr>\n",
       "      <th>11</th>\n",
       "      <td>73</td>\n",
       "      <td>Whitefield</td>\n",
       "      <td>4 Bedroom</td>\n",
       "      <td>1566</td>\n",
       "      <td>2785</td>\n",
       "      <td>5.0</td>\n",
       "      <td>3.0</td>\n",
       "      <td>295.00</td>\n",
       "      <td>False</td>\n",
       "      <td>True</td>\n",
       "      <td>False</td>\n",
       "    </tr>\n",
       "  </tbody>\n",
       "</table>\n",
       "</div>"
      ],
      "text/plain": [
       "    availability                  location       size  society total_sqft  \\\n",
       "0             35  Electronic City Phase II      2 BHK      443       1056   \n",
       "1             73          Chikka Tirupathi  4 Bedroom     2353       2600   \n",
       "3             73        Lingadheeranahalli      3 BHK     2109       1521   \n",
       "5             73                Whitefield      2 BHK      585       1170   \n",
       "11            73                Whitefield  4 Bedroom     1566       2785   \n",
       "\n",
       "    bath  balcony   price  area_type_Carpet  Area  area_type_Plot  Area  \\\n",
       "0    2.0      1.0   39.07                   False                 False   \n",
       "1    5.0      3.0  120.00                   False                  True   \n",
       "3    3.0      1.0   95.00                   False                 False   \n",
       "5    2.0      1.0   38.00                   False                 False   \n",
       "11   5.0      3.0  295.00                   False                  True   \n",
       "\n",
       "    area_type_Super built-up  Area  \n",
       "0                             True  \n",
       "1                            False  \n",
       "3                             True  \n",
       "5                             True  \n",
       "11                           False  "
      ]
     },
     "execution_count": 13,
     "metadata": {},
     "output_type": "execute_result"
    }
   ],
   "source": [
    "df.head()"
   ]
  },
  {
   "cell_type": "code",
   "execution_count": 14,
   "id": "f1ff378a",
   "metadata": {
    "execution": {
     "iopub.execute_input": "2023-12-17T20:39:52.651022Z",
     "iopub.status.busy": "2023-12-17T20:39:52.650626Z",
     "iopub.status.idle": "2023-12-17T20:39:52.657581Z",
     "shell.execute_reply": "2023-12-17T20:39:52.656557Z"
    },
    "papermill": {
     "duration": 0.033224,
     "end_time": "2023-12-17T20:39:52.659796",
     "exception": false,
     "start_time": "2023-12-17T20:39:52.626572",
     "status": "completed"
    },
    "tags": []
   },
   "outputs": [
    {
     "data": {
      "text/plain": [
       "(7496, 11)"
      ]
     },
     "execution_count": 14,
     "metadata": {},
     "output_type": "execute_result"
    }
   ],
   "source": [
    "df.shape"
   ]
  },
  {
   "cell_type": "code",
   "execution_count": 15,
   "id": "f35a5219",
   "metadata": {
    "execution": {
     "iopub.execute_input": "2023-12-17T20:39:52.707231Z",
     "iopub.status.busy": "2023-12-17T20:39:52.706806Z",
     "iopub.status.idle": "2023-12-17T20:39:52.726184Z",
     "shell.execute_reply": "2023-12-17T20:39:52.725172Z"
    },
    "papermill": {
     "duration": 0.045844,
     "end_time": "2023-12-17T20:39:52.728515",
     "exception": false,
     "start_time": "2023-12-17T20:39:52.682671",
     "status": "completed"
    },
    "tags": []
   },
   "outputs": [
    {
     "data": {
      "text/plain": [
       "array([ 2,  4,  3,  1,  5, 11,  9,  6,  7])"
      ]
     },
     "execution_count": 15,
     "metadata": {},
     "output_type": "execute_result"
    }
   ],
   "source": [
    "df['bhk'] = df['size'].apply(lambda x: int(x.split(' ')[0]))\n",
    "df[\"bhk\"].unique()"
   ]
  },
  {
   "cell_type": "code",
   "execution_count": 16,
   "id": "c623e94c",
   "metadata": {
    "execution": {
     "iopub.execute_input": "2023-12-17T20:39:52.776247Z",
     "iopub.status.busy": "2023-12-17T20:39:52.775776Z",
     "iopub.status.idle": "2023-12-17T20:39:52.781332Z",
     "shell.execute_reply": "2023-12-17T20:39:52.780256Z"
    },
    "papermill": {
     "duration": 0.031884,
     "end_time": "2023-12-17T20:39:52.783497",
     "exception": false,
     "start_time": "2023-12-17T20:39:52.751613",
     "status": "completed"
    },
    "tags": []
   },
   "outputs": [],
   "source": [
    "def is_float(x):\n",
    "    try:\n",
    "        float(x)\n",
    "    except:\n",
    "        return False\n",
    "    return True"
   ]
  },
  {
   "cell_type": "code",
   "execution_count": 17,
   "id": "712ad30a",
   "metadata": {
    "execution": {
     "iopub.execute_input": "2023-12-17T20:39:52.833230Z",
     "iopub.status.busy": "2023-12-17T20:39:52.832793Z",
     "iopub.status.idle": "2023-12-17T20:39:52.860171Z",
     "shell.execute_reply": "2023-12-17T20:39:52.859107Z"
    },
    "papermill": {
     "duration": 0.055928,
     "end_time": "2023-12-17T20:39:52.862409",
     "exception": false,
     "start_time": "2023-12-17T20:39:52.806481",
     "status": "completed"
    },
    "scrolled": true,
    "tags": []
   },
   "outputs": [
    {
     "data": {
      "text/html": [
       "<div>\n",
       "<style scoped>\n",
       "    .dataframe tbody tr th:only-of-type {\n",
       "        vertical-align: middle;\n",
       "    }\n",
       "\n",
       "    .dataframe tbody tr th {\n",
       "        vertical-align: top;\n",
       "    }\n",
       "\n",
       "    .dataframe thead th {\n",
       "        text-align: right;\n",
       "    }\n",
       "</style>\n",
       "<table border=\"1\" class=\"dataframe\">\n",
       "  <thead>\n",
       "    <tr style=\"text-align: right;\">\n",
       "      <th></th>\n",
       "      <th>availability</th>\n",
       "      <th>location</th>\n",
       "      <th>size</th>\n",
       "      <th>society</th>\n",
       "      <th>total_sqft</th>\n",
       "      <th>bath</th>\n",
       "      <th>balcony</th>\n",
       "      <th>price</th>\n",
       "      <th>area_type_Carpet  Area</th>\n",
       "      <th>area_type_Plot  Area</th>\n",
       "      <th>area_type_Super built-up  Area</th>\n",
       "      <th>bhk</th>\n",
       "    </tr>\n",
       "  </thead>\n",
       "  <tbody>\n",
       "    <tr>\n",
       "      <th>30</th>\n",
       "      <td>35</td>\n",
       "      <td>Yelahanka</td>\n",
       "      <td>4 BHK</td>\n",
       "      <td>1061</td>\n",
       "      <td>2100 - 2850</td>\n",
       "      <td>4.0</td>\n",
       "      <td>0.0</td>\n",
       "      <td>186.000</td>\n",
       "      <td>False</td>\n",
       "      <td>False</td>\n",
       "      <td>True</td>\n",
       "      <td>4</td>\n",
       "    </tr>\n",
       "    <tr>\n",
       "      <th>122</th>\n",
       "      <td>28</td>\n",
       "      <td>Hebbal</td>\n",
       "      <td>4 BHK</td>\n",
       "      <td>1796</td>\n",
       "      <td>3067 - 8156</td>\n",
       "      <td>4.0</td>\n",
       "      <td>0.0</td>\n",
       "      <td>477.000</td>\n",
       "      <td>False</td>\n",
       "      <td>False</td>\n",
       "      <td>True</td>\n",
       "      <td>4</td>\n",
       "    </tr>\n",
       "    <tr>\n",
       "      <th>137</th>\n",
       "      <td>40</td>\n",
       "      <td>8th Phase JP Nagar</td>\n",
       "      <td>2 BHK</td>\n",
       "      <td>2454</td>\n",
       "      <td>1042 - 1105</td>\n",
       "      <td>2.0</td>\n",
       "      <td>0.0</td>\n",
       "      <td>54.005</td>\n",
       "      <td>False</td>\n",
       "      <td>False</td>\n",
       "      <td>True</td>\n",
       "      <td>2</td>\n",
       "    </tr>\n",
       "    <tr>\n",
       "      <th>165</th>\n",
       "      <td>23</td>\n",
       "      <td>Sarjapur</td>\n",
       "      <td>2 BHK</td>\n",
       "      <td>993</td>\n",
       "      <td>1145 - 1340</td>\n",
       "      <td>2.0</td>\n",
       "      <td>0.0</td>\n",
       "      <td>43.490</td>\n",
       "      <td>False</td>\n",
       "      <td>False</td>\n",
       "      <td>True</td>\n",
       "      <td>2</td>\n",
       "    </tr>\n",
       "    <tr>\n",
       "      <th>188</th>\n",
       "      <td>73</td>\n",
       "      <td>KR Puram</td>\n",
       "      <td>2 BHK</td>\n",
       "      <td>1100</td>\n",
       "      <td>1015 - 1540</td>\n",
       "      <td>2.0</td>\n",
       "      <td>0.0</td>\n",
       "      <td>56.800</td>\n",
       "      <td>False</td>\n",
       "      <td>False</td>\n",
       "      <td>True</td>\n",
       "      <td>2</td>\n",
       "    </tr>\n",
       "    <tr>\n",
       "      <th>549</th>\n",
       "      <td>32</td>\n",
       "      <td>Hennur Road</td>\n",
       "      <td>2 BHK</td>\n",
       "      <td>2035</td>\n",
       "      <td>1195 - 1440</td>\n",
       "      <td>2.0</td>\n",
       "      <td>0.0</td>\n",
       "      <td>63.770</td>\n",
       "      <td>False</td>\n",
       "      <td>False</td>\n",
       "      <td>True</td>\n",
       "      <td>2</td>\n",
       "    </tr>\n",
       "    <tr>\n",
       "      <th>661</th>\n",
       "      <td>73</td>\n",
       "      <td>Yelahanka</td>\n",
       "      <td>2 BHK</td>\n",
       "      <td>1675</td>\n",
       "      <td>1120 - 1145</td>\n",
       "      <td>2.0</td>\n",
       "      <td>0.0</td>\n",
       "      <td>48.130</td>\n",
       "      <td>False</td>\n",
       "      <td>False</td>\n",
       "      <td>True</td>\n",
       "      <td>2</td>\n",
       "    </tr>\n",
       "    <tr>\n",
       "      <th>672</th>\n",
       "      <td>28</td>\n",
       "      <td>Bettahalsoor</td>\n",
       "      <td>4 Bedroom</td>\n",
       "      <td>2370</td>\n",
       "      <td>3090 - 5002</td>\n",
       "      <td>4.0</td>\n",
       "      <td>0.0</td>\n",
       "      <td>445.000</td>\n",
       "      <td>False</td>\n",
       "      <td>False</td>\n",
       "      <td>False</td>\n",
       "      <td>4</td>\n",
       "    </tr>\n",
       "    <tr>\n",
       "      <th>772</th>\n",
       "      <td>47</td>\n",
       "      <td>Banashankari Stage VI</td>\n",
       "      <td>2 BHK</td>\n",
       "      <td>308</td>\n",
       "      <td>1160 - 1195</td>\n",
       "      <td>2.0</td>\n",
       "      <td>0.0</td>\n",
       "      <td>59.935</td>\n",
       "      <td>False</td>\n",
       "      <td>False</td>\n",
       "      <td>True</td>\n",
       "      <td>2</td>\n",
       "    </tr>\n",
       "    <tr>\n",
       "      <th>850</th>\n",
       "      <td>68</td>\n",
       "      <td>Bannerghatta Road</td>\n",
       "      <td>2 BHK</td>\n",
       "      <td>1471</td>\n",
       "      <td>1115 - 1130</td>\n",
       "      <td>2.0</td>\n",
       "      <td>0.0</td>\n",
       "      <td>58.935</td>\n",
       "      <td>False</td>\n",
       "      <td>False</td>\n",
       "      <td>True</td>\n",
       "      <td>2</td>\n",
       "    </tr>\n",
       "  </tbody>\n",
       "</table>\n",
       "</div>"
      ],
      "text/plain": [
       "     availability               location       size  society   total_sqft  \\\n",
       "30             35              Yelahanka      4 BHK     1061  2100 - 2850   \n",
       "122            28                 Hebbal      4 BHK     1796  3067 - 8156   \n",
       "137            40     8th Phase JP Nagar      2 BHK     2454  1042 - 1105   \n",
       "165            23               Sarjapur      2 BHK      993  1145 - 1340   \n",
       "188            73               KR Puram      2 BHK     1100  1015 - 1540   \n",
       "549            32            Hennur Road      2 BHK     2035  1195 - 1440   \n",
       "661            73              Yelahanka      2 BHK     1675  1120 - 1145   \n",
       "672            28           Bettahalsoor  4 Bedroom     2370  3090 - 5002   \n",
       "772            47  Banashankari Stage VI      2 BHK      308  1160 - 1195   \n",
       "850            68      Bannerghatta Road      2 BHK     1471  1115 - 1130   \n",
       "\n",
       "     bath  balcony    price  area_type_Carpet  Area  area_type_Plot  Area  \\\n",
       "30    4.0      0.0  186.000                   False                 False   \n",
       "122   4.0      0.0  477.000                   False                 False   \n",
       "137   2.0      0.0   54.005                   False                 False   \n",
       "165   2.0      0.0   43.490                   False                 False   \n",
       "188   2.0      0.0   56.800                   False                 False   \n",
       "549   2.0      0.0   63.770                   False                 False   \n",
       "661   2.0      0.0   48.130                   False                 False   \n",
       "672   4.0      0.0  445.000                   False                 False   \n",
       "772   2.0      0.0   59.935                   False                 False   \n",
       "850   2.0      0.0   58.935                   False                 False   \n",
       "\n",
       "     area_type_Super built-up  Area  bhk  \n",
       "30                             True    4  \n",
       "122                            True    4  \n",
       "137                            True    2  \n",
       "165                            True    2  \n",
       "188                            True    2  \n",
       "549                            True    2  \n",
       "661                            True    2  \n",
       "672                           False    4  \n",
       "772                            True    2  \n",
       "850                            True    2  "
      ]
     },
     "execution_count": 17,
     "metadata": {},
     "output_type": "execute_result"
    }
   ],
   "source": [
    "df[~df['total_sqft'].apply(is_float)].head(10)"
   ]
  },
  {
   "cell_type": "code",
   "execution_count": 18,
   "id": "0102ced4",
   "metadata": {
    "execution": {
     "iopub.execute_input": "2023-12-17T20:39:52.911290Z",
     "iopub.status.busy": "2023-12-17T20:39:52.910895Z",
     "iopub.status.idle": "2023-12-17T20:39:52.916402Z",
     "shell.execute_reply": "2023-12-17T20:39:52.915452Z"
    },
    "papermill": {
     "duration": 0.032518,
     "end_time": "2023-12-17T20:39:52.918431",
     "exception": false,
     "start_time": "2023-12-17T20:39:52.885913",
     "status": "completed"
    },
    "tags": []
   },
   "outputs": [],
   "source": [
    "def convert_sqft_to_num(x):\n",
    "    tokens = x.split('-')\n",
    "    if len(tokens) == 2:\n",
    "        return (float(tokens[0])+float(tokens[1]))/2\n",
    "    try:\n",
    "        return float(x)\n",
    "    except:\n",
    "        return None   "
   ]
  },
  {
   "cell_type": "code",
   "execution_count": 19,
   "id": "af2e9fd3",
   "metadata": {
    "execution": {
     "iopub.execute_input": "2023-12-17T20:39:52.967740Z",
     "iopub.status.busy": "2023-12-17T20:39:52.967005Z",
     "iopub.status.idle": "2023-12-17T20:39:52.999047Z",
     "shell.execute_reply": "2023-12-17T20:39:52.998081Z"
    },
    "papermill": {
     "duration": 0.058945,
     "end_time": "2023-12-17T20:39:53.001190",
     "exception": false,
     "start_time": "2023-12-17T20:39:52.942245",
     "status": "completed"
    },
    "tags": []
   },
   "outputs": [
    {
     "data": {
      "text/html": [
       "<div>\n",
       "<style scoped>\n",
       "    .dataframe tbody tr th:only-of-type {\n",
       "        vertical-align: middle;\n",
       "    }\n",
       "\n",
       "    .dataframe tbody tr th {\n",
       "        vertical-align: top;\n",
       "    }\n",
       "\n",
       "    .dataframe thead th {\n",
       "        text-align: right;\n",
       "    }\n",
       "</style>\n",
       "<table border=\"1\" class=\"dataframe\">\n",
       "  <thead>\n",
       "    <tr style=\"text-align: right;\">\n",
       "      <th></th>\n",
       "      <th>availability</th>\n",
       "      <th>location</th>\n",
       "      <th>size</th>\n",
       "      <th>society</th>\n",
       "      <th>total_sqft</th>\n",
       "      <th>bath</th>\n",
       "      <th>balcony</th>\n",
       "      <th>price</th>\n",
       "      <th>area_type_Carpet  Area</th>\n",
       "      <th>area_type_Plot  Area</th>\n",
       "      <th>area_type_Super built-up  Area</th>\n",
       "      <th>bhk</th>\n",
       "    </tr>\n",
       "  </thead>\n",
       "  <tbody>\n",
       "    <tr>\n",
       "      <th>0</th>\n",
       "      <td>35</td>\n",
       "      <td>Electronic City Phase II</td>\n",
       "      <td>2 BHK</td>\n",
       "      <td>443</td>\n",
       "      <td>1056.0</td>\n",
       "      <td>2.0</td>\n",
       "      <td>1.0</td>\n",
       "      <td>39.07</td>\n",
       "      <td>False</td>\n",
       "      <td>False</td>\n",
       "      <td>True</td>\n",
       "      <td>2</td>\n",
       "    </tr>\n",
       "    <tr>\n",
       "      <th>1</th>\n",
       "      <td>73</td>\n",
       "      <td>Chikka Tirupathi</td>\n",
       "      <td>4 Bedroom</td>\n",
       "      <td>2353</td>\n",
       "      <td>2600.0</td>\n",
       "      <td>5.0</td>\n",
       "      <td>3.0</td>\n",
       "      <td>120.00</td>\n",
       "      <td>False</td>\n",
       "      <td>True</td>\n",
       "      <td>False</td>\n",
       "      <td>4</td>\n",
       "    </tr>\n",
       "    <tr>\n",
       "      <th>3</th>\n",
       "      <td>73</td>\n",
       "      <td>Lingadheeranahalli</td>\n",
       "      <td>3 BHK</td>\n",
       "      <td>2109</td>\n",
       "      <td>1521.0</td>\n",
       "      <td>3.0</td>\n",
       "      <td>1.0</td>\n",
       "      <td>95.00</td>\n",
       "      <td>False</td>\n",
       "      <td>False</td>\n",
       "      <td>True</td>\n",
       "      <td>3</td>\n",
       "    </tr>\n",
       "    <tr>\n",
       "      <th>5</th>\n",
       "      <td>73</td>\n",
       "      <td>Whitefield</td>\n",
       "      <td>2 BHK</td>\n",
       "      <td>585</td>\n",
       "      <td>1170.0</td>\n",
       "      <td>2.0</td>\n",
       "      <td>1.0</td>\n",
       "      <td>38.00</td>\n",
       "      <td>False</td>\n",
       "      <td>False</td>\n",
       "      <td>True</td>\n",
       "      <td>2</td>\n",
       "    </tr>\n",
       "    <tr>\n",
       "      <th>11</th>\n",
       "      <td>73</td>\n",
       "      <td>Whitefield</td>\n",
       "      <td>4 Bedroom</td>\n",
       "      <td>1566</td>\n",
       "      <td>2785.0</td>\n",
       "      <td>5.0</td>\n",
       "      <td>3.0</td>\n",
       "      <td>295.00</td>\n",
       "      <td>False</td>\n",
       "      <td>True</td>\n",
       "      <td>False</td>\n",
       "      <td>4</td>\n",
       "    </tr>\n",
       "    <tr>\n",
       "      <th>12</th>\n",
       "      <td>73</td>\n",
       "      <td>7th Phase JP Nagar</td>\n",
       "      <td>2 BHK</td>\n",
       "      <td>2015</td>\n",
       "      <td>1000.0</td>\n",
       "      <td>2.0</td>\n",
       "      <td>1.0</td>\n",
       "      <td>38.00</td>\n",
       "      <td>False</td>\n",
       "      <td>False</td>\n",
       "      <td>True</td>\n",
       "      <td>2</td>\n",
       "    </tr>\n",
       "    <tr>\n",
       "      <th>14</th>\n",
       "      <td>73</td>\n",
       "      <td>Sarjapur</td>\n",
       "      <td>3 Bedroom</td>\n",
       "      <td>2075</td>\n",
       "      <td>2250.0</td>\n",
       "      <td>3.0</td>\n",
       "      <td>2.0</td>\n",
       "      <td>148.00</td>\n",
       "      <td>False</td>\n",
       "      <td>True</td>\n",
       "      <td>False</td>\n",
       "      <td>3</td>\n",
       "    </tr>\n",
       "    <tr>\n",
       "      <th>15</th>\n",
       "      <td>73</td>\n",
       "      <td>Mysore Road</td>\n",
       "      <td>2 BHK</td>\n",
       "      <td>1543</td>\n",
       "      <td>1175.0</td>\n",
       "      <td>2.0</td>\n",
       "      <td>2.0</td>\n",
       "      <td>73.50</td>\n",
       "      <td>False</td>\n",
       "      <td>False</td>\n",
       "      <td>True</td>\n",
       "      <td>2</td>\n",
       "    </tr>\n",
       "    <tr>\n",
       "      <th>16</th>\n",
       "      <td>73</td>\n",
       "      <td>Bisuvanahalli</td>\n",
       "      <td>3 BHK</td>\n",
       "      <td>1523</td>\n",
       "      <td>1180.0</td>\n",
       "      <td>3.0</td>\n",
       "      <td>2.0</td>\n",
       "      <td>48.00</td>\n",
       "      <td>False</td>\n",
       "      <td>False</td>\n",
       "      <td>True</td>\n",
       "      <td>3</td>\n",
       "    </tr>\n",
       "    <tr>\n",
       "      <th>17</th>\n",
       "      <td>73</td>\n",
       "      <td>Raja Rajeshwari Nagar</td>\n",
       "      <td>3 BHK</td>\n",
       "      <td>777</td>\n",
       "      <td>1540.0</td>\n",
       "      <td>3.0</td>\n",
       "      <td>3.0</td>\n",
       "      <td>60.00</td>\n",
       "      <td>False</td>\n",
       "      <td>False</td>\n",
       "      <td>True</td>\n",
       "      <td>3</td>\n",
       "    </tr>\n",
       "  </tbody>\n",
       "</table>\n",
       "</div>"
      ],
      "text/plain": [
       "    availability                  location       size  society  total_sqft  \\\n",
       "0             35  Electronic City Phase II      2 BHK      443      1056.0   \n",
       "1             73          Chikka Tirupathi  4 Bedroom     2353      2600.0   \n",
       "3             73        Lingadheeranahalli      3 BHK     2109      1521.0   \n",
       "5             73                Whitefield      2 BHK      585      1170.0   \n",
       "11            73                Whitefield  4 Bedroom     1566      2785.0   \n",
       "12            73        7th Phase JP Nagar      2 BHK     2015      1000.0   \n",
       "14            73                  Sarjapur  3 Bedroom     2075      2250.0   \n",
       "15            73               Mysore Road      2 BHK     1543      1175.0   \n",
       "16            73             Bisuvanahalli      3 BHK     1523      1180.0   \n",
       "17            73     Raja Rajeshwari Nagar      3 BHK      777      1540.0   \n",
       "\n",
       "    bath  balcony   price  area_type_Carpet  Area  area_type_Plot  Area  \\\n",
       "0    2.0      1.0   39.07                   False                 False   \n",
       "1    5.0      3.0  120.00                   False                  True   \n",
       "3    3.0      1.0   95.00                   False                 False   \n",
       "5    2.0      1.0   38.00                   False                 False   \n",
       "11   5.0      3.0  295.00                   False                  True   \n",
       "12   2.0      1.0   38.00                   False                 False   \n",
       "14   3.0      2.0  148.00                   False                  True   \n",
       "15   2.0      2.0   73.50                   False                 False   \n",
       "16   3.0      2.0   48.00                   False                 False   \n",
       "17   3.0      3.0   60.00                   False                 False   \n",
       "\n",
       "    area_type_Super built-up  Area  bhk  \n",
       "0                             True    2  \n",
       "1                            False    4  \n",
       "3                             True    3  \n",
       "5                             True    2  \n",
       "11                           False    4  \n",
       "12                            True    2  \n",
       "14                           False    3  \n",
       "15                            True    2  \n",
       "16                            True    3  \n",
       "17                            True    3  "
      ]
     },
     "execution_count": 19,
     "metadata": {},
     "output_type": "execute_result"
    }
   ],
   "source": [
    "df[\"total_sqft\"] = df[\"total_sqft\"].apply(convert_sqft_to_num)\n",
    "df = df[df[\"total_sqft\"].notnull()]\n",
    "df.head(10)"
   ]
  },
  {
   "cell_type": "code",
   "execution_count": 20,
   "id": "49d5b494",
   "metadata": {
    "execution": {
     "iopub.execute_input": "2023-12-17T20:39:53.051090Z",
     "iopub.status.busy": "2023-12-17T20:39:53.050160Z",
     "iopub.status.idle": "2023-12-17T20:39:53.058996Z",
     "shell.execute_reply": "2023-12-17T20:39:53.058014Z"
    },
    "papermill": {
     "duration": 0.036101,
     "end_time": "2023-12-17T20:39:53.061200",
     "exception": false,
     "start_time": "2023-12-17T20:39:53.025099",
     "status": "completed"
    },
    "scrolled": true,
    "tags": []
   },
   "outputs": [
    {
     "data": {
      "text/plain": [
       "availability                             35\n",
       "location                          Yelahanka\n",
       "size                                  4 BHK\n",
       "society                                1061\n",
       "total_sqft                           2475.0\n",
       "bath                                    4.0\n",
       "balcony                                 0.0\n",
       "price                                 186.0\n",
       "area_type_Carpet  Area                False\n",
       "area_type_Plot  Area                  False\n",
       "area_type_Super built-up  Area         True\n",
       "bhk                                       4\n",
       "Name: 30, dtype: object"
      ]
     },
     "execution_count": 20,
     "metadata": {},
     "output_type": "execute_result"
    }
   ],
   "source": [
    "df.loc[30]"
   ]
  },
  {
   "cell_type": "code",
   "execution_count": 21,
   "id": "e5dce9e7",
   "metadata": {
    "execution": {
     "iopub.execute_input": "2023-12-17T20:39:53.111881Z",
     "iopub.status.busy": "2023-12-17T20:39:53.111103Z",
     "iopub.status.idle": "2023-12-17T20:39:53.133642Z",
     "shell.execute_reply": "2023-12-17T20:39:53.132509Z"
    },
    "papermill": {
     "duration": 0.050471,
     "end_time": "2023-12-17T20:39:53.135993",
     "exception": false,
     "start_time": "2023-12-17T20:39:53.085522",
     "status": "completed"
    },
    "tags": []
   },
   "outputs": [
    {
     "data": {
      "text/html": [
       "<div>\n",
       "<style scoped>\n",
       "    .dataframe tbody tr th:only-of-type {\n",
       "        vertical-align: middle;\n",
       "    }\n",
       "\n",
       "    .dataframe tbody tr th {\n",
       "        vertical-align: top;\n",
       "    }\n",
       "\n",
       "    .dataframe thead th {\n",
       "        text-align: right;\n",
       "    }\n",
       "</style>\n",
       "<table border=\"1\" class=\"dataframe\">\n",
       "  <thead>\n",
       "    <tr style=\"text-align: right;\">\n",
       "      <th></th>\n",
       "      <th>availability</th>\n",
       "      <th>location</th>\n",
       "      <th>size</th>\n",
       "      <th>society</th>\n",
       "      <th>total_sqft</th>\n",
       "      <th>bath</th>\n",
       "      <th>balcony</th>\n",
       "      <th>price</th>\n",
       "      <th>area_type_Carpet  Area</th>\n",
       "      <th>area_type_Plot  Area</th>\n",
       "      <th>area_type_Super built-up  Area</th>\n",
       "      <th>bhk</th>\n",
       "      <th>price_per_sqft</th>\n",
       "    </tr>\n",
       "  </thead>\n",
       "  <tbody>\n",
       "    <tr>\n",
       "      <th>0</th>\n",
       "      <td>35</td>\n",
       "      <td>Electronic City Phase II</td>\n",
       "      <td>2 BHK</td>\n",
       "      <td>443</td>\n",
       "      <td>1056.0</td>\n",
       "      <td>2.0</td>\n",
       "      <td>1.0</td>\n",
       "      <td>39.07</td>\n",
       "      <td>False</td>\n",
       "      <td>False</td>\n",
       "      <td>True</td>\n",
       "      <td>2</td>\n",
       "      <td>3699.810606</td>\n",
       "    </tr>\n",
       "    <tr>\n",
       "      <th>1</th>\n",
       "      <td>73</td>\n",
       "      <td>Chikka Tirupathi</td>\n",
       "      <td>4 Bedroom</td>\n",
       "      <td>2353</td>\n",
       "      <td>2600.0</td>\n",
       "      <td>5.0</td>\n",
       "      <td>3.0</td>\n",
       "      <td>120.00</td>\n",
       "      <td>False</td>\n",
       "      <td>True</td>\n",
       "      <td>False</td>\n",
       "      <td>4</td>\n",
       "      <td>4615.384615</td>\n",
       "    </tr>\n",
       "    <tr>\n",
       "      <th>3</th>\n",
       "      <td>73</td>\n",
       "      <td>Lingadheeranahalli</td>\n",
       "      <td>3 BHK</td>\n",
       "      <td>2109</td>\n",
       "      <td>1521.0</td>\n",
       "      <td>3.0</td>\n",
       "      <td>1.0</td>\n",
       "      <td>95.00</td>\n",
       "      <td>False</td>\n",
       "      <td>False</td>\n",
       "      <td>True</td>\n",
       "      <td>3</td>\n",
       "      <td>6245.890861</td>\n",
       "    </tr>\n",
       "    <tr>\n",
       "      <th>5</th>\n",
       "      <td>73</td>\n",
       "      <td>Whitefield</td>\n",
       "      <td>2 BHK</td>\n",
       "      <td>585</td>\n",
       "      <td>1170.0</td>\n",
       "      <td>2.0</td>\n",
       "      <td>1.0</td>\n",
       "      <td>38.00</td>\n",
       "      <td>False</td>\n",
       "      <td>False</td>\n",
       "      <td>True</td>\n",
       "      <td>2</td>\n",
       "      <td>3247.863248</td>\n",
       "    </tr>\n",
       "    <tr>\n",
       "      <th>11</th>\n",
       "      <td>73</td>\n",
       "      <td>Whitefield</td>\n",
       "      <td>4 Bedroom</td>\n",
       "      <td>1566</td>\n",
       "      <td>2785.0</td>\n",
       "      <td>5.0</td>\n",
       "      <td>3.0</td>\n",
       "      <td>295.00</td>\n",
       "      <td>False</td>\n",
       "      <td>True</td>\n",
       "      <td>False</td>\n",
       "      <td>4</td>\n",
       "      <td>10592.459605</td>\n",
       "    </tr>\n",
       "  </tbody>\n",
       "</table>\n",
       "</div>"
      ],
      "text/plain": [
       "    availability                  location       size  society  total_sqft  \\\n",
       "0             35  Electronic City Phase II      2 BHK      443      1056.0   \n",
       "1             73          Chikka Tirupathi  4 Bedroom     2353      2600.0   \n",
       "3             73        Lingadheeranahalli      3 BHK     2109      1521.0   \n",
       "5             73                Whitefield      2 BHK      585      1170.0   \n",
       "11            73                Whitefield  4 Bedroom     1566      2785.0   \n",
       "\n",
       "    bath  balcony   price  area_type_Carpet  Area  area_type_Plot  Area  \\\n",
       "0    2.0      1.0   39.07                   False                 False   \n",
       "1    5.0      3.0  120.00                   False                  True   \n",
       "3    3.0      1.0   95.00                   False                 False   \n",
       "5    2.0      1.0   38.00                   False                 False   \n",
       "11   5.0      3.0  295.00                   False                  True   \n",
       "\n",
       "    area_type_Super built-up  Area  bhk  price_per_sqft  \n",
       "0                             True    2     3699.810606  \n",
       "1                            False    4     4615.384615  \n",
       "3                             True    3     6245.890861  \n",
       "5                             True    2     3247.863248  \n",
       "11                           False    4    10592.459605  "
      ]
     },
     "execution_count": 21,
     "metadata": {},
     "output_type": "execute_result"
    }
   ],
   "source": [
    "df['price_per_sqft'] = df['price']*100000/df['total_sqft']\n",
    "df.head()"
   ]
  },
  {
   "cell_type": "code",
   "execution_count": 22,
   "id": "86465e3f",
   "metadata": {
    "execution": {
     "iopub.execute_input": "2023-12-17T20:39:53.187103Z",
     "iopub.status.busy": "2023-12-17T20:39:53.186718Z",
     "iopub.status.idle": "2023-12-17T20:39:53.193198Z",
     "shell.execute_reply": "2023-12-17T20:39:53.192143Z"
    },
    "papermill": {
     "duration": 0.035269,
     "end_time": "2023-12-17T20:39:53.195956",
     "exception": false,
     "start_time": "2023-12-17T20:39:53.160687",
     "status": "completed"
    },
    "tags": []
   },
   "outputs": [
    {
     "data": {
      "text/plain": [
       "(7481, 13)"
      ]
     },
     "execution_count": 22,
     "metadata": {},
     "output_type": "execute_result"
    }
   ],
   "source": [
    "df.shape"
   ]
  },
  {
   "cell_type": "code",
   "execution_count": 23,
   "id": "2dc6c5eb",
   "metadata": {
    "execution": {
     "iopub.execute_input": "2023-12-17T20:39:53.247905Z",
     "iopub.status.busy": "2023-12-17T20:39:53.247527Z",
     "iopub.status.idle": "2023-12-17T20:39:53.262166Z",
     "shell.execute_reply": "2023-12-17T20:39:53.261181Z"
    },
    "papermill": {
     "duration": 0.043551,
     "end_time": "2023-12-17T20:39:53.264508",
     "exception": false,
     "start_time": "2023-12-17T20:39:53.220957",
     "status": "completed"
    },
    "tags": []
   },
   "outputs": [
    {
     "data": {
      "text/plain": [
       "location\n",
       "Whitefield           397\n",
       "Sarjapur  Road       310\n",
       "Electronic City      238\n",
       "Kanakpura Road       216\n",
       "Thanisandra          214\n",
       "                    ... \n",
       "1 Giri Nagar           1\n",
       "Chikkabidarakallu      1\n",
       "Mailasandra            1\n",
       "Kattigenahalli         1\n",
       "Abshot Layout          1\n",
       "Name: count, Length: 625, dtype: int64"
      ]
     },
     "execution_count": 23,
     "metadata": {},
     "output_type": "execute_result"
    }
   ],
   "source": [
    "df.location = df.location.apply(lambda x: x.strip())\n",
    "location_stats = df['location'].value_counts(ascending=False)\n",
    "location_stats"
   ]
  },
  {
   "cell_type": "code",
   "execution_count": 24,
   "id": "2ef33103",
   "metadata": {
    "execution": {
     "iopub.execute_input": "2023-12-17T20:39:53.316340Z",
     "iopub.status.busy": "2023-12-17T20:39:53.315799Z",
     "iopub.status.idle": "2023-12-17T20:39:53.322878Z",
     "shell.execute_reply": "2023-12-17T20:39:53.321828Z"
    },
    "papermill": {
     "duration": 0.035635,
     "end_time": "2023-12-17T20:39:53.325224",
     "exception": false,
     "start_time": "2023-12-17T20:39:53.289589",
     "status": "completed"
    },
    "tags": []
   },
   "outputs": [
    {
     "data": {
      "text/plain": [
       "7481"
      ]
     },
     "execution_count": 24,
     "metadata": {},
     "output_type": "execute_result"
    }
   ],
   "source": [
    "location_stats.values.sum()"
   ]
  },
  {
   "cell_type": "code",
   "execution_count": 25,
   "id": "b4d662a9",
   "metadata": {
    "execution": {
     "iopub.execute_input": "2023-12-17T20:39:53.377814Z",
     "iopub.status.busy": "2023-12-17T20:39:53.376753Z",
     "iopub.status.idle": "2023-12-17T20:39:53.386254Z",
     "shell.execute_reply": "2023-12-17T20:39:53.385244Z"
    },
    "papermill": {
     "duration": 0.038231,
     "end_time": "2023-12-17T20:39:53.388507",
     "exception": false,
     "start_time": "2023-12-17T20:39:53.350276",
     "status": "completed"
    },
    "tags": []
   },
   "outputs": [
    {
     "data": {
      "text/plain": [
       "location\n",
       "Arekere                   10\n",
       "Jalahalli East            10\n",
       "Amruthahalli              10\n",
       "Banashankari Stage III    10\n",
       "Rayasandra                10\n",
       "                          ..\n",
       "1 Giri Nagar               1\n",
       "Chikkabidarakallu          1\n",
       "Mailasandra                1\n",
       "Kattigenahalli             1\n",
       "Abshot Layout              1\n",
       "Name: count, Length: 482, dtype: int64"
      ]
     },
     "execution_count": 25,
     "metadata": {},
     "output_type": "execute_result"
    }
   ],
   "source": [
    "location_stats_less_than_10 = location_stats[location_stats<=10]\n",
    "location_stats_less_than_10"
   ]
  },
  {
   "cell_type": "code",
   "execution_count": 26,
   "id": "34d9d6a4",
   "metadata": {
    "execution": {
     "iopub.execute_input": "2023-12-17T20:39:53.440851Z",
     "iopub.status.busy": "2023-12-17T20:39:53.440469Z",
     "iopub.status.idle": "2023-12-17T20:39:53.448056Z",
     "shell.execute_reply": "2023-12-17T20:39:53.446819Z"
    },
    "papermill": {
     "duration": 0.036747,
     "end_time": "2023-12-17T20:39:53.450381",
     "exception": false,
     "start_time": "2023-12-17T20:39:53.413634",
     "status": "completed"
    },
    "tags": []
   },
   "outputs": [
    {
     "data": {
      "text/plain": [
       "625"
      ]
     },
     "execution_count": 26,
     "metadata": {},
     "output_type": "execute_result"
    }
   ],
   "source": [
    "len(df.location.unique())"
   ]
  },
  {
   "cell_type": "code",
   "execution_count": 27,
   "id": "36dd3e33",
   "metadata": {
    "execution": {
     "iopub.execute_input": "2023-12-17T20:39:53.502888Z",
     "iopub.status.busy": "2023-12-17T20:39:53.502487Z",
     "iopub.status.idle": "2023-12-17T20:39:53.536571Z",
     "shell.execute_reply": "2023-12-17T20:39:53.535493Z"
    },
    "papermill": {
     "duration": 0.063662,
     "end_time": "2023-12-17T20:39:53.539252",
     "exception": false,
     "start_time": "2023-12-17T20:39:53.475590",
     "status": "completed"
    },
    "tags": []
   },
   "outputs": [
    {
     "data": {
      "text/plain": [
       "144"
      ]
     },
     "execution_count": 27,
     "metadata": {},
     "output_type": "execute_result"
    }
   ],
   "source": [
    "df[\"location\"] = df[\"location\"].apply(lambda x: 'other' if x in location_stats_less_than_10 else x)\n",
    "len(df[\"location\"].unique())"
   ]
  },
  {
   "cell_type": "code",
   "execution_count": 28,
   "id": "9b200581",
   "metadata": {
    "execution": {
     "iopub.execute_input": "2023-12-17T20:39:53.592156Z",
     "iopub.status.busy": "2023-12-17T20:39:53.591737Z",
     "iopub.status.idle": "2023-12-17T20:39:53.598332Z",
     "shell.execute_reply": "2023-12-17T20:39:53.597409Z"
    },
    "papermill": {
     "duration": 0.035872,
     "end_time": "2023-12-17T20:39:53.600626",
     "exception": false,
     "start_time": "2023-12-17T20:39:53.564754",
     "status": "completed"
    },
    "tags": []
   },
   "outputs": [
    {
     "data": {
      "text/plain": [
       "(7481, 13)"
      ]
     },
     "execution_count": 28,
     "metadata": {},
     "output_type": "execute_result"
    }
   ],
   "source": [
    "df.shape"
   ]
  },
  {
   "cell_type": "code",
   "execution_count": 29,
   "id": "e75320e6",
   "metadata": {
    "execution": {
     "iopub.execute_input": "2023-12-17T20:39:53.653969Z",
     "iopub.status.busy": "2023-12-17T20:39:53.653126Z",
     "iopub.status.idle": "2023-12-17T20:39:53.663504Z",
     "shell.execute_reply": "2023-12-17T20:39:53.662576Z"
    },
    "papermill": {
     "duration": 0.039611,
     "end_time": "2023-12-17T20:39:53.665817",
     "exception": false,
     "start_time": "2023-12-17T20:39:53.626206",
     "status": "completed"
    },
    "scrolled": true,
    "tags": []
   },
   "outputs": [
    {
     "data": {
      "text/plain": [
       "(7439, 13)"
      ]
     },
     "execution_count": 29,
     "metadata": {},
     "output_type": "execute_result"
    }
   ],
   "source": [
    "df = df[~(df.total_sqft/df.bhk<300)]\n",
    "df.shape"
   ]
  },
  {
   "cell_type": "code",
   "execution_count": 30,
   "id": "9e3b0de9",
   "metadata": {
    "execution": {
     "iopub.execute_input": "2023-12-17T20:39:53.719901Z",
     "iopub.status.busy": "2023-12-17T20:39:53.719291Z",
     "iopub.status.idle": "2023-12-17T20:39:53.729871Z",
     "shell.execute_reply": "2023-12-17T20:39:53.729123Z"
    },
    "papermill": {
     "duration": 0.039857,
     "end_time": "2023-12-17T20:39:53.732178",
     "exception": false,
     "start_time": "2023-12-17T20:39:53.692321",
     "status": "completed"
    },
    "tags": []
   },
   "outputs": [
    {
     "data": {
      "text/plain": [
       "count     7439.000000\n",
       "mean      5851.020195\n",
       "std       2705.465697\n",
       "min        371.428571\n",
       "25%       4283.397683\n",
       "50%       5319.284802\n",
       "75%       6693.881632\n",
       "max      76530.612245\n",
       "Name: price_per_sqft, dtype: float64"
      ]
     },
     "execution_count": 30,
     "metadata": {},
     "output_type": "execute_result"
    }
   ],
   "source": [
    "df.price_per_sqft.describe()\n"
   ]
  },
  {
   "cell_type": "code",
   "execution_count": 31,
   "id": "2ca667c5",
   "metadata": {
    "execution": {
     "iopub.execute_input": "2023-12-17T20:39:53.786656Z",
     "iopub.status.busy": "2023-12-17T20:39:53.785998Z",
     "iopub.status.idle": "2023-12-17T20:39:54.119919Z",
     "shell.execute_reply": "2023-12-17T20:39:54.119034Z"
    },
    "papermill": {
     "duration": 0.363658,
     "end_time": "2023-12-17T20:39:54.122152",
     "exception": false,
     "start_time": "2023-12-17T20:39:53.758494",
     "status": "completed"
    },
    "tags": []
   },
   "outputs": [
    {
     "data": {
      "text/plain": [
       "(5862, 13)"
      ]
     },
     "execution_count": 31,
     "metadata": {},
     "output_type": "execute_result"
    }
   ],
   "source": [
    "def remove_pps_outliers(df):\n",
    "    df_out = pd.DataFrame()\n",
    "    for key, subdf in df.groupby('location'):\n",
    "        m = np.mean(subdf.price_per_sqft)\n",
    "        st = np.std(subdf.price_per_sqft)\n",
    "        reduced_df = subdf[(subdf.price_per_sqft>(m-st)) & (subdf.price_per_sqft<=(m+st))]\n",
    "        df_out = pd.concat([df_out,reduced_df],ignore_index=True)\n",
    "    return df_out\n",
    "df = remove_pps_outliers(df)\n",
    "df.shape"
   ]
  },
  {
   "cell_type": "code",
   "execution_count": 32,
   "id": "30a5aa6f",
   "metadata": {
    "execution": {
     "iopub.execute_input": "2023-12-17T20:39:54.176143Z",
     "iopub.status.busy": "2023-12-17T20:39:54.175694Z",
     "iopub.status.idle": "2023-12-17T20:39:54.757877Z",
     "shell.execute_reply": "2023-12-17T20:39:54.756668Z"
    },
    "papermill": {
     "duration": 0.612359,
     "end_time": "2023-12-17T20:39:54.760528",
     "exception": false,
     "start_time": "2023-12-17T20:39:54.148169",
     "status": "completed"
    },
    "tags": []
   },
   "outputs": [
    {
     "data": {
      "image/png": "[encoded data removed]",
      "text/plain": [
       "<Figure size 1500x1000 with 1 Axes>"
      ]
     },
     "metadata": {},
     "output_type": "display_data"
    }
   ],
   "source": [
    "def plot_scatter_chart(df,location):\n",
    "    bhk2 = df[(df.location==location) & (df.bhk==2)]\n",
    "    bhk3 = df[(df.location==location) & (df.bhk==3)]\n",
    "    matplotlib.rcParams['figure.figsize'] = (15,10)\n",
    "    plt.scatter(bhk2.total_sqft,bhk2.price,color='blue',label='2 BHK', s=50)\n",
    "    plt.scatter(bhk3.total_sqft,bhk3.price,marker='+', color='green',label='3 BHK', s=50)\n",
    "    plt.xlabel(\"Total Square Feet Area\")\n",
    "    plt.ylabel(\"Price (Lakh Indian Rupees)\")\n",
    "    plt.title(location)\n",
    "    plt.legend()\n",
    "    \n",
    "plot_scatter_chart(df,\"Rajaji Nagar\")"
   ]
  },
  {
   "cell_type": "code",
   "execution_count": 33,
   "id": "cc275df5",
   "metadata": {
    "execution": {
     "iopub.execute_input": "2023-12-17T20:39:54.815806Z",
     "iopub.status.busy": "2023-12-17T20:39:54.815397Z",
     "iopub.status.idle": "2023-12-17T20:39:55.279431Z",
     "shell.execute_reply": "2023-12-17T20:39:55.278232Z"
    },
    "papermill": {
     "duration": 0.494377,
     "end_time": "2023-12-17T20:39:55.282012",
     "exception": false,
     "start_time": "2023-12-17T20:39:54.787635",
     "status": "completed"
    },
    "tags": []
   },
   "outputs": [
    {
     "data": {
      "image/png": "[encoded data removed]",
      "text/plain": [
       "<Figure size 1500x1000 with 1 Axes>"
      ]
     },
     "metadata": {},
     "output_type": "display_data"
    }
   ],
   "source": [
    "plot_scatter_chart(df,\"Hebbal\")"
   ]
  },
  {
   "cell_type": "code",
   "execution_count": 34,
   "id": "e0de8c1d",
   "metadata": {
    "execution": {
     "iopub.execute_input": "2023-12-17T20:39:55.338402Z",
     "iopub.status.busy": "2023-12-17T20:39:55.337981Z",
     "iopub.status.idle": "2023-12-17T20:39:55.865999Z",
     "shell.execute_reply": "2023-12-17T20:39:55.864971Z"
    },
    "papermill": {
     "duration": 0.559242,
     "end_time": "2023-12-17T20:39:55.868512",
     "exception": false,
     "start_time": "2023-12-17T20:39:55.309270",
     "status": "completed"
    },
    "tags": []
   },
   "outputs": [
    {
     "data": {
      "text/plain": [
       "(4059, 13)"
      ]
     },
     "execution_count": 34,
     "metadata": {},
     "output_type": "execute_result"
    }
   ],
   "source": [
    "def remove_bhk_outliers(df):\n",
    "    exclude_indices = np.array([])\n",
    "    for location, location_df in df.groupby('location'):\n",
    "        bhk_stats = {}\n",
    "        for bhk, bhk_df in location_df.groupby('bhk'):\n",
    "            bhk_stats[bhk] = {\n",
    "                'mean': np.mean(bhk_df.price_per_sqft),\n",
    "                'std': np.std(bhk_df.price_per_sqft),\n",
    "                'count': bhk_df.shape[0]\n",
    "            }\n",
    "        for bhk, bhk_df in location_df.groupby('bhk'):\n",
    "            stats = bhk_stats.get(bhk-1)\n",
    "            if stats and stats['count']>5:\n",
    "                exclude_indices = np.append(exclude_indices, bhk_df[bhk_df.price_per_sqft<(stats['mean'])].index.values)\n",
    "    return df.drop(exclude_indices,axis='index')\n",
    "df = remove_bhk_outliers(df)\n",
    "df.shape"
   ]
  },
  {
   "cell_type": "code",
   "execution_count": 35,
   "id": "f6b59151",
   "metadata": {
    "execution": {
     "iopub.execute_input": "2023-12-17T20:39:55.925336Z",
     "iopub.status.busy": "2023-12-17T20:39:55.924947Z",
     "iopub.status.idle": "2023-12-17T20:39:56.384746Z",
     "shell.execute_reply": "2023-12-17T20:39:56.383765Z"
    },
    "papermill": {
     "duration": 0.491244,
     "end_time": "2023-12-17T20:39:56.387293",
     "exception": false,
     "start_time": "2023-12-17T20:39:55.896049",
     "status": "completed"
    },
    "tags": []
   },
   "outputs": [
    {
     "data": {
      "image/png": "[encoded data removed]",
      "text/plain": [
       "<Figure size 1500x1000 with 1 Axes>"
      ]
     },
     "metadata": {},
     "output_type": "display_data"
    }
   ],
   "source": [
    "plot_scatter_chart(df,\"Rajaji Nagar\")"
   ]
  },
  {
   "cell_type": "code",
   "execution_count": 36,
   "id": "880b65a3",
   "metadata": {
    "execution": {
     "iopub.execute_input": "2023-12-17T20:39:56.445928Z",
     "iopub.status.busy": "2023-12-17T20:39:56.444962Z",
     "iopub.status.idle": "2023-12-17T20:39:56.914745Z",
     "shell.execute_reply": "2023-12-17T20:39:56.913249Z"
    },
    "papermill": {
     "duration": 0.502922,
     "end_time": "2023-12-17T20:39:56.918545",
     "exception": false,
     "start_time": "2023-12-17T20:39:56.415623",
     "status": "completed"
    },
    "scrolled": true,
    "tags": []
   },
   "outputs": [
    {
     "data": {
      "image/png": "[encoded data removed]",
      "text/plain": [
       "<Figure size 1500x1000 with 1 Axes>"
      ]
     },
     "metadata": {},
     "output_type": "display_data"
    }
   ],
   "source": [
    "plot_scatter_chart(df,\"Hebbal\")"
   ]
  },
  {
   "cell_type": "code",
   "execution_count": 37,
   "id": "aeb4418c",
   "metadata": {
    "execution": {
     "iopub.execute_input": "2023-12-17T20:39:56.986399Z",
     "iopub.status.busy": "2023-12-17T20:39:56.985992Z",
     "iopub.status.idle": "2023-12-17T20:39:57.390972Z",
     "shell.execute_reply": "2023-12-17T20:39:57.389817Z"
    },
    "papermill": {
     "duration": 0.438018,
     "end_time": "2023-12-17T20:39:57.393599",
     "exception": false,
     "start_time": "2023-12-17T20:39:56.955581",
     "status": "completed"
    },
    "tags": []
   },
   "outputs": [
    {
     "data": {
      "text/plain": [
       "Text(0, 0.5, 'Count')"
      ]
     },
     "execution_count": 37,
     "metadata": {},
     "output_type": "execute_result"
    },
    {
     "data": {
      "image/png": "[encoded data removed]",
      "text/plain": [
       "<Figure size 2000x1000 with 1 Axes>"
      ]
     },
     "metadata": {},
     "output_type": "display_data"
    }
   ],
   "source": [
    "import matplotlib\n",
    "matplotlib.rcParams[\"figure.figsize\"] = (20,10)\n",
    "plt.hist(df.price_per_sqft,rwidth=0.8)\n",
    "plt.xlabel(\"Price Per Square Feet\")\n",
    "plt.ylabel(\"Count\")"
   ]
  },
  {
   "cell_type": "code",
   "execution_count": 38,
   "id": "04741583",
   "metadata": {
    "execution": {
     "iopub.execute_input": "2023-12-17T20:39:57.454539Z",
     "iopub.status.busy": "2023-12-17T20:39:57.454149Z",
     "iopub.status.idle": "2023-12-17T20:39:57.462839Z",
     "shell.execute_reply": "2023-12-17T20:39:57.461700Z"
    },
    "papermill": {
     "duration": 0.042232,
     "end_time": "2023-12-17T20:39:57.465212",
     "exception": false,
     "start_time": "2023-12-17T20:39:57.422980",
     "status": "completed"
    },
    "tags": []
   },
   "outputs": [
    {
     "data": {
      "text/plain": [
       "array([4., 3., 2., 5., 1., 6., 7., 9.])"
      ]
     },
     "execution_count": 38,
     "metadata": {},
     "output_type": "execute_result"
    }
   ],
   "source": [
    "df.bath.unique()"
   ]
  },
  {
   "cell_type": "code",
   "execution_count": 39,
   "id": "01f7433f",
   "metadata": {
    "execution": {
     "iopub.execute_input": "2023-12-17T20:39:57.526448Z",
     "iopub.status.busy": "2023-12-17T20:39:57.525731Z",
     "iopub.status.idle": "2023-12-17T20:39:57.921035Z",
     "shell.execute_reply": "2023-12-17T20:39:57.920242Z"
    },
    "papermill": {
     "duration": 0.428375,
     "end_time": "2023-12-17T20:39:57.923228",
     "exception": false,
     "start_time": "2023-12-17T20:39:57.494853",
     "status": "completed"
    },
    "tags": []
   },
   "outputs": [
    {
     "data": {
      "text/plain": [
       "Text(0, 0.5, 'Count')"
      ]
     },
     "execution_count": 39,
     "metadata": {},
     "output_type": "execute_result"
    },
    {
     "data": {
      "image/png": "[encoded data removed]",
      "text/plain": [
       "<Figure size 2000x1000 with 1 Axes>"
      ]
     },
     "metadata": {},
     "output_type": "display_data"
    }
   ],
   "source": [
    "plt.hist(df.bath,rwidth=0.8)\n",
    "plt.xlabel(\"Number of bathrooms\")\n",
    "plt.ylabel(\"Count\")"
   ]
  },
  {
   "cell_type": "code",
   "execution_count": 40,
   "id": "558d9796",
   "metadata": {
    "execution": {
     "iopub.execute_input": "2023-12-17T20:39:57.985686Z",
     "iopub.status.busy": "2023-12-17T20:39:57.985299Z",
     "iopub.status.idle": "2023-12-17T20:39:57.998219Z",
     "shell.execute_reply": "2023-12-17T20:39:57.997142Z"
    },
    "papermill": {
     "duration": 0.047452,
     "end_time": "2023-12-17T20:39:58.001195",
     "exception": false,
     "start_time": "2023-12-17T20:39:57.953743",
     "status": "completed"
    },
    "tags": []
   },
   "outputs": [
    {
     "data": {
      "text/html": [
       "<div>\n",
       "<style scoped>\n",
       "    .dataframe tbody tr th:only-of-type {\n",
       "        vertical-align: middle;\n",
       "    }\n",
       "\n",
       "    .dataframe tbody tr th {\n",
       "        vertical-align: top;\n",
       "    }\n",
       "\n",
       "    .dataframe thead th {\n",
       "        text-align: right;\n",
       "    }\n",
       "</style>\n",
       "<table border=\"1\" class=\"dataframe\">\n",
       "  <thead>\n",
       "    <tr style=\"text-align: right;\">\n",
       "      <th></th>\n",
       "      <th>availability</th>\n",
       "      <th>location</th>\n",
       "      <th>size</th>\n",
       "      <th>society</th>\n",
       "      <th>total_sqft</th>\n",
       "      <th>bath</th>\n",
       "      <th>balcony</th>\n",
       "      <th>price</th>\n",
       "      <th>area_type_Carpet  Area</th>\n",
       "      <th>area_type_Plot  Area</th>\n",
       "      <th>area_type_Super built-up  Area</th>\n",
       "      <th>bhk</th>\n",
       "      <th>price_per_sqft</th>\n",
       "    </tr>\n",
       "  </thead>\n",
       "  <tbody>\n",
       "  </tbody>\n",
       "</table>\n",
       "</div>"
      ],
      "text/plain": [
       "Empty DataFrame\n",
       "Columns: [availability, location, size, society, total_sqft, bath, balcony, price, area_type_Carpet  Area, area_type_Plot  Area, area_type_Super built-up  Area, bhk, price_per_sqft]\n",
       "Index: []"
      ]
     },
     "execution_count": 40,
     "metadata": {},
     "output_type": "execute_result"
    }
   ],
   "source": [
    "df[df.bath>10]"
   ]
  },
  {
   "cell_type": "code",
   "execution_count": 41,
   "id": "8901a77a",
   "metadata": {
    "execution": {
     "iopub.execute_input": "2023-12-17T20:39:58.065006Z",
     "iopub.status.busy": "2023-12-17T20:39:58.064259Z",
     "iopub.status.idle": "2023-12-17T20:39:58.083211Z",
     "shell.execute_reply": "2023-12-17T20:39:58.082046Z"
    },
    "papermill": {
     "duration": 0.053088,
     "end_time": "2023-12-17T20:39:58.085628",
     "exception": false,
     "start_time": "2023-12-17T20:39:58.032540",
     "status": "completed"
    },
    "tags": []
   },
   "outputs": [
    {
     "data": {
      "text/html": [
       "<div>\n",
       "<style scoped>\n",
       "    .dataframe tbody tr th:only-of-type {\n",
       "        vertical-align: middle;\n",
       "    }\n",
       "\n",
       "    .dataframe tbody tr th {\n",
       "        vertical-align: top;\n",
       "    }\n",
       "\n",
       "    .dataframe thead th {\n",
       "        text-align: right;\n",
       "    }\n",
       "</style>\n",
       "<table border=\"1\" class=\"dataframe\">\n",
       "  <thead>\n",
       "    <tr style=\"text-align: right;\">\n",
       "      <th></th>\n",
       "      <th>availability</th>\n",
       "      <th>location</th>\n",
       "      <th>size</th>\n",
       "      <th>society</th>\n",
       "      <th>total_sqft</th>\n",
       "      <th>bath</th>\n",
       "      <th>balcony</th>\n",
       "      <th>price</th>\n",
       "      <th>area_type_Carpet  Area</th>\n",
       "      <th>area_type_Plot  Area</th>\n",
       "      <th>area_type_Super built-up  Area</th>\n",
       "      <th>bhk</th>\n",
       "      <th>price_per_sqft</th>\n",
       "    </tr>\n",
       "  </thead>\n",
       "  <tbody>\n",
       "    <tr>\n",
       "      <th>3791</th>\n",
       "      <td>73</td>\n",
       "      <td>Thanisandra</td>\n",
       "      <td>3 BHK</td>\n",
       "      <td>2121</td>\n",
       "      <td>1806.0</td>\n",
       "      <td>6.0</td>\n",
       "      <td>2.0</td>\n",
       "      <td>116.0</td>\n",
       "      <td>False</td>\n",
       "      <td>False</td>\n",
       "      <td>True</td>\n",
       "      <td>3</td>\n",
       "      <td>6423.034330</td>\n",
       "    </tr>\n",
       "    <tr>\n",
       "      <th>4866</th>\n",
       "      <td>73</td>\n",
       "      <td>other</td>\n",
       "      <td>6 BHK</td>\n",
       "      <td>1562</td>\n",
       "      <td>11338.0</td>\n",
       "      <td>9.0</td>\n",
       "      <td>1.0</td>\n",
       "      <td>1000.0</td>\n",
       "      <td>False</td>\n",
       "      <td>False</td>\n",
       "      <td>True</td>\n",
       "      <td>6</td>\n",
       "      <td>8819.897689</td>\n",
       "    </tr>\n",
       "  </tbody>\n",
       "</table>\n",
       "</div>"
      ],
      "text/plain": [
       "      availability     location   size  society  total_sqft  bath  balcony  \\\n",
       "3791            73  Thanisandra  3 BHK     2121      1806.0   6.0      2.0   \n",
       "4866            73        other  6 BHK     1562     11338.0   9.0      1.0   \n",
       "\n",
       "       price  area_type_Carpet  Area  area_type_Plot  Area  \\\n",
       "3791   116.0                   False                 False   \n",
       "4866  1000.0                   False                 False   \n",
       "\n",
       "      area_type_Super built-up  Area  bhk  price_per_sqft  \n",
       "3791                            True    3     6423.034330  \n",
       "4866                            True    6     8819.897689  "
      ]
     },
     "execution_count": 41,
     "metadata": {},
     "output_type": "execute_result"
    }
   ],
   "source": [
    "df[df.bath>df.bhk+2]"
   ]
  },
  {
   "cell_type": "code",
   "execution_count": 42,
   "id": "b39ece79",
   "metadata": {
    "execution": {
     "iopub.execute_input": "2023-12-17T20:39:58.148953Z",
     "iopub.status.busy": "2023-12-17T20:39:58.148537Z",
     "iopub.status.idle": "2023-12-17T20:39:58.158098Z",
     "shell.execute_reply": "2023-12-17T20:39:58.157038Z"
    },
    "papermill": {
     "duration": 0.043353,
     "end_time": "2023-12-17T20:39:58.160276",
     "exception": false,
     "start_time": "2023-12-17T20:39:58.116923",
     "status": "completed"
    },
    "tags": []
   },
   "outputs": [
    {
     "data": {
      "text/plain": [
       "(4017, 13)"
      ]
     },
     "execution_count": 42,
     "metadata": {},
     "output_type": "execute_result"
    }
   ],
   "source": [
    "df = df[df.bath<df.bhk+2]\n",
    "df.shape"
   ]
  },
  {
   "cell_type": "code",
   "execution_count": 43,
   "id": "8220ec46",
   "metadata": {
    "execution": {
     "iopub.execute_input": "2023-12-17T20:39:58.224458Z",
     "iopub.status.busy": "2023-12-17T20:39:58.223981Z",
     "iopub.status.idle": "2023-12-17T20:39:58.242011Z",
     "shell.execute_reply": "2023-12-17T20:39:58.240960Z"
    },
    "papermill": {
     "duration": 0.053068,
     "end_time": "2023-12-17T20:39:58.244221",
     "exception": false,
     "start_time": "2023-12-17T20:39:58.191153",
     "status": "completed"
    },
    "tags": []
   },
   "outputs": [
    {
     "data": {
      "text/html": [
       "<div>\n",
       "<style scoped>\n",
       "    .dataframe tbody tr th:only-of-type {\n",
       "        vertical-align: middle;\n",
       "    }\n",
       "\n",
       "    .dataframe tbody tr th {\n",
       "        vertical-align: top;\n",
       "    }\n",
       "\n",
       "    .dataframe thead th {\n",
       "        text-align: right;\n",
       "    }\n",
       "</style>\n",
       "<table border=\"1\" class=\"dataframe\">\n",
       "  <thead>\n",
       "    <tr style=\"text-align: right;\">\n",
       "      <th></th>\n",
       "      <th>availability</th>\n",
       "      <th>location</th>\n",
       "      <th>size</th>\n",
       "      <th>society</th>\n",
       "      <th>total_sqft</th>\n",
       "      <th>bath</th>\n",
       "      <th>balcony</th>\n",
       "      <th>price</th>\n",
       "      <th>area_type_Carpet  Area</th>\n",
       "      <th>area_type_Plot  Area</th>\n",
       "      <th>area_type_Super built-up  Area</th>\n",
       "      <th>bhk</th>\n",
       "      <th>price_per_sqft</th>\n",
       "    </tr>\n",
       "  </thead>\n",
       "  <tbody>\n",
       "    <tr>\n",
       "      <th>0</th>\n",
       "      <td>73</td>\n",
       "      <td>1st Phase JP Nagar</td>\n",
       "      <td>4 BHK</td>\n",
       "      <td>1499</td>\n",
       "      <td>2825.0</td>\n",
       "      <td>4.0</td>\n",
       "      <td>3.0</td>\n",
       "      <td>250.0</td>\n",
       "      <td>False</td>\n",
       "      <td>False</td>\n",
       "      <td>True</td>\n",
       "      <td>4</td>\n",
       "      <td>8849.557522</td>\n",
       "    </tr>\n",
       "    <tr>\n",
       "      <th>1</th>\n",
       "      <td>73</td>\n",
       "      <td>1st Phase JP Nagar</td>\n",
       "      <td>3 BHK</td>\n",
       "      <td>1499</td>\n",
       "      <td>1875.0</td>\n",
       "      <td>3.0</td>\n",
       "      <td>1.0</td>\n",
       "      <td>167.0</td>\n",
       "      <td>False</td>\n",
       "      <td>False</td>\n",
       "      <td>True</td>\n",
       "      <td>3</td>\n",
       "      <td>8906.666667</td>\n",
       "    </tr>\n",
       "  </tbody>\n",
       "</table>\n",
       "</div>"
      ],
      "text/plain": [
       "   availability            location   size  society  total_sqft  bath  \\\n",
       "0            73  1st Phase JP Nagar  4 BHK     1499      2825.0   4.0   \n",
       "1            73  1st Phase JP Nagar  3 BHK     1499      1875.0   3.0   \n",
       "\n",
       "   balcony  price  area_type_Carpet  Area  area_type_Plot  Area  \\\n",
       "0      3.0  250.0                   False                 False   \n",
       "1      1.0  167.0                   False                 False   \n",
       "\n",
       "   area_type_Super built-up  Area  bhk  price_per_sqft  \n",
       "0                            True    4     8849.557522  \n",
       "1                            True    3     8906.666667  "
      ]
     },
     "execution_count": 43,
     "metadata": {},
     "output_type": "execute_result"
    }
   ],
   "source": [
    "df.head(2)"
   ]
  },
  {
   "cell_type": "code",
   "execution_count": 44,
   "id": "4b92df24",
   "metadata": {
    "execution": {
     "iopub.execute_input": "2023-12-17T20:39:58.308597Z",
     "iopub.status.busy": "2023-12-17T20:39:58.308181Z",
     "iopub.status.idle": "2023-12-17T20:39:58.327987Z",
     "shell.execute_reply": "2023-12-17T20:39:58.326864Z"
    },
    "papermill": {
     "duration": 0.054062,
     "end_time": "2023-12-17T20:39:58.330161",
     "exception": false,
     "start_time": "2023-12-17T20:39:58.276099",
     "status": "completed"
    },
    "scrolled": true,
    "tags": []
   },
   "outputs": [
    {
     "data": {
      "text/html": [
       "<div>\n",
       "<style scoped>\n",
       "    .dataframe tbody tr th:only-of-type {\n",
       "        vertical-align: middle;\n",
       "    }\n",
       "\n",
       "    .dataframe tbody tr th {\n",
       "        vertical-align: top;\n",
       "    }\n",
       "\n",
       "    .dataframe thead th {\n",
       "        text-align: right;\n",
       "    }\n",
       "</style>\n",
       "<table border=\"1\" class=\"dataframe\">\n",
       "  <thead>\n",
       "    <tr style=\"text-align: right;\">\n",
       "      <th></th>\n",
       "      <th>availability</th>\n",
       "      <th>location</th>\n",
       "      <th>society</th>\n",
       "      <th>total_sqft</th>\n",
       "      <th>bath</th>\n",
       "      <th>balcony</th>\n",
       "      <th>price</th>\n",
       "      <th>area_type_Carpet  Area</th>\n",
       "      <th>area_type_Plot  Area</th>\n",
       "      <th>area_type_Super built-up  Area</th>\n",
       "      <th>bhk</th>\n",
       "    </tr>\n",
       "  </thead>\n",
       "  <tbody>\n",
       "    <tr>\n",
       "      <th>0</th>\n",
       "      <td>73</td>\n",
       "      <td>1st Phase JP Nagar</td>\n",
       "      <td>1499</td>\n",
       "      <td>2825.0</td>\n",
       "      <td>4.0</td>\n",
       "      <td>3.0</td>\n",
       "      <td>250.0</td>\n",
       "      <td>False</td>\n",
       "      <td>False</td>\n",
       "      <td>True</td>\n",
       "      <td>4</td>\n",
       "    </tr>\n",
       "    <tr>\n",
       "      <th>1</th>\n",
       "      <td>73</td>\n",
       "      <td>1st Phase JP Nagar</td>\n",
       "      <td>1499</td>\n",
       "      <td>1875.0</td>\n",
       "      <td>3.0</td>\n",
       "      <td>1.0</td>\n",
       "      <td>167.0</td>\n",
       "      <td>False</td>\n",
       "      <td>False</td>\n",
       "      <td>True</td>\n",
       "      <td>3</td>\n",
       "    </tr>\n",
       "    <tr>\n",
       "      <th>2</th>\n",
       "      <td>73</td>\n",
       "      <td>1st Phase JP Nagar</td>\n",
       "      <td>1276</td>\n",
       "      <td>1394.0</td>\n",
       "      <td>2.0</td>\n",
       "      <td>1.0</td>\n",
       "      <td>100.0</td>\n",
       "      <td>False</td>\n",
       "      <td>False</td>\n",
       "      <td>True</td>\n",
       "      <td>2</td>\n",
       "    </tr>\n",
       "  </tbody>\n",
       "</table>\n",
       "</div>"
      ],
      "text/plain": [
       "   availability            location  society  total_sqft  bath  balcony  \\\n",
       "0            73  1st Phase JP Nagar     1499      2825.0   4.0      3.0   \n",
       "1            73  1st Phase JP Nagar     1499      1875.0   3.0      1.0   \n",
       "2            73  1st Phase JP Nagar     1276      1394.0   2.0      1.0   \n",
       "\n",
       "   price  area_type_Carpet  Area  area_type_Plot  Area  \\\n",
       "0  250.0                   False                 False   \n",
       "1  167.0                   False                 False   \n",
       "2  100.0                   False                 False   \n",
       "\n",
       "   area_type_Super built-up  Area  bhk  \n",
       "0                            True    4  \n",
       "1                            True    3  \n",
       "2                            True    2  "
      ]
     },
     "execution_count": 44,
     "metadata": {},
     "output_type": "execute_result"
    }
   ],
   "source": [
    "df = df.drop(['size','price_per_sqft'],axis='columns')\n",
    "df.head(3)"
   ]
  },
  {
   "cell_type": "code",
   "execution_count": 45,
   "id": "4d11568f",
   "metadata": {
    "execution": {
     "iopub.execute_input": "2023-12-17T20:39:58.394773Z",
     "iopub.status.busy": "2023-12-17T20:39:58.394341Z",
     "iopub.status.idle": "2023-12-17T20:39:58.423222Z",
     "shell.execute_reply": "2023-12-17T20:39:58.422082Z"
    },
    "papermill": {
     "duration": 0.064256,
     "end_time": "2023-12-17T20:39:58.425751",
     "exception": false,
     "start_time": "2023-12-17T20:39:58.361495",
     "status": "completed"
    },
    "tags": []
   },
   "outputs": [
    {
     "data": {
      "text/html": [
       "<div>\n",
       "<style scoped>\n",
       "    .dataframe tbody tr th:only-of-type {\n",
       "        vertical-align: middle;\n",
       "    }\n",
       "\n",
       "    .dataframe tbody tr th {\n",
       "        vertical-align: top;\n",
       "    }\n",
       "\n",
       "    .dataframe thead th {\n",
       "        text-align: right;\n",
       "    }\n",
       "</style>\n",
       "<table border=\"1\" class=\"dataframe\">\n",
       "  <thead>\n",
       "    <tr style=\"text-align: right;\">\n",
       "      <th></th>\n",
       "      <th>1st Phase JP Nagar</th>\n",
       "      <th>5th Phase JP Nagar</th>\n",
       "      <th>7th Phase JP Nagar</th>\n",
       "      <th>8th Phase JP Nagar</th>\n",
       "      <th>9th Phase JP Nagar</th>\n",
       "      <th>AECS Layout</th>\n",
       "      <th>Abbigere</th>\n",
       "      <th>Akshaya Nagar</th>\n",
       "      <th>Ambalipura</th>\n",
       "      <th>Ambedkar Nagar</th>\n",
       "      <th>...</th>\n",
       "      <th>Tumkur Road</th>\n",
       "      <th>Uttarahalli</th>\n",
       "      <th>Varthur</th>\n",
       "      <th>Vijayanagar</th>\n",
       "      <th>Vittasandra</th>\n",
       "      <th>Whitefield</th>\n",
       "      <th>Yelahanka</th>\n",
       "      <th>Yelahanka New Town</th>\n",
       "      <th>Yeshwanthpur</th>\n",
       "      <th>other</th>\n",
       "    </tr>\n",
       "  </thead>\n",
       "  <tbody>\n",
       "    <tr>\n",
       "      <th>0</th>\n",
       "      <td>True</td>\n",
       "      <td>False</td>\n",
       "      <td>False</td>\n",
       "      <td>False</td>\n",
       "      <td>False</td>\n",
       "      <td>False</td>\n",
       "      <td>False</td>\n",
       "      <td>False</td>\n",
       "      <td>False</td>\n",
       "      <td>False</td>\n",
       "      <td>...</td>\n",
       "      <td>False</td>\n",
       "      <td>False</td>\n",
       "      <td>False</td>\n",
       "      <td>False</td>\n",
       "      <td>False</td>\n",
       "      <td>False</td>\n",
       "      <td>False</td>\n",
       "      <td>False</td>\n",
       "      <td>False</td>\n",
       "      <td>False</td>\n",
       "    </tr>\n",
       "    <tr>\n",
       "      <th>1</th>\n",
       "      <td>True</td>\n",
       "      <td>False</td>\n",
       "      <td>False</td>\n",
       "      <td>False</td>\n",
       "      <td>False</td>\n",
       "      <td>False</td>\n",
       "      <td>False</td>\n",
       "      <td>False</td>\n",
       "      <td>False</td>\n",
       "      <td>False</td>\n",
       "      <td>...</td>\n",
       "      <td>False</td>\n",
       "      <td>False</td>\n",
       "      <td>False</td>\n",
       "      <td>False</td>\n",
       "      <td>False</td>\n",
       "      <td>False</td>\n",
       "      <td>False</td>\n",
       "      <td>False</td>\n",
       "      <td>False</td>\n",
       "      <td>False</td>\n",
       "    </tr>\n",
       "    <tr>\n",
       "      <th>2</th>\n",
       "      <td>True</td>\n",
       "      <td>False</td>\n",
       "      <td>False</td>\n",
       "      <td>False</td>\n",
       "      <td>False</td>\n",
       "      <td>False</td>\n",
       "      <td>False</td>\n",
       "      <td>False</td>\n",
       "      <td>False</td>\n",
       "      <td>False</td>\n",
       "      <td>...</td>\n",
       "      <td>False</td>\n",
       "      <td>False</td>\n",
       "      <td>False</td>\n",
       "      <td>False</td>\n",
       "      <td>False</td>\n",
       "      <td>False</td>\n",
       "      <td>False</td>\n",
       "      <td>False</td>\n",
       "      <td>False</td>\n",
       "      <td>False</td>\n",
       "    </tr>\n",
       "  </tbody>\n",
       "</table>\n",
       "<p>3 rows × 144 columns</p>\n",
       "</div>"
      ],
      "text/plain": [
       "   1st Phase JP Nagar  5th Phase JP Nagar  7th Phase JP Nagar  \\\n",
       "0                True               False               False   \n",
       "1                True               False               False   \n",
       "2                True               False               False   \n",
       "\n",
       "   8th Phase JP Nagar  9th Phase JP Nagar  AECS Layout  Abbigere  \\\n",
       "0               False               False        False     False   \n",
       "1               False               False        False     False   \n",
       "2               False               False        False     False   \n",
       "\n",
       "   Akshaya Nagar  Ambalipura  Ambedkar Nagar  ...  Tumkur Road  Uttarahalli  \\\n",
       "0          False       False           False  ...        False        False   \n",
       "1          False       False           False  ...        False        False   \n",
       "2          False       False           False  ...        False        False   \n",
       "\n",
       "   Varthur  Vijayanagar  Vittasandra  Whitefield  Yelahanka  \\\n",
       "0    False        False        False       False      False   \n",
       "1    False        False        False       False      False   \n",
       "2    False        False        False       False      False   \n",
       "\n",
       "   Yelahanka New Town  Yeshwanthpur  other  \n",
       "0               False         False  False  \n",
       "1               False         False  False  \n",
       "2               False         False  False  \n",
       "\n",
       "[3 rows x 144 columns]"
      ]
     },
     "execution_count": 45,
     "metadata": {},
     "output_type": "execute_result"
    }
   ],
   "source": [
    "dummies = pd.get_dummies(df.location)\n",
    "dummies.head(3)"
   ]
  },
  {
   "cell_type": "code",
   "execution_count": 46,
   "id": "bf696dd5",
   "metadata": {
    "execution": {
     "iopub.execute_input": "2023-12-17T20:39:58.492619Z",
     "iopub.status.busy": "2023-12-17T20:39:58.492081Z",
     "iopub.status.idle": "2023-12-17T20:39:58.526547Z",
     "shell.execute_reply": "2023-12-17T20:39:58.525156Z"
    },
    "papermill": {
     "duration": 0.071637,
     "end_time": "2023-12-17T20:39:58.529416",
     "exception": false,
     "start_time": "2023-12-17T20:39:58.457779",
     "status": "completed"
    },
    "tags": []
   },
   "outputs": [
    {
     "data": {
      "text/html": [
       "<div>\n",
       "<style scoped>\n",
       "    .dataframe tbody tr th:only-of-type {\n",
       "        vertical-align: middle;\n",
       "    }\n",
       "\n",
       "    .dataframe tbody tr th {\n",
       "        vertical-align: top;\n",
       "    }\n",
       "\n",
       "    .dataframe thead th {\n",
       "        text-align: right;\n",
       "    }\n",
       "</style>\n",
       "<table border=\"1\" class=\"dataframe\">\n",
       "  <thead>\n",
       "    <tr style=\"text-align: right;\">\n",
       "      <th></th>\n",
       "      <th>availability</th>\n",
       "      <th>location</th>\n",
       "      <th>society</th>\n",
       "      <th>total_sqft</th>\n",
       "      <th>bath</th>\n",
       "      <th>balcony</th>\n",
       "      <th>price</th>\n",
       "      <th>area_type_Carpet  Area</th>\n",
       "      <th>area_type_Plot  Area</th>\n",
       "      <th>area_type_Super built-up  Area</th>\n",
       "      <th>...</th>\n",
       "      <th>Thubarahalli</th>\n",
       "      <th>Tumkur Road</th>\n",
       "      <th>Uttarahalli</th>\n",
       "      <th>Varthur</th>\n",
       "      <th>Vijayanagar</th>\n",
       "      <th>Vittasandra</th>\n",
       "      <th>Whitefield</th>\n",
       "      <th>Yelahanka</th>\n",
       "      <th>Yelahanka New Town</th>\n",
       "      <th>Yeshwanthpur</th>\n",
       "    </tr>\n",
       "  </thead>\n",
       "  <tbody>\n",
       "    <tr>\n",
       "      <th>0</th>\n",
       "      <td>73</td>\n",
       "      <td>1st Phase JP Nagar</td>\n",
       "      <td>1499</td>\n",
       "      <td>2825.0</td>\n",
       "      <td>4.0</td>\n",
       "      <td>3.0</td>\n",
       "      <td>250.0</td>\n",
       "      <td>False</td>\n",
       "      <td>False</td>\n",
       "      <td>True</td>\n",
       "      <td>...</td>\n",
       "      <td>False</td>\n",
       "      <td>False</td>\n",
       "      <td>False</td>\n",
       "      <td>False</td>\n",
       "      <td>False</td>\n",
       "      <td>False</td>\n",
       "      <td>False</td>\n",
       "      <td>False</td>\n",
       "      <td>False</td>\n",
       "      <td>False</td>\n",
       "    </tr>\n",
       "    <tr>\n",
       "      <th>1</th>\n",
       "      <td>73</td>\n",
       "      <td>1st Phase JP Nagar</td>\n",
       "      <td>1499</td>\n",
       "      <td>1875.0</td>\n",
       "      <td>3.0</td>\n",
       "      <td>1.0</td>\n",
       "      <td>167.0</td>\n",
       "      <td>False</td>\n",
       "      <td>False</td>\n",
       "      <td>True</td>\n",
       "      <td>...</td>\n",
       "      <td>False</td>\n",
       "      <td>False</td>\n",
       "      <td>False</td>\n",
       "      <td>False</td>\n",
       "      <td>False</td>\n",
       "      <td>False</td>\n",
       "      <td>False</td>\n",
       "      <td>False</td>\n",
       "      <td>False</td>\n",
       "      <td>False</td>\n",
       "    </tr>\n",
       "    <tr>\n",
       "      <th>2</th>\n",
       "      <td>73</td>\n",
       "      <td>1st Phase JP Nagar</td>\n",
       "      <td>1276</td>\n",
       "      <td>1394.0</td>\n",
       "      <td>2.0</td>\n",
       "      <td>1.0</td>\n",
       "      <td>100.0</td>\n",
       "      <td>False</td>\n",
       "      <td>False</td>\n",
       "      <td>True</td>\n",
       "      <td>...</td>\n",
       "      <td>False</td>\n",
       "      <td>False</td>\n",
       "      <td>False</td>\n",
       "      <td>False</td>\n",
       "      <td>False</td>\n",
       "      <td>False</td>\n",
       "      <td>False</td>\n",
       "      <td>False</td>\n",
       "      <td>False</td>\n",
       "      <td>False</td>\n",
       "    </tr>\n",
       "    <tr>\n",
       "      <th>3</th>\n",
       "      <td>29</td>\n",
       "      <td>1st Phase JP Nagar</td>\n",
       "      <td>870</td>\n",
       "      <td>1077.0</td>\n",
       "      <td>2.0</td>\n",
       "      <td>2.0</td>\n",
       "      <td>93.0</td>\n",
       "      <td>False</td>\n",
       "      <td>False</td>\n",
       "      <td>True</td>\n",
       "      <td>...</td>\n",
       "      <td>False</td>\n",
       "      <td>False</td>\n",
       "      <td>False</td>\n",
       "      <td>False</td>\n",
       "      <td>False</td>\n",
       "      <td>False</td>\n",
       "      <td>False</td>\n",
       "      <td>False</td>\n",
       "      <td>False</td>\n",
       "      <td>False</td>\n",
       "    </tr>\n",
       "    <tr>\n",
       "      <th>4</th>\n",
       "      <td>29</td>\n",
       "      <td>1st Phase JP Nagar</td>\n",
       "      <td>870</td>\n",
       "      <td>1590.0</td>\n",
       "      <td>3.0</td>\n",
       "      <td>3.0</td>\n",
       "      <td>131.0</td>\n",
       "      <td>False</td>\n",
       "      <td>False</td>\n",
       "      <td>True</td>\n",
       "      <td>...</td>\n",
       "      <td>False</td>\n",
       "      <td>False</td>\n",
       "      <td>False</td>\n",
       "      <td>False</td>\n",
       "      <td>False</td>\n",
       "      <td>False</td>\n",
       "      <td>False</td>\n",
       "      <td>False</td>\n",
       "      <td>False</td>\n",
       "      <td>False</td>\n",
       "    </tr>\n",
       "  </tbody>\n",
       "</table>\n",
       "<p>5 rows × 154 columns</p>\n",
       "</div>"
      ],
      "text/plain": [
       "   availability            location  society  total_sqft  bath  balcony  \\\n",
       "0            73  1st Phase JP Nagar     1499      2825.0   4.0      3.0   \n",
       "1            73  1st Phase JP Nagar     1499      1875.0   3.0      1.0   \n",
       "2            73  1st Phase JP Nagar     1276      1394.0   2.0      1.0   \n",
       "3            29  1st Phase JP Nagar      870      1077.0   2.0      2.0   \n",
       "4            29  1st Phase JP Nagar      870      1590.0   3.0      3.0   \n",
       "\n",
       "   price  area_type_Carpet  Area  area_type_Plot  Area  \\\n",
       "0  250.0                   False                 False   \n",
       "1  167.0                   False                 False   \n",
       "2  100.0                   False                 False   \n",
       "3   93.0                   False                 False   \n",
       "4  131.0                   False                 False   \n",
       "\n",
       "   area_type_Super built-up  Area  ...  Thubarahalli  Tumkur Road  \\\n",
       "0                            True  ...         False        False   \n",
       "1                            True  ...         False        False   \n",
       "2                            True  ...         False        False   \n",
       "3                            True  ...         False        False   \n",
       "4                            True  ...         False        False   \n",
       "\n",
       "   Uttarahalli  Varthur  Vijayanagar  Vittasandra  Whitefield  Yelahanka  \\\n",
       "0        False    False        False        False       False      False   \n",
       "1        False    False        False        False       False      False   \n",
       "2        False    False        False        False       False      False   \n",
       "3        False    False        False        False       False      False   \n",
       "4        False    False        False        False       False      False   \n",
       "\n",
       "   Yelahanka New Town  Yeshwanthpur  \n",
       "0               False         False  \n",
       "1               False         False  \n",
       "2               False         False  \n",
       "3               False         False  \n",
       "4               False         False  \n",
       "\n",
       "[5 rows x 154 columns]"
      ]
     },
     "execution_count": 46,
     "metadata": {},
     "output_type": "execute_result"
    }
   ],
   "source": [
    "df = pd.concat([df,dummies.drop('other',axis='columns')],axis='columns')\n",
    "df.head()"
   ]
  },
  {
   "cell_type": "code",
   "execution_count": 47,
   "id": "91aa3ffa",
   "metadata": {
    "execution": {
     "iopub.execute_input": "2023-12-17T20:39:58.600753Z",
     "iopub.status.busy": "2023-12-17T20:39:58.600377Z",
     "iopub.status.idle": "2023-12-17T20:39:58.633493Z",
     "shell.execute_reply": "2023-12-17T20:39:58.632318Z"
    },
    "papermill": {
     "duration": 0.071423,
     "end_time": "2023-12-17T20:39:58.636825",
     "exception": false,
     "start_time": "2023-12-17T20:39:58.565402",
     "status": "completed"
    },
    "tags": []
   },
   "outputs": [
    {
     "data": {
      "text/html": [
       "<div>\n",
       "<style scoped>\n",
       "    .dataframe tbody tr th:only-of-type {\n",
       "        vertical-align: middle;\n",
       "    }\n",
       "\n",
       "    .dataframe tbody tr th {\n",
       "        vertical-align: top;\n",
       "    }\n",
       "\n",
       "    .dataframe thead th {\n",
       "        text-align: right;\n",
       "    }\n",
       "</style>\n",
       "<table border=\"1\" class=\"dataframe\">\n",
       "  <thead>\n",
       "    <tr style=\"text-align: right;\">\n",
       "      <th></th>\n",
       "      <th>availability</th>\n",
       "      <th>society</th>\n",
       "      <th>total_sqft</th>\n",
       "      <th>bath</th>\n",
       "      <th>balcony</th>\n",
       "      <th>price</th>\n",
       "      <th>area_type_Carpet  Area</th>\n",
       "      <th>area_type_Plot  Area</th>\n",
       "      <th>area_type_Super built-up  Area</th>\n",
       "      <th>bhk</th>\n",
       "      <th>...</th>\n",
       "      <th>Thubarahalli</th>\n",
       "      <th>Tumkur Road</th>\n",
       "      <th>Uttarahalli</th>\n",
       "      <th>Varthur</th>\n",
       "      <th>Vijayanagar</th>\n",
       "      <th>Vittasandra</th>\n",
       "      <th>Whitefield</th>\n",
       "      <th>Yelahanka</th>\n",
       "      <th>Yelahanka New Town</th>\n",
       "      <th>Yeshwanthpur</th>\n",
       "    </tr>\n",
       "  </thead>\n",
       "  <tbody>\n",
       "    <tr>\n",
       "      <th>0</th>\n",
       "      <td>73</td>\n",
       "      <td>1499</td>\n",
       "      <td>2825.0</td>\n",
       "      <td>4.0</td>\n",
       "      <td>3.0</td>\n",
       "      <td>250.0</td>\n",
       "      <td>False</td>\n",
       "      <td>False</td>\n",
       "      <td>True</td>\n",
       "      <td>4</td>\n",
       "      <td>...</td>\n",
       "      <td>False</td>\n",
       "      <td>False</td>\n",
       "      <td>False</td>\n",
       "      <td>False</td>\n",
       "      <td>False</td>\n",
       "      <td>False</td>\n",
       "      <td>False</td>\n",
       "      <td>False</td>\n",
       "      <td>False</td>\n",
       "      <td>False</td>\n",
       "    </tr>\n",
       "    <tr>\n",
       "      <th>1</th>\n",
       "      <td>73</td>\n",
       "      <td>1499</td>\n",
       "      <td>1875.0</td>\n",
       "      <td>3.0</td>\n",
       "      <td>1.0</td>\n",
       "      <td>167.0</td>\n",
       "      <td>False</td>\n",
       "      <td>False</td>\n",
       "      <td>True</td>\n",
       "      <td>3</td>\n",
       "      <td>...</td>\n",
       "      <td>False</td>\n",
       "      <td>False</td>\n",
       "      <td>False</td>\n",
       "      <td>False</td>\n",
       "      <td>False</td>\n",
       "      <td>False</td>\n",
       "      <td>False</td>\n",
       "      <td>False</td>\n",
       "      <td>False</td>\n",
       "      <td>False</td>\n",
       "    </tr>\n",
       "  </tbody>\n",
       "</table>\n",
       "<p>2 rows × 153 columns</p>\n",
       "</div>"
      ],
      "text/plain": [
       "   availability  society  total_sqft  bath  balcony  price  \\\n",
       "0            73     1499      2825.0   4.0      3.0  250.0   \n",
       "1            73     1499      1875.0   3.0      1.0  167.0   \n",
       "\n",
       "   area_type_Carpet  Area  area_type_Plot  Area  \\\n",
       "0                   False                 False   \n",
       "1                   False                 False   \n",
       "\n",
       "   area_type_Super built-up  Area  bhk  ...  Thubarahalli  Tumkur Road  \\\n",
       "0                            True    4  ...         False        False   \n",
       "1                            True    3  ...         False        False   \n",
       "\n",
       "   Uttarahalli  Varthur  Vijayanagar  Vittasandra  Whitefield  Yelahanka  \\\n",
       "0        False    False        False        False       False      False   \n",
       "1        False    False        False        False       False      False   \n",
       "\n",
       "   Yelahanka New Town  Yeshwanthpur  \n",
       "0               False         False  \n",
       "1               False         False  \n",
       "\n",
       "[2 rows x 153 columns]"
      ]
     },
     "execution_count": 47,
     "metadata": {},
     "output_type": "execute_result"
    }
   ],
   "source": [
    "df = df.drop('location',axis='columns')\n",
    "df.head(2)"
   ]
  },
  {
   "cell_type": "code",
   "execution_count": 48,
   "id": "d2f41831",
   "metadata": {
    "execution": {
     "iopub.execute_input": "2023-12-17T20:39:58.706350Z",
     "iopub.status.busy": "2023-12-17T20:39:58.705565Z",
     "iopub.status.idle": "2023-12-17T20:39:58.790942Z",
     "shell.execute_reply": "2023-12-17T20:39:58.789830Z"
    },
    "papermill": {
     "duration": 0.122936,
     "end_time": "2023-12-17T20:39:58.793300",
     "exception": false,
     "start_time": "2023-12-17T20:39:58.670364",
     "status": "completed"
    },
    "tags": []
   },
   "outputs": [
    {
     "data": {
      "text/plain": [
       "Chandapura                 -0.122173\n",
       "Electronic City Phase II   -0.107304\n",
       "Raja Rajeshwari Nagar      -0.101917\n",
       "Attibele                   -0.092200\n",
       "Uttarahalli                -0.083960\n",
       "                              ...   \n",
       "balcony                     0.292014\n",
       "bhk                         0.668283\n",
       "bath                        0.717421\n",
       "total_sqft                  0.895621\n",
       "price                       1.000000\n",
       "Length: 153, dtype: float64"
      ]
     },
     "execution_count": 48,
     "metadata": {},
     "output_type": "execute_result"
    }
   ],
   "source": [
    "corr = df.corrwith(df['price']).sort_values()\n",
    "corr"
   ]
  },
  {
   "cell_type": "code",
   "execution_count": 49,
   "id": "63f4e3a2",
   "metadata": {
    "execution": {
     "iopub.execute_input": "2023-12-17T20:39:58.864189Z",
     "iopub.status.busy": "2023-12-17T20:39:58.863513Z",
     "iopub.status.idle": "2023-12-17T20:39:59.142900Z",
     "shell.execute_reply": "2023-12-17T20:39:59.141979Z"
    },
    "papermill": {
     "duration": 0.31884,
     "end_time": "2023-12-17T20:39:59.145543",
     "exception": false,
     "start_time": "2023-12-17T20:39:58.826703",
     "status": "completed"
    },
    "tags": []
   },
   "outputs": [],
   "source": [
    "correlation_with_target = df.corr()['price']\n",
    "\n",
    "threshold = 0.05\n",
    "negative_corr_features = correlation_with_target[correlation_with_target < threshold].index.tolist()\n",
    "\n",
    "df = df.drop(negative_corr_features, axis=1)"
   ]
  },
  {
   "cell_type": "code",
   "execution_count": 50,
   "id": "f0672c81",
   "metadata": {
    "execution": {
     "iopub.execute_input": "2023-12-17T20:39:59.213770Z",
     "iopub.status.busy": "2023-12-17T20:39:59.213399Z",
     "iopub.status.idle": "2023-12-17T20:39:59.234780Z",
     "shell.execute_reply": "2023-12-17T20:39:59.233729Z"
    },
    "papermill": {
     "duration": 0.058739,
     "end_time": "2023-12-17T20:39:59.237114",
     "exception": false,
     "start_time": "2023-12-17T20:39:59.178375",
     "status": "completed"
    },
    "tags": []
   },
   "outputs": [
    {
     "data": {
      "text/plain": [
       "Thigalarapalya          0.058159\n",
       "1st Phase JP Nagar      0.058771\n",
       "Ambedkar Nagar          0.059433\n",
       "Talaghattapura          0.065657\n",
       "availability            0.068633\n",
       "Sarjapur  Road          0.075482\n",
       "Koramangala             0.088404\n",
       "Old Airport Road        0.099835\n",
       "Whitefield              0.100918\n",
       "Hebbal Kempapura        0.104897\n",
       "Frazer Town             0.120375\n",
       "Hebbal                  0.136086\n",
       "Iblur Village           0.149602\n",
       "Hosakerehalli           0.151704\n",
       "Kodihalli               0.154365\n",
       "Malleshwaram            0.198150\n",
       "Rajaji Nagar            0.267963\n",
       "area_type_Plot  Area    0.271354\n",
       "balcony                 0.292014\n",
       "bhk                     0.668283\n",
       "bath                    0.717421\n",
       "total_sqft              0.895621\n",
       "price                   1.000000\n",
       "dtype: float64"
      ]
     },
     "execution_count": 50,
     "metadata": {},
     "output_type": "execute_result"
    }
   ],
   "source": [
    "corr = df.corrwith(df['price']).sort_values()\n",
    "corr"
   ]
  },
  {
   "cell_type": "code",
   "execution_count": 51,
   "id": "6729f395",
   "metadata": {
    "execution": {
     "iopub.execute_input": "2023-12-17T20:39:59.306329Z",
     "iopub.status.busy": "2023-12-17T20:39:59.305544Z",
     "iopub.status.idle": "2023-12-17T20:39:59.773145Z",
     "shell.execute_reply": "2023-12-17T20:39:59.771883Z"
    },
    "papermill": {
     "duration": 0.506439,
     "end_time": "2023-12-17T20:39:59.776641",
     "exception": false,
     "start_time": "2023-12-17T20:39:59.270202",
     "status": "completed"
    },
    "tags": []
   },
   "outputs": [
    {
     "data": {
      "image/png": "[encoded data removed]",
      "text/plain": [
       "<Figure size 1000x600 with 1 Axes>"
      ]
     },
     "metadata": {},
     "output_type": "display_data"
    }
   ],
   "source": [
    "df.drop('price',axis=1).corrwith(df.price).plot(kind='bar',grid=True,figsize=(10,6),title=\"Correlation with price \")\n",
    "plt.show()"
   ]
  },
  {
   "cell_type": "code",
   "execution_count": 52,
   "id": "fb5ce2e4",
   "metadata": {
    "execution": {
     "iopub.execute_input": "2023-12-17T20:39:59.847684Z",
     "iopub.status.busy": "2023-12-17T20:39:59.846253Z",
     "iopub.status.idle": "2023-12-17T20:39:59.855558Z",
     "shell.execute_reply": "2023-12-17T20:39:59.853459Z"
    },
    "papermill": {
     "duration": 0.047489,
     "end_time": "2023-12-17T20:39:59.857990",
     "exception": false,
     "start_time": "2023-12-17T20:39:59.810501",
     "status": "completed"
    },
    "tags": []
   },
   "outputs": [
    {
     "data": {
      "text/plain": [
       "(4017, 23)"
      ]
     },
     "execution_count": 52,
     "metadata": {},
     "output_type": "execute_result"
    }
   ],
   "source": [
    "df.shape"
   ]
  },
  {
   "cell_type": "code",
   "execution_count": 53,
   "id": "823a3f0b",
   "metadata": {
    "execution": {
     "iopub.execute_input": "2023-12-17T20:39:59.929560Z",
     "iopub.status.busy": "2023-12-17T20:39:59.929163Z",
     "iopub.status.idle": "2023-12-17T20:39:59.958732Z",
     "shell.execute_reply": "2023-12-17T20:39:59.957536Z"
    },
    "papermill": {
     "duration": 0.067375,
     "end_time": "2023-12-17T20:39:59.961338",
     "exception": false,
     "start_time": "2023-12-17T20:39:59.893963",
     "status": "completed"
    },
    "scrolled": true,
    "tags": []
   },
   "outputs": [
    {
     "data": {
      "text/html": [
       "<div>\n",
       "<style scoped>\n",
       "    .dataframe tbody tr th:only-of-type {\n",
       "        vertical-align: middle;\n",
       "    }\n",
       "\n",
       "    .dataframe tbody tr th {\n",
       "        vertical-align: top;\n",
       "    }\n",
       "\n",
       "    .dataframe thead th {\n",
       "        text-align: right;\n",
       "    }\n",
       "</style>\n",
       "<table border=\"1\" class=\"dataframe\">\n",
       "  <thead>\n",
       "    <tr style=\"text-align: right;\">\n",
       "      <th></th>\n",
       "      <th>availability</th>\n",
       "      <th>total_sqft</th>\n",
       "      <th>bath</th>\n",
       "      <th>balcony</th>\n",
       "      <th>area_type_Plot  Area</th>\n",
       "      <th>bhk</th>\n",
       "      <th>1st Phase JP Nagar</th>\n",
       "      <th>Ambedkar Nagar</th>\n",
       "      <th>Frazer Town</th>\n",
       "      <th>Hebbal</th>\n",
       "      <th>...</th>\n",
       "      <th>Iblur Village</th>\n",
       "      <th>Kodihalli</th>\n",
       "      <th>Koramangala</th>\n",
       "      <th>Malleshwaram</th>\n",
       "      <th>Old Airport Road</th>\n",
       "      <th>Rajaji Nagar</th>\n",
       "      <th>Sarjapur  Road</th>\n",
       "      <th>Talaghattapura</th>\n",
       "      <th>Thigalarapalya</th>\n",
       "      <th>Whitefield</th>\n",
       "    </tr>\n",
       "  </thead>\n",
       "  <tbody>\n",
       "    <tr>\n",
       "      <th>0</th>\n",
       "      <td>73</td>\n",
       "      <td>2825.0</td>\n",
       "      <td>4.0</td>\n",
       "      <td>3.0</td>\n",
       "      <td>False</td>\n",
       "      <td>4</td>\n",
       "      <td>True</td>\n",
       "      <td>False</td>\n",
       "      <td>False</td>\n",
       "      <td>False</td>\n",
       "      <td>...</td>\n",
       "      <td>False</td>\n",
       "      <td>False</td>\n",
       "      <td>False</td>\n",
       "      <td>False</td>\n",
       "      <td>False</td>\n",
       "      <td>False</td>\n",
       "      <td>False</td>\n",
       "      <td>False</td>\n",
       "      <td>False</td>\n",
       "      <td>False</td>\n",
       "    </tr>\n",
       "    <tr>\n",
       "      <th>1</th>\n",
       "      <td>73</td>\n",
       "      <td>1875.0</td>\n",
       "      <td>3.0</td>\n",
       "      <td>1.0</td>\n",
       "      <td>False</td>\n",
       "      <td>3</td>\n",
       "      <td>True</td>\n",
       "      <td>False</td>\n",
       "      <td>False</td>\n",
       "      <td>False</td>\n",
       "      <td>...</td>\n",
       "      <td>False</td>\n",
       "      <td>False</td>\n",
       "      <td>False</td>\n",
       "      <td>False</td>\n",
       "      <td>False</td>\n",
       "      <td>False</td>\n",
       "      <td>False</td>\n",
       "      <td>False</td>\n",
       "      <td>False</td>\n",
       "      <td>False</td>\n",
       "    </tr>\n",
       "    <tr>\n",
       "      <th>2</th>\n",
       "      <td>73</td>\n",
       "      <td>1394.0</td>\n",
       "      <td>2.0</td>\n",
       "      <td>1.0</td>\n",
       "      <td>False</td>\n",
       "      <td>2</td>\n",
       "      <td>True</td>\n",
       "      <td>False</td>\n",
       "      <td>False</td>\n",
       "      <td>False</td>\n",
       "      <td>...</td>\n",
       "      <td>False</td>\n",
       "      <td>False</td>\n",
       "      <td>False</td>\n",
       "      <td>False</td>\n",
       "      <td>False</td>\n",
       "      <td>False</td>\n",
       "      <td>False</td>\n",
       "      <td>False</td>\n",
       "      <td>False</td>\n",
       "      <td>False</td>\n",
       "    </tr>\n",
       "    <tr>\n",
       "      <th>3</th>\n",
       "      <td>29</td>\n",
       "      <td>1077.0</td>\n",
       "      <td>2.0</td>\n",
       "      <td>2.0</td>\n",
       "      <td>False</td>\n",
       "      <td>2</td>\n",
       "      <td>True</td>\n",
       "      <td>False</td>\n",
       "      <td>False</td>\n",
       "      <td>False</td>\n",
       "      <td>...</td>\n",
       "      <td>False</td>\n",
       "      <td>False</td>\n",
       "      <td>False</td>\n",
       "      <td>False</td>\n",
       "      <td>False</td>\n",
       "      <td>False</td>\n",
       "      <td>False</td>\n",
       "      <td>False</td>\n",
       "      <td>False</td>\n",
       "      <td>False</td>\n",
       "    </tr>\n",
       "    <tr>\n",
       "      <th>4</th>\n",
       "      <td>29</td>\n",
       "      <td>1590.0</td>\n",
       "      <td>3.0</td>\n",
       "      <td>3.0</td>\n",
       "      <td>False</td>\n",
       "      <td>3</td>\n",
       "      <td>True</td>\n",
       "      <td>False</td>\n",
       "      <td>False</td>\n",
       "      <td>False</td>\n",
       "      <td>...</td>\n",
       "      <td>False</td>\n",
       "      <td>False</td>\n",
       "      <td>False</td>\n",
       "      <td>False</td>\n",
       "      <td>False</td>\n",
       "      <td>False</td>\n",
       "      <td>False</td>\n",
       "      <td>False</td>\n",
       "      <td>False</td>\n",
       "      <td>False</td>\n",
       "    </tr>\n",
       "  </tbody>\n",
       "</table>\n",
       "<p>5 rows × 22 columns</p>\n",
       "</div>"
      ],
      "text/plain": [
       "   availability  total_sqft  bath  balcony  area_type_Plot  Area  bhk  \\\n",
       "0            73      2825.0   4.0      3.0                 False    4   \n",
       "1            73      1875.0   3.0      1.0                 False    3   \n",
       "2            73      1394.0   2.0      1.0                 False    2   \n",
       "3            29      1077.0   2.0      2.0                 False    2   \n",
       "4            29      1590.0   3.0      3.0                 False    3   \n",
       "\n",
       "   1st Phase JP Nagar  Ambedkar Nagar  Frazer Town  Hebbal  ...  \\\n",
       "0                True           False        False   False  ...   \n",
       "1                True           False        False   False  ...   \n",
       "2                True           False        False   False  ...   \n",
       "3                True           False        False   False  ...   \n",
       "4                True           False        False   False  ...   \n",
       "\n",
       "   Iblur Village  Kodihalli  Koramangala  Malleshwaram  Old Airport Road  \\\n",
       "0          False      False        False         False             False   \n",
       "1          False      False        False         False             False   \n",
       "2          False      False        False         False             False   \n",
       "3          False      False        False         False             False   \n",
       "4          False      False        False         False             False   \n",
       "\n",
       "   Rajaji Nagar  Sarjapur  Road  Talaghattapura  Thigalarapalya  Whitefield  \n",
       "0         False           False           False           False       False  \n",
       "1         False           False           False           False       False  \n",
       "2         False           False           False           False       False  \n",
       "3         False           False           False           False       False  \n",
       "4         False           False           False           False       False  \n",
       "\n",
       "[5 rows x 22 columns]"
      ]
     },
     "execution_count": 53,
     "metadata": {},
     "output_type": "execute_result"
    }
   ],
   "source": [
    "X = df.drop(['price'],axis='columns')\n",
    "X.head(5)"
   ]
  },
  {
   "cell_type": "code",
   "execution_count": 54,
   "id": "eb3bdb4c",
   "metadata": {
    "execution": {
     "iopub.execute_input": "2023-12-17T20:40:00.032827Z",
     "iopub.status.busy": "2023-12-17T20:40:00.031746Z",
     "iopub.status.idle": "2023-12-17T20:40:00.039042Z",
     "shell.execute_reply": "2023-12-17T20:40:00.037967Z"
    },
    "papermill": {
     "duration": 0.045911,
     "end_time": "2023-12-17T20:40:00.041358",
     "exception": false,
     "start_time": "2023-12-17T20:39:59.995447",
     "status": "completed"
    },
    "tags": []
   },
   "outputs": [
    {
     "data": {
      "text/plain": [
       "(4017, 22)"
      ]
     },
     "execution_count": 54,
     "metadata": {},
     "output_type": "execute_result"
    }
   ],
   "source": [
    "X.shape"
   ]
  },
  {
   "cell_type": "code",
   "execution_count": 55,
   "id": "e320f6b3",
   "metadata": {
    "execution": {
     "iopub.execute_input": "2023-12-17T20:40:00.112102Z",
     "iopub.status.busy": "2023-12-17T20:40:00.111663Z",
     "iopub.status.idle": "2023-12-17T20:40:00.120046Z",
     "shell.execute_reply": "2023-12-17T20:40:00.118944Z"
    },
    "papermill": {
     "duration": 0.047002,
     "end_time": "2023-12-17T20:40:00.122664",
     "exception": false,
     "start_time": "2023-12-17T20:40:00.075662",
     "status": "completed"
    },
    "scrolled": true,
    "tags": []
   },
   "outputs": [
    {
     "data": {
      "text/plain": [
       "0    250.0\n",
       "1    167.0\n",
       "2    100.0\n",
       "Name: price, dtype: float64"
      ]
     },
     "execution_count": 55,
     "metadata": {},
     "output_type": "execute_result"
    }
   ],
   "source": [
    "y = df.price\n",
    "y.head(3)"
   ]
  },
  {
   "cell_type": "code",
   "execution_count": 56,
   "id": "260ffdc2",
   "metadata": {
    "execution": {
     "iopub.execute_input": "2023-12-17T20:40:00.194301Z",
     "iopub.status.busy": "2023-12-17T20:40:00.193518Z",
     "iopub.status.idle": "2023-12-17T20:40:00.200396Z",
     "shell.execute_reply": "2023-12-17T20:40:00.199379Z"
    },
    "papermill": {
     "duration": 0.045402,
     "end_time": "2023-12-17T20:40:00.202644",
     "exception": false,
     "start_time": "2023-12-17T20:40:00.157242",
     "status": "completed"
    },
    "tags": []
   },
   "outputs": [
    {
     "data": {
      "text/plain": [
       "4017"
      ]
     },
     "execution_count": 56,
     "metadata": {},
     "output_type": "execute_result"
    }
   ],
   "source": [
    "len(y)"
   ]
  },
  {
   "cell_type": "code",
   "execution_count": 57,
   "id": "00d5dc33",
   "metadata": {
    "execution": {
     "iopub.execute_input": "2023-12-17T20:40:00.276037Z",
     "iopub.status.busy": "2023-12-17T20:40:00.275365Z",
     "iopub.status.idle": "2023-12-17T20:40:00.295421Z",
     "shell.execute_reply": "2023-12-17T20:40:00.294353Z"
    },
    "papermill": {
     "duration": 0.060035,
     "end_time": "2023-12-17T20:40:00.297999",
     "exception": false,
     "start_time": "2023-12-17T20:40:00.237964",
     "status": "completed"
    },
    "tags": []
   },
   "outputs": [],
   "source": [
    "from sklearn.model_selection import train_test_split\n",
    "X_train, X_test, y_train, y_test = train_test_split(X,y,test_size=0.2,random_state=10)"
   ]
  },
  {
   "cell_type": "code",
   "execution_count": 58,
   "id": "6449fda4",
   "metadata": {
    "execution": {
     "iopub.execute_input": "2023-12-17T20:40:00.374255Z",
     "iopub.status.busy": "2023-12-17T20:40:00.373582Z",
     "iopub.status.idle": "2023-12-17T20:40:00.382829Z",
     "shell.execute_reply": "2023-12-17T20:40:00.382043Z"
    },
    "papermill": {
     "duration": 0.050765,
     "end_time": "2023-12-17T20:40:00.385189",
     "exception": false,
     "start_time": "2023-12-17T20:40:00.334424",
     "status": "completed"
    },
    "tags": []
   },
   "outputs": [],
   "source": [
    "def evaluate_regression_model(model, X_test, y_test, threshold=0.5):\n",
    "    y_pred = model.predict(X_test)\n",
    "    mae = mean_absolute_error(y_test, y_pred)\n",
    "    print(f'Mean Absolute Error (MAE): {mae}')\n",
    "\n",
    "    r2 = r2_score(y_test, y_pred)\n",
    "    print(f'R-squared (R2): {r2}')\n",
    "\n",
    "    mse = mean_squared_error(y_test, y_pred)\n",
    "    print(f'Mean Squared Error (MSE): {mse}')\n",
    "\n",
    "    y_pred_binary = (y_pred > threshold)\n",
    "    y_test_binary = (y_test > threshold)\n",
    "\n",
    "    precision = precision_score(y_test_binary, y_pred_binary)\n",
    "    print(f'Precision: {precision}')\n",
    "\n",
    "    recall = recall_score(y_test_binary, y_pred_binary)\n",
    "    print(f'Recall: {recall}')\n",
    "\n",
    "    f1 = f1_score(y_test_binary, y_pred_binary)\n",
    "    print(f'F1 Score: {f1}')\n",
    "\n",
    "    conf_matrix = confusion_matrix(y_test_binary, y_pred_binary)\n",
    "    print('Confusion Matrix:')\n",
    "    print(conf_matrix)\n",
    "\n",
    "    model_score = model.score(X_test, y_test)\n",
    "    print(f'Model Score: {ceil(model_score * 100)}%')"
   ]
  },
  {
   "cell_type": "code",
   "execution_count": 59,
   "id": "4a910a64",
   "metadata": {
    "execution": {
     "iopub.execute_input": "2023-12-17T20:40:00.456622Z",
     "iopub.status.busy": "2023-12-17T20:40:00.455961Z",
     "iopub.status.idle": "2023-12-17T20:40:00.637641Z",
     "shell.execute_reply": "2023-12-17T20:40:00.635653Z"
    },
    "papermill": {
     "duration": 0.222276,
     "end_time": "2023-12-17T20:40:00.642014",
     "exception": false,
     "start_time": "2023-12-17T20:40:00.419738",
     "status": "completed"
    },
    "tags": []
   },
   "outputs": [
    {
     "name": "stdout",
     "output_type": "stream",
     "text": [
      "Mean Absolute Error (MAE): 12.982078241479908\n",
      "R-squared (R2): 0.9045201002552865\n",
      "Mean Squared Error (MSE): 358.6696538961741\n",
      "Precision: 1.0\n",
      "Recall: 1.0\n",
      "F1 Score: 1.0\n",
      "Confusion Matrix:\n",
      "[[804]]\n",
      "Model Score: 91%\n"
     ]
    }
   ],
   "source": [
    "from sklearn.linear_model import LinearRegression\n",
    "lr_clf = LinearRegression()\n",
    "lr_clf.fit(X_train,y_train)\n",
    "evaluate_regression_model(lr_clf, X_test, y_test)"
   ]
  },
  {
   "cell_type": "code",
   "execution_count": 60,
   "id": "850a471c",
   "metadata": {
    "execution": {
     "iopub.execute_input": "2023-12-17T20:40:00.778566Z",
     "iopub.status.busy": "2023-12-17T20:40:00.778181Z",
     "iopub.status.idle": "2023-12-17T20:40:00.903016Z",
     "shell.execute_reply": "2023-12-17T20:40:00.901863Z"
    },
    "papermill": {
     "duration": 0.170762,
     "end_time": "2023-12-17T20:40:00.905511",
     "exception": false,
     "start_time": "2023-12-17T20:40:00.734749",
     "status": "completed"
    },
    "tags": []
   },
   "outputs": [
    {
     "name": "stdout",
     "output_type": "stream",
     "text": [
      "Mean Absolute Error (MAE): 14.449071784299864\n",
      "R-squared (R2): 0.8318525717454086\n",
      "Mean Squared Error (MSE): 631.6447760927325\n",
      "Precision: 1.0\n",
      "Recall: 1.0\n",
      "F1 Score: 1.0\n",
      "Confusion Matrix:\n",
      "[[804]]\n",
      "Model Score: 84%\n"
     ]
    }
   ],
   "source": [
    "from sklearn.tree import DecisionTreeRegressor\n",
    "dt_reg = DecisionTreeRegressor()\n",
    "dt_reg.fit(X_train, y_train)\n",
    "evaluate_regression_model(dt_reg, X_test, y_test)"
   ]
  },
  {
   "cell_type": "code",
   "execution_count": 61,
   "id": "e6b4ff54",
   "metadata": {
    "execution": {
     "iopub.execute_input": "2023-12-17T20:40:00.979218Z",
     "iopub.status.busy": "2023-12-17T20:40:00.977942Z",
     "iopub.status.idle": "2023-12-17T20:40:02.010926Z",
     "shell.execute_reply": "2023-12-17T20:40:02.009761Z"
    },
    "papermill": {
     "duration": 1.072523,
     "end_time": "2023-12-17T20:40:02.013792",
     "exception": false,
     "start_time": "2023-12-17T20:40:00.941269",
     "status": "completed"
    },
    "tags": []
   },
   "outputs": [
    {
     "name": "stdout",
     "output_type": "stream",
     "text": [
      "Mean Absolute Error (MAE): 12.811069950260027\n",
      "R-squared (R2): 0.8777419179652662\n",
      "Mean Squared Error (MSE): 459.26173033959344\n",
      "Precision: 1.0\n",
      "Recall: 1.0\n",
      "F1 Score: 1.0\n",
      "Confusion Matrix:\n",
      "[[804]]\n",
      "Model Score: 88%\n"
     ]
    }
   ],
   "source": [
    "from sklearn.ensemble import RandomForestRegressor\n",
    "rf_reg = RandomForestRegressor()\n",
    "rf_reg.fit(X_train, y_train)\n",
    "evaluate_regression_model(rf_reg, X_test, y_test)"
   ]
  },
  {
   "cell_type": "code",
   "execution_count": 62,
   "id": "3c2fcf8d",
   "metadata": {
    "execution": {
     "iopub.execute_input": "2023-12-17T20:40:02.085666Z",
     "iopub.status.busy": "2023-12-17T20:40:02.084991Z",
     "iopub.status.idle": "2023-12-17T20:40:02.376213Z",
     "shell.execute_reply": "2023-12-17T20:40:02.374861Z"
    },
    "papermill": {
     "duration": 0.330221,
     "end_time": "2023-12-17T20:40:02.378814",
     "exception": false,
     "start_time": "2023-12-17T20:40:02.048593",
     "status": "completed"
    },
    "tags": []
   },
   "outputs": [
    {
     "name": "stdout",
     "output_type": "stream",
     "text": [
      "Mean Absolute Error (MAE): 12.562743490096894\n",
      "R-squared (R2): 0.9033304706345754\n",
      "Mean Squared Error (MSE): 363.1384902215782\n",
      "Precision: 1.0\n",
      "Recall: 1.0\n",
      "F1 Score: 1.0\n",
      "Confusion Matrix:\n",
      "[[804]]\n",
      "Model Score: 91%\n"
     ]
    }
   ],
   "source": [
    "from sklearn.ensemble import GradientBoostingRegressor\n",
    "gb_reg = GradientBoostingRegressor()\n",
    "gb_reg.fit(X_train, y_train)\n",
    "evaluate_regression_model(gb_reg, X_test, y_test)"
   ]
  },
  {
   "cell_type": "code",
   "execution_count": 63,
   "id": "03797a4b",
   "metadata": {
    "execution": {
     "iopub.execute_input": "2023-12-17T20:40:02.452881Z",
     "iopub.status.busy": "2023-12-17T20:40:02.451913Z",
     "iopub.status.idle": "2023-12-17T20:40:02.508944Z",
     "shell.execute_reply": "2023-12-17T20:40:02.507357Z"
    },
    "papermill": {
     "duration": 0.099041,
     "end_time": "2023-12-17T20:40:02.513306",
     "exception": false,
     "start_time": "2023-12-17T20:40:02.414265",
     "status": "completed"
    },
    "tags": []
   },
   "outputs": [
    {
     "name": "stdout",
     "output_type": "stream",
     "text": [
      "Mean Absolute Error (MAE): 13.040432257266508\n",
      "R-squared (R2): 0.9027361789271044\n",
      "Mean Squared Error (MSE): 365.37094335152364\n",
      "Precision: 1.0\n",
      "Recall: 1.0\n",
      "F1 Score: 1.0\n",
      "Confusion Matrix:\n",
      "[[804]]\n",
      "Model Score: 91%\n"
     ]
    }
   ],
   "source": [
    "from sklearn.linear_model import Ridge\n",
    "\n",
    "ridge_clf = Ridge(alpha=1.0)\n",
    "ridge_clf.fit(X_train, y_train)\n",
    "evaluate_regression_model(ridge_clf, X_test, y_test)"
   ]
  },
  {
   "cell_type": "code",
   "execution_count": 64,
   "id": "5f460d19",
   "metadata": {
    "execution": {
     "iopub.execute_input": "2023-12-17T20:40:02.644988Z",
     "iopub.status.busy": "2023-12-17T20:40:02.644001Z",
     "iopub.status.idle": "2023-12-17T20:40:02.753982Z",
     "shell.execute_reply": "2023-12-17T20:40:02.751422Z"
    },
    "papermill": {
     "duration": 0.16993,
     "end_time": "2023-12-17T20:40:02.758474",
     "exception": false,
     "start_time": "2023-12-17T20:40:02.588544",
     "status": "completed"
    },
    "tags": []
   },
   "outputs": [
    {
     "name": "stdout",
     "output_type": "stream",
     "text": [
      "Mean Absolute Error (MAE): 15.948100348464612\n",
      "R-squared (R2): 0.800755889629315\n",
      "Mean Squared Error (MSE): 748.4592704702904\n",
      "Precision: 1.0\n",
      "Recall: 1.0\n",
      "F1 Score: 1.0\n",
      "Confusion Matrix:\n",
      "[[804]]\n",
      "Model Score: 81%\n"
     ]
    }
   ],
   "source": [
    "from sklearn.linear_model import Lasso\n",
    "lasso_clf = Lasso(alpha=1.0)\n",
    "lasso_clf.fit(X_train, y_train)\n",
    "evaluate_regression_model(lasso_clf, X_test, y_test)"
   ]
  },
  {
   "cell_type": "code",
   "execution_count": 65,
   "id": "a9154529",
   "metadata": {
    "execution": {
     "iopub.execute_input": "2023-12-17T20:40:02.889784Z",
     "iopub.status.busy": "2023-12-17T20:40:02.889394Z",
     "iopub.status.idle": "2023-12-17T20:40:02.897736Z",
     "shell.execute_reply": "2023-12-17T20:40:02.896940Z"
    },
    "papermill": {
     "duration": 0.059011,
     "end_time": "2023-12-17T20:40:02.899978",
     "exception": false,
     "start_time": "2023-12-17T20:40:02.840967",
     "status": "completed"
    },
    "tags": []
   },
   "outputs": [],
   "source": [
    "y_pre = gb_reg.predict(X_test)"
   ]
  },
  {
   "cell_type": "code",
   "execution_count": 66,
   "id": "10f6ed68",
   "metadata": {
    "execution": {
     "iopub.execute_input": "2023-12-17T20:40:02.974032Z",
     "iopub.status.busy": "2023-12-17T20:40:02.972975Z",
     "iopub.status.idle": "2023-12-17T20:40:03.290171Z",
     "shell.execute_reply": "2023-12-17T20:40:03.288823Z"
    },
    "papermill": {
     "duration": 0.356956,
     "end_time": "2023-12-17T20:40:03.292890",
     "exception": false,
     "start_time": "2023-12-17T20:40:02.935934",
     "status": "completed"
    },
    "tags": []
   },
   "outputs": [
    {
     "data": {
      "image/png": "[encoded data removed]",
      "text/plain": [
       "<Figure size 800x600 with 1 Axes>"
      ]
     },
     "metadata": {},
     "output_type": "display_data"
    }
   ],
   "source": [
    "plt.figure(figsize=(8, 6))\n",
    "plt.scatter(y_test, y_pre, alpha=0.5)\n",
    "plt.title('Actual vs Predicted (Gradient Boosting Regression)')\n",
    "plt.xlabel('Actual Values')\n",
    "plt.ylabel('Predicted Values')\n",
    "\n",
    "fit_line = np.polyfit(y_test, y_pre, 1)\n",
    "fit_fn = np.poly1d(fit_line)\n",
    "plt.plot(y_test, fit_fn(y_test), color='red', linestyle='--', linewidth=2)\n",
    "plt.show()"
   ]
  },
  {
   "cell_type": "code",
   "execution_count": 67,
   "id": "b5149b83",
   "metadata": {
    "execution": {
     "iopub.execute_input": "2023-12-17T20:40:03.367568Z",
     "iopub.status.busy": "2023-12-17T20:40:03.367180Z",
     "iopub.status.idle": "2023-12-17T20:40:03.373186Z",
     "shell.execute_reply": "2023-12-17T20:40:03.372044Z"
    },
    "papermill": {
     "duration": 0.046157,
     "end_time": "2023-12-17T20:40:03.375465",
     "exception": false,
     "start_time": "2023-12-17T20:40:03.329308",
     "status": "completed"
    },
    "tags": []
   },
   "outputs": [],
   "source": [
    "import pandas as pd\n",
    "\n",
    "def predict_price_for_new_data(gb_reg, feature_columns, new_data_point):\n",
    "    try:\n",
    "        new_data_point = new_data_point[feature_columns]\n",
    "        predicted_price = gb_reg.predict(new_data_point)\n",
    "        print(f'Predicted Price: {predicted_price[0]:.2f} Lakhs')\n",
    "    except KeyError as e:\n",
    "        print(f\"Error: {e}. Make sure you entered values for all the required features.\")"
   ]
  },
  {
   "cell_type": "code",
   "execution_count": 68,
   "id": "86916a33",
   "metadata": {
    "execution": {
     "iopub.execute_input": "2023-12-17T20:40:03.451983Z",
     "iopub.status.busy": "2023-12-17T20:40:03.450803Z",
     "iopub.status.idle": "2023-12-17T20:40:03.455928Z",
     "shell.execute_reply": "2023-12-17T20:40:03.455078Z"
    },
    "papermill": {
     "duration": 0.04581,
     "end_time": "2023-12-17T20:40:03.458289",
     "exception": false,
     "start_time": "2023-12-17T20:40:03.412479",
     "status": "completed"
    },
    "tags": []
   },
   "outputs": [],
   "source": [
    "features_used = X_train.columns.tolist()"
   ]
  },
  {
   "cell_type": "code",
   "execution_count": 69,
   "id": "61de50da",
   "metadata": {
    "execution": {
     "iopub.execute_input": "2023-12-17T20:40:03.533559Z",
     "iopub.status.busy": "2023-12-17T20:40:03.533125Z",
     "iopub.status.idle": "2023-12-17T20:40:03.569517Z",
     "shell.execute_reply": "2023-12-17T20:40:03.567807Z"
    },
    "papermill": {
     "duration": 0.077445,
     "end_time": "2023-12-17T20:40:03.572558",
     "exception": false,
     "start_time": "2023-12-17T20:40:03.495113",
     "status": "completed"
    },
    "tags": []
   },
   "outputs": [
    {
     "name": "stdout",
     "output_type": "stream",
     "text": [
      "Predicted Price for Data Point 1: 119.60 Lakhs\n",
      "Predicted Price for Data Point 2: 158.48 Lakhs\n",
      "Predicted Price for Data Point 3: 140.84 Lakhs\n",
      "Predicted Price for Data Point 4: 167.97 Lakhs\n",
      "Predicted Price for Data Point 5: 189.09 Lakhs\n",
      "Predicted Price for Data Point 6: 160.60 Lakhs\n",
      "Predicted Price for Data Point 7: 134.65 Lakhs\n",
      "Predicted Price for Data Point 8: 201.21 Lakhs\n",
      "Predicted Price for Data Point 9: 160.68 Lakhs\n",
      "Predicted Price for Data Point 10: 162.10 Lakhs\n"
     ]
    }
   ],
   "source": [
    "import random\n",
    "\n",
    "num_objects = 10\n",
    "new_data = []\n",
    "\n",
    "for _ in range(num_objects):\n",
    "    new_object = {}\n",
    "    for col in features_used:\n",
    "        if col == 'area_type_Plot Area':\n",
    "            new_object[col] = random.randint(0, 1)\n",
    "        else:\n",
    "            new_object[col] = random.randint(0, 10) \n",
    "            \n",
    "    new_data.append(new_object)\n",
    "\n",
    "for i, new_data_point in enumerate(new_data, 1):\n",
    "    new_data_point_df = pd.DataFrame([new_data_point], columns=features_used)\n",
    "\n",
    "    predicted_price = gb_reg.predict(new_data_point_df)\n",
    "    print(f'Predicted Price for Data Point {i}: {predicted_price[0]:.2f} Lakhs')\n"
   ]
  }
 ],
 "metadata": {
  "kaggle": {
   "accelerator": "none",
   "dataSources": [
    {
     "datasetId": 4166974,
     "sourceId": 7203174,
     "sourceType": "datasetVersion"
    }
   ],
   "dockerImageVersionId": 30626,
   "isGpuEnabled": false,
   "isInternetEnabled": true,
   "language": "python",
   "sourceType": "notebook"
  },
  "kernelspec": {
   "display_name": "Python 3",
   "language": "python",
   "name": "python3"
  },
  "language_info": {
   "codemirror_mode": {
    "name": "ipython",
    "version": 3
   },
   "file_extension": ".py",
   "mimetype": "text/x-python",
   "name": "python",
   "nbconvert_exporter": "python",
   "pygments_lexer": "ipython3",
   "version": "3.10.12"
  },
  "papermill": {
   "default_parameters": {},
   "duration": 17.508086,
   "end_time": "2023-12-17T20:40:04.229859",
   "environment_variables": {},
   "exception": null,
   "input_path": "__notebook__.ipynb",
   "output_path": "__notebook__.ipynb",
   "parameters": {},
   "start_time": "2023-12-17T20:39:46.721773",
   "version": "2.4.0"
  }
 },
 "nbformat": 4,
 "nbformat_minor": 5
}
