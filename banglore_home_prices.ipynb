{
 "cells": [
  {
   "cell_type": "code",
   "execution_count": 1,
   "id": "46119f0d",
   "metadata": {
    "execution": {
     "iopub.execute_input": "2023-12-15T08:57:08.127510Z",
     "iopub.status.busy": "2023-12-15T08:57:08.127035Z",
     "iopub.status.idle": "2023-12-15T08:57:08.566109Z",
     "shell.execute_reply": "2023-12-15T08:57:08.564966Z"
    },
    "papermill": {
     "duration": 0.468021,
     "end_time": "2023-12-15T08:57:08.569142",
     "exception": false,
     "start_time": "2023-12-15T08:57:08.101121",
     "status": "completed"
    },
    "tags": []
   },
   "outputs": [],
   "source": [
    "import pandas as pd\n",
    "import numpy as np\n",
    "from matplotlib import pyplot as plt\n",
    "%matplotlib inline\n",
    "import matplotlib \n",
    "matplotlib.rcParams[\"figure.figsize\"] = (20,10)\n",
    "from math import ceil"
   ]
  },
  {
   "cell_type": "code",
   "execution_count": 2,
   "id": "14d735ec",
   "metadata": {
    "execution": {
     "iopub.execute_input": "2023-12-15T08:57:08.616135Z",
     "iopub.status.busy": "2023-12-15T08:57:08.615586Z",
     "iopub.status.idle": "2023-12-15T08:57:08.703296Z",
     "shell.execute_reply": "2023-12-15T08:57:08.702113Z"
    },
    "papermill": {
     "duration": 0.114156,
     "end_time": "2023-12-15T08:57:08.705873",
     "exception": false,
     "start_time": "2023-12-15T08:57:08.591717",
     "status": "completed"
    },
    "scrolled": true,
    "tags": []
   },
   "outputs": [
    {
     "data": {
      "text/html": [
       "<div>\n",
       "<style scoped>\n",
       "    .dataframe tbody tr th:only-of-type {\n",
       "        vertical-align: middle;\n",
       "    }\n",
       "\n",
       "    .dataframe tbody tr th {\n",
       "        vertical-align: top;\n",
       "    }\n",
       "\n",
       "    .dataframe thead th {\n",
       "        text-align: right;\n",
       "    }\n",
       "</style>\n",
       "<table border=\"1\" class=\"dataframe\">\n",
       "  <thead>\n",
       "    <tr style=\"text-align: right;\">\n",
       "      <th></th>\n",
       "      <th>area_type</th>\n",
       "      <th>availability</th>\n",
       "      <th>location</th>\n",
       "      <th>size</th>\n",
       "      <th>society</th>\n",
       "      <th>total_sqft</th>\n",
       "      <th>bath</th>\n",
       "      <th>balcony</th>\n",
       "      <th>price</th>\n",
       "    </tr>\n",
       "  </thead>\n",
       "  <tbody>\n",
       "    <tr>\n",
       "      <th>0</th>\n",
       "      <td>Super built-up  Area</td>\n",
       "      <td>19-Dec</td>\n",
       "      <td>Electronic City Phase II</td>\n",
       "      <td>2 BHK</td>\n",
       "      <td>Coomee</td>\n",
       "      <td>1056</td>\n",
       "      <td>2.0</td>\n",
       "      <td>1.0</td>\n",
       "      <td>39.07</td>\n",
       "    </tr>\n",
       "    <tr>\n",
       "      <th>1</th>\n",
       "      <td>Plot  Area</td>\n",
       "      <td>Ready To Move</td>\n",
       "      <td>Chikka Tirupathi</td>\n",
       "      <td>4 Bedroom</td>\n",
       "      <td>Theanmp</td>\n",
       "      <td>2600</td>\n",
       "      <td>5.0</td>\n",
       "      <td>3.0</td>\n",
       "      <td>120.00</td>\n",
       "    </tr>\n",
       "    <tr>\n",
       "      <th>2</th>\n",
       "      <td>Built-up  Area</td>\n",
       "      <td>Ready To Move</td>\n",
       "      <td>Uttarahalli</td>\n",
       "      <td>3 BHK</td>\n",
       "      <td>NaN</td>\n",
       "      <td>1440</td>\n",
       "      <td>2.0</td>\n",
       "      <td>3.0</td>\n",
       "      <td>62.00</td>\n",
       "    </tr>\n",
       "    <tr>\n",
       "      <th>3</th>\n",
       "      <td>Super built-up  Area</td>\n",
       "      <td>Ready To Move</td>\n",
       "      <td>Lingadheeranahalli</td>\n",
       "      <td>3 BHK</td>\n",
       "      <td>Soiewre</td>\n",
       "      <td>1521</td>\n",
       "      <td>3.0</td>\n",
       "      <td>1.0</td>\n",
       "      <td>95.00</td>\n",
       "    </tr>\n",
       "    <tr>\n",
       "      <th>4</th>\n",
       "      <td>Super built-up  Area</td>\n",
       "      <td>Ready To Move</td>\n",
       "      <td>Kothanur</td>\n",
       "      <td>2 BHK</td>\n",
       "      <td>NaN</td>\n",
       "      <td>1200</td>\n",
       "      <td>2.0</td>\n",
       "      <td>1.0</td>\n",
       "      <td>51.00</td>\n",
       "    </tr>\n",
       "  </tbody>\n",
       "</table>\n",
       "</div>"
      ],
      "text/plain": [
       "              area_type   availability                  location       size  \\\n",
       "0  Super built-up  Area         19-Dec  Electronic City Phase II      2 BHK   \n",
       "1            Plot  Area  Ready To Move          Chikka Tirupathi  4 Bedroom   \n",
       "2        Built-up  Area  Ready To Move               Uttarahalli      3 BHK   \n",
       "3  Super built-up  Area  Ready To Move        Lingadheeranahalli      3 BHK   \n",
       "4  Super built-up  Area  Ready To Move                  Kothanur      2 BHK   \n",
       "\n",
       "   society total_sqft  bath  balcony   price  \n",
       "0  Coomee        1056   2.0      1.0   39.07  \n",
       "1  Theanmp       2600   5.0      3.0  120.00  \n",
       "2      NaN       1440   2.0      3.0   62.00  \n",
       "3  Soiewre       1521   3.0      1.0   95.00  \n",
       "4      NaN       1200   2.0      1.0   51.00  "
      ]
     },
     "execution_count": 2,
     "metadata": {},
     "output_type": "execute_result"
    }
   ],
   "source": [
    "df1 = pd.read_csv(\"/kaggle/input/bengaluru-house-prices/bengaluru_house_prices.csv\")\n",
    "df1.head()"
   ]
  },
  {
   "cell_type": "code",
   "execution_count": 3,
   "id": "8fabd848",
   "metadata": {
    "execution": {
     "iopub.execute_input": "2023-12-15T08:57:08.755100Z",
     "iopub.status.busy": "2023-12-15T08:57:08.754372Z",
     "iopub.status.idle": "2023-12-15T08:57:08.761783Z",
     "shell.execute_reply": "2023-12-15T08:57:08.760717Z"
    },
    "papermill": {
     "duration": 0.035291,
     "end_time": "2023-12-15T08:57:08.764131",
     "exception": false,
     "start_time": "2023-12-15T08:57:08.728840",
     "status": "completed"
    },
    "tags": []
   },
   "outputs": [
    {
     "data": {
      "text/plain": [
       "(13320, 9)"
      ]
     },
     "execution_count": 3,
     "metadata": {},
     "output_type": "execute_result"
    }
   ],
   "source": [
    "df1.shape"
   ]
  },
  {
   "cell_type": "code",
   "execution_count": 4,
   "id": "ebba2b18",
   "metadata": {
    "execution": {
     "iopub.execute_input": "2023-12-15T08:57:08.811646Z",
     "iopub.status.busy": "2023-12-15T08:57:08.811000Z",
     "iopub.status.idle": "2023-12-15T08:57:08.818673Z",
     "shell.execute_reply": "2023-12-15T08:57:08.817331Z"
    },
    "papermill": {
     "duration": 0.034173,
     "end_time": "2023-12-15T08:57:08.820982",
     "exception": false,
     "start_time": "2023-12-15T08:57:08.786809",
     "status": "completed"
    },
    "tags": []
   },
   "outputs": [
    {
     "data": {
      "text/plain": [
       "Index(['area_type', 'availability', 'location', 'size', 'society',\n",
       "       'total_sqft', 'bath', 'balcony', 'price'],\n",
       "      dtype='object')"
      ]
     },
     "execution_count": 4,
     "metadata": {},
     "output_type": "execute_result"
    }
   ],
   "source": [
    "df1.columns"
   ]
  },
  {
   "cell_type": "code",
   "execution_count": 5,
   "id": "cfd1fed2",
   "metadata": {
    "execution": {
     "iopub.execute_input": "2023-12-15T08:57:08.868891Z",
     "iopub.status.busy": "2023-12-15T08:57:08.868234Z",
     "iopub.status.idle": "2023-12-15T08:57:08.883408Z",
     "shell.execute_reply": "2023-12-15T08:57:08.882028Z"
    },
    "papermill": {
     "duration": 0.042409,
     "end_time": "2023-12-15T08:57:08.886235",
     "exception": false,
     "start_time": "2023-12-15T08:57:08.843826",
     "status": "completed"
    },
    "tags": []
   },
   "outputs": [
    {
     "data": {
      "text/plain": [
       "array(['Super built-up  Area', 'Plot  Area', 'Built-up  Area',\n",
       "       'Carpet  Area'], dtype=object)"
      ]
     },
     "execution_count": 5,
     "metadata": {},
     "output_type": "execute_result"
    }
   ],
   "source": [
    "df1['area_type'].unique()"
   ]
  },
  {
   "cell_type": "code",
   "execution_count": 6,
   "id": "40e4d989",
   "metadata": {
    "execution": {
     "iopub.execute_input": "2023-12-15T08:57:08.934337Z",
     "iopub.status.busy": "2023-12-15T08:57:08.933903Z",
     "iopub.status.idle": "2023-12-15T08:57:08.950647Z",
     "shell.execute_reply": "2023-12-15T08:57:08.949722Z"
    },
    "papermill": {
     "duration": 0.043759,
     "end_time": "2023-12-15T08:57:08.953030",
     "exception": false,
     "start_time": "2023-12-15T08:57:08.909271",
     "status": "completed"
    },
    "tags": []
   },
   "outputs": [
    {
     "data": {
      "text/plain": [
       "area_type\n",
       "Super built-up  Area    8790\n",
       "Built-up  Area          2418\n",
       "Plot  Area              2025\n",
       "Carpet  Area              87\n",
       "Name: count, dtype: int64"
      ]
     },
     "execution_count": 6,
     "metadata": {},
     "output_type": "execute_result"
    }
   ],
   "source": [
    "df1['area_type'].value_counts()"
   ]
  },
  {
   "cell_type": "code",
   "execution_count": 7,
   "id": "d1b08200",
   "metadata": {
    "execution": {
     "iopub.execute_input": "2023-12-15T08:57:09.003149Z",
     "iopub.status.busy": "2023-12-15T08:57:09.002676Z",
     "iopub.status.idle": "2023-12-15T08:57:09.017358Z",
     "shell.execute_reply": "2023-12-15T08:57:09.015911Z"
    },
    "papermill": {
     "duration": 0.043293,
     "end_time": "2023-12-15T08:57:09.020260",
     "exception": false,
     "start_time": "2023-12-15T08:57:08.976967",
     "status": "completed"
    },
    "tags": []
   },
   "outputs": [
    {
     "data": {
      "text/plain": [
       "(13320, 5)"
      ]
     },
     "execution_count": 7,
     "metadata": {},
     "output_type": "execute_result"
    }
   ],
   "source": [
    "df2 = df1.drop(['area_type','society','balcony','availability'],axis='columns')\n",
    "df2.shape"
   ]
  },
  {
   "cell_type": "code",
   "execution_count": 8,
   "id": "f9295e92",
   "metadata": {
    "execution": {
     "iopub.execute_input": "2023-12-15T08:57:09.069494Z",
     "iopub.status.busy": "2023-12-15T08:57:09.069084Z",
     "iopub.status.idle": "2023-12-15T08:57:09.083739Z",
     "shell.execute_reply": "2023-12-15T08:57:09.082793Z"
    },
    "papermill": {
     "duration": 0.042354,
     "end_time": "2023-12-15T08:57:09.086643",
     "exception": false,
     "start_time": "2023-12-15T08:57:09.044289",
     "status": "completed"
    },
    "tags": []
   },
   "outputs": [
    {
     "data": {
      "text/plain": [
       "location       1\n",
       "size          16\n",
       "total_sqft     0\n",
       "bath          73\n",
       "price          0\n",
       "dtype: int64"
      ]
     },
     "execution_count": 8,
     "metadata": {},
     "output_type": "execute_result"
    }
   ],
   "source": [
    "df2.isnull().sum()"
   ]
  },
  {
   "cell_type": "code",
   "execution_count": 9,
   "id": "57ac865c",
   "metadata": {
    "execution": {
     "iopub.execute_input": "2023-12-15T08:57:09.204493Z",
     "iopub.status.busy": "2023-12-15T08:57:09.204082Z",
     "iopub.status.idle": "2023-12-15T08:57:09.210898Z",
     "shell.execute_reply": "2023-12-15T08:57:09.209720Z"
    },
    "papermill": {
     "duration": 0.103015,
     "end_time": "2023-12-15T08:57:09.213472",
     "exception": false,
     "start_time": "2023-12-15T08:57:09.110457",
     "status": "completed"
    },
    "tags": []
   },
   "outputs": [
    {
     "data": {
      "text/plain": [
       "(13320, 5)"
      ]
     },
     "execution_count": 9,
     "metadata": {},
     "output_type": "execute_result"
    }
   ],
   "source": [
    "df2.shape"
   ]
  },
  {
   "cell_type": "code",
   "execution_count": 10,
   "id": "51c3ea75",
   "metadata": {
    "execution": {
     "iopub.execute_input": "2023-12-15T08:57:09.267437Z",
     "iopub.status.busy": "2023-12-15T08:57:09.266144Z",
     "iopub.status.idle": "2023-12-15T08:57:09.288212Z",
     "shell.execute_reply": "2023-12-15T08:57:09.287011Z"
    },
    "papermill": {
     "duration": 0.052798,
     "end_time": "2023-12-15T08:57:09.291148",
     "exception": false,
     "start_time": "2023-12-15T08:57:09.238350",
     "status": "completed"
    },
    "tags": []
   },
   "outputs": [
    {
     "data": {
      "text/plain": [
       "location      0\n",
       "size          0\n",
       "total_sqft    0\n",
       "bath          0\n",
       "price         0\n",
       "dtype: int64"
      ]
     },
     "execution_count": 10,
     "metadata": {},
     "output_type": "execute_result"
    }
   ],
   "source": [
    "df3 = df2.dropna()\n",
    "df3.isnull().sum()"
   ]
  },
  {
   "cell_type": "code",
   "execution_count": 11,
   "id": "f40a2ba3",
   "metadata": {
    "execution": {
     "iopub.execute_input": "2023-12-15T08:57:09.342287Z",
     "iopub.status.busy": "2023-12-15T08:57:09.341824Z",
     "iopub.status.idle": "2023-12-15T08:57:09.350968Z",
     "shell.execute_reply": "2023-12-15T08:57:09.349129Z"
    },
    "papermill": {
     "duration": 0.0376,
     "end_time": "2023-12-15T08:57:09.353562",
     "exception": false,
     "start_time": "2023-12-15T08:57:09.315962",
     "status": "completed"
    },
    "tags": []
   },
   "outputs": [
    {
     "data": {
      "text/plain": [
       "(13246, 5)"
      ]
     },
     "execution_count": 11,
     "metadata": {},
     "output_type": "execute_result"
    }
   ],
   "source": [
    "df3.shape"
   ]
  },
  {
   "cell_type": "code",
   "execution_count": 12,
   "id": "5b2baf73",
   "metadata": {
    "execution": {
     "iopub.execute_input": "2023-12-15T08:57:09.405759Z",
     "iopub.status.busy": "2023-12-15T08:57:09.405382Z",
     "iopub.status.idle": "2023-12-15T08:57:09.432758Z",
     "shell.execute_reply": "2023-12-15T08:57:09.432002Z"
    },
    "papermill": {
     "duration": 0.055183,
     "end_time": "2023-12-15T08:57:09.434965",
     "exception": false,
     "start_time": "2023-12-15T08:57:09.379782",
     "status": "completed"
    },
    "tags": []
   },
   "outputs": [
    {
     "data": {
      "text/plain": [
       "array([ 2,  4,  3,  6,  1,  8,  7,  5, 11,  9, 27, 10, 19, 16, 43, 14, 12,\n",
       "       13, 18])"
      ]
     },
     "execution_count": 12,
     "metadata": {},
     "output_type": "execute_result"
    }
   ],
   "source": [
    "df3 = df3.copy()\n",
    "df3['bhk'] = df3['size'].apply(lambda x: int(x.split(' ')[0]))\n",
    "df3.bhk.unique()"
   ]
  },
  {
   "cell_type": "code",
   "execution_count": 13,
   "id": "e93d0a44",
   "metadata": {
    "execution": {
     "iopub.execute_input": "2023-12-15T08:57:09.487309Z",
     "iopub.status.busy": "2023-12-15T08:57:09.486907Z",
     "iopub.status.idle": "2023-12-15T08:57:09.492402Z",
     "shell.execute_reply": "2023-12-15T08:57:09.491078Z"
    },
    "papermill": {
     "duration": 0.034365,
     "end_time": "2023-12-15T08:57:09.495019",
     "exception": false,
     "start_time": "2023-12-15T08:57:09.460654",
     "status": "completed"
    },
    "tags": []
   },
   "outputs": [],
   "source": [
    "def is_float(x):\n",
    "    try:\n",
    "        float(x)\n",
    "    except:\n",
    "        return False\n",
    "    return True"
   ]
  },
  {
   "cell_type": "code",
   "execution_count": 14,
   "id": "df464b58",
   "metadata": {
    "execution": {
     "iopub.execute_input": "2023-12-15T08:57:09.546720Z",
     "iopub.status.busy": "2023-12-15T08:57:09.545868Z",
     "iopub.status.idle": "2023-12-15T08:57:09.553024Z",
     "shell.execute_reply": "2023-12-15T08:57:09.551907Z"
    },
    "papermill": {
     "duration": 0.035984,
     "end_time": "2023-12-15T08:57:09.555434",
     "exception": false,
     "start_time": "2023-12-15T08:57:09.519450",
     "status": "completed"
    },
    "tags": []
   },
   "outputs": [
    {
     "data": {
      "text/plain": [
       "5"
      ]
     },
     "execution_count": 14,
     "metadata": {},
     "output_type": "execute_result"
    }
   ],
   "source": [
    "2+3"
   ]
  },
  {
   "cell_type": "code",
   "execution_count": 15,
   "id": "8131a665",
   "metadata": {
    "execution": {
     "iopub.execute_input": "2023-12-15T08:57:09.607035Z",
     "iopub.status.busy": "2023-12-15T08:57:09.606241Z",
     "iopub.status.idle": "2023-12-15T08:57:09.633795Z",
     "shell.execute_reply": "2023-12-15T08:57:09.632528Z"
    },
    "papermill": {
     "duration": 0.05657,
     "end_time": "2023-12-15T08:57:09.636433",
     "exception": false,
     "start_time": "2023-12-15T08:57:09.579863",
     "status": "completed"
    },
    "scrolled": true,
    "tags": []
   },
   "outputs": [
    {
     "data": {
      "text/html": [
       "<div>\n",
       "<style scoped>\n",
       "    .dataframe tbody tr th:only-of-type {\n",
       "        vertical-align: middle;\n",
       "    }\n",
       "\n",
       "    .dataframe tbody tr th {\n",
       "        vertical-align: top;\n",
       "    }\n",
       "\n",
       "    .dataframe thead th {\n",
       "        text-align: right;\n",
       "    }\n",
       "</style>\n",
       "<table border=\"1\" class=\"dataframe\">\n",
       "  <thead>\n",
       "    <tr style=\"text-align: right;\">\n",
       "      <th></th>\n",
       "      <th>location</th>\n",
       "      <th>size</th>\n",
       "      <th>total_sqft</th>\n",
       "      <th>bath</th>\n",
       "      <th>price</th>\n",
       "      <th>bhk</th>\n",
       "    </tr>\n",
       "  </thead>\n",
       "  <tbody>\n",
       "    <tr>\n",
       "      <th>30</th>\n",
       "      <td>Yelahanka</td>\n",
       "      <td>4 BHK</td>\n",
       "      <td>2100 - 2850</td>\n",
       "      <td>4.0</td>\n",
       "      <td>186.000</td>\n",
       "      <td>4</td>\n",
       "    </tr>\n",
       "    <tr>\n",
       "      <th>122</th>\n",
       "      <td>Hebbal</td>\n",
       "      <td>4 BHK</td>\n",
       "      <td>3067 - 8156</td>\n",
       "      <td>4.0</td>\n",
       "      <td>477.000</td>\n",
       "      <td>4</td>\n",
       "    </tr>\n",
       "    <tr>\n",
       "      <th>137</th>\n",
       "      <td>8th Phase JP Nagar</td>\n",
       "      <td>2 BHK</td>\n",
       "      <td>1042 - 1105</td>\n",
       "      <td>2.0</td>\n",
       "      <td>54.005</td>\n",
       "      <td>2</td>\n",
       "    </tr>\n",
       "    <tr>\n",
       "      <th>165</th>\n",
       "      <td>Sarjapur</td>\n",
       "      <td>2 BHK</td>\n",
       "      <td>1145 - 1340</td>\n",
       "      <td>2.0</td>\n",
       "      <td>43.490</td>\n",
       "      <td>2</td>\n",
       "    </tr>\n",
       "    <tr>\n",
       "      <th>188</th>\n",
       "      <td>KR Puram</td>\n",
       "      <td>2 BHK</td>\n",
       "      <td>1015 - 1540</td>\n",
       "      <td>2.0</td>\n",
       "      <td>56.800</td>\n",
       "      <td>2</td>\n",
       "    </tr>\n",
       "    <tr>\n",
       "      <th>410</th>\n",
       "      <td>Kengeri</td>\n",
       "      <td>1 BHK</td>\n",
       "      <td>34.46Sq. Meter</td>\n",
       "      <td>1.0</td>\n",
       "      <td>18.500</td>\n",
       "      <td>1</td>\n",
       "    </tr>\n",
       "    <tr>\n",
       "      <th>549</th>\n",
       "      <td>Hennur Road</td>\n",
       "      <td>2 BHK</td>\n",
       "      <td>1195 - 1440</td>\n",
       "      <td>2.0</td>\n",
       "      <td>63.770</td>\n",
       "      <td>2</td>\n",
       "    </tr>\n",
       "    <tr>\n",
       "      <th>648</th>\n",
       "      <td>Arekere</td>\n",
       "      <td>9 Bedroom</td>\n",
       "      <td>4125Perch</td>\n",
       "      <td>9.0</td>\n",
       "      <td>265.000</td>\n",
       "      <td>9</td>\n",
       "    </tr>\n",
       "    <tr>\n",
       "      <th>661</th>\n",
       "      <td>Yelahanka</td>\n",
       "      <td>2 BHK</td>\n",
       "      <td>1120 - 1145</td>\n",
       "      <td>2.0</td>\n",
       "      <td>48.130</td>\n",
       "      <td>2</td>\n",
       "    </tr>\n",
       "    <tr>\n",
       "      <th>672</th>\n",
       "      <td>Bettahalsoor</td>\n",
       "      <td>4 Bedroom</td>\n",
       "      <td>3090 - 5002</td>\n",
       "      <td>4.0</td>\n",
       "      <td>445.000</td>\n",
       "      <td>4</td>\n",
       "    </tr>\n",
       "  </tbody>\n",
       "</table>\n",
       "</div>"
      ],
      "text/plain": [
       "               location       size      total_sqft  bath    price  bhk\n",
       "30            Yelahanka      4 BHK     2100 - 2850   4.0  186.000    4\n",
       "122              Hebbal      4 BHK     3067 - 8156   4.0  477.000    4\n",
       "137  8th Phase JP Nagar      2 BHK     1042 - 1105   2.0   54.005    2\n",
       "165            Sarjapur      2 BHK     1145 - 1340   2.0   43.490    2\n",
       "188            KR Puram      2 BHK     1015 - 1540   2.0   56.800    2\n",
       "410             Kengeri      1 BHK  34.46Sq. Meter   1.0   18.500    1\n",
       "549         Hennur Road      2 BHK     1195 - 1440   2.0   63.770    2\n",
       "648             Arekere  9 Bedroom       4125Perch   9.0  265.000    9\n",
       "661           Yelahanka      2 BHK     1120 - 1145   2.0   48.130    2\n",
       "672        Bettahalsoor  4 Bedroom     3090 - 5002   4.0  445.000    4"
      ]
     },
     "execution_count": 15,
     "metadata": {},
     "output_type": "execute_result"
    }
   ],
   "source": [
    "df3[~df3['total_sqft'].apply(is_float)].head(10)"
   ]
  },
  {
   "cell_type": "code",
   "execution_count": 16,
   "id": "a5443e5c",
   "metadata": {
    "execution": {
     "iopub.execute_input": "2023-12-15T08:57:09.689482Z",
     "iopub.status.busy": "2023-12-15T08:57:09.689079Z",
     "iopub.status.idle": "2023-12-15T08:57:09.695637Z",
     "shell.execute_reply": "2023-12-15T08:57:09.694338Z"
    },
    "papermill": {
     "duration": 0.035719,
     "end_time": "2023-12-15T08:57:09.698269",
     "exception": false,
     "start_time": "2023-12-15T08:57:09.662550",
     "status": "completed"
    },
    "tags": []
   },
   "outputs": [],
   "source": [
    "def convert_sqft_to_num(x):\n",
    "    tokens = x.split('-')\n",
    "    if len(tokens) == 2:\n",
    "        return (float(tokens[0])+float(tokens[1]))/2\n",
    "    try:\n",
    "        return float(x)\n",
    "    except:\n",
    "        return None   "
   ]
  },
  {
   "cell_type": "code",
   "execution_count": 17,
   "id": "c9bb9568",
   "metadata": {
    "execution": {
     "iopub.execute_input": "2023-12-15T08:57:09.750124Z",
     "iopub.status.busy": "2023-12-15T08:57:09.749682Z",
     "iopub.status.idle": "2023-12-15T08:57:09.781724Z",
     "shell.execute_reply": "2023-12-15T08:57:09.780487Z"
    },
    "papermill": {
     "duration": 0.061124,
     "end_time": "2023-12-15T08:57:09.784608",
     "exception": false,
     "start_time": "2023-12-15T08:57:09.723484",
     "status": "completed"
    },
    "tags": []
   },
   "outputs": [
    {
     "data": {
      "text/html": [
       "<div>\n",
       "<style scoped>\n",
       "    .dataframe tbody tr th:only-of-type {\n",
       "        vertical-align: middle;\n",
       "    }\n",
       "\n",
       "    .dataframe tbody tr th {\n",
       "        vertical-align: top;\n",
       "    }\n",
       "\n",
       "    .dataframe thead th {\n",
       "        text-align: right;\n",
       "    }\n",
       "</style>\n",
       "<table border=\"1\" class=\"dataframe\">\n",
       "  <thead>\n",
       "    <tr style=\"text-align: right;\">\n",
       "      <th></th>\n",
       "      <th>location</th>\n",
       "      <th>size</th>\n",
       "      <th>total_sqft</th>\n",
       "      <th>bath</th>\n",
       "      <th>price</th>\n",
       "      <th>bhk</th>\n",
       "    </tr>\n",
       "  </thead>\n",
       "  <tbody>\n",
       "    <tr>\n",
       "      <th>0</th>\n",
       "      <td>Electronic City Phase II</td>\n",
       "      <td>2 BHK</td>\n",
       "      <td>1056.0</td>\n",
       "      <td>2.0</td>\n",
       "      <td>39.07</td>\n",
       "      <td>2</td>\n",
       "    </tr>\n",
       "    <tr>\n",
       "      <th>1</th>\n",
       "      <td>Chikka Tirupathi</td>\n",
       "      <td>4 Bedroom</td>\n",
       "      <td>2600.0</td>\n",
       "      <td>5.0</td>\n",
       "      <td>120.00</td>\n",
       "      <td>4</td>\n",
       "    </tr>\n",
       "  </tbody>\n",
       "</table>\n",
       "</div>"
      ],
      "text/plain": [
       "                   location       size  total_sqft  bath   price  bhk\n",
       "0  Electronic City Phase II      2 BHK      1056.0   2.0   39.07    2\n",
       "1          Chikka Tirupathi  4 Bedroom      2600.0   5.0  120.00    4"
      ]
     },
     "execution_count": 17,
     "metadata": {},
     "output_type": "execute_result"
    }
   ],
   "source": [
    "df4 = df3.copy()\n",
    "df4.total_sqft = df4.total_sqft.apply(convert_sqft_to_num)\n",
    "df4 = df4[df4.total_sqft.notnull()]\n",
    "df4.head(2)"
   ]
  },
  {
   "cell_type": "code",
   "execution_count": 18,
   "id": "ea1be905",
   "metadata": {
    "execution": {
     "iopub.execute_input": "2023-12-15T08:57:09.836907Z",
     "iopub.status.busy": "2023-12-15T08:57:09.836449Z",
     "iopub.status.idle": "2023-12-15T08:57:09.846279Z",
     "shell.execute_reply": "2023-12-15T08:57:09.845195Z"
    },
    "papermill": {
     "duration": 0.039502,
     "end_time": "2023-12-15T08:57:09.849313",
     "exception": false,
     "start_time": "2023-12-15T08:57:09.809811",
     "status": "completed"
    },
    "scrolled": true,
    "tags": []
   },
   "outputs": [
    {
     "data": {
      "text/plain": [
       "location      Yelahanka\n",
       "size              4 BHK\n",
       "total_sqft       2475.0\n",
       "bath                4.0\n",
       "price             186.0\n",
       "bhk                   4\n",
       "Name: 30, dtype: object"
      ]
     },
     "execution_count": 18,
     "metadata": {},
     "output_type": "execute_result"
    }
   ],
   "source": [
    "df4.loc[30]"
   ]
  },
  {
   "cell_type": "code",
   "execution_count": 19,
   "id": "ac1a7830",
   "metadata": {
    "execution": {
     "iopub.execute_input": "2023-12-15T08:57:09.902554Z",
     "iopub.status.busy": "2023-12-15T08:57:09.902158Z",
     "iopub.status.idle": "2023-12-15T08:57:09.909155Z",
     "shell.execute_reply": "2023-12-15T08:57:09.908002Z"
    },
    "papermill": {
     "duration": 0.036104,
     "end_time": "2023-12-15T08:57:09.911596",
     "exception": false,
     "start_time": "2023-12-15T08:57:09.875492",
     "status": "completed"
    },
    "tags": []
   },
   "outputs": [
    {
     "data": {
      "text/plain": [
       "2475.0"
      ]
     },
     "execution_count": 19,
     "metadata": {},
     "output_type": "execute_result"
    }
   ],
   "source": [
    "(2100+2850)/2"
   ]
  },
  {
   "cell_type": "code",
   "execution_count": 20,
   "id": "87ed4196",
   "metadata": {
    "execution": {
     "iopub.execute_input": "2023-12-15T08:57:09.965479Z",
     "iopub.status.busy": "2023-12-15T08:57:09.965082Z",
     "iopub.status.idle": "2023-12-15T08:57:09.986582Z",
     "shell.execute_reply": "2023-12-15T08:57:09.985207Z"
    },
    "papermill": {
     "duration": 0.052705,
     "end_time": "2023-12-15T08:57:09.989578",
     "exception": false,
     "start_time": "2023-12-15T08:57:09.936873",
     "status": "completed"
    },
    "tags": []
   },
   "outputs": [
    {
     "data": {
      "text/html": [
       "<div>\n",
       "<style scoped>\n",
       "    .dataframe tbody tr th:only-of-type {\n",
       "        vertical-align: middle;\n",
       "    }\n",
       "\n",
       "    .dataframe tbody tr th {\n",
       "        vertical-align: top;\n",
       "    }\n",
       "\n",
       "    .dataframe thead th {\n",
       "        text-align: right;\n",
       "    }\n",
       "</style>\n",
       "<table border=\"1\" class=\"dataframe\">\n",
       "  <thead>\n",
       "    <tr style=\"text-align: right;\">\n",
       "      <th></th>\n",
       "      <th>location</th>\n",
       "      <th>size</th>\n",
       "      <th>total_sqft</th>\n",
       "      <th>bath</th>\n",
       "      <th>price</th>\n",
       "      <th>bhk</th>\n",
       "      <th>price_per_sqft</th>\n",
       "    </tr>\n",
       "  </thead>\n",
       "  <tbody>\n",
       "    <tr>\n",
       "      <th>0</th>\n",
       "      <td>Electronic City Phase II</td>\n",
       "      <td>2 BHK</td>\n",
       "      <td>1056.0</td>\n",
       "      <td>2.0</td>\n",
       "      <td>39.07</td>\n",
       "      <td>2</td>\n",
       "      <td>3699.810606</td>\n",
       "    </tr>\n",
       "    <tr>\n",
       "      <th>1</th>\n",
       "      <td>Chikka Tirupathi</td>\n",
       "      <td>4 Bedroom</td>\n",
       "      <td>2600.0</td>\n",
       "      <td>5.0</td>\n",
       "      <td>120.00</td>\n",
       "      <td>4</td>\n",
       "      <td>4615.384615</td>\n",
       "    </tr>\n",
       "    <tr>\n",
       "      <th>2</th>\n",
       "      <td>Uttarahalli</td>\n",
       "      <td>3 BHK</td>\n",
       "      <td>1440.0</td>\n",
       "      <td>2.0</td>\n",
       "      <td>62.00</td>\n",
       "      <td>3</td>\n",
       "      <td>4305.555556</td>\n",
       "    </tr>\n",
       "    <tr>\n",
       "      <th>3</th>\n",
       "      <td>Lingadheeranahalli</td>\n",
       "      <td>3 BHK</td>\n",
       "      <td>1521.0</td>\n",
       "      <td>3.0</td>\n",
       "      <td>95.00</td>\n",
       "      <td>3</td>\n",
       "      <td>6245.890861</td>\n",
       "    </tr>\n",
       "    <tr>\n",
       "      <th>4</th>\n",
       "      <td>Kothanur</td>\n",
       "      <td>2 BHK</td>\n",
       "      <td>1200.0</td>\n",
       "      <td>2.0</td>\n",
       "      <td>51.00</td>\n",
       "      <td>2</td>\n",
       "      <td>4250.000000</td>\n",
       "    </tr>\n",
       "  </tbody>\n",
       "</table>\n",
       "</div>"
      ],
      "text/plain": [
       "                   location       size  total_sqft  bath   price  bhk  \\\n",
       "0  Electronic City Phase II      2 BHK      1056.0   2.0   39.07    2   \n",
       "1          Chikka Tirupathi  4 Bedroom      2600.0   5.0  120.00    4   \n",
       "2               Uttarahalli      3 BHK      1440.0   2.0   62.00    3   \n",
       "3        Lingadheeranahalli      3 BHK      1521.0   3.0   95.00    3   \n",
       "4                  Kothanur      2 BHK      1200.0   2.0   51.00    2   \n",
       "\n",
       "   price_per_sqft  \n",
       "0     3699.810606  \n",
       "1     4615.384615  \n",
       "2     4305.555556  \n",
       "3     6245.890861  \n",
       "4     4250.000000  "
      ]
     },
     "execution_count": 20,
     "metadata": {},
     "output_type": "execute_result"
    }
   ],
   "source": [
    "df5 = df4.copy()\n",
    "df5['price_per_sqft'] = df5['price']*100000/df5['total_sqft']\n",
    "df5.head()"
   ]
  },
  {
   "cell_type": "code",
   "execution_count": 21,
   "id": "a96ca258",
   "metadata": {
    "execution": {
     "iopub.execute_input": "2023-12-15T08:57:10.045316Z",
     "iopub.status.busy": "2023-12-15T08:57:10.044881Z",
     "iopub.status.idle": "2023-12-15T08:57:10.058824Z",
     "shell.execute_reply": "2023-12-15T08:57:10.057768Z"
    },
    "papermill": {
     "duration": 0.044653,
     "end_time": "2023-12-15T08:57:10.061390",
     "exception": false,
     "start_time": "2023-12-15T08:57:10.016737",
     "status": "completed"
    },
    "scrolled": true,
    "tags": []
   },
   "outputs": [
    {
     "data": {
      "text/plain": [
       "count    1.320000e+04\n",
       "mean     7.920759e+03\n",
       "std      1.067272e+05\n",
       "min      2.678298e+02\n",
       "25%      4.267701e+03\n",
       "50%      5.438331e+03\n",
       "75%      7.317073e+03\n",
       "max      1.200000e+07\n",
       "Name: price_per_sqft, dtype: float64"
      ]
     },
     "execution_count": 21,
     "metadata": {},
     "output_type": "execute_result"
    }
   ],
   "source": [
    "df5_stats = df5['price_per_sqft'].describe()\n",
    "df5_stats"
   ]
  },
  {
   "cell_type": "code",
   "execution_count": 22,
   "id": "45366412",
   "metadata": {
    "execution": {
     "iopub.execute_input": "2023-12-15T08:57:10.117271Z",
     "iopub.status.busy": "2023-12-15T08:57:10.116861Z",
     "iopub.status.idle": "2023-12-15T08:57:10.239368Z",
     "shell.execute_reply": "2023-12-15T08:57:10.238148Z"
    },
    "papermill": {
     "duration": 0.153744,
     "end_time": "2023-12-15T08:57:10.242492",
     "exception": false,
     "start_time": "2023-12-15T08:57:10.088748",
     "status": "completed"
    },
    "tags": []
   },
   "outputs": [],
   "source": [
    "df5.to_csv(\"bhp.csv\",index=False)"
   ]
  },
  {
   "cell_type": "code",
   "execution_count": 23,
   "id": "8dd97df5",
   "metadata": {
    "execution": {
     "iopub.execute_input": "2023-12-15T08:57:10.296112Z",
     "iopub.status.busy": "2023-12-15T08:57:10.295664Z",
     "iopub.status.idle": "2023-12-15T08:57:10.316653Z",
     "shell.execute_reply": "2023-12-15T08:57:10.315479Z"
    },
    "papermill": {
     "duration": 0.051136,
     "end_time": "2023-12-15T08:57:10.319294",
     "exception": false,
     "start_time": "2023-12-15T08:57:10.268158",
     "status": "completed"
    },
    "tags": []
   },
   "outputs": [
    {
     "data": {
      "text/plain": [
       "location\n",
       "Whitefield                   533\n",
       "Sarjapur  Road               392\n",
       "Electronic City              304\n",
       "Kanakpura Road               264\n",
       "Thanisandra                  235\n",
       "                            ... \n",
       "Rajanna Layout                 1\n",
       "Subramanyanagar                1\n",
       "Lakshmipura Vidyaanyapura      1\n",
       "Malur Hosur Road               1\n",
       "Abshot Layout                  1\n",
       "Name: count, Length: 1287, dtype: int64"
      ]
     },
     "execution_count": 23,
     "metadata": {},
     "output_type": "execute_result"
    }
   ],
   "source": [
    "df5.location = df5.location.apply(lambda x: x.strip())\n",
    "location_stats = df5['location'].value_counts(ascending=False)\n",
    "location_stats"
   ]
  },
  {
   "cell_type": "code",
   "execution_count": 24,
   "id": "ca7079a0",
   "metadata": {
    "execution": {
     "iopub.execute_input": "2023-12-15T08:57:10.372699Z",
     "iopub.status.busy": "2023-12-15T08:57:10.372323Z",
     "iopub.status.idle": "2023-12-15T08:57:10.379384Z",
     "shell.execute_reply": "2023-12-15T08:57:10.378280Z"
    },
    "papermill": {
     "duration": 0.036871,
     "end_time": "2023-12-15T08:57:10.381990",
     "exception": false,
     "start_time": "2023-12-15T08:57:10.345119",
     "status": "completed"
    },
    "tags": []
   },
   "outputs": [
    {
     "data": {
      "text/plain": [
       "13200"
      ]
     },
     "execution_count": 24,
     "metadata": {},
     "output_type": "execute_result"
    }
   ],
   "source": [
    "location_stats.values.sum()"
   ]
  },
  {
   "cell_type": "code",
   "execution_count": 25,
   "id": "c3e0643f",
   "metadata": {
    "execution": {
     "iopub.execute_input": "2023-12-15T08:57:10.437599Z",
     "iopub.status.busy": "2023-12-15T08:57:10.437199Z",
     "iopub.status.idle": "2023-12-15T08:57:10.447187Z",
     "shell.execute_reply": "2023-12-15T08:57:10.445792Z"
    },
    "papermill": {
     "duration": 0.041796,
     "end_time": "2023-12-15T08:57:10.449586",
     "exception": false,
     "start_time": "2023-12-15T08:57:10.407790",
     "status": "completed"
    },
    "scrolled": true,
    "tags": []
   },
   "outputs": [
    {
     "data": {
      "text/plain": [
       "240"
      ]
     },
     "execution_count": 25,
     "metadata": {},
     "output_type": "execute_result"
    }
   ],
   "source": [
    "len(location_stats[location_stats>10])"
   ]
  },
  {
   "cell_type": "code",
   "execution_count": 26,
   "id": "97adab69",
   "metadata": {
    "execution": {
     "iopub.execute_input": "2023-12-15T08:57:10.506278Z",
     "iopub.status.busy": "2023-12-15T08:57:10.505811Z",
     "iopub.status.idle": "2023-12-15T08:57:10.513048Z",
     "shell.execute_reply": "2023-12-15T08:57:10.511814Z"
    },
    "papermill": {
     "duration": 0.038015,
     "end_time": "2023-12-15T08:57:10.515592",
     "exception": false,
     "start_time": "2023-12-15T08:57:10.477577",
     "status": "completed"
    },
    "tags": []
   },
   "outputs": [
    {
     "data": {
      "text/plain": [
       "1287"
      ]
     },
     "execution_count": 26,
     "metadata": {},
     "output_type": "execute_result"
    }
   ],
   "source": [
    "len(location_stats)"
   ]
  },
  {
   "cell_type": "code",
   "execution_count": 27,
   "id": "2099b33e",
   "metadata": {
    "execution": {
     "iopub.execute_input": "2023-12-15T08:57:10.571144Z",
     "iopub.status.busy": "2023-12-15T08:57:10.570691Z",
     "iopub.status.idle": "2023-12-15T08:57:10.578856Z",
     "shell.execute_reply": "2023-12-15T08:57:10.577621Z"
    },
    "papermill": {
     "duration": 0.038321,
     "end_time": "2023-12-15T08:57:10.581415",
     "exception": false,
     "start_time": "2023-12-15T08:57:10.543094",
     "status": "completed"
    },
    "tags": []
   },
   "outputs": [
    {
     "data": {
      "text/plain": [
       "1047"
      ]
     },
     "execution_count": 27,
     "metadata": {},
     "output_type": "execute_result"
    }
   ],
   "source": [
    "len(location_stats[location_stats<=10])"
   ]
  },
  {
   "cell_type": "code",
   "execution_count": 28,
   "id": "0db5496d",
   "metadata": {
    "execution": {
     "iopub.execute_input": "2023-12-15T08:57:10.638842Z",
     "iopub.status.busy": "2023-12-15T08:57:10.638458Z",
     "iopub.status.idle": "2023-12-15T08:57:10.648404Z",
     "shell.execute_reply": "2023-12-15T08:57:10.647373Z"
    },
    "papermill": {
     "duration": 0.040994,
     "end_time": "2023-12-15T08:57:10.650861",
     "exception": false,
     "start_time": "2023-12-15T08:57:10.609867",
     "status": "completed"
    },
    "tags": []
   },
   "outputs": [
    {
     "data": {
      "text/plain": [
       "location\n",
       "BTM 1st Stage                10\n",
       "Gunjur Palya                 10\n",
       "Nagappa Reddy Layout         10\n",
       "Sector 1 HSR Layout          10\n",
       "Thyagaraja Nagar             10\n",
       "                             ..\n",
       "Rajanna Layout                1\n",
       "Subramanyanagar               1\n",
       "Lakshmipura Vidyaanyapura     1\n",
       "Malur Hosur Road              1\n",
       "Abshot Layout                 1\n",
       "Name: count, Length: 1047, dtype: int64"
      ]
     },
     "execution_count": 28,
     "metadata": {},
     "output_type": "execute_result"
    }
   ],
   "source": [
    "location_stats_less_than_10 = location_stats[location_stats<=10]\n",
    "location_stats_less_than_10"
   ]
  },
  {
   "cell_type": "code",
   "execution_count": 29,
   "id": "953a807e",
   "metadata": {
    "execution": {
     "iopub.execute_input": "2023-12-15T08:57:10.707097Z",
     "iopub.status.busy": "2023-12-15T08:57:10.706669Z",
     "iopub.status.idle": "2023-12-15T08:57:10.715620Z",
     "shell.execute_reply": "2023-12-15T08:57:10.714623Z"
    },
    "papermill": {
     "duration": 0.040207,
     "end_time": "2023-12-15T08:57:10.717919",
     "exception": false,
     "start_time": "2023-12-15T08:57:10.677712",
     "status": "completed"
    },
    "tags": []
   },
   "outputs": [
    {
     "data": {
      "text/plain": [
       "1287"
      ]
     },
     "execution_count": 29,
     "metadata": {},
     "output_type": "execute_result"
    }
   ],
   "source": [
    "len(df5.location.unique())"
   ]
  },
  {
   "cell_type": "code",
   "execution_count": 30,
   "id": "b74659d1",
   "metadata": {
    "execution": {
     "iopub.execute_input": "2023-12-15T08:57:10.774050Z",
     "iopub.status.busy": "2023-12-15T08:57:10.773187Z",
     "iopub.status.idle": "2023-12-15T08:57:10.827862Z",
     "shell.execute_reply": "2023-12-15T08:57:10.826622Z"
    },
    "papermill": {
     "duration": 0.085865,
     "end_time": "2023-12-15T08:57:10.830740",
     "exception": false,
     "start_time": "2023-12-15T08:57:10.744875",
     "status": "completed"
    },
    "tags": []
   },
   "outputs": [
    {
     "data": {
      "text/plain": [
       "241"
      ]
     },
     "execution_count": 30,
     "metadata": {},
     "output_type": "execute_result"
    }
   ],
   "source": [
    "df5.location = df5.location.apply(lambda x: 'other' if x in location_stats_less_than_10 else x)\n",
    "len(df5.location.unique())"
   ]
  },
  {
   "cell_type": "code",
   "execution_count": 31,
   "id": "8853c5e6",
   "metadata": {
    "execution": {
     "iopub.execute_input": "2023-12-15T08:57:10.888756Z",
     "iopub.status.busy": "2023-12-15T08:57:10.888238Z",
     "iopub.status.idle": "2023-12-15T08:57:10.907282Z",
     "shell.execute_reply": "2023-12-15T08:57:10.906365Z"
    },
    "papermill": {
     "duration": 0.05007,
     "end_time": "2023-12-15T08:57:10.909570",
     "exception": false,
     "start_time": "2023-12-15T08:57:10.859500",
     "status": "completed"
    },
    "scrolled": true,
    "tags": []
   },
   "outputs": [
    {
     "data": {
      "text/html": [
       "<div>\n",
       "<style scoped>\n",
       "    .dataframe tbody tr th:only-of-type {\n",
       "        vertical-align: middle;\n",
       "    }\n",
       "\n",
       "    .dataframe tbody tr th {\n",
       "        vertical-align: top;\n",
       "    }\n",
       "\n",
       "    .dataframe thead th {\n",
       "        text-align: right;\n",
       "    }\n",
       "</style>\n",
       "<table border=\"1\" class=\"dataframe\">\n",
       "  <thead>\n",
       "    <tr style=\"text-align: right;\">\n",
       "      <th></th>\n",
       "      <th>location</th>\n",
       "      <th>size</th>\n",
       "      <th>total_sqft</th>\n",
       "      <th>bath</th>\n",
       "      <th>price</th>\n",
       "      <th>bhk</th>\n",
       "      <th>price_per_sqft</th>\n",
       "    </tr>\n",
       "  </thead>\n",
       "  <tbody>\n",
       "    <tr>\n",
       "      <th>0</th>\n",
       "      <td>Electronic City Phase II</td>\n",
       "      <td>2 BHK</td>\n",
       "      <td>1056.0</td>\n",
       "      <td>2.0</td>\n",
       "      <td>39.07</td>\n",
       "      <td>2</td>\n",
       "      <td>3699.810606</td>\n",
       "    </tr>\n",
       "    <tr>\n",
       "      <th>1</th>\n",
       "      <td>Chikka Tirupathi</td>\n",
       "      <td>4 Bedroom</td>\n",
       "      <td>2600.0</td>\n",
       "      <td>5.0</td>\n",
       "      <td>120.00</td>\n",
       "      <td>4</td>\n",
       "      <td>4615.384615</td>\n",
       "    </tr>\n",
       "    <tr>\n",
       "      <th>2</th>\n",
       "      <td>Uttarahalli</td>\n",
       "      <td>3 BHK</td>\n",
       "      <td>1440.0</td>\n",
       "      <td>2.0</td>\n",
       "      <td>62.00</td>\n",
       "      <td>3</td>\n",
       "      <td>4305.555556</td>\n",
       "    </tr>\n",
       "    <tr>\n",
       "      <th>3</th>\n",
       "      <td>Lingadheeranahalli</td>\n",
       "      <td>3 BHK</td>\n",
       "      <td>1521.0</td>\n",
       "      <td>3.0</td>\n",
       "      <td>95.00</td>\n",
       "      <td>3</td>\n",
       "      <td>6245.890861</td>\n",
       "    </tr>\n",
       "    <tr>\n",
       "      <th>4</th>\n",
       "      <td>Kothanur</td>\n",
       "      <td>2 BHK</td>\n",
       "      <td>1200.0</td>\n",
       "      <td>2.0</td>\n",
       "      <td>51.00</td>\n",
       "      <td>2</td>\n",
       "      <td>4250.000000</td>\n",
       "    </tr>\n",
       "    <tr>\n",
       "      <th>5</th>\n",
       "      <td>Whitefield</td>\n",
       "      <td>2 BHK</td>\n",
       "      <td>1170.0</td>\n",
       "      <td>2.0</td>\n",
       "      <td>38.00</td>\n",
       "      <td>2</td>\n",
       "      <td>3247.863248</td>\n",
       "    </tr>\n",
       "    <tr>\n",
       "      <th>6</th>\n",
       "      <td>Old Airport Road</td>\n",
       "      <td>4 BHK</td>\n",
       "      <td>2732.0</td>\n",
       "      <td>4.0</td>\n",
       "      <td>204.00</td>\n",
       "      <td>4</td>\n",
       "      <td>7467.057101</td>\n",
       "    </tr>\n",
       "    <tr>\n",
       "      <th>7</th>\n",
       "      <td>Rajaji Nagar</td>\n",
       "      <td>4 BHK</td>\n",
       "      <td>3300.0</td>\n",
       "      <td>4.0</td>\n",
       "      <td>600.00</td>\n",
       "      <td>4</td>\n",
       "      <td>18181.818182</td>\n",
       "    </tr>\n",
       "    <tr>\n",
       "      <th>8</th>\n",
       "      <td>Marathahalli</td>\n",
       "      <td>3 BHK</td>\n",
       "      <td>1310.0</td>\n",
       "      <td>3.0</td>\n",
       "      <td>63.25</td>\n",
       "      <td>3</td>\n",
       "      <td>4828.244275</td>\n",
       "    </tr>\n",
       "    <tr>\n",
       "      <th>9</th>\n",
       "      <td>other</td>\n",
       "      <td>6 Bedroom</td>\n",
       "      <td>1020.0</td>\n",
       "      <td>6.0</td>\n",
       "      <td>370.00</td>\n",
       "      <td>6</td>\n",
       "      <td>36274.509804</td>\n",
       "    </tr>\n",
       "  </tbody>\n",
       "</table>\n",
       "</div>"
      ],
      "text/plain": [
       "                   location       size  total_sqft  bath   price  bhk  \\\n",
       "0  Electronic City Phase II      2 BHK      1056.0   2.0   39.07    2   \n",
       "1          Chikka Tirupathi  4 Bedroom      2600.0   5.0  120.00    4   \n",
       "2               Uttarahalli      3 BHK      1440.0   2.0   62.00    3   \n",
       "3        Lingadheeranahalli      3 BHK      1521.0   3.0   95.00    3   \n",
       "4                  Kothanur      2 BHK      1200.0   2.0   51.00    2   \n",
       "5                Whitefield      2 BHK      1170.0   2.0   38.00    2   \n",
       "6          Old Airport Road      4 BHK      2732.0   4.0  204.00    4   \n",
       "7              Rajaji Nagar      4 BHK      3300.0   4.0  600.00    4   \n",
       "8              Marathahalli      3 BHK      1310.0   3.0   63.25    3   \n",
       "9                     other  6 Bedroom      1020.0   6.0  370.00    6   \n",
       "\n",
       "   price_per_sqft  \n",
       "0     3699.810606  \n",
       "1     4615.384615  \n",
       "2     4305.555556  \n",
       "3     6245.890861  \n",
       "4     4250.000000  \n",
       "5     3247.863248  \n",
       "6     7467.057101  \n",
       "7    18181.818182  \n",
       "8     4828.244275  \n",
       "9    36274.509804  "
      ]
     },
     "execution_count": 31,
     "metadata": {},
     "output_type": "execute_result"
    }
   ],
   "source": [
    "df5.head(10)"
   ]
  },
  {
   "cell_type": "code",
   "execution_count": 32,
   "id": "bae43a62",
   "metadata": {
    "execution": {
     "iopub.execute_input": "2023-12-15T08:57:10.966402Z",
     "iopub.status.busy": "2023-12-15T08:57:10.966026Z",
     "iopub.status.idle": "2023-12-15T08:57:10.985321Z",
     "shell.execute_reply": "2023-12-15T08:57:10.984116Z"
    },
    "papermill": {
     "duration": 0.050786,
     "end_time": "2023-12-15T08:57:10.987838",
     "exception": false,
     "start_time": "2023-12-15T08:57:10.937052",
     "status": "completed"
    },
    "scrolled": true,
    "tags": []
   },
   "outputs": [
    {
     "data": {
      "text/html": [
       "<div>\n",
       "<style scoped>\n",
       "    .dataframe tbody tr th:only-of-type {\n",
       "        vertical-align: middle;\n",
       "    }\n",
       "\n",
       "    .dataframe tbody tr th {\n",
       "        vertical-align: top;\n",
       "    }\n",
       "\n",
       "    .dataframe thead th {\n",
       "        text-align: right;\n",
       "    }\n",
       "</style>\n",
       "<table border=\"1\" class=\"dataframe\">\n",
       "  <thead>\n",
       "    <tr style=\"text-align: right;\">\n",
       "      <th></th>\n",
       "      <th>location</th>\n",
       "      <th>size</th>\n",
       "      <th>total_sqft</th>\n",
       "      <th>bath</th>\n",
       "      <th>price</th>\n",
       "      <th>bhk</th>\n",
       "      <th>price_per_sqft</th>\n",
       "    </tr>\n",
       "  </thead>\n",
       "  <tbody>\n",
       "    <tr>\n",
       "      <th>9</th>\n",
       "      <td>other</td>\n",
       "      <td>6 Bedroom</td>\n",
       "      <td>1020.0</td>\n",
       "      <td>6.0</td>\n",
       "      <td>370.0</td>\n",
       "      <td>6</td>\n",
       "      <td>36274.509804</td>\n",
       "    </tr>\n",
       "    <tr>\n",
       "      <th>45</th>\n",
       "      <td>HSR Layout</td>\n",
       "      <td>8 Bedroom</td>\n",
       "      <td>600.0</td>\n",
       "      <td>9.0</td>\n",
       "      <td>200.0</td>\n",
       "      <td>8</td>\n",
       "      <td>33333.333333</td>\n",
       "    </tr>\n",
       "    <tr>\n",
       "      <th>58</th>\n",
       "      <td>Murugeshpalya</td>\n",
       "      <td>6 Bedroom</td>\n",
       "      <td>1407.0</td>\n",
       "      <td>4.0</td>\n",
       "      <td>150.0</td>\n",
       "      <td>6</td>\n",
       "      <td>10660.980810</td>\n",
       "    </tr>\n",
       "    <tr>\n",
       "      <th>68</th>\n",
       "      <td>Devarachikkanahalli</td>\n",
       "      <td>8 Bedroom</td>\n",
       "      <td>1350.0</td>\n",
       "      <td>7.0</td>\n",
       "      <td>85.0</td>\n",
       "      <td>8</td>\n",
       "      <td>6296.296296</td>\n",
       "    </tr>\n",
       "    <tr>\n",
       "      <th>70</th>\n",
       "      <td>other</td>\n",
       "      <td>3 Bedroom</td>\n",
       "      <td>500.0</td>\n",
       "      <td>3.0</td>\n",
       "      <td>100.0</td>\n",
       "      <td>3</td>\n",
       "      <td>20000.000000</td>\n",
       "    </tr>\n",
       "  </tbody>\n",
       "</table>\n",
       "</div>"
      ],
      "text/plain": [
       "               location       size  total_sqft  bath  price  bhk  \\\n",
       "9                 other  6 Bedroom      1020.0   6.0  370.0    6   \n",
       "45           HSR Layout  8 Bedroom       600.0   9.0  200.0    8   \n",
       "58        Murugeshpalya  6 Bedroom      1407.0   4.0  150.0    6   \n",
       "68  Devarachikkanahalli  8 Bedroom      1350.0   7.0   85.0    8   \n",
       "70                other  3 Bedroom       500.0   3.0  100.0    3   \n",
       "\n",
       "    price_per_sqft  \n",
       "9     36274.509804  \n",
       "45    33333.333333  \n",
       "58    10660.980810  \n",
       "68     6296.296296  \n",
       "70    20000.000000  "
      ]
     },
     "execution_count": 32,
     "metadata": {},
     "output_type": "execute_result"
    }
   ],
   "source": [
    "df5[df5.total_sqft/df5.bhk<300].head()"
   ]
  },
  {
   "cell_type": "code",
   "execution_count": 33,
   "id": "09b80202",
   "metadata": {
    "execution": {
     "iopub.execute_input": "2023-12-15T08:57:11.045507Z",
     "iopub.status.busy": "2023-12-15T08:57:11.045078Z",
     "iopub.status.idle": "2023-12-15T08:57:11.052112Z",
     "shell.execute_reply": "2023-12-15T08:57:11.051032Z"
    },
    "papermill": {
     "duration": 0.038566,
     "end_time": "2023-12-15T08:57:11.054449",
     "exception": false,
     "start_time": "2023-12-15T08:57:11.015883",
     "status": "completed"
    },
    "tags": []
   },
   "outputs": [
    {
     "data": {
      "text/plain": [
       "(13200, 7)"
      ]
     },
     "execution_count": 33,
     "metadata": {},
     "output_type": "execute_result"
    }
   ],
   "source": [
    "df5.shape"
   ]
  },
  {
   "cell_type": "code",
   "execution_count": 34,
   "id": "8c21e6ff",
   "metadata": {
    "execution": {
     "iopub.execute_input": "2023-12-15T08:57:11.115244Z",
     "iopub.status.busy": "2023-12-15T08:57:11.114787Z",
     "iopub.status.idle": "2023-12-15T08:57:11.124225Z",
     "shell.execute_reply": "2023-12-15T08:57:11.122684Z"
    },
    "papermill": {
     "duration": 0.043494,
     "end_time": "2023-12-15T08:57:11.126640",
     "exception": false,
     "start_time": "2023-12-15T08:57:11.083146",
     "status": "completed"
    },
    "scrolled": true,
    "tags": []
   },
   "outputs": [
    {
     "data": {
      "text/plain": [
       "(12456, 7)"
      ]
     },
     "execution_count": 34,
     "metadata": {},
     "output_type": "execute_result"
    }
   ],
   "source": [
    "df6 = df5[~(df5.total_sqft/df5.bhk<300)]\n",
    "df6.shape"
   ]
  },
  {
   "cell_type": "code",
   "execution_count": 35,
   "id": "7bf27a9d",
   "metadata": {
    "execution": {
     "iopub.execute_input": "2023-12-15T08:57:11.186331Z",
     "iopub.status.busy": "2023-12-15T08:57:11.185885Z",
     "iopub.status.idle": "2023-12-15T08:57:11.198129Z",
     "shell.execute_reply": "2023-12-15T08:57:11.197010Z"
    },
    "papermill": {
     "duration": 0.045782,
     "end_time": "2023-12-15T08:57:11.200506",
     "exception": false,
     "start_time": "2023-12-15T08:57:11.154724",
     "status": "completed"
    },
    "tags": []
   },
   "outputs": [
    {
     "data": {
      "text/plain": [
       "count     12456.000000\n",
       "mean       6308.502826\n",
       "std        4168.127339\n",
       "min         267.829813\n",
       "25%        4210.526316\n",
       "50%        5294.117647\n",
       "75%        6916.666667\n",
       "max      176470.588235\n",
       "Name: price_per_sqft, dtype: float64"
      ]
     },
     "execution_count": 35,
     "metadata": {},
     "output_type": "execute_result"
    }
   ],
   "source": [
    "df6.price_per_sqft.describe()"
   ]
  },
  {
   "cell_type": "code",
   "execution_count": 36,
   "id": "3f619244",
   "metadata": {
    "execution": {
     "iopub.execute_input": "2023-12-15T08:57:11.258781Z",
     "iopub.status.busy": "2023-12-15T08:57:11.257865Z",
     "iopub.status.idle": "2023-12-15T08:57:11.717079Z",
     "shell.execute_reply": "2023-12-15T08:57:11.715812Z"
    },
    "papermill": {
     "duration": 0.491669,
     "end_time": "2023-12-15T08:57:11.720136",
     "exception": false,
     "start_time": "2023-12-15T08:57:11.228467",
     "status": "completed"
    },
    "tags": []
   },
   "outputs": [
    {
     "data": {
      "text/plain": [
       "(10242, 7)"
      ]
     },
     "execution_count": 36,
     "metadata": {},
     "output_type": "execute_result"
    }
   ],
   "source": [
    "def remove_pps_outliers(df):\n",
    "    df_out = pd.DataFrame()\n",
    "    for key, subdf in df.groupby('location'):\n",
    "        m = np.mean(subdf.price_per_sqft)\n",
    "        st = np.std(subdf.price_per_sqft)\n",
    "        reduced_df = subdf[(subdf.price_per_sqft>(m-st)) & (subdf.price_per_sqft<=(m+st))]\n",
    "        df_out = pd.concat([df_out,reduced_df],ignore_index=True)\n",
    "    return df_out\n",
    "df7 = remove_pps_outliers(df6)\n",
    "df7.shape"
   ]
  },
  {
   "cell_type": "code",
   "execution_count": 37,
   "id": "5b985734",
   "metadata": {
    "execution": {
     "iopub.execute_input": "2023-12-15T08:57:11.779047Z",
     "iopub.status.busy": "2023-12-15T08:57:11.778598Z",
     "iopub.status.idle": "2023-12-15T08:57:12.256046Z",
     "shell.execute_reply": "2023-12-15T08:57:12.254882Z"
    },
    "papermill": {
     "duration": 0.510354,
     "end_time": "2023-12-15T08:57:12.259186",
     "exception": false,
     "start_time": "2023-12-15T08:57:11.748832",
     "status": "completed"
    },
    "tags": []
   },
   "outputs": [
    {
     "data": {
      "image/png": "[encoded data removed]",
      "text/plain": [
       "<Figure size 1500x1000 with 1 Axes>"
      ]
     },
     "metadata": {},
     "output_type": "display_data"
    }
   ],
   "source": [
    "def plot_scatter_chart(df,location):\n",
    "    bhk2 = df[(df.location==location) & (df.bhk==2)]\n",
    "    bhk3 = df[(df.location==location) & (df.bhk==3)]\n",
    "    matplotlib.rcParams['figure.figsize'] = (15,10)\n",
    "    plt.scatter(bhk2.total_sqft,bhk2.price,color='blue',label='2 BHK', s=50)\n",
    "    plt.scatter(bhk3.total_sqft,bhk3.price,marker='+', color='green',label='3 BHK', s=50)\n",
    "    plt.xlabel(\"Total Square Feet Area\")\n",
    "    plt.ylabel(\"Price (Lakh Indian Rupees)\")\n",
    "    plt.title(location)\n",
    "    plt.legend()\n",
    "    \n",
    "plot_scatter_chart(df7,\"Rajaji Nagar\")"
   ]
  },
  {
   "cell_type": "code",
   "execution_count": 38,
   "id": "9906353e",
   "metadata": {
    "execution": {
     "iopub.execute_input": "2023-12-15T08:57:12.319398Z",
     "iopub.status.busy": "2023-12-15T08:57:12.318993Z",
     "iopub.status.idle": "2023-12-15T08:57:12.734249Z",
     "shell.execute_reply": "2023-12-15T08:57:12.732884Z"
    },
    "papermill": {
     "duration": 0.448639,
     "end_time": "2023-12-15T08:57:12.736721",
     "exception": false,
     "start_time": "2023-12-15T08:57:12.288082",
     "status": "completed"
    },
    "tags": []
   },
   "outputs": [
    {
     "data": {
      "image/png": "[encoded data removed]",
      "text/plain": [
       "<Figure size 1500x1000 with 1 Axes>"
      ]
     },
     "metadata": {},
     "output_type": "display_data"
    }
   ],
   "source": [
    "plot_scatter_chart(df7,\"Hebbal\")"
   ]
  },
  {
   "cell_type": "code",
   "execution_count": 39,
   "id": "1025c38b",
   "metadata": {
    "execution": {
     "iopub.execute_input": "2023-12-15T08:57:12.797732Z",
     "iopub.status.busy": "2023-12-15T08:57:12.797348Z",
     "iopub.status.idle": "2023-12-15T08:57:13.630779Z",
     "shell.execute_reply": "2023-12-15T08:57:13.629533Z"
    },
    "papermill": {
     "duration": 0.867071,
     "end_time": "2023-12-15T08:57:13.633353",
     "exception": false,
     "start_time": "2023-12-15T08:57:12.766282",
     "status": "completed"
    },
    "tags": []
   },
   "outputs": [
    {
     "data": {
      "text/plain": [
       "(7317, 7)"
      ]
     },
     "execution_count": 39,
     "metadata": {},
     "output_type": "execute_result"
    }
   ],
   "source": [
    "def remove_bhk_outliers(df):\n",
    "    exclude_indices = np.array([])\n",
    "    for location, location_df in df.groupby('location'):\n",
    "        bhk_stats = {}\n",
    "        for bhk, bhk_df in location_df.groupby('bhk'):\n",
    "            bhk_stats[bhk] = {\n",
    "                'mean': np.mean(bhk_df.price_per_sqft),\n",
    "                'std': np.std(bhk_df.price_per_sqft),\n",
    "                'count': bhk_df.shape[0]\n",
    "            }\n",
    "        for bhk, bhk_df in location_df.groupby('bhk'):\n",
    "            stats = bhk_stats.get(bhk-1)\n",
    "            if stats and stats['count']>5:\n",
    "                exclude_indices = np.append(exclude_indices, bhk_df[bhk_df.price_per_sqft<(stats['mean'])].index.values)\n",
    "    return df.drop(exclude_indices,axis='index')\n",
    "df8 = remove_bhk_outliers(df7)\n",
    "# df8 = df7.copy()\n",
    "df8.shape"
   ]
  },
  {
   "cell_type": "code",
   "execution_count": 40,
   "id": "59f2f4d9",
   "metadata": {
    "execution": {
     "iopub.execute_input": "2023-12-15T08:57:13.700325Z",
     "iopub.status.busy": "2023-12-15T08:57:13.699655Z",
     "iopub.status.idle": "2023-12-15T08:57:14.183564Z",
     "shell.execute_reply": "2023-12-15T08:57:14.181004Z"
    },
    "papermill": {
     "duration": 0.521054,
     "end_time": "2023-12-15T08:57:14.187320",
     "exception": false,
     "start_time": "2023-12-15T08:57:13.666266",
     "status": "completed"
    },
    "tags": []
   },
   "outputs": [
    {
     "data": {
      "image/png": "[encoded data removed]",
      "text/plain": [
       "<Figure size 1500x1000 with 1 Axes>"
      ]
     },
     "metadata": {},
     "output_type": "display_data"
    }
   ],
   "source": [
    "plot_scatter_chart(df8,\"Rajaji Nagar\")"
   ]
  },
  {
   "cell_type": "code",
   "execution_count": 41,
   "id": "cd37bd04",
   "metadata": {
    "execution": {
     "iopub.execute_input": "2023-12-15T08:57:14.274252Z",
     "iopub.status.busy": "2023-12-15T08:57:14.271880Z",
     "iopub.status.idle": "2023-12-15T08:57:14.757545Z",
     "shell.execute_reply": "2023-12-15T08:57:14.756368Z"
    },
    "papermill": {
     "duration": 0.53137,
     "end_time": "2023-12-15T08:57:14.760235",
     "exception": false,
     "start_time": "2023-12-15T08:57:14.228865",
     "status": "completed"
    },
    "scrolled": true,
    "tags": []
   },
   "outputs": [
    {
     "data": {
      "image/png": "[encoded data removed]",
      "text/plain": [
       "<Figure size 1500x1000 with 1 Axes>"
      ]
     },
     "metadata": {},
     "output_type": "display_data"
    }
   ],
   "source": [
    "plot_scatter_chart(df8,\"Hebbal\")"
   ]
  },
  {
   "cell_type": "code",
   "execution_count": 42,
   "id": "57d2dfff",
   "metadata": {
    "execution": {
     "iopub.execute_input": "2023-12-15T08:57:14.824649Z",
     "iopub.status.busy": "2023-12-15T08:57:14.823567Z",
     "iopub.status.idle": "2023-12-15T08:57:15.220464Z",
     "shell.execute_reply": "2023-12-15T08:57:15.219273Z"
    },
    "papermill": {
     "duration": 0.431576,
     "end_time": "2023-12-15T08:57:15.222858",
     "exception": false,
     "start_time": "2023-12-15T08:57:14.791282",
     "status": "completed"
    },
    "tags": []
   },
   "outputs": [
    {
     "data": {
      "text/plain": [
       "Text(0, 0.5, 'Count')"
      ]
     },
     "execution_count": 42,
     "metadata": {},
     "output_type": "execute_result"
    },
    {
     "data": {
      "image/png": "[encoded data removed]",
      "text/plain": [
       "<Figure size 2000x1000 with 1 Axes>"
      ]
     },
     "metadata": {},
     "output_type": "display_data"
    }
   ],
   "source": [
    "import matplotlib\n",
    "matplotlib.rcParams[\"figure.figsize\"] = (20,10)\n",
    "plt.hist(df8.price_per_sqft,rwidth=0.8)\n",
    "plt.xlabel(\"Price Per Square Feet\")\n",
    "plt.ylabel(\"Count\")"
   ]
  },
  {
   "cell_type": "code",
   "execution_count": 43,
   "id": "efe0811c",
   "metadata": {
    "execution": {
     "iopub.execute_input": "2023-12-15T08:57:15.288754Z",
     "iopub.status.busy": "2023-12-15T08:57:15.288320Z",
     "iopub.status.idle": "2023-12-15T08:57:15.296497Z",
     "shell.execute_reply": "2023-12-15T08:57:15.295135Z"
    },
    "papermill": {
     "duration": 0.044161,
     "end_time": "2023-12-15T08:57:15.298905",
     "exception": false,
     "start_time": "2023-12-15T08:57:15.254744",
     "status": "completed"
    },
    "tags": []
   },
   "outputs": [
    {
     "data": {
      "text/plain": [
       "array([ 4.,  3.,  2.,  5.,  8.,  1.,  6.,  7.,  9., 12., 16., 13.])"
      ]
     },
     "execution_count": 43,
     "metadata": {},
     "output_type": "execute_result"
    }
   ],
   "source": [
    "df8.bath.unique()"
   ]
  },
  {
   "cell_type": "code",
   "execution_count": 44,
   "id": "7bf3cb46",
   "metadata": {
    "execution": {
     "iopub.execute_input": "2023-12-15T08:57:15.364859Z",
     "iopub.status.busy": "2023-12-15T08:57:15.364124Z",
     "iopub.status.idle": "2023-12-15T08:57:15.748535Z",
     "shell.execute_reply": "2023-12-15T08:57:15.747372Z"
    },
    "papermill": {
     "duration": 0.419913,
     "end_time": "2023-12-15T08:57:15.750921",
     "exception": false,
     "start_time": "2023-12-15T08:57:15.331008",
     "status": "completed"
    },
    "tags": []
   },
   "outputs": [
    {
     "data": {
      "text/plain": [
       "Text(0, 0.5, 'Count')"
      ]
     },
     "execution_count": 44,
     "metadata": {},
     "output_type": "execute_result"
    },
    {
     "data": {
      "image/png": "[encoded data removed]",
      "text/plain": [
       "<Figure size 2000x1000 with 1 Axes>"
      ]
     },
     "metadata": {},
     "output_type": "display_data"
    }
   ],
   "source": [
    "plt.hist(df8.bath,rwidth=0.8)\n",
    "plt.xlabel(\"Number of bathrooms\")\n",
    "plt.ylabel(\"Count\")"
   ]
  },
  {
   "cell_type": "code",
   "execution_count": 45,
   "id": "1e2f1b1a",
   "metadata": {
    "execution": {
     "iopub.execute_input": "2023-12-15T08:57:15.818021Z",
     "iopub.status.busy": "2023-12-15T08:57:15.816894Z",
     "iopub.status.idle": "2023-12-15T08:57:15.834004Z",
     "shell.execute_reply": "2023-12-15T08:57:15.832737Z"
    },
    "papermill": {
     "duration": 0.053306,
     "end_time": "2023-12-15T08:57:15.836514",
     "exception": false,
     "start_time": "2023-12-15T08:57:15.783208",
     "status": "completed"
    },
    "tags": []
   },
   "outputs": [
    {
     "data": {
      "text/html": [
       "<div>\n",
       "<style scoped>\n",
       "    .dataframe tbody tr th:only-of-type {\n",
       "        vertical-align: middle;\n",
       "    }\n",
       "\n",
       "    .dataframe tbody tr th {\n",
       "        vertical-align: top;\n",
       "    }\n",
       "\n",
       "    .dataframe thead th {\n",
       "        text-align: right;\n",
       "    }\n",
       "</style>\n",
       "<table border=\"1\" class=\"dataframe\">\n",
       "  <thead>\n",
       "    <tr style=\"text-align: right;\">\n",
       "      <th></th>\n",
       "      <th>location</th>\n",
       "      <th>size</th>\n",
       "      <th>total_sqft</th>\n",
       "      <th>bath</th>\n",
       "      <th>price</th>\n",
       "      <th>bhk</th>\n",
       "      <th>price_per_sqft</th>\n",
       "    </tr>\n",
       "  </thead>\n",
       "  <tbody>\n",
       "    <tr>\n",
       "      <th>5277</th>\n",
       "      <td>Neeladri Nagar</td>\n",
       "      <td>10 BHK</td>\n",
       "      <td>4000.0</td>\n",
       "      <td>12.0</td>\n",
       "      <td>160.0</td>\n",
       "      <td>10</td>\n",
       "      <td>4000.000000</td>\n",
       "    </tr>\n",
       "    <tr>\n",
       "      <th>8483</th>\n",
       "      <td>other</td>\n",
       "      <td>10 BHK</td>\n",
       "      <td>12000.0</td>\n",
       "      <td>12.0</td>\n",
       "      <td>525.0</td>\n",
       "      <td>10</td>\n",
       "      <td>4375.000000</td>\n",
       "    </tr>\n",
       "    <tr>\n",
       "      <th>8572</th>\n",
       "      <td>other</td>\n",
       "      <td>16 BHK</td>\n",
       "      <td>10000.0</td>\n",
       "      <td>16.0</td>\n",
       "      <td>550.0</td>\n",
       "      <td>16</td>\n",
       "      <td>5500.000000</td>\n",
       "    </tr>\n",
       "    <tr>\n",
       "      <th>9306</th>\n",
       "      <td>other</td>\n",
       "      <td>11 BHK</td>\n",
       "      <td>6000.0</td>\n",
       "      <td>12.0</td>\n",
       "      <td>150.0</td>\n",
       "      <td>11</td>\n",
       "      <td>2500.000000</td>\n",
       "    </tr>\n",
       "    <tr>\n",
       "      <th>9637</th>\n",
       "      <td>other</td>\n",
       "      <td>13 BHK</td>\n",
       "      <td>5425.0</td>\n",
       "      <td>13.0</td>\n",
       "      <td>275.0</td>\n",
       "      <td>13</td>\n",
       "      <td>5069.124424</td>\n",
       "    </tr>\n",
       "  </tbody>\n",
       "</table>\n",
       "</div>"
      ],
      "text/plain": [
       "            location    size  total_sqft  bath  price  bhk  price_per_sqft\n",
       "5277  Neeladri Nagar  10 BHK      4000.0  12.0  160.0   10     4000.000000\n",
       "8483           other  10 BHK     12000.0  12.0  525.0   10     4375.000000\n",
       "8572           other  16 BHK     10000.0  16.0  550.0   16     5500.000000\n",
       "9306           other  11 BHK      6000.0  12.0  150.0   11     2500.000000\n",
       "9637           other  13 BHK      5425.0  13.0  275.0   13     5069.124424"
      ]
     },
     "execution_count": 45,
     "metadata": {},
     "output_type": "execute_result"
    }
   ],
   "source": [
    "df8[df8.bath>10]"
   ]
  },
  {
   "cell_type": "code",
   "execution_count": 46,
   "id": "67603a36",
   "metadata": {
    "execution": {
     "iopub.execute_input": "2023-12-15T08:57:15.904148Z",
     "iopub.status.busy": "2023-12-15T08:57:15.903694Z",
     "iopub.status.idle": "2023-12-15T08:57:15.920854Z",
     "shell.execute_reply": "2023-12-15T08:57:15.919706Z"
    },
    "papermill": {
     "duration": 0.05421,
     "end_time": "2023-12-15T08:57:15.923504",
     "exception": false,
     "start_time": "2023-12-15T08:57:15.869294",
     "status": "completed"
    },
    "tags": []
   },
   "outputs": [
    {
     "data": {
      "text/html": [
       "<div>\n",
       "<style scoped>\n",
       "    .dataframe tbody tr th:only-of-type {\n",
       "        vertical-align: middle;\n",
       "    }\n",
       "\n",
       "    .dataframe tbody tr th {\n",
       "        vertical-align: top;\n",
       "    }\n",
       "\n",
       "    .dataframe thead th {\n",
       "        text-align: right;\n",
       "    }\n",
       "</style>\n",
       "<table border=\"1\" class=\"dataframe\">\n",
       "  <thead>\n",
       "    <tr style=\"text-align: right;\">\n",
       "      <th></th>\n",
       "      <th>location</th>\n",
       "      <th>size</th>\n",
       "      <th>total_sqft</th>\n",
       "      <th>bath</th>\n",
       "      <th>price</th>\n",
       "      <th>bhk</th>\n",
       "      <th>price_per_sqft</th>\n",
       "    </tr>\n",
       "  </thead>\n",
       "  <tbody>\n",
       "    <tr>\n",
       "      <th>1626</th>\n",
       "      <td>Chikkabanavar</td>\n",
       "      <td>4 Bedroom</td>\n",
       "      <td>2460.0</td>\n",
       "      <td>7.0</td>\n",
       "      <td>80.0</td>\n",
       "      <td>4</td>\n",
       "      <td>3252.032520</td>\n",
       "    </tr>\n",
       "    <tr>\n",
       "      <th>5238</th>\n",
       "      <td>Nagasandra</td>\n",
       "      <td>4 Bedroom</td>\n",
       "      <td>7000.0</td>\n",
       "      <td>8.0</td>\n",
       "      <td>450.0</td>\n",
       "      <td>4</td>\n",
       "      <td>6428.571429</td>\n",
       "    </tr>\n",
       "    <tr>\n",
       "      <th>6711</th>\n",
       "      <td>Thanisandra</td>\n",
       "      <td>3 BHK</td>\n",
       "      <td>1806.0</td>\n",
       "      <td>6.0</td>\n",
       "      <td>116.0</td>\n",
       "      <td>3</td>\n",
       "      <td>6423.034330</td>\n",
       "    </tr>\n",
       "    <tr>\n",
       "      <th>8408</th>\n",
       "      <td>other</td>\n",
       "      <td>6 BHK</td>\n",
       "      <td>11338.0</td>\n",
       "      <td>9.0</td>\n",
       "      <td>1000.0</td>\n",
       "      <td>6</td>\n",
       "      <td>8819.897689</td>\n",
       "    </tr>\n",
       "  </tbody>\n",
       "</table>\n",
       "</div>"
      ],
      "text/plain": [
       "           location       size  total_sqft  bath   price  bhk  price_per_sqft\n",
       "1626  Chikkabanavar  4 Bedroom      2460.0   7.0    80.0    4     3252.032520\n",
       "5238     Nagasandra  4 Bedroom      7000.0   8.0   450.0    4     6428.571429\n",
       "6711    Thanisandra      3 BHK      1806.0   6.0   116.0    3     6423.034330\n",
       "8408          other      6 BHK     11338.0   9.0  1000.0    6     8819.897689"
      ]
     },
     "execution_count": 46,
     "metadata": {},
     "output_type": "execute_result"
    }
   ],
   "source": [
    "df8[df8.bath>df8.bhk+2]"
   ]
  },
  {
   "cell_type": "code",
   "execution_count": 47,
   "id": "1ac6d928",
   "metadata": {
    "execution": {
     "iopub.execute_input": "2023-12-15T08:57:15.993251Z",
     "iopub.status.busy": "2023-12-15T08:57:15.992812Z",
     "iopub.status.idle": "2023-12-15T08:57:16.002314Z",
     "shell.execute_reply": "2023-12-15T08:57:16.001177Z"
    },
    "papermill": {
     "duration": 0.047938,
     "end_time": "2023-12-15T08:57:16.004788",
     "exception": false,
     "start_time": "2023-12-15T08:57:15.956850",
     "status": "completed"
    },
    "tags": []
   },
   "outputs": [
    {
     "data": {
      "text/plain": [
       "(7239, 7)"
      ]
     },
     "execution_count": 47,
     "metadata": {},
     "output_type": "execute_result"
    }
   ],
   "source": [
    "df9 = df8[df8.bath<df8.bhk+2]\n",
    "df9.shape"
   ]
  },
  {
   "cell_type": "code",
   "execution_count": 48,
   "id": "0964ae15",
   "metadata": {
    "execution": {
     "iopub.execute_input": "2023-12-15T08:57:16.075439Z",
     "iopub.status.busy": "2023-12-15T08:57:16.075020Z",
     "iopub.status.idle": "2023-12-15T08:57:16.090064Z",
     "shell.execute_reply": "2023-12-15T08:57:16.088911Z"
    },
    "papermill": {
     "duration": 0.05382,
     "end_time": "2023-12-15T08:57:16.092572",
     "exception": false,
     "start_time": "2023-12-15T08:57:16.038752",
     "status": "completed"
    },
    "tags": []
   },
   "outputs": [
    {
     "data": {
      "text/html": [
       "<div>\n",
       "<style scoped>\n",
       "    .dataframe tbody tr th:only-of-type {\n",
       "        vertical-align: middle;\n",
       "    }\n",
       "\n",
       "    .dataframe tbody tr th {\n",
       "        vertical-align: top;\n",
       "    }\n",
       "\n",
       "    .dataframe thead th {\n",
       "        text-align: right;\n",
       "    }\n",
       "</style>\n",
       "<table border=\"1\" class=\"dataframe\">\n",
       "  <thead>\n",
       "    <tr style=\"text-align: right;\">\n",
       "      <th></th>\n",
       "      <th>location</th>\n",
       "      <th>size</th>\n",
       "      <th>total_sqft</th>\n",
       "      <th>bath</th>\n",
       "      <th>price</th>\n",
       "      <th>bhk</th>\n",
       "      <th>price_per_sqft</th>\n",
       "    </tr>\n",
       "  </thead>\n",
       "  <tbody>\n",
       "    <tr>\n",
       "      <th>0</th>\n",
       "      <td>1st Block Jayanagar</td>\n",
       "      <td>4 BHK</td>\n",
       "      <td>2850.0</td>\n",
       "      <td>4.0</td>\n",
       "      <td>428.0</td>\n",
       "      <td>4</td>\n",
       "      <td>15017.543860</td>\n",
       "    </tr>\n",
       "    <tr>\n",
       "      <th>1</th>\n",
       "      <td>1st Block Jayanagar</td>\n",
       "      <td>3 BHK</td>\n",
       "      <td>1630.0</td>\n",
       "      <td>3.0</td>\n",
       "      <td>194.0</td>\n",
       "      <td>3</td>\n",
       "      <td>11901.840491</td>\n",
       "    </tr>\n",
       "  </tbody>\n",
       "</table>\n",
       "</div>"
      ],
      "text/plain": [
       "              location   size  total_sqft  bath  price  bhk  price_per_sqft\n",
       "0  1st Block Jayanagar  4 BHK      2850.0   4.0  428.0    4    15017.543860\n",
       "1  1st Block Jayanagar  3 BHK      1630.0   3.0  194.0    3    11901.840491"
      ]
     },
     "execution_count": 48,
     "metadata": {},
     "output_type": "execute_result"
    }
   ],
   "source": [
    "df9.head(2)"
   ]
  },
  {
   "cell_type": "code",
   "execution_count": 49,
   "id": "613bd4cf",
   "metadata": {
    "execution": {
     "iopub.execute_input": "2023-12-15T08:57:16.161712Z",
     "iopub.status.busy": "2023-12-15T08:57:16.161269Z",
     "iopub.status.idle": "2023-12-15T08:57:16.176889Z",
     "shell.execute_reply": "2023-12-15T08:57:16.176024Z"
    },
    "papermill": {
     "duration": 0.053294,
     "end_time": "2023-12-15T08:57:16.179430",
     "exception": false,
     "start_time": "2023-12-15T08:57:16.126136",
     "status": "completed"
    },
    "scrolled": true,
    "tags": []
   },
   "outputs": [
    {
     "data": {
      "text/html": [
       "<div>\n",
       "<style scoped>\n",
       "    .dataframe tbody tr th:only-of-type {\n",
       "        vertical-align: middle;\n",
       "    }\n",
       "\n",
       "    .dataframe tbody tr th {\n",
       "        vertical-align: top;\n",
       "    }\n",
       "\n",
       "    .dataframe thead th {\n",
       "        text-align: right;\n",
       "    }\n",
       "</style>\n",
       "<table border=\"1\" class=\"dataframe\">\n",
       "  <thead>\n",
       "    <tr style=\"text-align: right;\">\n",
       "      <th></th>\n",
       "      <th>location</th>\n",
       "      <th>total_sqft</th>\n",
       "      <th>bath</th>\n",
       "      <th>price</th>\n",
       "      <th>bhk</th>\n",
       "    </tr>\n",
       "  </thead>\n",
       "  <tbody>\n",
       "    <tr>\n",
       "      <th>0</th>\n",
       "      <td>1st Block Jayanagar</td>\n",
       "      <td>2850.0</td>\n",
       "      <td>4.0</td>\n",
       "      <td>428.0</td>\n",
       "      <td>4</td>\n",
       "    </tr>\n",
       "    <tr>\n",
       "      <th>1</th>\n",
       "      <td>1st Block Jayanagar</td>\n",
       "      <td>1630.0</td>\n",
       "      <td>3.0</td>\n",
       "      <td>194.0</td>\n",
       "      <td>3</td>\n",
       "    </tr>\n",
       "    <tr>\n",
       "      <th>2</th>\n",
       "      <td>1st Block Jayanagar</td>\n",
       "      <td>1875.0</td>\n",
       "      <td>2.0</td>\n",
       "      <td>235.0</td>\n",
       "      <td>3</td>\n",
       "    </tr>\n",
       "  </tbody>\n",
       "</table>\n",
       "</div>"
      ],
      "text/plain": [
       "              location  total_sqft  bath  price  bhk\n",
       "0  1st Block Jayanagar      2850.0   4.0  428.0    4\n",
       "1  1st Block Jayanagar      1630.0   3.0  194.0    3\n",
       "2  1st Block Jayanagar      1875.0   2.0  235.0    3"
      ]
     },
     "execution_count": 49,
     "metadata": {},
     "output_type": "execute_result"
    }
   ],
   "source": [
    "df10 = df9.drop(['size','price_per_sqft'],axis='columns')\n",
    "df10.head(3)"
   ]
  },
  {
   "cell_type": "code",
   "execution_count": 50,
   "id": "deda3908",
   "metadata": {
    "execution": {
     "iopub.execute_input": "2023-12-15T08:57:16.252363Z",
     "iopub.status.busy": "2023-12-15T08:57:16.251950Z",
     "iopub.status.idle": "2023-12-15T08:57:16.289107Z",
     "shell.execute_reply": "2023-12-15T08:57:16.288016Z"
    },
    "papermill": {
     "duration": 0.075041,
     "end_time": "2023-12-15T08:57:16.291671",
     "exception": false,
     "start_time": "2023-12-15T08:57:16.216630",
     "status": "completed"
    },
    "tags": []
   },
   "outputs": [
    {
     "data": {
      "text/html": [
       "<div>\n",
       "<style scoped>\n",
       "    .dataframe tbody tr th:only-of-type {\n",
       "        vertical-align: middle;\n",
       "    }\n",
       "\n",
       "    .dataframe tbody tr th {\n",
       "        vertical-align: top;\n",
       "    }\n",
       "\n",
       "    .dataframe thead th {\n",
       "        text-align: right;\n",
       "    }\n",
       "</style>\n",
       "<table border=\"1\" class=\"dataframe\">\n",
       "  <thead>\n",
       "    <tr style=\"text-align: right;\">\n",
       "      <th></th>\n",
       "      <th>1st Block Jayanagar</th>\n",
       "      <th>1st Phase JP Nagar</th>\n",
       "      <th>2nd Phase Judicial Layout</th>\n",
       "      <th>2nd Stage Nagarbhavi</th>\n",
       "      <th>5th Block Hbr Layout</th>\n",
       "      <th>5th Phase JP Nagar</th>\n",
       "      <th>6th Phase JP Nagar</th>\n",
       "      <th>7th Phase JP Nagar</th>\n",
       "      <th>8th Phase JP Nagar</th>\n",
       "      <th>9th Phase JP Nagar</th>\n",
       "      <th>...</th>\n",
       "      <th>Vishveshwarya Layout</th>\n",
       "      <th>Vishwapriya Layout</th>\n",
       "      <th>Vittasandra</th>\n",
       "      <th>Whitefield</th>\n",
       "      <th>Yelachenahalli</th>\n",
       "      <th>Yelahanka</th>\n",
       "      <th>Yelahanka New Town</th>\n",
       "      <th>Yelenahalli</th>\n",
       "      <th>Yeshwanthpur</th>\n",
       "      <th>other</th>\n",
       "    </tr>\n",
       "  </thead>\n",
       "  <tbody>\n",
       "    <tr>\n",
       "      <th>0</th>\n",
       "      <td>True</td>\n",
       "      <td>False</td>\n",
       "      <td>False</td>\n",
       "      <td>False</td>\n",
       "      <td>False</td>\n",
       "      <td>False</td>\n",
       "      <td>False</td>\n",
       "      <td>False</td>\n",
       "      <td>False</td>\n",
       "      <td>False</td>\n",
       "      <td>...</td>\n",
       "      <td>False</td>\n",
       "      <td>False</td>\n",
       "      <td>False</td>\n",
       "      <td>False</td>\n",
       "      <td>False</td>\n",
       "      <td>False</td>\n",
       "      <td>False</td>\n",
       "      <td>False</td>\n",
       "      <td>False</td>\n",
       "      <td>False</td>\n",
       "    </tr>\n",
       "    <tr>\n",
       "      <th>1</th>\n",
       "      <td>True</td>\n",
       "      <td>False</td>\n",
       "      <td>False</td>\n",
       "      <td>False</td>\n",
       "      <td>False</td>\n",
       "      <td>False</td>\n",
       "      <td>False</td>\n",
       "      <td>False</td>\n",
       "      <td>False</td>\n",
       "      <td>False</td>\n",
       "      <td>...</td>\n",
       "      <td>False</td>\n",
       "      <td>False</td>\n",
       "      <td>False</td>\n",
       "      <td>False</td>\n",
       "      <td>False</td>\n",
       "      <td>False</td>\n",
       "      <td>False</td>\n",
       "      <td>False</td>\n",
       "      <td>False</td>\n",
       "      <td>False</td>\n",
       "    </tr>\n",
       "    <tr>\n",
       "      <th>2</th>\n",
       "      <td>True</td>\n",
       "      <td>False</td>\n",
       "      <td>False</td>\n",
       "      <td>False</td>\n",
       "      <td>False</td>\n",
       "      <td>False</td>\n",
       "      <td>False</td>\n",
       "      <td>False</td>\n",
       "      <td>False</td>\n",
       "      <td>False</td>\n",
       "      <td>...</td>\n",
       "      <td>False</td>\n",
       "      <td>False</td>\n",
       "      <td>False</td>\n",
       "      <td>False</td>\n",
       "      <td>False</td>\n",
       "      <td>False</td>\n",
       "      <td>False</td>\n",
       "      <td>False</td>\n",
       "      <td>False</td>\n",
       "      <td>False</td>\n",
       "    </tr>\n",
       "  </tbody>\n",
       "</table>\n",
       "<p>3 rows × 241 columns</p>\n",
       "</div>"
      ],
      "text/plain": [
       "   1st Block Jayanagar  1st Phase JP Nagar  2nd Phase Judicial Layout  \\\n",
       "0                 True               False                      False   \n",
       "1                 True               False                      False   \n",
       "2                 True               False                      False   \n",
       "\n",
       "   2nd Stage Nagarbhavi  5th Block Hbr Layout  5th Phase JP Nagar  \\\n",
       "0                 False                 False               False   \n",
       "1                 False                 False               False   \n",
       "2                 False                 False               False   \n",
       "\n",
       "   6th Phase JP Nagar  7th Phase JP Nagar  8th Phase JP Nagar  \\\n",
       "0               False               False               False   \n",
       "1               False               False               False   \n",
       "2               False               False               False   \n",
       "\n",
       "   9th Phase JP Nagar  ...  Vishveshwarya Layout  Vishwapriya Layout  \\\n",
       "0               False  ...                 False               False   \n",
       "1               False  ...                 False               False   \n",
       "2               False  ...                 False               False   \n",
       "\n",
       "   Vittasandra  Whitefield  Yelachenahalli  Yelahanka  Yelahanka New Town  \\\n",
       "0        False       False           False      False               False   \n",
       "1        False       False           False      False               False   \n",
       "2        False       False           False      False               False   \n",
       "\n",
       "   Yelenahalli  Yeshwanthpur  other  \n",
       "0        False         False  False  \n",
       "1        False         False  False  \n",
       "2        False         False  False  \n",
       "\n",
       "[3 rows x 241 columns]"
      ]
     },
     "execution_count": 50,
     "metadata": {},
     "output_type": "execute_result"
    }
   ],
   "source": [
    "dummies = pd.get_dummies(df10.location)\n",
    "dummies.head(3)"
   ]
  },
  {
   "cell_type": "code",
   "execution_count": 51,
   "id": "6015c5ff",
   "metadata": {
    "execution": {
     "iopub.execute_input": "2023-12-15T08:57:16.361643Z",
     "iopub.status.busy": "2023-12-15T08:57:16.361245Z",
     "iopub.status.idle": "2023-12-15T08:57:16.392856Z",
     "shell.execute_reply": "2023-12-15T08:57:16.391772Z"
    },
    "papermill": {
     "duration": 0.069567,
     "end_time": "2023-12-15T08:57:16.395292",
     "exception": false,
     "start_time": "2023-12-15T08:57:16.325725",
     "status": "completed"
    },
    "tags": []
   },
   "outputs": [
    {
     "data": {
      "text/html": [
       "<div>\n",
       "<style scoped>\n",
       "    .dataframe tbody tr th:only-of-type {\n",
       "        vertical-align: middle;\n",
       "    }\n",
       "\n",
       "    .dataframe tbody tr th {\n",
       "        vertical-align: top;\n",
       "    }\n",
       "\n",
       "    .dataframe thead th {\n",
       "        text-align: right;\n",
       "    }\n",
       "</style>\n",
       "<table border=\"1\" class=\"dataframe\">\n",
       "  <thead>\n",
       "    <tr style=\"text-align: right;\">\n",
       "      <th></th>\n",
       "      <th>location</th>\n",
       "      <th>total_sqft</th>\n",
       "      <th>bath</th>\n",
       "      <th>price</th>\n",
       "      <th>bhk</th>\n",
       "      <th>1st Block Jayanagar</th>\n",
       "      <th>1st Phase JP Nagar</th>\n",
       "      <th>2nd Phase Judicial Layout</th>\n",
       "      <th>2nd Stage Nagarbhavi</th>\n",
       "      <th>5th Block Hbr Layout</th>\n",
       "      <th>...</th>\n",
       "      <th>Vijayanagar</th>\n",
       "      <th>Vishveshwarya Layout</th>\n",
       "      <th>Vishwapriya Layout</th>\n",
       "      <th>Vittasandra</th>\n",
       "      <th>Whitefield</th>\n",
       "      <th>Yelachenahalli</th>\n",
       "      <th>Yelahanka</th>\n",
       "      <th>Yelahanka New Town</th>\n",
       "      <th>Yelenahalli</th>\n",
       "      <th>Yeshwanthpur</th>\n",
       "    </tr>\n",
       "  </thead>\n",
       "  <tbody>\n",
       "    <tr>\n",
       "      <th>0</th>\n",
       "      <td>1st Block Jayanagar</td>\n",
       "      <td>2850.0</td>\n",
       "      <td>4.0</td>\n",
       "      <td>428.0</td>\n",
       "      <td>4</td>\n",
       "      <td>True</td>\n",
       "      <td>False</td>\n",
       "      <td>False</td>\n",
       "      <td>False</td>\n",
       "      <td>False</td>\n",
       "      <td>...</td>\n",
       "      <td>False</td>\n",
       "      <td>False</td>\n",
       "      <td>False</td>\n",
       "      <td>False</td>\n",
       "      <td>False</td>\n",
       "      <td>False</td>\n",
       "      <td>False</td>\n",
       "      <td>False</td>\n",
       "      <td>False</td>\n",
       "      <td>False</td>\n",
       "    </tr>\n",
       "    <tr>\n",
       "      <th>1</th>\n",
       "      <td>1st Block Jayanagar</td>\n",
       "      <td>1630.0</td>\n",
       "      <td>3.0</td>\n",
       "      <td>194.0</td>\n",
       "      <td>3</td>\n",
       "      <td>True</td>\n",
       "      <td>False</td>\n",
       "      <td>False</td>\n",
       "      <td>False</td>\n",
       "      <td>False</td>\n",
       "      <td>...</td>\n",
       "      <td>False</td>\n",
       "      <td>False</td>\n",
       "      <td>False</td>\n",
       "      <td>False</td>\n",
       "      <td>False</td>\n",
       "      <td>False</td>\n",
       "      <td>False</td>\n",
       "      <td>False</td>\n",
       "      <td>False</td>\n",
       "      <td>False</td>\n",
       "    </tr>\n",
       "    <tr>\n",
       "      <th>2</th>\n",
       "      <td>1st Block Jayanagar</td>\n",
       "      <td>1875.0</td>\n",
       "      <td>2.0</td>\n",
       "      <td>235.0</td>\n",
       "      <td>3</td>\n",
       "      <td>True</td>\n",
       "      <td>False</td>\n",
       "      <td>False</td>\n",
       "      <td>False</td>\n",
       "      <td>False</td>\n",
       "      <td>...</td>\n",
       "      <td>False</td>\n",
       "      <td>False</td>\n",
       "      <td>False</td>\n",
       "      <td>False</td>\n",
       "      <td>False</td>\n",
       "      <td>False</td>\n",
       "      <td>False</td>\n",
       "      <td>False</td>\n",
       "      <td>False</td>\n",
       "      <td>False</td>\n",
       "    </tr>\n",
       "    <tr>\n",
       "      <th>3</th>\n",
       "      <td>1st Block Jayanagar</td>\n",
       "      <td>1200.0</td>\n",
       "      <td>2.0</td>\n",
       "      <td>130.0</td>\n",
       "      <td>3</td>\n",
       "      <td>True</td>\n",
       "      <td>False</td>\n",
       "      <td>False</td>\n",
       "      <td>False</td>\n",
       "      <td>False</td>\n",
       "      <td>...</td>\n",
       "      <td>False</td>\n",
       "      <td>False</td>\n",
       "      <td>False</td>\n",
       "      <td>False</td>\n",
       "      <td>False</td>\n",
       "      <td>False</td>\n",
       "      <td>False</td>\n",
       "      <td>False</td>\n",
       "      <td>False</td>\n",
       "      <td>False</td>\n",
       "    </tr>\n",
       "    <tr>\n",
       "      <th>4</th>\n",
       "      <td>1st Block Jayanagar</td>\n",
       "      <td>1235.0</td>\n",
       "      <td>2.0</td>\n",
       "      <td>148.0</td>\n",
       "      <td>2</td>\n",
       "      <td>True</td>\n",
       "      <td>False</td>\n",
       "      <td>False</td>\n",
       "      <td>False</td>\n",
       "      <td>False</td>\n",
       "      <td>...</td>\n",
       "      <td>False</td>\n",
       "      <td>False</td>\n",
       "      <td>False</td>\n",
       "      <td>False</td>\n",
       "      <td>False</td>\n",
       "      <td>False</td>\n",
       "      <td>False</td>\n",
       "      <td>False</td>\n",
       "      <td>False</td>\n",
       "      <td>False</td>\n",
       "    </tr>\n",
       "  </tbody>\n",
       "</table>\n",
       "<p>5 rows × 245 columns</p>\n",
       "</div>"
      ],
      "text/plain": [
       "              location  total_sqft  bath  price  bhk  1st Block Jayanagar  \\\n",
       "0  1st Block Jayanagar      2850.0   4.0  428.0    4                 True   \n",
       "1  1st Block Jayanagar      1630.0   3.0  194.0    3                 True   \n",
       "2  1st Block Jayanagar      1875.0   2.0  235.0    3                 True   \n",
       "3  1st Block Jayanagar      1200.0   2.0  130.0    3                 True   \n",
       "4  1st Block Jayanagar      1235.0   2.0  148.0    2                 True   \n",
       "\n",
       "   1st Phase JP Nagar  2nd Phase Judicial Layout  2nd Stage Nagarbhavi  \\\n",
       "0               False                      False                 False   \n",
       "1               False                      False                 False   \n",
       "2               False                      False                 False   \n",
       "3               False                      False                 False   \n",
       "4               False                      False                 False   \n",
       "\n",
       "   5th Block Hbr Layout  ...  Vijayanagar  Vishveshwarya Layout  \\\n",
       "0                 False  ...        False                 False   \n",
       "1                 False  ...        False                 False   \n",
       "2                 False  ...        False                 False   \n",
       "3                 False  ...        False                 False   \n",
       "4                 False  ...        False                 False   \n",
       "\n",
       "   Vishwapriya Layout  Vittasandra  Whitefield  Yelachenahalli  Yelahanka  \\\n",
       "0               False        False       False           False      False   \n",
       "1               False        False       False           False      False   \n",
       "2               False        False       False           False      False   \n",
       "3               False        False       False           False      False   \n",
       "4               False        False       False           False      False   \n",
       "\n",
       "   Yelahanka New Town  Yelenahalli  Yeshwanthpur  \n",
       "0               False        False         False  \n",
       "1               False        False         False  \n",
       "2               False        False         False  \n",
       "3               False        False         False  \n",
       "4               False        False         False  \n",
       "\n",
       "[5 rows x 245 columns]"
      ]
     },
     "execution_count": 51,
     "metadata": {},
     "output_type": "execute_result"
    }
   ],
   "source": [
    "df11 = pd.concat([df10,dummies.drop('other',axis='columns')],axis='columns')\n",
    "df11.head()"
   ]
  },
  {
   "cell_type": "code",
   "execution_count": 52,
   "id": "638ae9f3",
   "metadata": {
    "execution": {
     "iopub.execute_input": "2023-12-15T08:57:16.467239Z",
     "iopub.status.busy": "2023-12-15T08:57:16.466805Z",
     "iopub.status.idle": "2023-12-15T08:57:16.494992Z",
     "shell.execute_reply": "2023-12-15T08:57:16.493758Z"
    },
    "papermill": {
     "duration": 0.066948,
     "end_time": "2023-12-15T08:57:16.497737",
     "exception": false,
     "start_time": "2023-12-15T08:57:16.430789",
     "status": "completed"
    },
    "tags": []
   },
   "outputs": [
    {
     "data": {
      "text/html": [
       "<div>\n",
       "<style scoped>\n",
       "    .dataframe tbody tr th:only-of-type {\n",
       "        vertical-align: middle;\n",
       "    }\n",
       "\n",
       "    .dataframe tbody tr th {\n",
       "        vertical-align: top;\n",
       "    }\n",
       "\n",
       "    .dataframe thead th {\n",
       "        text-align: right;\n",
       "    }\n",
       "</style>\n",
       "<table border=\"1\" class=\"dataframe\">\n",
       "  <thead>\n",
       "    <tr style=\"text-align: right;\">\n",
       "      <th></th>\n",
       "      <th>total_sqft</th>\n",
       "      <th>bath</th>\n",
       "      <th>price</th>\n",
       "      <th>bhk</th>\n",
       "      <th>1st Block Jayanagar</th>\n",
       "      <th>1st Phase JP Nagar</th>\n",
       "      <th>2nd Phase Judicial Layout</th>\n",
       "      <th>2nd Stage Nagarbhavi</th>\n",
       "      <th>5th Block Hbr Layout</th>\n",
       "      <th>5th Phase JP Nagar</th>\n",
       "      <th>...</th>\n",
       "      <th>Vijayanagar</th>\n",
       "      <th>Vishveshwarya Layout</th>\n",
       "      <th>Vishwapriya Layout</th>\n",
       "      <th>Vittasandra</th>\n",
       "      <th>Whitefield</th>\n",
       "      <th>Yelachenahalli</th>\n",
       "      <th>Yelahanka</th>\n",
       "      <th>Yelahanka New Town</th>\n",
       "      <th>Yelenahalli</th>\n",
       "      <th>Yeshwanthpur</th>\n",
       "    </tr>\n",
       "  </thead>\n",
       "  <tbody>\n",
       "    <tr>\n",
       "      <th>0</th>\n",
       "      <td>2850.0</td>\n",
       "      <td>4.0</td>\n",
       "      <td>428.0</td>\n",
       "      <td>4</td>\n",
       "      <td>True</td>\n",
       "      <td>False</td>\n",
       "      <td>False</td>\n",
       "      <td>False</td>\n",
       "      <td>False</td>\n",
       "      <td>False</td>\n",
       "      <td>...</td>\n",
       "      <td>False</td>\n",
       "      <td>False</td>\n",
       "      <td>False</td>\n",
       "      <td>False</td>\n",
       "      <td>False</td>\n",
       "      <td>False</td>\n",
       "      <td>False</td>\n",
       "      <td>False</td>\n",
       "      <td>False</td>\n",
       "      <td>False</td>\n",
       "    </tr>\n",
       "    <tr>\n",
       "      <th>1</th>\n",
       "      <td>1630.0</td>\n",
       "      <td>3.0</td>\n",
       "      <td>194.0</td>\n",
       "      <td>3</td>\n",
       "      <td>True</td>\n",
       "      <td>False</td>\n",
       "      <td>False</td>\n",
       "      <td>False</td>\n",
       "      <td>False</td>\n",
       "      <td>False</td>\n",
       "      <td>...</td>\n",
       "      <td>False</td>\n",
       "      <td>False</td>\n",
       "      <td>False</td>\n",
       "      <td>False</td>\n",
       "      <td>False</td>\n",
       "      <td>False</td>\n",
       "      <td>False</td>\n",
       "      <td>False</td>\n",
       "      <td>False</td>\n",
       "      <td>False</td>\n",
       "    </tr>\n",
       "  </tbody>\n",
       "</table>\n",
       "<p>2 rows × 244 columns</p>\n",
       "</div>"
      ],
      "text/plain": [
       "   total_sqft  bath  price  bhk  1st Block Jayanagar  1st Phase JP Nagar  \\\n",
       "0      2850.0   4.0  428.0    4                 True               False   \n",
       "1      1630.0   3.0  194.0    3                 True               False   \n",
       "\n",
       "   2nd Phase Judicial Layout  2nd Stage Nagarbhavi  5th Block Hbr Layout  \\\n",
       "0                      False                 False                 False   \n",
       "1                      False                 False                 False   \n",
       "\n",
       "   5th Phase JP Nagar  ...  Vijayanagar  Vishveshwarya Layout  \\\n",
       "0               False  ...        False                 False   \n",
       "1               False  ...        False                 False   \n",
       "\n",
       "   Vishwapriya Layout  Vittasandra  Whitefield  Yelachenahalli  Yelahanka  \\\n",
       "0               False        False       False           False      False   \n",
       "1               False        False       False           False      False   \n",
       "\n",
       "   Yelahanka New Town  Yelenahalli  Yeshwanthpur  \n",
       "0               False        False         False  \n",
       "1               False        False         False  \n",
       "\n",
       "[2 rows x 244 columns]"
      ]
     },
     "execution_count": 52,
     "metadata": {},
     "output_type": "execute_result"
    }
   ],
   "source": [
    "df12 = df11.drop('location',axis='columns')\n",
    "df12.head(2)"
   ]
  },
  {
   "cell_type": "code",
   "execution_count": 53,
   "id": "548eb761",
   "metadata": {
    "execution": {
     "iopub.execute_input": "2023-12-15T08:57:16.569057Z",
     "iopub.status.busy": "2023-12-15T08:57:16.568624Z",
     "iopub.status.idle": "2023-12-15T08:57:16.685503Z",
     "shell.execute_reply": "2023-12-15T08:57:16.684626Z"
    },
    "papermill": {
     "duration": 0.155424,
     "end_time": "2023-12-15T08:57:16.687855",
     "exception": false,
     "start_time": "2023-12-15T08:57:16.532431",
     "status": "completed"
    },
    "tags": []
   },
   "outputs": [
    {
     "data": {
      "text/plain": [
       "Chandapura                 -0.075136\n",
       "Uttarahalli                -0.065530\n",
       "Electronic City Phase II   -0.065472\n",
       "Electronic City            -0.059739\n",
       "Raja Rajeshwari Nagar      -0.059456\n",
       "                              ...   \n",
       "Cunningham Road             0.260616\n",
       "bhk                         0.571255\n",
       "bath                        0.601248\n",
       "total_sqft                  0.841063\n",
       "price                       1.000000\n",
       "Length: 244, dtype: float64"
      ]
     },
     "execution_count": 53,
     "metadata": {},
     "output_type": "execute_result"
    }
   ],
   "source": [
    "corr = df12.corrwith(df12['price']).sort_values()\n",
    "corr"
   ]
  },
  {
   "cell_type": "code",
   "execution_count": 54,
   "id": "94ba062d",
   "metadata": {
    "execution": {
     "iopub.execute_input": "2023-12-15T08:57:16.759950Z",
     "iopub.status.busy": "2023-12-15T08:57:16.759502Z",
     "iopub.status.idle": "2023-12-15T08:57:17.941382Z",
     "shell.execute_reply": "2023-12-15T08:57:17.940078Z"
    },
    "papermill": {
     "duration": 1.221488,
     "end_time": "2023-12-15T08:57:17.944289",
     "exception": false,
     "start_time": "2023-12-15T08:57:16.722801",
     "status": "completed"
    },
    "tags": []
   },
   "outputs": [],
   "source": [
    "correlation_with_target = df12.corr()['price']\n",
    "\n",
    "threshold = 0.05\n",
    "negative_corr_features = correlation_with_target[correlation_with_target < threshold].index.tolist()\n",
    "\n",
    "df12 = df12.drop(negative_corr_features, axis=1)"
   ]
  },
  {
   "cell_type": "code",
   "execution_count": 55,
   "id": "a2f06c0c",
   "metadata": {
    "execution": {
     "iopub.execute_input": "2023-12-15T08:57:18.021082Z",
     "iopub.status.busy": "2023-12-15T08:57:18.020644Z",
     "iopub.status.idle": "2023-12-15T08:57:18.046688Z",
     "shell.execute_reply": "2023-12-15T08:57:18.045618Z"
    },
    "papermill": {
     "duration": 0.067192,
     "end_time": "2023-12-15T08:57:18.049426",
     "exception": false,
     "start_time": "2023-12-15T08:57:17.982234",
     "status": "completed"
    },
    "tags": []
   },
   "outputs": [
    {
     "data": {
      "text/plain": [
       "Old Airport Road         0.053991\n",
       "Sarakki Nagar            0.054370\n",
       "Banashankari Stage II    0.057179\n",
       "Hebbal                   0.059626\n",
       "Hebbal Kempapura         0.059831\n",
       "Hosakerehalli            0.061005\n",
       "1st Block Jayanagar      0.062831\n",
       "Whitefield               0.066230\n",
       "Kodihalli                0.067883\n",
       "Cooke Town               0.070206\n",
       "HAL 2nd Stage            0.070948\n",
       "Iblur Village            0.072590\n",
       "Koramangala              0.083557\n",
       "Benson Town              0.084723\n",
       "Frazer Town              0.088062\n",
       "Giri Nagar               0.108478\n",
       "Indira Nagar             0.113219\n",
       "Malleshwaram             0.143116\n",
       "Rajaji Nagar             0.193242\n",
       "Cunningham Road          0.260616\n",
       "bhk                      0.571255\n",
       "bath                     0.601248\n",
       "total_sqft               0.841063\n",
       "price                    1.000000\n",
       "dtype: float64"
      ]
     },
     "execution_count": 55,
     "metadata": {},
     "output_type": "execute_result"
    }
   ],
   "source": [
    "corr = df12.corrwith(df12['price']).sort_values()\n",
    "corr"
   ]
  },
  {
   "cell_type": "code",
   "execution_count": 56,
   "id": "bd4870ee",
   "metadata": {
    "execution": {
     "iopub.execute_input": "2023-12-15T08:57:18.124923Z",
     "iopub.status.busy": "2023-12-15T08:57:18.124510Z",
     "iopub.status.idle": "2023-12-15T08:57:18.664811Z",
     "shell.execute_reply": "2023-12-15T08:57:18.663451Z"
    },
    "papermill": {
     "duration": 0.581653,
     "end_time": "2023-12-15T08:57:18.667659",
     "exception": false,
     "start_time": "2023-12-15T08:57:18.086006",
     "status": "completed"
    },
    "tags": []
   },
   "outputs": [
    {
     "data": {
      "image/png": "[encoded data removed]",
      "text/plain": [
       "<Figure size 1000x600 with 1 Axes>"
      ]
     },
     "metadata": {},
     "output_type": "display_data"
    }
   ],
   "source": [
    "df12.drop('price',axis=1).corrwith(df12.price).plot(kind='bar',grid=True,figsize=(10,6),title=\"Correlation with price \")\n",
    "plt.show()"
   ]
  },
  {
   "cell_type": "code",
   "execution_count": 57,
   "id": "0f142274",
   "metadata": {
    "execution": {
     "iopub.execute_input": "2023-12-15T08:57:18.751253Z",
     "iopub.status.busy": "2023-12-15T08:57:18.750765Z",
     "iopub.status.idle": "2023-12-15T08:57:18.756839Z",
     "shell.execute_reply": "2023-12-15T08:57:18.756039Z"
    },
    "papermill": {
     "duration": 0.051621,
     "end_time": "2023-12-15T08:57:18.759608",
     "exception": false,
     "start_time": "2023-12-15T08:57:18.707987",
     "status": "completed"
    },
    "tags": []
   },
   "outputs": [
    {
     "data": {
      "text/plain": [
       "(7239, 24)"
      ]
     },
     "execution_count": 57,
     "metadata": {},
     "output_type": "execute_result"
    }
   ],
   "source": [
    "df12.shape"
   ]
  },
  {
   "cell_type": "code",
   "execution_count": 58,
   "id": "96d439a9",
   "metadata": {
    "execution": {
     "iopub.execute_input": "2023-12-15T08:57:18.836203Z",
     "iopub.status.busy": "2023-12-15T08:57:18.835373Z",
     "iopub.status.idle": "2023-12-15T08:57:18.861163Z",
     "shell.execute_reply": "2023-12-15T08:57:18.860221Z"
    },
    "papermill": {
     "duration": 0.066791,
     "end_time": "2023-12-15T08:57:18.863815",
     "exception": false,
     "start_time": "2023-12-15T08:57:18.797024",
     "status": "completed"
    },
    "scrolled": true,
    "tags": []
   },
   "outputs": [
    {
     "data": {
      "text/html": [
       "<div>\n",
       "<style scoped>\n",
       "    .dataframe tbody tr th:only-of-type {\n",
       "        vertical-align: middle;\n",
       "    }\n",
       "\n",
       "    .dataframe tbody tr th {\n",
       "        vertical-align: top;\n",
       "    }\n",
       "\n",
       "    .dataframe thead th {\n",
       "        text-align: right;\n",
       "    }\n",
       "</style>\n",
       "<table border=\"1\" class=\"dataframe\">\n",
       "  <thead>\n",
       "    <tr style=\"text-align: right;\">\n",
       "      <th></th>\n",
       "      <th>total_sqft</th>\n",
       "      <th>bath</th>\n",
       "      <th>bhk</th>\n",
       "      <th>1st Block Jayanagar</th>\n",
       "      <th>Banashankari Stage II</th>\n",
       "      <th>Benson Town</th>\n",
       "      <th>Cooke Town</th>\n",
       "      <th>Cunningham Road</th>\n",
       "      <th>Frazer Town</th>\n",
       "      <th>Giri Nagar</th>\n",
       "      <th>...</th>\n",
       "      <th>Hosakerehalli</th>\n",
       "      <th>Iblur Village</th>\n",
       "      <th>Indira Nagar</th>\n",
       "      <th>Kodihalli</th>\n",
       "      <th>Koramangala</th>\n",
       "      <th>Malleshwaram</th>\n",
       "      <th>Old Airport Road</th>\n",
       "      <th>Rajaji Nagar</th>\n",
       "      <th>Sarakki Nagar</th>\n",
       "      <th>Whitefield</th>\n",
       "    </tr>\n",
       "  </thead>\n",
       "  <tbody>\n",
       "    <tr>\n",
       "      <th>0</th>\n",
       "      <td>2850.0</td>\n",
       "      <td>4.0</td>\n",
       "      <td>4</td>\n",
       "      <td>True</td>\n",
       "      <td>False</td>\n",
       "      <td>False</td>\n",
       "      <td>False</td>\n",
       "      <td>False</td>\n",
       "      <td>False</td>\n",
       "      <td>False</td>\n",
       "      <td>...</td>\n",
       "      <td>False</td>\n",
       "      <td>False</td>\n",
       "      <td>False</td>\n",
       "      <td>False</td>\n",
       "      <td>False</td>\n",
       "      <td>False</td>\n",
       "      <td>False</td>\n",
       "      <td>False</td>\n",
       "      <td>False</td>\n",
       "      <td>False</td>\n",
       "    </tr>\n",
       "    <tr>\n",
       "      <th>1</th>\n",
       "      <td>1630.0</td>\n",
       "      <td>3.0</td>\n",
       "      <td>3</td>\n",
       "      <td>True</td>\n",
       "      <td>False</td>\n",
       "      <td>False</td>\n",
       "      <td>False</td>\n",
       "      <td>False</td>\n",
       "      <td>False</td>\n",
       "      <td>False</td>\n",
       "      <td>...</td>\n",
       "      <td>False</td>\n",
       "      <td>False</td>\n",
       "      <td>False</td>\n",
       "      <td>False</td>\n",
       "      <td>False</td>\n",
       "      <td>False</td>\n",
       "      <td>False</td>\n",
       "      <td>False</td>\n",
       "      <td>False</td>\n",
       "      <td>False</td>\n",
       "    </tr>\n",
       "    <tr>\n",
       "      <th>2</th>\n",
       "      <td>1875.0</td>\n",
       "      <td>2.0</td>\n",
       "      <td>3</td>\n",
       "      <td>True</td>\n",
       "      <td>False</td>\n",
       "      <td>False</td>\n",
       "      <td>False</td>\n",
       "      <td>False</td>\n",
       "      <td>False</td>\n",
       "      <td>False</td>\n",
       "      <td>...</td>\n",
       "      <td>False</td>\n",
       "      <td>False</td>\n",
       "      <td>False</td>\n",
       "      <td>False</td>\n",
       "      <td>False</td>\n",
       "      <td>False</td>\n",
       "      <td>False</td>\n",
       "      <td>False</td>\n",
       "      <td>False</td>\n",
       "      <td>False</td>\n",
       "    </tr>\n",
       "  </tbody>\n",
       "</table>\n",
       "<p>3 rows × 23 columns</p>\n",
       "</div>"
      ],
      "text/plain": [
       "   total_sqft  bath  bhk  1st Block Jayanagar  Banashankari Stage II  \\\n",
       "0      2850.0   4.0    4                 True                  False   \n",
       "1      1630.0   3.0    3                 True                  False   \n",
       "2      1875.0   2.0    3                 True                  False   \n",
       "\n",
       "   Benson Town  Cooke Town  Cunningham Road  Frazer Town  Giri Nagar  ...  \\\n",
       "0        False       False            False        False       False  ...   \n",
       "1        False       False            False        False       False  ...   \n",
       "2        False       False            False        False       False  ...   \n",
       "\n",
       "   Hosakerehalli  Iblur Village  Indira Nagar  Kodihalli  Koramangala  \\\n",
       "0          False          False         False      False        False   \n",
       "1          False          False         False      False        False   \n",
       "2          False          False         False      False        False   \n",
       "\n",
       "   Malleshwaram  Old Airport Road  Rajaji Nagar  Sarakki Nagar  Whitefield  \n",
       "0         False             False         False          False       False  \n",
       "1         False             False         False          False       False  \n",
       "2         False             False         False          False       False  \n",
       "\n",
       "[3 rows x 23 columns]"
      ]
     },
     "execution_count": 58,
     "metadata": {},
     "output_type": "execute_result"
    }
   ],
   "source": [
    "X = df12.drop(['price'],axis='columns')\n",
    "X.head(3)"
   ]
  },
  {
   "cell_type": "code",
   "execution_count": 59,
   "id": "f5f73f49",
   "metadata": {
    "execution": {
     "iopub.execute_input": "2023-12-15T08:57:18.939779Z",
     "iopub.status.busy": "2023-12-15T08:57:18.939041Z",
     "iopub.status.idle": "2023-12-15T08:57:18.945402Z",
     "shell.execute_reply": "2023-12-15T08:57:18.944324Z"
    },
    "papermill": {
     "duration": 0.046832,
     "end_time": "2023-12-15T08:57:18.947628",
     "exception": false,
     "start_time": "2023-12-15T08:57:18.900796",
     "status": "completed"
    },
    "tags": []
   },
   "outputs": [
    {
     "data": {
      "text/plain": [
       "(7239, 23)"
      ]
     },
     "execution_count": 59,
     "metadata": {},
     "output_type": "execute_result"
    }
   ],
   "source": [
    "X.shape"
   ]
  },
  {
   "cell_type": "code",
   "execution_count": 60,
   "id": "32abc653",
   "metadata": {
    "execution": {
     "iopub.execute_input": "2023-12-15T08:57:19.024152Z",
     "iopub.status.busy": "2023-12-15T08:57:19.023318Z",
     "iopub.status.idle": "2023-12-15T08:57:19.030948Z",
     "shell.execute_reply": "2023-12-15T08:57:19.030069Z"
    },
    "papermill": {
     "duration": 0.048192,
     "end_time": "2023-12-15T08:57:19.033168",
     "exception": false,
     "start_time": "2023-12-15T08:57:18.984976",
     "status": "completed"
    },
    "scrolled": true,
    "tags": []
   },
   "outputs": [
    {
     "data": {
      "text/plain": [
       "0    428.0\n",
       "1    194.0\n",
       "2    235.0\n",
       "Name: price, dtype: float64"
      ]
     },
     "execution_count": 60,
     "metadata": {},
     "output_type": "execute_result"
    }
   ],
   "source": [
    "y = df12.price\n",
    "y.head(3)"
   ]
  },
  {
   "cell_type": "code",
   "execution_count": 61,
   "id": "b615a82f",
   "metadata": {
    "execution": {
     "iopub.execute_input": "2023-12-15T08:57:19.110565Z",
     "iopub.status.busy": "2023-12-15T08:57:19.109811Z",
     "iopub.status.idle": "2023-12-15T08:57:19.115585Z",
     "shell.execute_reply": "2023-12-15T08:57:19.114771Z"
    },
    "papermill": {
     "duration": 0.046897,
     "end_time": "2023-12-15T08:57:19.117618",
     "exception": false,
     "start_time": "2023-12-15T08:57:19.070721",
     "status": "completed"
    },
    "tags": []
   },
   "outputs": [
    {
     "data": {
      "text/plain": [
       "7239"
      ]
     },
     "execution_count": 61,
     "metadata": {},
     "output_type": "execute_result"
    }
   ],
   "source": [
    "len(y)"
   ]
  },
  {
   "cell_type": "code",
   "execution_count": 62,
   "id": "e61efa83",
   "metadata": {
    "execution": {
     "iopub.execute_input": "2023-12-15T08:57:19.194831Z",
     "iopub.status.busy": "2023-12-15T08:57:19.194092Z",
     "iopub.status.idle": "2023-12-15T08:57:20.767894Z",
     "shell.execute_reply": "2023-12-15T08:57:20.766618Z"
    },
    "papermill": {
     "duration": 1.616589,
     "end_time": "2023-12-15T08:57:20.771074",
     "exception": false,
     "start_time": "2023-12-15T08:57:19.154485",
     "status": "completed"
    },
    "tags": []
   },
   "outputs": [],
   "source": [
    "from sklearn.model_selection import train_test_split\n",
    "X_train, X_test, y_train, y_test = train_test_split(X,y,test_size=0.2,random_state=10)"
   ]
  },
  {
   "cell_type": "code",
   "execution_count": 63,
   "id": "edd94026",
   "metadata": {
    "execution": {
     "iopub.execute_input": "2023-12-15T08:57:20.848319Z",
     "iopub.status.busy": "2023-12-15T08:57:20.847608Z",
     "iopub.status.idle": "2023-12-15T08:57:21.016690Z",
     "shell.execute_reply": "2023-12-15T08:57:21.014905Z"
    },
    "papermill": {
     "duration": 0.211832,
     "end_time": "2023-12-15T08:57:21.020955",
     "exception": false,
     "start_time": "2023-12-15T08:57:20.809123",
     "status": "completed"
    },
    "tags": []
   },
   "outputs": [
    {
     "name": "stdout",
     "output_type": "stream",
     "text": [
      "Linear Regression Score: 81%\n"
     ]
    }
   ],
   "source": [
    "from sklearn.linear_model import LinearRegression\n",
    "lr_clf = LinearRegression()\n",
    "lr_clf.fit(X_train,y_train)\n",
    "lr_score = lr_clf.score(X_test,y_test)\n",
    "print(f'Linear Regression Score: {ceil(lr_score * 100)}%')"
   ]
  },
  {
   "cell_type": "code",
   "execution_count": 64,
   "id": "732bade8",
   "metadata": {
    "execution": {
     "iopub.execute_input": "2023-12-15T08:57:21.174947Z",
     "iopub.status.busy": "2023-12-15T08:57:21.174509Z",
     "iopub.status.idle": "2023-12-15T08:57:21.305245Z",
     "shell.execute_reply": "2023-12-15T08:57:21.303694Z"
    },
    "papermill": {
     "duration": 0.172874,
     "end_time": "2023-12-15T08:57:21.308070",
     "exception": false,
     "start_time": "2023-12-15T08:57:21.135196",
     "status": "completed"
    },
    "tags": []
   },
   "outputs": [
    {
     "name": "stdout",
     "output_type": "stream",
     "text": [
      "Decision Tree Regression Score: 69%\n"
     ]
    }
   ],
   "source": [
    "from sklearn.tree import DecisionTreeRegressor\n",
    "\n",
    "dt_reg = DecisionTreeRegressor()\n",
    "dt_reg.fit(X_train, y_train)\n",
    "dt_score = dt_reg.score(X_test, y_test)\n",
    "print(f'Decision Tree Regression Score: {ceil(dt_score * 100)}%')"
   ]
  },
  {
   "cell_type": "code",
   "execution_count": 65,
   "id": "de0ad359",
   "metadata": {
    "execution": {
     "iopub.execute_input": "2023-12-15T08:57:21.386033Z",
     "iopub.status.busy": "2023-12-15T08:57:21.385525Z",
     "iopub.status.idle": "2023-12-15T08:57:22.677240Z",
     "shell.execute_reply": "2023-12-15T08:57:22.675994Z"
    },
    "papermill": {
     "duration": 1.333475,
     "end_time": "2023-12-15T08:57:22.679745",
     "exception": false,
     "start_time": "2023-12-15T08:57:21.346270",
     "status": "completed"
    },
    "tags": []
   },
   "outputs": [
    {
     "name": "stdout",
     "output_type": "stream",
     "text": [
      "Random Forest Regression Score: 75%\n"
     ]
    }
   ],
   "source": [
    "from sklearn.ensemble import RandomForestRegressor\n",
    "\n",
    "rf_reg = RandomForestRegressor()\n",
    "rf_reg.fit(X_train, y_train)\n",
    "rf_score = rf_reg.score(X_test, y_test)\n",
    "print(f'Random Forest Regression Score: {ceil(rf_score * 100)}%')"
   ]
  },
  {
   "cell_type": "code",
   "execution_count": 66,
   "id": "ce94acf8",
   "metadata": {
    "execution": {
     "iopub.execute_input": "2023-12-15T08:57:22.757668Z",
     "iopub.status.busy": "2023-12-15T08:57:22.756871Z",
     "iopub.status.idle": "2023-12-15T08:57:23.144309Z",
     "shell.execute_reply": "2023-12-15T08:57:23.142756Z"
    },
    "papermill": {
     "duration": 0.429521,
     "end_time": "2023-12-15T08:57:23.147150",
     "exception": false,
     "start_time": "2023-12-15T08:57:22.717629",
     "status": "completed"
    },
    "tags": []
   },
   "outputs": [
    {
     "name": "stdout",
     "output_type": "stream",
     "text": [
      "Gradient Boosting Regression Score: 83%\n"
     ]
    }
   ],
   "source": [
    "from sklearn.ensemble import GradientBoostingRegressor\n",
    "\n",
    "gb_reg = GradientBoostingRegressor()\n",
    "gb_reg.fit(X_train, y_train)\n",
    "gb_score = gb_reg.score(X_test, y_test)\n",
    "print(f'Gradient Boosting Regression Score: {ceil(gb_score * 100)}%')"
   ]
  },
  {
   "cell_type": "code",
   "execution_count": 67,
   "id": "41d6fbc0",
   "metadata": {
    "execution": {
     "iopub.execute_input": "2023-12-15T08:57:23.226643Z",
     "iopub.status.busy": "2023-12-15T08:57:23.225944Z",
     "iopub.status.idle": "2023-12-15T08:57:23.260841Z",
     "shell.execute_reply": "2023-12-15T08:57:23.259288Z"
    },
    "papermill": {
     "duration": 0.079902,
     "end_time": "2023-12-15T08:57:23.265211",
     "exception": false,
     "start_time": "2023-12-15T08:57:23.185309",
     "status": "completed"
    },
    "tags": []
   },
   "outputs": [
    {
     "name": "stdout",
     "output_type": "stream",
     "text": [
      "Ridge Regression Score: 81%\n"
     ]
    }
   ],
   "source": [
    "from sklearn.linear_model import Ridge\n",
    "\n",
    "ridge_clf = Ridge(alpha=1.0)\n",
    "ridge_clf.fit(X_train, y_train)\n",
    "ridge_score = ridge_clf.score(X_test, y_test)\n",
    "print(f'Ridge Regression Score: {ceil(ridge_score * 100)}%')"
   ]
  },
  {
   "cell_type": "code",
   "execution_count": 68,
   "id": "d1b03e8f",
   "metadata": {
    "execution": {
     "iopub.execute_input": "2023-12-15T08:57:23.402182Z",
     "iopub.status.busy": "2023-12-15T08:57:23.401699Z",
     "iopub.status.idle": "2023-12-15T08:57:23.435124Z",
     "shell.execute_reply": "2023-12-15T08:57:23.433571Z"
    },
    "papermill": {
     "duration": 0.100568,
     "end_time": "2023-12-15T08:57:23.446018",
     "exception": false,
     "start_time": "2023-12-15T08:57:23.345450",
     "status": "completed"
    },
    "tags": []
   },
   "outputs": [
    {
     "name": "stdout",
     "output_type": "stream",
     "text": [
      "Lasso Regression Score: 72%\n"
     ]
    }
   ],
   "source": [
    "from sklearn.linear_model import Lasso\n",
    "\n",
    "lasso_clf = Lasso(alpha=1.0)\n",
    "lasso_clf.fit(X_train, y_train)\n",
    "lasso_score = lasso_clf.score(X_test, y_test)\n",
    "print(f'Lasso Regression Score: {ceil(lasso_score * 100)}%')"
   ]
  },
  {
   "cell_type": "code",
   "execution_count": 69,
   "id": "21950cd2",
   "metadata": {
    "execution": {
     "iopub.execute_input": "2023-12-15T08:57:23.603362Z",
     "iopub.status.busy": "2023-12-15T08:57:23.602070Z",
     "iopub.status.idle": "2023-12-15T08:57:23.611593Z",
     "shell.execute_reply": "2023-12-15T08:57:23.610613Z"
    },
    "papermill": {
     "duration": 0.050695,
     "end_time": "2023-12-15T08:57:23.614015",
     "exception": false,
     "start_time": "2023-12-15T08:57:23.563320",
     "status": "completed"
    },
    "tags": []
   },
   "outputs": [],
   "source": [
    "y_pre = gb_reg.predict(X_test)"
   ]
  },
  {
   "cell_type": "code",
   "execution_count": 70,
   "id": "50e08aca",
   "metadata": {
    "execution": {
     "iopub.execute_input": "2023-12-15T08:57:23.691757Z",
     "iopub.status.busy": "2023-12-15T08:57:23.691007Z",
     "iopub.status.idle": "2023-12-15T08:57:24.045685Z",
     "shell.execute_reply": "2023-12-15T08:57:24.044390Z"
    },
    "papermill": {
     "duration": 0.396535,
     "end_time": "2023-12-15T08:57:24.048457",
     "exception": false,
     "start_time": "2023-12-15T08:57:23.651922",
     "status": "completed"
    },
    "tags": []
   },
   "outputs": [
    {
     "data": {
      "image/png": "[encoded data removed]",
      "text/plain": [
       "<Figure size 800x600 with 1 Axes>"
      ]
     },
     "metadata": {},
     "output_type": "display_data"
    }
   ],
   "source": [
    "plt.figure(figsize=(8, 6))\n",
    "plt.scatter(y_test, y_pre, alpha=0.5)\n",
    "plt.title('Actual vs Predicted (Gradient Boosting Regression)')\n",
    "plt.xlabel('Actual Values')\n",
    "plt.ylabel('Predicted Values')\n",
    "\n",
    "fit_line = np.polyfit(y_test, y_pre, 1)\n",
    "fit_fn = np.poly1d(fit_line)\n",
    "plt.plot(y_test, fit_fn(y_test), color='red', linestyle='--', linewidth=2)\n",
    "plt.show()"
   ]
  },
  {
   "cell_type": "code",
   "execution_count": 71,
   "id": "6a6a1e28",
   "metadata": {
    "execution": {
     "iopub.execute_input": "2023-12-15T08:57:24.133378Z",
     "iopub.status.busy": "2023-12-15T08:57:24.132451Z",
     "iopub.status.idle": "2023-12-15T08:57:24.141404Z",
     "shell.execute_reply": "2023-12-15T08:57:24.140446Z"
    },
    "papermill": {
     "duration": 0.055285,
     "end_time": "2023-12-15T08:57:24.143758",
     "exception": false,
     "start_time": "2023-12-15T08:57:24.088473",
     "status": "completed"
    },
    "tags": []
   },
   "outputs": [
    {
     "name": "stdout",
     "output_type": "stream",
     "text": [
      "Mean Absolute Error: 18.6662\n",
      "Mean Squared Error: 927.2665\n",
      "R-squared: 0.8212\n"
     ]
    }
   ],
   "source": [
    "from sklearn.metrics import mean_absolute_error, mean_squared_error, r2_score\n",
    "\n",
    "mae = mean_absolute_error(y_test, y_pre)\n",
    "print(f'Mean Absolute Error: {mae:.4f}')\n",
    "\n",
    "mse = mean_squared_error(y_test, y_pre)\n",
    "print(f'Mean Squared Error: {mse:.4f}')\n",
    "\n",
    "r2 = r2_score(y_test, y_pre)\n",
    "print(f'R-squared: {r2:.4f}')"
   ]
  },
  {
   "cell_type": "code",
   "execution_count": 72,
   "id": "868523b6",
   "metadata": {
    "execution": {
     "iopub.execute_input": "2023-12-15T08:57:24.231152Z",
     "iopub.status.busy": "2023-12-15T08:57:24.230217Z",
     "iopub.status.idle": "2023-12-15T08:57:24.512834Z",
     "shell.execute_reply": "2023-12-15T08:57:24.511005Z"
    },
    "papermill": {
     "duration": 0.329018,
     "end_time": "2023-12-15T08:57:24.517534",
     "exception": false,
     "start_time": "2023-12-15T08:57:24.188516",
     "status": "completed"
    },
    "tags": []
   },
   "outputs": [
    {
     "data": {
      "text/plain": [
       "array([0.79202787, 0.80977066, 0.80500645, 0.81808933, 0.80833788])"
      ]
     },
     "execution_count": 72,
     "metadata": {},
     "output_type": "execute_result"
    }
   ],
   "source": [
    "from sklearn.model_selection import ShuffleSplit\n",
    "from sklearn.model_selection import cross_val_score\n",
    "\n",
    "cv = ShuffleSplit(n_splits=5, test_size=0.2, random_state=0)\n",
    "\n",
    "cross_val_score(LinearRegression(), X, y, cv=cv)"
   ]
  },
  {
   "cell_type": "code",
   "execution_count": 73,
   "id": "0924b504",
   "metadata": {
    "execution": {
     "iopub.execute_input": "2023-12-15T08:57:24.664674Z",
     "iopub.status.busy": "2023-12-15T08:57:24.664252Z",
     "iopub.status.idle": "2023-12-15T08:57:24.670853Z",
     "shell.execute_reply": "2023-12-15T08:57:24.669990Z"
    },
    "papermill": {
     "duration": 0.051198,
     "end_time": "2023-12-15T08:57:24.674579",
     "exception": false,
     "start_time": "2023-12-15T08:57:24.623381",
     "status": "completed"
    },
    "tags": []
   },
   "outputs": [],
   "source": [
    "import pandas as pd\n",
    "\n",
    "def predict_price_for_new_data(gb_reg, feature_columns, new_data_point):\n",
    "    try:\n",
    "        new_data_point = new_data_point[feature_columns]\n",
    "        predicted_price = gb_reg.predict(new_data_point)\n",
    "        print(f'Predicted Price: {predicted_price[0]:.2f} Lakhs')\n",
    "    except KeyError as e:\n",
    "        print(f\"Error: {e}. Make sure you entered values for all the required features.\")"
   ]
  },
  {
   "cell_type": "code",
   "execution_count": 74,
   "id": "3f725418",
   "metadata": {
    "execution": {
     "iopub.execute_input": "2023-12-15T08:57:24.753939Z",
     "iopub.status.busy": "2023-12-15T08:57:24.753542Z",
     "iopub.status.idle": "2023-12-15T08:57:24.777021Z",
     "shell.execute_reply": "2023-12-15T08:57:24.775451Z"
    },
    "papermill": {
     "duration": 0.06594,
     "end_time": "2023-12-15T08:57:24.779424",
     "exception": false,
     "start_time": "2023-12-15T08:57:24.713484",
     "status": "completed"
    },
    "tags": []
   },
   "outputs": [
    {
     "name": "stdout",
     "output_type": "stream",
     "text": [
      "Predicted Price for Data Point 1: 132.52 Lakhs\n",
      "Predicted Price for Data Point 2: 271.36 Lakhs\n",
      "Predicted Price for Data Point 3: 224.22 Lakhs\n"
     ]
    }
   ],
   "source": [
    "new_data_points = pd.DataFrame({\n",
    "    'total_sqft': [1200, 1500, 1800],\n",
    "    'bath': [2, 3, 2],\n",
    "    'bhk': [3, 4, 3],\n",
    "    '1st Block Jayanagar': [0, 0, 1],\n",
    "    'Banashankari Stage II': [1, 0, 0],\n",
    "    'Benson Town': [0, 1, 0],\n",
    "    'Cooke Town': [1, 0, 0],\n",
    "    'Cunningham Road': [0, 1, 0],\n",
    "    'Frazer Town': [0, 0, 1],\n",
    "    'Giri Nagar': [0, 0, 0],\n",
    "    'Hebbal': [0, 0, 0],\n",
    "    'Hebbal Kempapura': [0, 0, 0],\n",
    "    'Hosakerehalli': [0, 0, 0],\n",
    "    'Iblur Village': [0, 0, 0],\n",
    "    'Indira Nagar': [0, 0, 0],\n",
    "    'Kodihalli': [0, 0, 0],\n",
    "    'Koramangala': [0, 0, 0],\n",
    "    'Malleshwaram': [0, 0, 0],\n",
    "    'Old Airport Road': [0, 0, 0],\n",
    "    'Rajaji Nagar': [0, 0, 0],\n",
    "    'Sarakki Nagar': [0, 0, 0],\n",
    "    'Whitefield': [0, 0, 0],\n",
    "    'HAL 2nd Stage': [0, 0, 0],\n",
    "})\n",
    "\n",
    "for i, new_data_point in enumerate(new_data_points.iterrows(), 1):\n",
    "    new_data_point = new_data_point[1].to_frame().T[X_train.columns]\n",
    "    predicted_price = gb_reg.predict(new_data_point)\n",
    "    print(f'Predicted Price for Data Point {i}: {predicted_price[0]:.2f} Lakhs')\n"
   ]
  }
 ],
 "metadata": {
  "kaggle": {
   "accelerator": "none",
   "dataSources": [
    {
     "datasetId": 4166974,
     "sourceId": 7203174,
     "sourceType": "datasetVersion"
    }
   ],
   "dockerImageVersionId": 30626,
   "isGpuEnabled": false,
   "isInternetEnabled": true,
   "language": "python",
   "sourceType": "notebook"
  },
  "kernelspec": {
   "display_name": "Python 3",
   "language": "python",
   "name": "python3"
  },
  "language_info": {
   "codemirror_mode": {
    "name": "ipython",
    "version": 3
   },
   "file_extension": ".py",
   "mimetype": "text/x-python",
   "name": "python",
   "nbconvert_exporter": "python",
   "pygments_lexer": "ipython3",
   "version": "3.10.12"
  },
  "papermill": {
   "default_parameters": {},
   "duration": 21.005041,
   "end_time": "2023-12-15T08:57:25.540566",
   "environment_variables": {},
   "exception": null,
   "input_path": "__notebook__.ipynb",
   "output_path": "__notebook__.ipynb",
   "parameters": {},
   "start_time": "2023-12-15T08:57:04.535525",
   "version": "2.4.0"
  }
 },
 "nbformat": 4,
 "nbformat_minor": 5
}
